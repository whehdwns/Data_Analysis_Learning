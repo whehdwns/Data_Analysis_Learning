{
 "cells": [
  {
   "cell_type": "code",
   "execution_count": 1,
   "id": "under-genealogy",
   "metadata": {
    "_cell_guid": "b1076dfc-b9ad-4769-8c92-a6c4dae69d19",
    "_uuid": "8f2839f25d086af736a60e9eeb907d3b93b6e0e5",
    "execution": {
     "iopub.execute_input": "2021-05-26T22:33:54.608163Z",
     "iopub.status.busy": "2021-05-26T22:33:54.607418Z",
     "iopub.status.idle": "2021-05-26T22:33:55.750988Z",
     "shell.execute_reply": "2021-05-26T22:33:55.750343Z",
     "shell.execute_reply.started": "2021-05-26T22:17:28.694008Z"
    },
    "papermill": {
     "duration": 1.194314,
     "end_time": "2021-05-26T22:33:55.751171",
     "exception": false,
     "start_time": "2021-05-26T22:33:54.556857",
     "status": "completed"
    },
    "tags": []
   },
   "outputs": [
    {
     "name": "stdout",
     "output_type": "stream",
     "text": [
      "/kaggle/input/heart-attack-analysis-prediction-dataset/o2Saturation.csv\n",
      "/kaggle/input/heart-attack-analysis-prediction-dataset/heart.csv\n"
     ]
    }
   ],
   "source": [
    "# This Python 3 environment comes with many helpful analytics libraries installed\n",
    "# It is defined by the kaggle/python Docker image: https://github.com/kaggle/docker-python\n",
    "# For example, here's several helpful packages to load\n",
    "\n",
    "import numpy as np # linear algebra\n",
    "import pandas as pd # data processing, CSV file I/O (e.g. pd.read_csv)\n",
    "import matplotlib.pyplot as plt\n",
    "import seaborn as sns\n",
    "import math\n",
    "import matplotlib as mpl\n",
    "from matplotlib import pyplot as plt\n",
    "from sklearn.metrics import classification_report\n",
    "import warnings\n",
    "warnings.filterwarnings('ignore')\n",
    "\n",
    "# Input data files are available in the read-only \"../input/\" directory\n",
    "# For example, running this (by clicking run or pressing Shift+Enter) will list all files under the input directory\n",
    "\n",
    "import os\n",
    "for dirname, _, filenames in os.walk('/kaggle/input'):\n",
    "    for filename in filenames:\n",
    "        print(os.path.join(dirname, filename))\n",
    "\n",
    "# You can write up to 20GB to the current directory (/kaggle/working/) that gets preserved as output when you create a version using \"Save & Run All\" \n",
    "# You can also write temporary files to /kaggle/temp/, but they won't be saved outside of the current session"
   ]
  },
  {
   "cell_type": "code",
   "execution_count": 2,
   "id": "modified-hospital",
   "metadata": {
    "execution": {
     "iopub.execute_input": "2021-05-26T22:33:55.825521Z",
     "iopub.status.busy": "2021-05-26T22:33:55.824569Z",
     "iopub.status.idle": "2021-05-26T22:33:55.872838Z",
     "shell.execute_reply": "2021-05-26T22:33:55.873428Z",
     "shell.execute_reply.started": "2021-05-26T22:17:28.728818Z"
    },
    "papermill": {
     "duration": 0.086777,
     "end_time": "2021-05-26T22:33:55.873630",
     "exception": false,
     "start_time": "2021-05-26T22:33:55.786853",
     "status": "completed"
    },
    "tags": []
   },
   "outputs": [
    {
     "data": {
      "text/html": [
       "<div>\n",
       "<style scoped>\n",
       "    .dataframe tbody tr th:only-of-type {\n",
       "        vertical-align: middle;\n",
       "    }\n",
       "\n",
       "    .dataframe tbody tr th {\n",
       "        vertical-align: top;\n",
       "    }\n",
       "\n",
       "    .dataframe thead th {\n",
       "        text-align: right;\n",
       "    }\n",
       "</style>\n",
       "<table border=\"1\" class=\"dataframe\">\n",
       "  <thead>\n",
       "    <tr style=\"text-align: right;\">\n",
       "      <th></th>\n",
       "      <th>age</th>\n",
       "      <th>sex</th>\n",
       "      <th>cp</th>\n",
       "      <th>trtbps</th>\n",
       "      <th>chol</th>\n",
       "      <th>fbs</th>\n",
       "      <th>restecg</th>\n",
       "      <th>thalachh</th>\n",
       "      <th>exng</th>\n",
       "      <th>oldpeak</th>\n",
       "      <th>slp</th>\n",
       "      <th>caa</th>\n",
       "      <th>thall</th>\n",
       "      <th>output</th>\n",
       "    </tr>\n",
       "  </thead>\n",
       "  <tbody>\n",
       "    <tr>\n",
       "      <th>0</th>\n",
       "      <td>63</td>\n",
       "      <td>1</td>\n",
       "      <td>3</td>\n",
       "      <td>145</td>\n",
       "      <td>233</td>\n",
       "      <td>1</td>\n",
       "      <td>0</td>\n",
       "      <td>150</td>\n",
       "      <td>0</td>\n",
       "      <td>2.3</td>\n",
       "      <td>0</td>\n",
       "      <td>0</td>\n",
       "      <td>1</td>\n",
       "      <td>1</td>\n",
       "    </tr>\n",
       "    <tr>\n",
       "      <th>1</th>\n",
       "      <td>37</td>\n",
       "      <td>1</td>\n",
       "      <td>2</td>\n",
       "      <td>130</td>\n",
       "      <td>250</td>\n",
       "      <td>0</td>\n",
       "      <td>1</td>\n",
       "      <td>187</td>\n",
       "      <td>0</td>\n",
       "      <td>3.5</td>\n",
       "      <td>0</td>\n",
       "      <td>0</td>\n",
       "      <td>2</td>\n",
       "      <td>1</td>\n",
       "    </tr>\n",
       "    <tr>\n",
       "      <th>2</th>\n",
       "      <td>41</td>\n",
       "      <td>0</td>\n",
       "      <td>1</td>\n",
       "      <td>130</td>\n",
       "      <td>204</td>\n",
       "      <td>0</td>\n",
       "      <td>0</td>\n",
       "      <td>172</td>\n",
       "      <td>0</td>\n",
       "      <td>1.4</td>\n",
       "      <td>2</td>\n",
       "      <td>0</td>\n",
       "      <td>2</td>\n",
       "      <td>1</td>\n",
       "    </tr>\n",
       "    <tr>\n",
       "      <th>3</th>\n",
       "      <td>56</td>\n",
       "      <td>1</td>\n",
       "      <td>1</td>\n",
       "      <td>120</td>\n",
       "      <td>236</td>\n",
       "      <td>0</td>\n",
       "      <td>1</td>\n",
       "      <td>178</td>\n",
       "      <td>0</td>\n",
       "      <td>0.8</td>\n",
       "      <td>2</td>\n",
       "      <td>0</td>\n",
       "      <td>2</td>\n",
       "      <td>1</td>\n",
       "    </tr>\n",
       "    <tr>\n",
       "      <th>4</th>\n",
       "      <td>57</td>\n",
       "      <td>0</td>\n",
       "      <td>0</td>\n",
       "      <td>120</td>\n",
       "      <td>354</td>\n",
       "      <td>0</td>\n",
       "      <td>1</td>\n",
       "      <td>163</td>\n",
       "      <td>1</td>\n",
       "      <td>0.6</td>\n",
       "      <td>2</td>\n",
       "      <td>0</td>\n",
       "      <td>2</td>\n",
       "      <td>1</td>\n",
       "    </tr>\n",
       "  </tbody>\n",
       "</table>\n",
       "</div>"
      ],
      "text/plain": [
       "   age  sex  cp  trtbps  chol  fbs  restecg  thalachh  exng  oldpeak  slp  \\\n",
       "0   63    1   3     145   233    1        0       150     0      2.3    0   \n",
       "1   37    1   2     130   250    0        1       187     0      3.5    0   \n",
       "2   41    0   1     130   204    0        0       172     0      1.4    2   \n",
       "3   56    1   1     120   236    0        1       178     0      0.8    2   \n",
       "4   57    0   0     120   354    0        1       163     1      0.6    2   \n",
       "\n",
       "   caa  thall  output  \n",
       "0    0      1       1  \n",
       "1    0      2       1  \n",
       "2    0      2       1  \n",
       "3    0      2       1  \n",
       "4    0      2       1  "
      ]
     },
     "execution_count": 2,
     "metadata": {},
     "output_type": "execute_result"
    }
   ],
   "source": [
    "heart_data= pd.read_csv(\"../input/heart-attack-analysis-prediction-dataset/heart.csv\")\n",
    "heart_data.head()"
   ]
  },
  {
   "cell_type": "code",
   "execution_count": 3,
   "id": "nominated-locking",
   "metadata": {
    "execution": {
     "iopub.execute_input": "2021-05-26T22:33:55.951681Z",
     "iopub.status.busy": "2021-05-26T22:33:55.951004Z",
     "iopub.status.idle": "2021-05-26T22:33:55.958140Z",
     "shell.execute_reply": "2021-05-26T22:33:55.958625Z",
     "shell.execute_reply.started": "2021-05-26T22:17:28.764939Z"
    },
    "papermill": {
     "duration": 0.045901,
     "end_time": "2021-05-26T22:33:55.958790",
     "exception": false,
     "start_time": "2021-05-26T22:33:55.912889",
     "status": "completed"
    },
    "tags": []
   },
   "outputs": [
    {
     "data": {
      "text/plain": [
       "age         0\n",
       "sex         0\n",
       "cp          0\n",
       "trtbps      0\n",
       "chol        0\n",
       "fbs         0\n",
       "restecg     0\n",
       "thalachh    0\n",
       "exng        0\n",
       "oldpeak     0\n",
       "slp         0\n",
       "caa         0\n",
       "thall       0\n",
       "output      0\n",
       "dtype: int64"
      ]
     },
     "execution_count": 3,
     "metadata": {},
     "output_type": "execute_result"
    }
   ],
   "source": [
    "heart_data.isnull().sum()"
   ]
  },
  {
   "cell_type": "markdown",
   "id": "twelve-exchange",
   "metadata": {
    "papermill": {
     "duration": 0.039171,
     "end_time": "2021-05-26T22:33:56.035656",
     "exception": false,
     "start_time": "2021-05-26T22:33:55.996485",
     "status": "completed"
    },
    "tags": []
   },
   "source": [
    "### Heart Data Output by Sex"
   ]
  },
  {
   "cell_type": "code",
   "execution_count": 4,
   "id": "congressional-security",
   "metadata": {
    "execution": {
     "iopub.execute_input": "2021-05-26T22:33:56.111701Z",
     "iopub.status.busy": "2021-05-26T22:33:56.110748Z",
     "iopub.status.idle": "2021-05-26T22:33:56.314355Z",
     "shell.execute_reply": "2021-05-26T22:33:56.313760Z",
     "shell.execute_reply.started": "2021-05-26T22:17:28.800874Z"
    },
    "papermill": {
     "duration": 0.242986,
     "end_time": "2021-05-26T22:33:56.314497",
     "exception": false,
     "start_time": "2021-05-26T22:33:56.071511",
     "status": "completed"
    },
    "tags": []
   },
   "outputs": [
    {
     "data": {
      "text/plain": [
       "<AxesSubplot:xlabel='output', ylabel='count'>"
      ]
     },
     "execution_count": 4,
     "metadata": {},
     "output_type": "execute_result"
    },
    {
     "data": {
      "image/png": "[encoded data removed]",
      "text/plain": [
       "<Figure size 432x288 with 1 Axes>"
      ]
     },
     "metadata": {
      "needs_background": "light"
     },
     "output_type": "display_data"
    }
   ],
   "source": [
    "sns.countplot(heart_data['output'], hue=heart_data['sex'])"
   ]
  },
  {
   "cell_type": "markdown",
   "id": "wicked-florence",
   "metadata": {
    "papermill": {
     "duration": 0.036069,
     "end_time": "2021-05-26T22:33:56.387830",
     "exception": false,
     "start_time": "2021-05-26T22:33:56.351761",
     "status": "completed"
    },
    "tags": []
   },
   "source": [
    "### Age"
   ]
  },
  {
   "cell_type": "code",
   "execution_count": 5,
   "id": "hollywood-isolation",
   "metadata": {
    "execution": {
     "iopub.execute_input": "2021-05-26T22:33:56.490775Z",
     "iopub.status.busy": "2021-05-26T22:33:56.490112Z",
     "iopub.status.idle": "2021-05-26T22:33:56.680903Z",
     "shell.execute_reply": "2021-05-26T22:33:56.680244Z",
     "shell.execute_reply.started": "2021-05-26T22:17:28.936404Z"
    },
    "papermill": {
     "duration": 0.256883,
     "end_time": "2021-05-26T22:33:56.681061",
     "exception": false,
     "start_time": "2021-05-26T22:33:56.424178",
     "status": "completed"
    },
    "tags": []
   },
   "outputs": [
    {
     "data": {
      "text/plain": [
       "<AxesSubplot:xlabel='age', ylabel='Density'>"
      ]
     },
     "execution_count": 5,
     "metadata": {},
     "output_type": "execute_result"
    },
    {
     "data": {
      "image/png": "[encoded data removed]",
      "text/plain": [
       "<Figure size 432x288 with 1 Axes>"
      ]
     },
     "metadata": {
      "needs_background": "light"
     },
     "output_type": "display_data"
    }
   ],
   "source": [
    "sns.distplot(heart_data['age'])"
   ]
  },
  {
   "cell_type": "markdown",
   "id": "strong-victorian",
   "metadata": {
    "papermill": {
     "duration": 0.037354,
     "end_time": "2021-05-26T22:33:56.756283",
     "exception": false,
     "start_time": "2021-05-26T22:33:56.718929",
     "status": "completed"
    },
    "tags": []
   },
   "source": [
    "### Chest Pain type\n",
    "- Value 0: typical angina\n",
    "- Value 1: atypical angina\n",
    "- Value 2: non-anginal pain\n",
    "- Value 3: asymptomatic"
   ]
  },
  {
   "cell_type": "code",
   "execution_count": 6,
   "id": "civilian-dealer",
   "metadata": {
    "execution": {
     "iopub.execute_input": "2021-05-26T22:33:56.863053Z",
     "iopub.status.busy": "2021-05-26T22:33:56.861707Z",
     "iopub.status.idle": "2021-05-26T22:33:56.976198Z",
     "shell.execute_reply": "2021-05-26T22:33:56.975065Z",
     "shell.execute_reply.started": "2021-05-26T22:17:29.125418Z"
    },
    "papermill": {
     "duration": 0.182784,
     "end_time": "2021-05-26T22:33:56.976440",
     "exception": false,
     "start_time": "2021-05-26T22:33:56.793656",
     "status": "completed"
    },
    "tags": []
   },
   "outputs": [
    {
     "data": {
      "text/plain": [
       "Text(0.5, 1.0, 'Chest Pain Type')"
      ]
     },
     "execution_count": 6,
     "metadata": {},
     "output_type": "execute_result"
    },
    {
     "data": {
      "image/png": "[encoded data removed]",
      "text/plain": [
       "<Figure size 432x288 with 1 Axes>"
      ]
     },
     "metadata": {},
     "output_type": "display_data"
    }
   ],
   "source": [
    "typical_angina = \"{:.2f}\".format((len(heart_data[heart_data['cp']==0])/len(heart_data['cp'])))\n",
    "atypical_angina = \"{:.2f}\".format((len(heart_data[heart_data['cp']==1])/len(heart_data['cp'])))\n",
    "non_anginal_pain =\"{:.2f}\".format((len(heart_data[heart_data['cp']==2])/len(heart_data['cp'])))\n",
    "asymptomatic = \"{:.2f}\".format((len(heart_data[heart_data['cp']==3])/len(heart_data['cp'])))\n",
    "\n",
    "chest_pain_type = [typical_angina,atypical_angina, non_anginal_pain ,asymptomatic ]\n",
    "labels = 'typical angina','atypical angina', 'non-anginal pain','asymptomatic'\n",
    "plt.pie(chest_pain_type,labels=labels,autopct='%1.1f%%')\n",
    "plt.title('Chest Pain Type',fontsize=15)"
   ]
  },
  {
   "cell_type": "markdown",
   "id": "resident-scholarship",
   "metadata": {
    "papermill": {
     "duration": 0.03884,
     "end_time": "2021-05-26T22:33:57.058793",
     "exception": false,
     "start_time": "2021-05-26T22:33:57.019953",
     "status": "completed"
    },
    "tags": []
   },
   "source": [
    "### Exercise induced angina"
   ]
  },
  {
   "cell_type": "code",
   "execution_count": 7,
   "id": "assumed-journal",
   "metadata": {
    "execution": {
     "iopub.execute_input": "2021-05-26T22:33:57.170666Z",
     "iopub.status.busy": "2021-05-26T22:33:57.169853Z",
     "iopub.status.idle": "2021-05-26T22:33:57.238260Z",
     "shell.execute_reply": "2021-05-26T22:33:57.237631Z",
     "shell.execute_reply.started": "2021-05-26T22:17:29.254819Z"
    },
    "papermill": {
     "duration": 0.140257,
     "end_time": "2021-05-26T22:33:57.238416",
     "exception": false,
     "start_time": "2021-05-26T22:33:57.098159",
     "status": "completed"
    },
    "tags": []
   },
   "outputs": [
    {
     "data": {
      "text/plain": [
       "Text(0.5, 1.0, 'Exercise induced angina')"
      ]
     },
     "execution_count": 7,
     "metadata": {},
     "output_type": "execute_result"
    },
    {
     "data": {
      "image/png": "[encoded data removed]",
      "text/plain": [
       "<Figure size 432x288 with 1 Axes>"
      ]
     },
     "metadata": {},
     "output_type": "display_data"
    }
   ],
   "source": [
    "exercise_with_angina = \"{:.2f}\".format((len(heart_data[heart_data['exng']==0])/len(heart_data['exng'])))\n",
    "exercise_without_angina = \"{:.2f}\".format((len(heart_data[heart_data['exng']==1])/len(heart_data['exng'])))\n",
    "\n",
    "exercise_angina = [exercise_with_angina, exercise_without_angina  ]\n",
    "labels = 'Yes', 'No'\n",
    "plt.pie(exercise_angina,labels=labels,autopct='%1.1f%%')\n",
    "plt.title('Exercise induced angina',fontsize=15)"
   ]
  },
  {
   "cell_type": "markdown",
   "id": "other-singles",
   "metadata": {
    "papermill": {
     "duration": 0.040645,
     "end_time": "2021-05-26T22:33:57.320001",
     "exception": false,
     "start_time": "2021-05-26T22:33:57.279356",
     "status": "completed"
    },
    "tags": []
   },
   "source": [
    "### Number of Major Vessels"
   ]
  },
  {
   "cell_type": "code",
   "execution_count": 8,
   "id": "polished-cornell",
   "metadata": {
    "execution": {
     "iopub.execute_input": "2021-05-26T22:33:57.438211Z",
     "iopub.status.busy": "2021-05-26T22:33:57.435953Z",
     "iopub.status.idle": "2021-05-26T22:33:57.545770Z",
     "shell.execute_reply": "2021-05-26T22:33:57.544715Z",
     "shell.execute_reply.started": "2021-05-26T22:17:29.345800Z"
    },
    "papermill": {
     "duration": 0.18563,
     "end_time": "2021-05-26T22:33:57.545925",
     "exception": false,
     "start_time": "2021-05-26T22:33:57.360295",
     "status": "completed"
    },
    "tags": []
   },
   "outputs": [
    {
     "data": {
      "text/plain": [
       "Text(0.5, 1.0, 'Number of Major Vessels')"
      ]
     },
     "execution_count": 8,
     "metadata": {},
     "output_type": "execute_result"
    },
    {
     "data": {
      "image/png": "[encoded data removed]",
      "text/plain": [
       "<Figure size 432x288 with 1 Axes>"
      ]
     },
     "metadata": {},
     "output_type": "display_data"
    }
   ],
   "source": [
    "vessels_0 = \"{:.2f}\".format((len(heart_data[heart_data['caa']==0])/len(heart_data['caa'])))\n",
    "vessels_1 = \"{:.2f}\".format((len(heart_data[heart_data['caa']==1])/len(heart_data['caa'])))\n",
    "vessels_2 = \"{:.2f}\".format((len(heart_data[heart_data['caa']==2])/len(heart_data['caa'])))\n",
    "vessels_3 = \"{:.2f}\".format((len(heart_data[heart_data['caa']==3])/len(heart_data['caa'])))\n",
    "vessels_4 = \"{:.2f}\".format((len(heart_data[heart_data['caa']==4])/len(heart_data['caa'])))\n",
    "\n",
    "major_vessels = [vessels_0, vessels_1, vessels_2, vessels_3, vessels_4]\n",
    "labels = '0 Major vessel', '1 Major vessels', '2 Major vessels','3 Major vessels', '4 Major vessels'\n",
    "plt.pie(major_vessels,labels=labels,autopct='%1.1f%%')\n",
    "plt.title('Number of Major Vessels',fontsize=15)"
   ]
  },
  {
   "cell_type": "markdown",
   "id": "frank-disney",
   "metadata": {
    "papermill": {
     "duration": 0.041017,
     "end_time": "2021-05-26T22:33:57.628630",
     "exception": false,
     "start_time": "2021-05-26T22:33:57.587613",
     "status": "completed"
    },
    "tags": []
   },
   "source": [
    "### Thalium Stress Test result"
   ]
  },
  {
   "cell_type": "code",
   "execution_count": 9,
   "id": "capable-cooperative",
   "metadata": {
    "execution": {
     "iopub.execute_input": "2021-05-26T22:33:57.837991Z",
     "iopub.status.busy": "2021-05-26T22:33:57.836391Z",
     "iopub.status.idle": "2021-05-26T22:33:57.985862Z",
     "shell.execute_reply": "2021-05-26T22:33:57.985287Z",
     "shell.execute_reply.started": "2021-05-26T22:17:29.471281Z"
    },
    "papermill": {
     "duration": 0.315838,
     "end_time": "2021-05-26T22:33:57.986022",
     "exception": false,
     "start_time": "2021-05-26T22:33:57.670184",
     "status": "completed"
    },
    "tags": []
   },
   "outputs": [
    {
     "data": {
      "text/plain": [
       "Text(0.5, 1.0, 'Thalium Stress Test result')"
      ]
     },
     "execution_count": 9,
     "metadata": {},
     "output_type": "execute_result"
    },
    {
     "data": {
      "image/png": "[encoded data removed]",
      "text/plain": [
       "<Figure size 432x288 with 1 Axes>"
      ]
     },
     "metadata": {
      "needs_background": "light"
     },
     "output_type": "display_data"
    }
   ],
   "source": [
    "sns.countplot(heart_data['thall'], order= heart_data['thall'].value_counts().index )\n",
    "plt.title('Thalium Stress Test result', fontsize=15)"
   ]
  },
  {
   "cell_type": "markdown",
   "id": "verbal-peeing",
   "metadata": {
    "papermill": {
     "duration": 0.043086,
     "end_time": "2021-05-26T22:33:58.073313",
     "exception": false,
     "start_time": "2021-05-26T22:33:58.030227",
     "status": "completed"
    },
    "tags": []
   },
   "source": [
    "### Fasting blood sugar > 120 mg/dl"
   ]
  },
  {
   "cell_type": "code",
   "execution_count": 10,
   "id": "headed-replacement",
   "metadata": {
    "execution": {
     "iopub.execute_input": "2021-05-26T22:33:58.184335Z",
     "iopub.status.busy": "2021-05-26T22:33:58.183662Z",
     "iopub.status.idle": "2021-05-26T22:33:58.270814Z",
     "shell.execute_reply": "2021-05-26T22:33:58.270030Z",
     "shell.execute_reply.started": "2021-05-26T22:17:29.627407Z"
    },
    "papermill": {
     "duration": 0.154347,
     "end_time": "2021-05-26T22:33:58.270986",
     "exception": false,
     "start_time": "2021-05-26T22:33:58.116639",
     "status": "completed"
    },
    "tags": []
   },
   "outputs": [
    {
     "data": {
      "text/plain": [
       "Text(0.5, 1.0, 'Fasting blood sugar > 120 mg/dl')"
      ]
     },
     "execution_count": 10,
     "metadata": {},
     "output_type": "execute_result"
    },
    {
     "data": {
      "image/png": "[encoded data removed]",
      "text/plain": [
       "<Figure size 432x288 with 1 Axes>"
      ]
     },
     "metadata": {},
     "output_type": "display_data"
    }
   ],
   "source": [
    "over_120 = \"{:.2f}\".format((len(heart_data[heart_data['fbs']==0])/len(heart_data['fbs'])))\n",
    "less_120 = \"{:.2f}\".format((len(heart_data[heart_data['fbs']==1])/len(heart_data['fbs'])))\n",
    "\n",
    "blood_suger_120 = [over_120, less_120]\n",
    "labels = 'True', 'False'\n",
    "plt.pie(blood_suger_120,labels=labels,autopct='%1.1f%%')\n",
    "plt.title('Fasting blood sugar > 120 mg/dl',fontsize=15)"
   ]
  },
  {
   "cell_type": "markdown",
   "id": "ahead-courtesy",
   "metadata": {
    "papermill": {
     "duration": 0.045659,
     "end_time": "2021-05-26T22:33:58.364086",
     "exception": false,
     "start_time": "2021-05-26T22:33:58.318427",
     "status": "completed"
    },
    "tags": []
   },
   "source": [
    "### Resting electrocardiographic results\n",
    "- normal\n",
    "- having ST-T wave abnormality (T wave inversions and/or ST elevation or depression of > 0.05 mV)\n",
    "- showing probable or definite left ventricular hypertrophy by Estes' criteria"
   ]
  },
  {
   "cell_type": "code",
   "execution_count": 11,
   "id": "alternative-water",
   "metadata": {
    "execution": {
     "iopub.execute_input": "2021-05-26T22:33:58.475547Z",
     "iopub.status.busy": "2021-05-26T22:33:58.461373Z",
     "iopub.status.idle": "2021-05-26T22:33:58.572707Z",
     "shell.execute_reply": "2021-05-26T22:33:58.573204Z",
     "shell.execute_reply.started": "2021-05-26T22:17:29.747696Z"
    },
    "papermill": {
     "duration": 0.165184,
     "end_time": "2021-05-26T22:33:58.573388",
     "exception": false,
     "start_time": "2021-05-26T22:33:58.408204",
     "status": "completed"
    },
    "tags": []
   },
   "outputs": [
    {
     "data": {
      "text/plain": [
       "Text(0.5, 1.0, 'Resting electrocardiographic results')"
      ]
     },
     "execution_count": 11,
     "metadata": {},
     "output_type": "execute_result"
    },
    {
     "data": {
      "image/png": "[encoded data removed]",
      "text/plain": [
       "<Figure size 432x288 with 1 Axes>"
      ]
     },
     "metadata": {},
     "output_type": "display_data"
    }
   ],
   "source": [
    "normal = \"{:.2f}\".format((len(heart_data[heart_data['restecg']==0])/len(heart_data['restecg'])))\n",
    "ST_T= \"{:.2f}\".format((len(heart_data[heart_data['restecg']==1])/len(heart_data['restecg'])))\n",
    "left_ventricular = \"{:.2f}\".format((len(heart_data[heart_data['restecg']==2])/len(heart_data['restecg'])))\n",
    "Resting_electrocardiographic = [normal,ST_T, left_ventricular]\n",
    "labels = 'Normal', 'having ST-T wave abnormality', 'left ventricular hypertrophy by Estes criteria'\n",
    "plt.pie(Resting_electrocardiographic,labels=labels,autopct='%1.1f%%')\n",
    "plt.title('Resting electrocardiographic results',fontsize=15)"
   ]
  },
  {
   "cell_type": "markdown",
   "id": "bright-syndrome",
   "metadata": {
    "papermill": {
     "duration": 0.044521,
     "end_time": "2021-05-26T22:33:58.662642",
     "exception": false,
     "start_time": "2021-05-26T22:33:58.618121",
     "status": "completed"
    },
    "tags": []
   },
   "source": [
    "## Label\n",
    "- Blue Color\n",
    "    - Normal\n",
    "- Red Color\n",
    "    - Heart Attack"
   ]
  },
  {
   "cell_type": "markdown",
   "id": "celtic-affair",
   "metadata": {
    "papermill": {
     "duration": 0.04617,
     "end_time": "2021-05-26T22:33:58.753463",
     "exception": false,
     "start_time": "2021-05-26T22:33:58.707293",
     "status": "completed"
    },
    "tags": []
   },
   "source": [
    "### Relationship between Age and Heart Attack"
   ]
  },
  {
   "cell_type": "code",
   "execution_count": 12,
   "id": "exempt-offset",
   "metadata": {
    "execution": {
     "iopub.execute_input": "2021-05-26T22:33:58.883722Z",
     "iopub.status.busy": "2021-05-26T22:33:58.880247Z",
     "iopub.status.idle": "2021-05-26T22:33:59.062903Z",
     "shell.execute_reply": "2021-05-26T22:33:59.062201Z",
     "shell.execute_reply.started": "2021-05-26T22:17:29.882263Z"
    },
    "papermill": {
     "duration": 0.264479,
     "end_time": "2021-05-26T22:33:59.063061",
     "exception": false,
     "start_time": "2021-05-26T22:33:58.798582",
     "status": "completed"
    },
    "tags": []
   },
   "outputs": [
    {
     "data": {
      "text/plain": [
       "Text(0.5, 1.0, 'Relationship between Age and Heart Attack')"
      ]
     },
     "execution_count": 12,
     "metadata": {},
     "output_type": "execute_result"
    },
    {
     "data": {
      "image/png": "[encoded data removed]",
      "text/plain": [
       "<Figure size 432x288 with 1 Axes>"
      ]
     },
     "metadata": {
      "needs_background": "light"
     },
     "output_type": "display_data"
    }
   ],
   "source": [
    "sns.kdeplot(heart_data['age'], hue= heart_data['output'], fill=True)\n",
    "plt.title('Relationship between Age and Heart Attack', fontsize=15)"
   ]
  },
  {
   "cell_type": "markdown",
   "id": "proud-alfred",
   "metadata": {
    "papermill": {
     "duration": 0.046037,
     "end_time": "2021-05-26T22:33:59.155680",
     "exception": false,
     "start_time": "2021-05-26T22:33:59.109643",
     "status": "completed"
    },
    "tags": []
   },
   "source": [
    "### Relationship between Resting blood pressure and Heart Attack"
   ]
  },
  {
   "cell_type": "code",
   "execution_count": 13,
   "id": "civilian-jacob",
   "metadata": {
    "execution": {
     "iopub.execute_input": "2021-05-26T22:33:59.259820Z",
     "iopub.status.busy": "2021-05-26T22:33:59.259152Z",
     "iopub.status.idle": "2021-05-26T22:33:59.485895Z",
     "shell.execute_reply": "2021-05-26T22:33:59.486407Z",
     "shell.execute_reply.started": "2021-05-26T22:17:30.120885Z"
    },
    "papermill": {
     "duration": 0.282142,
     "end_time": "2021-05-26T22:33:59.486597",
     "exception": false,
     "start_time": "2021-05-26T22:33:59.204455",
     "status": "completed"
    },
    "tags": []
   },
   "outputs": [
    {
     "data": {
      "text/plain": [
       "Text(0.5, 1.0, 'Relationship between Resting blood pressure and Heart Attack')"
      ]
     },
     "execution_count": 13,
     "metadata": {},
     "output_type": "execute_result"
    },
    {
     "data": {
      "image/png": "[encoded data removed]",
      "text/plain": [
       "<Figure size 432x288 with 1 Axes>"
      ]
     },
     "metadata": {
      "needs_background": "light"
     },
     "output_type": "display_data"
    }
   ],
   "source": [
    "sns.kdeplot(heart_data['trtbps'], hue= heart_data['output'], fill=True)\n",
    "plt.title('Relationship between Resting blood pressure and Heart Attack', fontsize=15)"
   ]
  },
  {
   "cell_type": "markdown",
   "id": "portuguese-pledge",
   "metadata": {
    "papermill": {
     "duration": 0.049439,
     "end_time": "2021-05-26T22:33:59.583672",
     "exception": false,
     "start_time": "2021-05-26T22:33:59.534233",
     "status": "completed"
    },
    "tags": []
   },
   "source": [
    "###  cholestoral in mg/dl fetched via BMI sensor"
   ]
  },
  {
   "cell_type": "code",
   "execution_count": 14,
   "id": "regulated-reconstruction",
   "metadata": {
    "execution": {
     "iopub.execute_input": "2021-05-26T22:33:59.682244Z",
     "iopub.status.busy": "2021-05-26T22:33:59.681573Z",
     "iopub.status.idle": "2021-05-26T22:33:59.877608Z",
     "shell.execute_reply": "2021-05-26T22:33:59.878098Z",
     "shell.execute_reply.started": "2021-05-26T22:17:30.330843Z"
    },
    "papermill": {
     "duration": 0.246887,
     "end_time": "2021-05-26T22:33:59.878278",
     "exception": false,
     "start_time": "2021-05-26T22:33:59.631391",
     "status": "completed"
    },
    "tags": []
   },
   "outputs": [
    {
     "data": {
      "text/plain": [
       "Text(0.5, 1.0, 'Relationship between cholestoral and Heart Attack')"
      ]
     },
     "execution_count": 14,
     "metadata": {},
     "output_type": "execute_result"
    },
    {
     "data": {
      "image/png": "[encoded data removed]",
      "text/plain": [
       "<Figure size 432x288 with 1 Axes>"
      ]
     },
     "metadata": {
      "needs_background": "light"
     },
     "output_type": "display_data"
    }
   ],
   "source": [
    "sns.kdeplot(heart_data['chol'], hue= heart_data['output'], fill=True)\n",
    "plt.title('Relationship between cholestoral and Heart Attack', fontsize=15)"
   ]
  },
  {
   "cell_type": "markdown",
   "id": "studied-content",
   "metadata": {
    "papermill": {
     "duration": 0.048037,
     "end_time": "2021-05-26T22:33:59.974950",
     "exception": false,
     "start_time": "2021-05-26T22:33:59.926913",
     "status": "completed"
    },
    "tags": []
   },
   "source": [
    "### Maximum heart rate achieved"
   ]
  },
  {
   "cell_type": "code",
   "execution_count": 15,
   "id": "minute-poker",
   "metadata": {
    "execution": {
     "iopub.execute_input": "2021-05-26T22:34:00.079742Z",
     "iopub.status.busy": "2021-05-26T22:34:00.079073Z",
     "iopub.status.idle": "2021-05-26T22:34:00.306301Z",
     "shell.execute_reply": "2021-05-26T22:34:00.306793Z",
     "shell.execute_reply.started": "2021-05-26T22:17:30.501512Z"
    },
    "papermill": {
     "duration": 0.280651,
     "end_time": "2021-05-26T22:34:00.307006",
     "exception": false,
     "start_time": "2021-05-26T22:34:00.026355",
     "status": "completed"
    },
    "tags": []
   },
   "outputs": [
    {
     "data": {
      "text/plain": [
       "Text(0.5, 1.0, 'Relationship between Maximum heart rate and Heart Attack')"
      ]
     },
     "execution_count": 15,
     "metadata": {},
     "output_type": "execute_result"
    },
    {
     "data": {
      "image/png": "[encoded data removed]",
      "text/plain": [
       "<Figure size 432x288 with 1 Axes>"
      ]
     },
     "metadata": {
      "needs_background": "light"
     },
     "output_type": "display_data"
    }
   ],
   "source": [
    "sns.kdeplot(heart_data['thalachh'], hue= heart_data['output'], fill=True)\n",
    "plt.title('Relationship between Maximum heart rate and Heart Attack', fontsize=15)"
   ]
  },
  {
   "cell_type": "code",
   "execution_count": 16,
   "id": "accessory-extreme",
   "metadata": {
    "execution": {
     "iopub.execute_input": "2021-05-26T22:34:00.410066Z",
     "iopub.status.busy": "2021-05-26T22:34:00.409352Z",
     "iopub.status.idle": "2021-05-26T22:34:00.414285Z",
     "shell.execute_reply": "2021-05-26T22:34:00.414752Z",
     "shell.execute_reply.started": "2021-05-26T22:17:30.743243Z"
    },
    "papermill": {
     "duration": 0.058024,
     "end_time": "2021-05-26T22:34:00.414935",
     "exception": false,
     "start_time": "2021-05-26T22:34:00.356911",
     "status": "completed"
    },
    "tags": []
   },
   "outputs": [],
   "source": [
    "X=heart_data.drop([\"output\"],axis=1)\n",
    "y=heart_data[\"output\"]"
   ]
  },
  {
   "cell_type": "code",
   "execution_count": 17,
   "id": "sexual-tooth",
   "metadata": {
    "execution": {
     "iopub.execute_input": "2021-05-26T22:34:00.518465Z",
     "iopub.status.busy": "2021-05-26T22:34:00.517828Z",
     "iopub.status.idle": "2021-05-26T22:34:00.544028Z",
     "shell.execute_reply": "2021-05-26T22:34:00.543457Z",
     "shell.execute_reply.started": "2021-05-26T22:17:30.750085Z"
    },
    "papermill": {
     "duration": 0.079439,
     "end_time": "2021-05-26T22:34:00.544179",
     "exception": false,
     "start_time": "2021-05-26T22:34:00.464740",
     "status": "completed"
    },
    "tags": []
   },
   "outputs": [],
   "source": [
    "from sklearn.model_selection import train_test_split\n",
    "\n",
    "X_train, X_test, y_train, y_test = train_test_split(X, y, test_size=0.3, random_state=100)"
   ]
  },
  {
   "cell_type": "markdown",
   "id": "confirmed-stuart",
   "metadata": {
    "papermill": {
     "duration": 0.050366,
     "end_time": "2021-05-26T22:34:00.645137",
     "exception": false,
     "start_time": "2021-05-26T22:34:00.594771",
     "status": "completed"
    },
    "tags": []
   },
   "source": [
    "## LogisticRegression"
   ]
  },
  {
   "cell_type": "code",
   "execution_count": 18,
   "id": "increasing-economy",
   "metadata": {
    "execution": {
     "iopub.execute_input": "2021-05-26T22:34:00.756301Z",
     "iopub.status.busy": "2021-05-26T22:34:00.755540Z",
     "iopub.status.idle": "2021-05-26T22:34:00.897652Z",
     "shell.execute_reply": "2021-05-26T22:34:00.897097Z",
     "shell.execute_reply.started": "2021-05-26T22:26:29.001974Z"
    },
    "papermill": {
     "duration": 0.199303,
     "end_time": "2021-05-26T22:34:00.897803",
     "exception": false,
     "start_time": "2021-05-26T22:34:00.698500",
     "status": "completed"
    },
    "tags": []
   },
   "outputs": [
    {
     "data": {
      "text/plain": [
       "LogisticRegression()"
      ]
     },
     "execution_count": 18,
     "metadata": {},
     "output_type": "execute_result"
    }
   ],
   "source": [
    "from sklearn.linear_model import LogisticRegression\n",
    "\n",
    "model_logistic= LogisticRegression()\n",
    "model_logistic.fit(X_train,y_train)"
   ]
  },
  {
   "cell_type": "code",
   "execution_count": 19,
   "id": "motivated-helmet",
   "metadata": {
    "execution": {
     "iopub.execute_input": "2021-05-26T22:34:01.013119Z",
     "iopub.status.busy": "2021-05-26T22:34:01.012340Z",
     "iopub.status.idle": "2021-05-26T22:34:01.017488Z",
     "shell.execute_reply": "2021-05-26T22:34:01.017993Z",
     "shell.execute_reply.started": "2021-05-26T22:26:49.581112Z"
    },
    "papermill": {
     "duration": 0.068646,
     "end_time": "2021-05-26T22:34:01.018182",
     "exception": false,
     "start_time": "2021-05-26T22:34:00.949536",
     "status": "completed"
    },
    "tags": []
   },
   "outputs": [
    {
     "data": {
      "text/plain": [
       "86.79"
      ]
     },
     "execution_count": 19,
     "metadata": {},
     "output_type": "execute_result"
    }
   ],
   "source": [
    "pred_logistic=model_logistic.predict(X_test)\n",
    "logistic_score =model_logistic.score(X_train,y_train)\n",
    "logistic_pred_score =round(logistic_score*100,2)\n",
    "logistic_pred_score"
   ]
  },
  {
   "cell_type": "code",
   "execution_count": 20,
   "id": "aerial-collar",
   "metadata": {
    "execution": {
     "iopub.execute_input": "2021-05-26T22:34:01.130218Z",
     "iopub.status.busy": "2021-05-26T22:34:01.125362Z",
     "iopub.status.idle": "2021-05-26T22:34:01.133445Z",
     "shell.execute_reply": "2021-05-26T22:34:01.134175Z",
     "shell.execute_reply.started": "2021-05-26T22:27:00.723641Z"
    },
    "papermill": {
     "duration": 0.065439,
     "end_time": "2021-05-26T22:34:01.134402",
     "exception": false,
     "start_time": "2021-05-26T22:34:01.068963",
     "status": "completed"
    },
    "tags": []
   },
   "outputs": [
    {
     "name": "stdout",
     "output_type": "stream",
     "text": [
      "              precision    recall  f1-score   support\n",
      "\n",
      "           0       0.93      0.80      0.86        46\n",
      "           1       0.82      0.93      0.87        45\n",
      "\n",
      "    accuracy                           0.87        91\n",
      "   macro avg       0.87      0.87      0.87        91\n",
      "weighted avg       0.87      0.87      0.87        91\n",
      "\n"
     ]
    }
   ],
   "source": [
    "print(classification_report(y_test,pred_logistic))"
   ]
  },
  {
   "cell_type": "markdown",
   "id": "waiting-grain",
   "metadata": {
    "papermill": {
     "duration": 0.050646,
     "end_time": "2021-05-26T22:34:01.236728",
     "exception": false,
     "start_time": "2021-05-26T22:34:01.186082",
     "status": "completed"
    },
    "tags": []
   },
   "source": [
    "## CatBoostClassifier"
   ]
  },
  {
   "cell_type": "code",
   "execution_count": 21,
   "id": "heavy-transport",
   "metadata": {
    "execution": {
     "iopub.execute_input": "2021-05-26T22:34:01.345467Z",
     "iopub.status.busy": "2021-05-26T22:34:01.344746Z",
     "iopub.status.idle": "2021-05-26T22:34:02.595921Z",
     "shell.execute_reply": "2021-05-26T22:34:02.596486Z",
     "shell.execute_reply.started": "2021-05-26T22:25:28.200641Z"
    },
    "papermill": {
     "duration": 1.306925,
     "end_time": "2021-05-26T22:34:02.596661",
     "exception": false,
     "start_time": "2021-05-26T22:34:01.289736",
     "status": "completed"
    },
    "tags": []
   },
   "outputs": [
    {
     "name": "stdout",
     "output_type": "stream",
     "text": [
      "0:\tlearn: 0.6848015\ttotal: 51.3ms\tremaining: 51.2s\n",
      "999:\tlearn: 0.0713017\ttotal: 955ms\tremaining: 0us\n"
     ]
    },
    {
     "data": {
      "text/plain": [
       "<catboost.core.CatBoostClassifier at 0x7f44fd305310>"
      ]
     },
     "execution_count": 21,
     "metadata": {},
     "output_type": "execute_result"
    }
   ],
   "source": [
    "from catboost import CatBoostClassifier\n",
    "\n",
    "model_catboost=CatBoostClassifier(loss_function='MultiClassOneVsAll',random_seed = 0)\n",
    "model_catboost.fit(X_train,y_train, verbose = 1000)"
   ]
  },
  {
   "cell_type": "code",
   "execution_count": 22,
   "id": "addressed-secretary",
   "metadata": {
    "execution": {
     "iopub.execute_input": "2021-05-26T22:34:02.707839Z",
     "iopub.status.busy": "2021-05-26T22:34:02.707108Z",
     "iopub.status.idle": "2021-05-26T22:34:02.716150Z",
     "shell.execute_reply": "2021-05-26T22:34:02.716833Z",
     "shell.execute_reply.started": "2021-05-26T22:17:31.962909Z"
    },
    "papermill": {
     "duration": 0.06794,
     "end_time": "2021-05-26T22:34:02.717040",
     "exception": false,
     "start_time": "2021-05-26T22:34:02.649100",
     "status": "completed"
    },
    "tags": []
   },
   "outputs": [
    {
     "data": {
      "text/plain": [
       "100.0"
      ]
     },
     "execution_count": 22,
     "metadata": {},
     "output_type": "execute_result"
    }
   ],
   "source": [
    "pred_catboost=model_catboost.predict(X_test)\n",
    "catboost_score =model_catboost.score(X_train,y_train)\n",
    "catboost_pred_score =round(catboost_score*100,2)\n",
    "catboost_pred_score"
   ]
  },
  {
   "cell_type": "code",
   "execution_count": 23,
   "id": "comparative-result",
   "metadata": {
    "execution": {
     "iopub.execute_input": "2021-05-26T22:34:02.828769Z",
     "iopub.status.busy": "2021-05-26T22:34:02.828125Z",
     "iopub.status.idle": "2021-05-26T22:34:02.836786Z",
     "shell.execute_reply": "2021-05-26T22:34:02.836201Z",
     "shell.execute_reply.started": "2021-05-26T22:17:31.981124Z"
    },
    "papermill": {
     "duration": 0.066632,
     "end_time": "2021-05-26T22:34:02.836920",
     "exception": false,
     "start_time": "2021-05-26T22:34:02.770288",
     "status": "completed"
    },
    "tags": []
   },
   "outputs": [
    {
     "name": "stdout",
     "output_type": "stream",
     "text": [
      "              precision    recall  f1-score   support\n",
      "\n",
      "           0       0.89      0.72      0.80        46\n",
      "           1       0.76      0.91      0.83        45\n",
      "\n",
      "    accuracy                           0.81        91\n",
      "   macro avg       0.83      0.81      0.81        91\n",
      "weighted avg       0.83      0.81      0.81        91\n",
      "\n"
     ]
    }
   ],
   "source": [
    "print(classification_report(y_test,pred_catboost))"
   ]
  },
  {
   "cell_type": "markdown",
   "id": "allied-study",
   "metadata": {
    "papermill": {
     "duration": 0.05384,
     "end_time": "2021-05-26T22:34:02.943422",
     "exception": false,
     "start_time": "2021-05-26T22:34:02.889582",
     "status": "completed"
    },
    "tags": []
   },
   "source": [
    "## RandomForestClassifier"
   ]
  },
  {
   "cell_type": "code",
   "execution_count": 24,
   "id": "musical-daniel",
   "metadata": {
    "execution": {
     "iopub.execute_input": "2021-05-26T22:34:03.056722Z",
     "iopub.status.busy": "2021-05-26T22:34:03.055932Z",
     "iopub.status.idle": "2021-05-26T22:34:03.405273Z",
     "shell.execute_reply": "2021-05-26T22:34:03.404459Z",
     "shell.execute_reply.started": "2021-05-26T22:24:59.845125Z"
    },
    "papermill": {
     "duration": 0.406808,
     "end_time": "2021-05-26T22:34:03.405436",
     "exception": false,
     "start_time": "2021-05-26T22:34:02.998628",
     "status": "completed"
    },
    "tags": []
   },
   "outputs": [
    {
     "data": {
      "text/plain": [
       "RandomForestClassifier()"
      ]
     },
     "execution_count": 24,
     "metadata": {},
     "output_type": "execute_result"
    }
   ],
   "source": [
    "from sklearn.ensemble import RandomForestClassifier\n",
    "\n",
    "model_randomforest= RandomForestClassifier()\n",
    "model_randomforest.fit(X_train,y_train)"
   ]
  },
  {
   "cell_type": "code",
   "execution_count": 25,
   "id": "maritime-proceeding",
   "metadata": {
    "execution": {
     "iopub.execute_input": "2021-05-26T22:34:03.522449Z",
     "iopub.status.busy": "2021-05-26T22:34:03.521482Z",
     "iopub.status.idle": "2021-05-26T22:34:03.558426Z",
     "shell.execute_reply": "2021-05-26T22:34:03.557787Z",
     "shell.execute_reply.started": "2021-05-26T22:20:04.843576Z"
    },
    "papermill": {
     "duration": 0.099727,
     "end_time": "2021-05-26T22:34:03.558567",
     "exception": false,
     "start_time": "2021-05-26T22:34:03.458840",
     "status": "completed"
    },
    "tags": []
   },
   "outputs": [
    {
     "data": {
      "text/plain": [
       "100.0"
      ]
     },
     "execution_count": 25,
     "metadata": {},
     "output_type": "execute_result"
    }
   ],
   "source": [
    "pred_randomforest=model_randomforest.predict(X_test)\n",
    "randomforest_score =model_randomforest.score(X_train,y_train)\n",
    "randomforest_pred_score =round(randomforest_score*100,2)\n",
    "randomforest_pred_score"
   ]
  },
  {
   "cell_type": "code",
   "execution_count": 26,
   "id": "married-stopping",
   "metadata": {
    "execution": {
     "iopub.execute_input": "2021-05-26T22:34:03.673571Z",
     "iopub.status.busy": "2021-05-26T22:34:03.672852Z",
     "iopub.status.idle": "2021-05-26T22:34:03.681779Z",
     "shell.execute_reply": "2021-05-26T22:34:03.682262Z",
     "shell.execute_reply.started": "2021-05-26T22:20:16.114262Z"
    },
    "papermill": {
     "duration": 0.069494,
     "end_time": "2021-05-26T22:34:03.682446",
     "exception": false,
     "start_time": "2021-05-26T22:34:03.612952",
     "status": "completed"
    },
    "tags": []
   },
   "outputs": [
    {
     "name": "stdout",
     "output_type": "stream",
     "text": [
      "              precision    recall  f1-score   support\n",
      "\n",
      "           0       0.88      0.76      0.81        46\n",
      "           1       0.78      0.89      0.83        45\n",
      "\n",
      "    accuracy                           0.82        91\n",
      "   macro avg       0.83      0.82      0.82        91\n",
      "weighted avg       0.83      0.82      0.82        91\n",
      "\n"
     ]
    }
   ],
   "source": [
    "print(classification_report(y_test,pred_randomforest))"
   ]
  },
  {
   "cell_type": "markdown",
   "id": "micro-cigarette",
   "metadata": {
    "papermill": {
     "duration": 0.055321,
     "end_time": "2021-05-26T22:34:03.792497",
     "exception": false,
     "start_time": "2021-05-26T22:34:03.737176",
     "status": "completed"
    },
    "tags": []
   },
   "source": [
    "## xgboost"
   ]
  },
  {
   "cell_type": "code",
   "execution_count": 27,
   "id": "cutting-process",
   "metadata": {
    "execution": {
     "iopub.execute_input": "2021-05-26T22:34:03.906303Z",
     "iopub.status.busy": "2021-05-26T22:34:03.905414Z",
     "iopub.status.idle": "2021-05-26T22:34:04.062520Z",
     "shell.execute_reply": "2021-05-26T22:34:04.061871Z",
     "shell.execute_reply.started": "2021-05-26T22:25:10.229844Z"
    },
    "papermill": {
     "duration": 0.215964,
     "end_time": "2021-05-26T22:34:04.062694",
     "exception": false,
     "start_time": "2021-05-26T22:34:03.846730",
     "status": "completed"
    },
    "tags": []
   },
   "outputs": [
    {
     "name": "stdout",
     "output_type": "stream",
     "text": [
      "[22:34:04] WARNING: ../src/learner.cc:1095: Starting in XGBoost 1.3.0, the default evaluation metric used with the objective 'binary:logistic' was changed from 'error' to 'logloss'. Explicitly set eval_metric if you'd like to restore the old behavior.\n"
     ]
    },
    {
     "data": {
      "text/plain": [
       "XGBClassifier(base_score=0.5, booster='gbtree', colsample_bylevel=1,\n",
       "              colsample_bynode=1, colsample_bytree=1, gamma=0, gpu_id=-1,\n",
       "              importance_type='gain', interaction_constraints='',\n",
       "              learning_rate=0.300000012, max_delta_step=0, max_depth=6,\n",
       "              min_child_weight=1, missing=nan, monotone_constraints='()',\n",
       "              n_estimators=100, n_jobs=4, num_parallel_tree=1, random_state=0,\n",
       "              reg_alpha=0, reg_lambda=1, scale_pos_weight=1, subsample=1,\n",
       "              tree_method='exact', validate_parameters=1, verbosity=None)"
      ]
     },
     "execution_count": 27,
     "metadata": {},
     "output_type": "execute_result"
    }
   ],
   "source": [
    "import xgboost as xgb\n",
    "\n",
    "model_xgboost= xgb.XGBClassifier()\n",
    "model_xgboost.fit(X_train,y_train)"
   ]
  },
  {
   "cell_type": "code",
   "execution_count": 28,
   "id": "stretch-sword",
   "metadata": {
    "execution": {
     "iopub.execute_input": "2021-05-26T22:34:04.178192Z",
     "iopub.status.busy": "2021-05-26T22:34:04.177361Z",
     "iopub.status.idle": "2021-05-26T22:34:04.190217Z",
     "shell.execute_reply": "2021-05-26T22:34:04.190783Z",
     "shell.execute_reply.started": "2021-05-26T22:22:42.705810Z"
    },
    "papermill": {
     "duration": 0.072805,
     "end_time": "2021-05-26T22:34:04.190995",
     "exception": false,
     "start_time": "2021-05-26T22:34:04.118190",
     "status": "completed"
    },
    "tags": []
   },
   "outputs": [
    {
     "data": {
      "text/plain": [
       "100.0"
      ]
     },
     "execution_count": 28,
     "metadata": {},
     "output_type": "execute_result"
    }
   ],
   "source": [
    "pred_xgboost=model_xgboost.predict(X_test)\n",
    "xgboost_score =model_xgboost.score(X_train,y_train)\n",
    "xgboost_pred_score =round(xgboost_score*100,2)\n",
    "xgboost_pred_score"
   ]
  },
  {
   "cell_type": "code",
   "execution_count": 29,
   "id": "stretch-commitment",
   "metadata": {
    "execution": {
     "iopub.execute_input": "2021-05-26T22:34:04.311033Z",
     "iopub.status.busy": "2021-05-26T22:34:04.309949Z",
     "iopub.status.idle": "2021-05-26T22:34:04.318739Z",
     "shell.execute_reply": "2021-05-26T22:34:04.319294Z",
     "shell.execute_reply.started": "2021-05-26T22:22:54.625392Z"
    },
    "papermill": {
     "duration": 0.070094,
     "end_time": "2021-05-26T22:34:04.319484",
     "exception": false,
     "start_time": "2021-05-26T22:34:04.249390",
     "status": "completed"
    },
    "tags": []
   },
   "outputs": [
    {
     "name": "stdout",
     "output_type": "stream",
     "text": [
      "              precision    recall  f1-score   support\n",
      "\n",
      "           0       0.83      0.74      0.78        46\n",
      "           1       0.76      0.84      0.80        45\n",
      "\n",
      "    accuracy                           0.79        91\n",
      "   macro avg       0.79      0.79      0.79        91\n",
      "weighted avg       0.80      0.79      0.79        91\n",
      "\n"
     ]
    }
   ],
   "source": [
    "print(classification_report(y_test,pred_xgboost))"
   ]
  },
  {
   "cell_type": "markdown",
   "id": "national-palace",
   "metadata": {
    "papermill": {
     "duration": 0.055301,
     "end_time": "2021-05-26T22:34:04.432060",
     "exception": false,
     "start_time": "2021-05-26T22:34:04.376759",
     "status": "completed"
    },
    "tags": []
   },
   "source": [
    "## KNeighborsClassifier"
   ]
  },
  {
   "cell_type": "code",
   "execution_count": 30,
   "id": "coral-limit",
   "metadata": {
    "execution": {
     "iopub.execute_input": "2021-05-26T22:34:04.552060Z",
     "iopub.status.busy": "2021-05-26T22:34:04.551111Z",
     "iopub.status.idle": "2021-05-26T22:34:04.555415Z",
     "shell.execute_reply": "2021-05-26T22:34:04.554862Z",
     "shell.execute_reply.started": "2021-05-26T22:25:17.305580Z"
    },
    "papermill": {
     "duration": 0.067737,
     "end_time": "2021-05-26T22:34:04.555561",
     "exception": false,
     "start_time": "2021-05-26T22:34:04.487824",
     "status": "completed"
    },
    "tags": []
   },
   "outputs": [
    {
     "data": {
      "text/plain": [
       "KNeighborsClassifier()"
      ]
     },
     "execution_count": 30,
     "metadata": {},
     "output_type": "execute_result"
    }
   ],
   "source": [
    "from sklearn.neighbors import KNeighborsClassifier\n",
    "\n",
    "model_knn= KNeighborsClassifier()\n",
    "model_knn.fit(X_train,y_train)"
   ]
  },
  {
   "cell_type": "code",
   "execution_count": 31,
   "id": "tight-damages",
   "metadata": {
    "execution": {
     "iopub.execute_input": "2021-05-26T22:34:04.674883Z",
     "iopub.status.busy": "2021-05-26T22:34:04.674193Z",
     "iopub.status.idle": "2021-05-26T22:34:04.696703Z",
     "shell.execute_reply": "2021-05-26T22:34:04.697183Z",
     "shell.execute_reply.started": "2021-05-26T22:24:20.328625Z"
    },
    "papermill": {
     "duration": 0.085574,
     "end_time": "2021-05-26T22:34:04.697362",
     "exception": false,
     "start_time": "2021-05-26T22:34:04.611788",
     "status": "completed"
    },
    "tags": []
   },
   "outputs": [
    {
     "data": {
      "text/plain": [
       "75.47"
      ]
     },
     "execution_count": 31,
     "metadata": {},
     "output_type": "execute_result"
    }
   ],
   "source": [
    "pred_knn=model_knn.predict(X_test)\n",
    "knn_score =model_knn.score(X_train,y_train)\n",
    "knn_pred_score =round(knn_score*100,2)\n",
    "knn_pred_score"
   ]
  },
  {
   "cell_type": "code",
   "execution_count": 32,
   "id": "norman-andorra",
   "metadata": {
    "execution": {
     "iopub.execute_input": "2021-05-26T22:34:04.816071Z",
     "iopub.status.busy": "2021-05-26T22:34:04.815380Z",
     "iopub.status.idle": "2021-05-26T22:34:04.824960Z",
     "shell.execute_reply": "2021-05-26T22:34:04.824242Z",
     "shell.execute_reply.started": "2021-05-26T22:24:31.168767Z"
    },
    "papermill": {
     "duration": 0.071735,
     "end_time": "2021-05-26T22:34:04.825137",
     "exception": false,
     "start_time": "2021-05-26T22:34:04.753402",
     "status": "completed"
    },
    "tags": []
   },
   "outputs": [
    {
     "name": "stdout",
     "output_type": "stream",
     "text": [
      "              precision    recall  f1-score   support\n",
      "\n",
      "           0       0.73      0.52      0.61        46\n",
      "           1       0.62      0.80      0.70        45\n",
      "\n",
      "    accuracy                           0.66        91\n",
      "   macro avg       0.67      0.66      0.65        91\n",
      "weighted avg       0.67      0.66      0.65        91\n",
      "\n"
     ]
    }
   ],
   "source": [
    "print(classification_report(y_test,pred_knn))"
   ]
  },
  {
   "cell_type": "markdown",
   "id": "korean-contact",
   "metadata": {
    "papermill": {
     "duration": 0.057038,
     "end_time": "2021-05-26T22:34:04.937955",
     "exception": false,
     "start_time": "2021-05-26T22:34:04.880917",
     "status": "completed"
    },
    "tags": []
   },
   "source": [
    "### LogisticRegression model give accuracy with 87%"
   ]
  },
  {
   "cell_type": "markdown",
   "id": "olive-edgar",
   "metadata": {
    "papermill": {
     "duration": 0.05711,
     "end_time": "2021-05-26T22:34:05.051572",
     "exception": false,
     "start_time": "2021-05-26T22:34:04.994462",
     "status": "completed"
    },
    "tags": []
   },
   "source": [
    "## Conclusion\n",
    "- Higher Blood Pressure, Higher Cholestrol and Higher Heart Rate leads to higher chance of heart attack.\n",
    "- Male have more percentage to have heart attack\n",
    "- Age from 50-65 years have the high chance of heart attack."
   ]
  }
 ],
 "metadata": {
  "kernelspec": {
   "display_name": "Python 3",
   "language": "python",
   "name": "python3"
  },
  "language_info": {
   "codemirror_mode": {
    "name": "ipython",
    "version": 3
   },
   "file_extension": ".py",
   "mimetype": "text/x-python",
   "name": "python",
   "nbconvert_exporter": "python",
   "pygments_lexer": "ipython3",
   "version": "3.7.10"
  },
  "papermill": {
   "default_parameters": {},
   "duration": 19.830687,
   "end_time": "2021-05-26T22:34:05.919877",
   "environment_variables": {},
   "exception": null,
   "input_path": "__notebook__.ipynb",
   "output_path": "__notebook__.ipynb",
   "parameters": {},
   "start_time": "2021-05-26T22:33:46.089190",
   "version": "2.3.3"
  }
 },
 "nbformat": 4,
 "nbformat_minor": 5
}
