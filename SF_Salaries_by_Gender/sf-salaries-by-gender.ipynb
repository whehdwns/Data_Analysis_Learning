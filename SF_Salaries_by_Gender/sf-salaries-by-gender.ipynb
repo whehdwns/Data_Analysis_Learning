{
 "cells": [
  {
   "cell_type": "code",
   "execution_count": 1,
   "id": "3c8cb21a",
   "metadata": {
    "_cell_guid": "b1076dfc-b9ad-4769-8c92-a6c4dae69d19",
    "_uuid": "8f2839f25d086af736a60e9eeb907d3b93b6e0e5",
    "execution": {
     "iopub.execute_input": "2021-12-09T07:23:46.841805Z",
     "iopub.status.busy": "2021-12-09T07:23:46.840486Z",
     "iopub.status.idle": "2021-12-09T07:23:47.952039Z",
     "shell.execute_reply": "2021-12-09T07:23:47.950832Z",
     "shell.execute_reply.started": "2021-12-09T07:08:35.017041Z"
    },
    "papermill": {
     "duration": 1.170338,
     "end_time": "2021-12-09T07:23:47.952228",
     "exception": false,
     "start_time": "2021-12-09T07:23:46.781890",
     "status": "completed"
    },
    "tags": []
   },
   "outputs": [
    {
     "name": "stdout",
     "output_type": "stream",
     "text": [
      "/kaggle/input/sf-salaries/Salaries.csv\n",
      "/kaggle/input/sf-salaries/database.sqlite\n"
     ]
    }
   ],
   "source": [
    "# This Python 3 environment comes with many helpful analytics libraries installed\n",
    "# It is defined by the kaggle/python Docker image: https://github.com/kaggle/docker-python\n",
    "# For example, here's several helpful packages to load\n",
    "\n",
    "import numpy as np # linear algebra\n",
    "import pandas as pd # data processing, CSV file I/O (e.g. pd.read_csv)\n",
    "import matplotlib.pyplot as plt\n",
    "import warnings\n",
    "import seaborn as sns\n",
    "warnings.filterwarnings('ignore')\n",
    "\n",
    "# Input data files are available in the read-only \"../input/\" directory\n",
    "# For example, running this (by clicking run or pressing Shift+Enter) will list all files under the input directory\n",
    "\n",
    "import os\n",
    "for dirname, _, filenames in os.walk('/kaggle/input'):\n",
    "    for filename in filenames:\n",
    "        print(os.path.join(dirname, filename))\n",
    "\n",
    "# You can write up to 20GB to the current directory (/kaggle/working/) that gets preserved as output when you create a version using \"Save & Run All\" \n",
    "# You can also write temporary files to /kaggle/temp/, but they won't be saved outside of the current session"
   ]
  },
  {
   "cell_type": "code",
   "execution_count": 2,
   "id": "91ae3c78",
   "metadata": {
    "execution": {
     "iopub.execute_input": "2021-12-09T07:23:48.047087Z",
     "iopub.status.busy": "2021-12-09T07:23:48.046396Z",
     "iopub.status.idle": "2021-12-09T07:23:48.668857Z",
     "shell.execute_reply": "2021-12-09T07:23:48.668190Z",
     "shell.execute_reply.started": "2021-12-09T07:08:36.259680Z"
    },
    "papermill": {
     "duration": 0.670835,
     "end_time": "2021-12-09T07:23:48.669025",
     "exception": false,
     "start_time": "2021-12-09T07:23:47.998190",
     "status": "completed"
    },
    "tags": []
   },
   "outputs": [
    {
     "data": {
      "text/html": [
       "<div>\n",
       "<style scoped>\n",
       "    .dataframe tbody tr th:only-of-type {\n",
       "        vertical-align: middle;\n",
       "    }\n",
       "\n",
       "    .dataframe tbody tr th {\n",
       "        vertical-align: top;\n",
       "    }\n",
       "\n",
       "    .dataframe thead th {\n",
       "        text-align: right;\n",
       "    }\n",
       "</style>\n",
       "<table border=\"1\" class=\"dataframe\">\n",
       "  <thead>\n",
       "    <tr style=\"text-align: right;\">\n",
       "      <th></th>\n",
       "      <th>Id</th>\n",
       "      <th>EmployeeName</th>\n",
       "      <th>JobTitle</th>\n",
       "      <th>BasePay</th>\n",
       "      <th>OvertimePay</th>\n",
       "      <th>OtherPay</th>\n",
       "      <th>Benefits</th>\n",
       "      <th>TotalPay</th>\n",
       "      <th>TotalPayBenefits</th>\n",
       "      <th>Year</th>\n",
       "      <th>Notes</th>\n",
       "      <th>Agency</th>\n",
       "      <th>Status</th>\n",
       "    </tr>\n",
       "  </thead>\n",
       "  <tbody>\n",
       "    <tr>\n",
       "      <th>0</th>\n",
       "      <td>1</td>\n",
       "      <td>NATHANIEL FORD</td>\n",
       "      <td>GENERAL MANAGER-METROPOLITAN TRANSIT AUTHORITY</td>\n",
       "      <td>167411.18</td>\n",
       "      <td>0.0</td>\n",
       "      <td>400184.25</td>\n",
       "      <td>NaN</td>\n",
       "      <td>567595.43</td>\n",
       "      <td>567595.43</td>\n",
       "      <td>2011</td>\n",
       "      <td>NaN</td>\n",
       "      <td>San Francisco</td>\n",
       "      <td>NaN</td>\n",
       "    </tr>\n",
       "    <tr>\n",
       "      <th>1</th>\n",
       "      <td>2</td>\n",
       "      <td>GARY JIMENEZ</td>\n",
       "      <td>CAPTAIN III (POLICE DEPARTMENT)</td>\n",
       "      <td>155966.02</td>\n",
       "      <td>245131.88</td>\n",
       "      <td>137811.38</td>\n",
       "      <td>NaN</td>\n",
       "      <td>538909.28</td>\n",
       "      <td>538909.28</td>\n",
       "      <td>2011</td>\n",
       "      <td>NaN</td>\n",
       "      <td>San Francisco</td>\n",
       "      <td>NaN</td>\n",
       "    </tr>\n",
       "    <tr>\n",
       "      <th>2</th>\n",
       "      <td>3</td>\n",
       "      <td>ALBERT PARDINI</td>\n",
       "      <td>CAPTAIN III (POLICE DEPARTMENT)</td>\n",
       "      <td>212739.13</td>\n",
       "      <td>106088.18</td>\n",
       "      <td>16452.6</td>\n",
       "      <td>NaN</td>\n",
       "      <td>335279.91</td>\n",
       "      <td>335279.91</td>\n",
       "      <td>2011</td>\n",
       "      <td>NaN</td>\n",
       "      <td>San Francisco</td>\n",
       "      <td>NaN</td>\n",
       "    </tr>\n",
       "    <tr>\n",
       "      <th>3</th>\n",
       "      <td>4</td>\n",
       "      <td>CHRISTOPHER CHONG</td>\n",
       "      <td>WIRE ROPE CABLE MAINTENANCE MECHANIC</td>\n",
       "      <td>77916.0</td>\n",
       "      <td>56120.71</td>\n",
       "      <td>198306.9</td>\n",
       "      <td>NaN</td>\n",
       "      <td>332343.61</td>\n",
       "      <td>332343.61</td>\n",
       "      <td>2011</td>\n",
       "      <td>NaN</td>\n",
       "      <td>San Francisco</td>\n",
       "      <td>NaN</td>\n",
       "    </tr>\n",
       "    <tr>\n",
       "      <th>4</th>\n",
       "      <td>5</td>\n",
       "      <td>PATRICK GARDNER</td>\n",
       "      <td>DEPUTY CHIEF OF DEPARTMENT,(FIRE DEPARTMENT)</td>\n",
       "      <td>134401.6</td>\n",
       "      <td>9737.0</td>\n",
       "      <td>182234.59</td>\n",
       "      <td>NaN</td>\n",
       "      <td>326373.19</td>\n",
       "      <td>326373.19</td>\n",
       "      <td>2011</td>\n",
       "      <td>NaN</td>\n",
       "      <td>San Francisco</td>\n",
       "      <td>NaN</td>\n",
       "    </tr>\n",
       "  </tbody>\n",
       "</table>\n",
       "</div>"
      ],
      "text/plain": [
       "   Id       EmployeeName                                        JobTitle  \\\n",
       "0   1     NATHANIEL FORD  GENERAL MANAGER-METROPOLITAN TRANSIT AUTHORITY   \n",
       "1   2       GARY JIMENEZ                 CAPTAIN III (POLICE DEPARTMENT)   \n",
       "2   3     ALBERT PARDINI                 CAPTAIN III (POLICE DEPARTMENT)   \n",
       "3   4  CHRISTOPHER CHONG            WIRE ROPE CABLE MAINTENANCE MECHANIC   \n",
       "4   5    PATRICK GARDNER    DEPUTY CHIEF OF DEPARTMENT,(FIRE DEPARTMENT)   \n",
       "\n",
       "     BasePay OvertimePay   OtherPay Benefits   TotalPay  TotalPayBenefits  \\\n",
       "0  167411.18         0.0  400184.25      NaN  567595.43         567595.43   \n",
       "1  155966.02   245131.88  137811.38      NaN  538909.28         538909.28   \n",
       "2  212739.13   106088.18    16452.6      NaN  335279.91         335279.91   \n",
       "3    77916.0    56120.71   198306.9      NaN  332343.61         332343.61   \n",
       "4   134401.6      9737.0  182234.59      NaN  326373.19         326373.19   \n",
       "\n",
       "   Year  Notes         Agency Status  \n",
       "0  2011    NaN  San Francisco    NaN  \n",
       "1  2011    NaN  San Francisco    NaN  \n",
       "2  2011    NaN  San Francisco    NaN  \n",
       "3  2011    NaN  San Francisco    NaN  \n",
       "4  2011    NaN  San Francisco    NaN  "
      ]
     },
     "execution_count": 2,
     "metadata": {},
     "output_type": "execute_result"
    }
   ],
   "source": [
    "Original_Salaries_dataset = pd.read_csv('../input/sf-salaries/Salaries.csv')\n",
    "Salaries_dataset = Original_Salaries_dataset.copy()\n",
    "Salaries_dataset.head()"
   ]
  },
  {
   "cell_type": "markdown",
   "id": "02a122bf",
   "metadata": {
    "papermill": {
     "duration": 0.046447,
     "end_time": "2021-12-09T07:23:48.761965",
     "exception": false,
     "start_time": "2021-12-09T07:23:48.715518",
     "status": "completed"
    },
    "tags": []
   },
   "source": [
    "### Check null values in the dataset"
   ]
  },
  {
   "cell_type": "code",
   "execution_count": 3,
   "id": "71cc4524",
   "metadata": {
    "execution": {
     "iopub.execute_input": "2021-12-09T07:23:48.857027Z",
     "iopub.status.busy": "2021-12-09T07:23:48.856341Z",
     "iopub.status.idle": "2021-12-09T07:23:48.954618Z",
     "shell.execute_reply": "2021-12-09T07:23:48.955227Z",
     "shell.execute_reply.started": "2021-12-09T07:08:36.942689Z"
    },
    "papermill": {
     "duration": 0.14847,
     "end_time": "2021-12-09T07:23:48.955404",
     "exception": false,
     "start_time": "2021-12-09T07:23:48.806934",
     "status": "completed"
    },
    "tags": []
   },
   "outputs": [
    {
     "data": {
      "text/plain": [
       "Id                       0\n",
       "EmployeeName             0\n",
       "JobTitle                 0\n",
       "BasePay                605\n",
       "OvertimePay              0\n",
       "OtherPay                 0\n",
       "Benefits             36159\n",
       "TotalPay                 0\n",
       "TotalPayBenefits         0\n",
       "Year                     0\n",
       "Notes               148654\n",
       "Agency                   0\n",
       "Status              110535\n",
       "dtype: int64"
      ]
     },
     "execution_count": 3,
     "metadata": {},
     "output_type": "execute_result"
    }
   ],
   "source": [
    "Salaries_dataset.isnull().sum()"
   ]
  },
  {
   "cell_type": "markdown",
   "id": "aeeca01f",
   "metadata": {
    "papermill": {
     "duration": 0.045637,
     "end_time": "2021-12-09T07:23:49.046356",
     "exception": false,
     "start_time": "2021-12-09T07:23:49.000719",
     "status": "completed"
    },
    "tags": []
   },
   "source": [
    "### Since the volume of NaNs of \"Notes\" and \"Status\" exceeds more than 60-70% of feature size, I decided to drop NaNs in the dataset."
   ]
  },
  {
   "cell_type": "code",
   "execution_count": 4,
   "id": "131931d2",
   "metadata": {
    "execution": {
     "iopub.execute_input": "2021-12-09T07:23:49.151417Z",
     "iopub.status.busy": "2021-12-09T07:23:49.142709Z",
     "iopub.status.idle": "2021-12-09T07:23:49.184980Z",
     "shell.execute_reply": "2021-12-09T07:23:49.185506Z",
     "shell.execute_reply.started": "2021-12-09T07:08:37.055183Z"
    },
    "papermill": {
     "duration": 0.092203,
     "end_time": "2021-12-09T07:23:49.185700",
     "exception": false,
     "start_time": "2021-12-09T07:23:49.093497",
     "status": "completed"
    },
    "tags": []
   },
   "outputs": [
    {
     "name": "stdout",
     "output_type": "stream",
     "text": [
      "volume of NaNs of BasePay is 0.41%\n",
      "volume of NaNs of Benefits is 24.32%\n",
      "volume of NaNs of Notes is 100.0%\n",
      "volume of NaNs of Status is 74.36%\n"
     ]
    }
   ],
   "source": [
    "BasePay_NaNs = (Salaries_dataset.BasePay.isnull().sum() / len(Salaries_dataset.BasePay))*100\n",
    "Benefits_NaNs = (Salaries_dataset.Benefits.isnull().sum() / len(Salaries_dataset.Benefits))*100\n",
    "Notes_NaNs = (Salaries_dataset.Notes.isnull().sum() / len(Salaries_dataset.Notes))*100\n",
    "Status_NaNs = (Salaries_dataset.Status.isnull().sum() / len(Salaries_dataset.Status))*100\n",
    "\n",
    "print(\"volume of NaNs of BasePay is \" + str(round(BasePay_NaNs,2))+\"%\")\n",
    "print(\"volume of NaNs of Benefits is \" + str(round(Benefits_NaNs,2))+\"%\")\n",
    "print(\"volume of NaNs of Notes is \" + str(round(Notes_NaNs,2))+\"%\")\n",
    "print(\"volume of NaNs of Status is \" + str(round(Status_NaNs,2))+\"%\")"
   ]
  },
  {
   "cell_type": "code",
   "execution_count": 5,
   "id": "5c6cbf6a",
   "metadata": {
    "execution": {
     "iopub.execute_input": "2021-12-09T07:23:49.286895Z",
     "iopub.status.busy": "2021-12-09T07:23:49.281292Z",
     "iopub.status.idle": "2021-12-09T07:23:49.313966Z",
     "shell.execute_reply": "2021-12-09T07:23:49.314584Z",
     "shell.execute_reply.started": "2021-12-09T07:08:37.103215Z"
    },
    "papermill": {
     "duration": 0.082856,
     "end_time": "2021-12-09T07:23:49.314756",
     "exception": false,
     "start_time": "2021-12-09T07:23:49.231900",
     "status": "completed"
    },
    "tags": []
   },
   "outputs": [
    {
     "data": {
      "text/html": [
       "<div>\n",
       "<style scoped>\n",
       "    .dataframe tbody tr th:only-of-type {\n",
       "        vertical-align: middle;\n",
       "    }\n",
       "\n",
       "    .dataframe tbody tr th {\n",
       "        vertical-align: top;\n",
       "    }\n",
       "\n",
       "    .dataframe thead th {\n",
       "        text-align: right;\n",
       "    }\n",
       "</style>\n",
       "<table border=\"1\" class=\"dataframe\">\n",
       "  <thead>\n",
       "    <tr style=\"text-align: right;\">\n",
       "      <th></th>\n",
       "      <th>Id</th>\n",
       "      <th>EmployeeName</th>\n",
       "      <th>JobTitle</th>\n",
       "      <th>BasePay</th>\n",
       "      <th>OvertimePay</th>\n",
       "      <th>OtherPay</th>\n",
       "      <th>Benefits</th>\n",
       "      <th>TotalPay</th>\n",
       "      <th>TotalPayBenefits</th>\n",
       "      <th>Year</th>\n",
       "      <th>Agency</th>\n",
       "    </tr>\n",
       "  </thead>\n",
       "  <tbody>\n",
       "    <tr>\n",
       "      <th>0</th>\n",
       "      <td>1</td>\n",
       "      <td>NATHANIEL FORD</td>\n",
       "      <td>GENERAL MANAGER-METROPOLITAN TRANSIT AUTHORITY</td>\n",
       "      <td>167411.18</td>\n",
       "      <td>0.0</td>\n",
       "      <td>400184.25</td>\n",
       "      <td>NaN</td>\n",
       "      <td>567595.43</td>\n",
       "      <td>567595.43</td>\n",
       "      <td>2011</td>\n",
       "      <td>San Francisco</td>\n",
       "    </tr>\n",
       "    <tr>\n",
       "      <th>1</th>\n",
       "      <td>2</td>\n",
       "      <td>GARY JIMENEZ</td>\n",
       "      <td>CAPTAIN III (POLICE DEPARTMENT)</td>\n",
       "      <td>155966.02</td>\n",
       "      <td>245131.88</td>\n",
       "      <td>137811.38</td>\n",
       "      <td>NaN</td>\n",
       "      <td>538909.28</td>\n",
       "      <td>538909.28</td>\n",
       "      <td>2011</td>\n",
       "      <td>San Francisco</td>\n",
       "    </tr>\n",
       "    <tr>\n",
       "      <th>2</th>\n",
       "      <td>3</td>\n",
       "      <td>ALBERT PARDINI</td>\n",
       "      <td>CAPTAIN III (POLICE DEPARTMENT)</td>\n",
       "      <td>212739.13</td>\n",
       "      <td>106088.18</td>\n",
       "      <td>16452.6</td>\n",
       "      <td>NaN</td>\n",
       "      <td>335279.91</td>\n",
       "      <td>335279.91</td>\n",
       "      <td>2011</td>\n",
       "      <td>San Francisco</td>\n",
       "    </tr>\n",
       "    <tr>\n",
       "      <th>3</th>\n",
       "      <td>4</td>\n",
       "      <td>CHRISTOPHER CHONG</td>\n",
       "      <td>WIRE ROPE CABLE MAINTENANCE MECHANIC</td>\n",
       "      <td>77916.0</td>\n",
       "      <td>56120.71</td>\n",
       "      <td>198306.9</td>\n",
       "      <td>NaN</td>\n",
       "      <td>332343.61</td>\n",
       "      <td>332343.61</td>\n",
       "      <td>2011</td>\n",
       "      <td>San Francisco</td>\n",
       "    </tr>\n",
       "    <tr>\n",
       "      <th>4</th>\n",
       "      <td>5</td>\n",
       "      <td>PATRICK GARDNER</td>\n",
       "      <td>DEPUTY CHIEF OF DEPARTMENT,(FIRE DEPARTMENT)</td>\n",
       "      <td>134401.6</td>\n",
       "      <td>9737.0</td>\n",
       "      <td>182234.59</td>\n",
       "      <td>NaN</td>\n",
       "      <td>326373.19</td>\n",
       "      <td>326373.19</td>\n",
       "      <td>2011</td>\n",
       "      <td>San Francisco</td>\n",
       "    </tr>\n",
       "  </tbody>\n",
       "</table>\n",
       "</div>"
      ],
      "text/plain": [
       "   Id       EmployeeName                                        JobTitle  \\\n",
       "0   1     NATHANIEL FORD  GENERAL MANAGER-METROPOLITAN TRANSIT AUTHORITY   \n",
       "1   2       GARY JIMENEZ                 CAPTAIN III (POLICE DEPARTMENT)   \n",
       "2   3     ALBERT PARDINI                 CAPTAIN III (POLICE DEPARTMENT)   \n",
       "3   4  CHRISTOPHER CHONG            WIRE ROPE CABLE MAINTENANCE MECHANIC   \n",
       "4   5    PATRICK GARDNER    DEPUTY CHIEF OF DEPARTMENT,(FIRE DEPARTMENT)   \n",
       "\n",
       "     BasePay OvertimePay   OtherPay Benefits   TotalPay  TotalPayBenefits  \\\n",
       "0  167411.18         0.0  400184.25      NaN  567595.43         567595.43   \n",
       "1  155966.02   245131.88  137811.38      NaN  538909.28         538909.28   \n",
       "2  212739.13   106088.18    16452.6      NaN  335279.91         335279.91   \n",
       "3    77916.0    56120.71   198306.9      NaN  332343.61         332343.61   \n",
       "4   134401.6      9737.0  182234.59      NaN  326373.19         326373.19   \n",
       "\n",
       "   Year         Agency  \n",
       "0  2011  San Francisco  \n",
       "1  2011  San Francisco  \n",
       "2  2011  San Francisco  \n",
       "3  2011  San Francisco  \n",
       "4  2011  San Francisco  "
      ]
     },
     "execution_count": 5,
     "metadata": {},
     "output_type": "execute_result"
    }
   ],
   "source": [
    "Salaries_dataset = Salaries_dataset.drop([\"Notes\", \"Status\"], axis = 1)\n",
    "Salaries_dataset.head()"
   ]
  },
  {
   "cell_type": "code",
   "execution_count": 6,
   "id": "47f5368b",
   "metadata": {
    "execution": {
     "iopub.execute_input": "2021-12-09T07:23:49.410878Z",
     "iopub.status.busy": "2021-12-09T07:23:49.410208Z",
     "iopub.status.idle": "2021-12-09T07:23:49.578207Z",
     "shell.execute_reply": "2021-12-09T07:23:49.578700Z",
     "shell.execute_reply.started": "2021-12-09T07:08:37.140501Z"
    },
    "papermill": {
     "duration": 0.217684,
     "end_time": "2021-12-09T07:23:49.578877",
     "exception": false,
     "start_time": "2021-12-09T07:23:49.361193",
     "status": "completed"
    },
    "tags": []
   },
   "outputs": [
    {
     "data": {
      "text/plain": [
       "KEVIN LEE       22\n",
       "RICHARD LEE     19\n",
       "WILLIAM WONG    18\n",
       "STEVEN LEE      18\n",
       "DAVID WONG      16\n",
       "STANLEY LEE     16\n",
       "JOHN CHAN       15\n",
       "MICHAEL LEE     15\n",
       "WILLIAM LEE     14\n",
       "MICHAEL WONG    14\n",
       "Name: EmployeeName, dtype: int64"
      ]
     },
     "execution_count": 6,
     "metadata": {},
     "output_type": "execute_result"
    }
   ],
   "source": [
    "Salaries_dataset.EmployeeName.str.upper().value_counts().head(10)"
   ]
  },
  {
   "cell_type": "code",
   "execution_count": 7,
   "id": "36c2d588",
   "metadata": {
    "execution": {
     "iopub.execute_input": "2021-12-09T07:23:49.680118Z",
     "iopub.status.busy": "2021-12-09T07:23:49.679457Z",
     "iopub.status.idle": "2021-12-09T07:23:49.681895Z",
     "shell.execute_reply": "2021-12-09T07:23:49.682398Z",
     "shell.execute_reply.started": "2021-12-09T07:08:37.329846Z"
    },
    "papermill": {
     "duration": 0.056417,
     "end_time": "2021-12-09T07:23:49.682577",
     "exception": false,
     "start_time": "2021-12-09T07:23:49.626160",
     "status": "completed"
    },
    "tags": []
   },
   "outputs": [
    {
     "data": {
      "text/plain": [
       "0         GENERAL MANAGER-METROPOLITAN TRANSIT AUTHORITY\n",
       "1                        CAPTAIN III (POLICE DEPARTMENT)\n",
       "2                        CAPTAIN III (POLICE DEPARTMENT)\n",
       "3                   WIRE ROPE CABLE MAINTENANCE MECHANIC\n",
       "4           DEPUTY CHIEF OF DEPARTMENT,(FIRE DEPARTMENT)\n",
       "                               ...                      \n",
       "148649                                         Custodian\n",
       "148650                                      Not provided\n",
       "148651                                      Not provided\n",
       "148652                                      Not provided\n",
       "148653                        Counselor, Log Cabin Ranch\n",
       "Name: JobTitle, Length: 148654, dtype: object"
      ]
     },
     "execution_count": 7,
     "metadata": {},
     "output_type": "execute_result"
    }
   ],
   "source": [
    "Salaries_dataset.JobTitle"
   ]
  },
  {
   "cell_type": "markdown",
   "id": "2332386e",
   "metadata": {
    "papermill": {
     "duration": 0.046454,
     "end_time": "2021-12-09T07:23:49.775794",
     "exception": false,
     "start_time": "2021-12-09T07:23:49.729340",
     "status": "completed"
    },
    "tags": []
   },
   "source": [
    "### Top 20 Job Title"
   ]
  },
  {
   "cell_type": "code",
   "execution_count": 8,
   "id": "13ccf9d1",
   "metadata": {
    "execution": {
     "iopub.execute_input": "2021-12-09T07:23:49.897571Z",
     "iopub.status.busy": "2021-12-09T07:23:49.896829Z",
     "iopub.status.idle": "2021-12-09T07:23:50.483765Z",
     "shell.execute_reply": "2021-12-09T07:23:50.483092Z",
     "shell.execute_reply.started": "2021-12-09T07:08:37.341438Z"
    },
    "papermill": {
     "duration": 0.661386,
     "end_time": "2021-12-09T07:23:50.483915",
     "exception": false,
     "start_time": "2021-12-09T07:23:49.822529",
     "status": "completed"
    },
    "tags": []
   },
   "outputs": [
    {
     "data": {
      "text/plain": [
       "Text(0.5, 1.0, 'Top 20 JobTitle')"
      ]
     },
     "execution_count": 8,
     "metadata": {},
     "output_type": "execute_result"
    },
    {
     "data": {
      "image/png": "[encoded data removed]",
      "text/plain": [
       "<Figure size 1080x576 with 1 Axes>"
      ]
     },
     "metadata": {},
     "output_type": "display_data"
    }
   ],
   "source": [
    "sns.set(rc = {'figure.figsize':(15,8)})\n",
    "sns.countplot(y=\"JobTitle\", \n",
    "              data=Salaries_dataset, \n",
    "              order=Salaries_dataset.JobTitle.value_counts().iloc[:20].index).set_title('Top 20 JobTitle')"
   ]
  },
  {
   "cell_type": "code",
   "execution_count": 9,
   "id": "0dc1be54",
   "metadata": {
    "execution": {
     "iopub.execute_input": "2021-12-09T07:23:50.586062Z",
     "iopub.status.busy": "2021-12-09T07:23:50.584973Z",
     "iopub.status.idle": "2021-12-09T07:23:50.589865Z",
     "shell.execute_reply": "2021-12-09T07:23:50.590466Z",
     "shell.execute_reply.started": "2021-12-09T07:08:38.009814Z"
    },
    "papermill": {
     "duration": 0.057767,
     "end_time": "2021-12-09T07:23:50.590632",
     "exception": false,
     "start_time": "2021-12-09T07:23:50.532865",
     "status": "completed"
    },
    "tags": []
   },
   "outputs": [],
   "source": [
    "def label_graph(ax):\n",
    "    for p in ax.patches:\n",
    "        height = p.get_height()\n",
    "        ax.text(p.get_x() + p.get_width() / 2., height + 3, height, ha = 'center', size = 15)"
   ]
  },
  {
   "cell_type": "markdown",
   "id": "93da0627",
   "metadata": {
    "papermill": {
     "duration": 0.04904,
     "end_time": "2021-12-09T07:23:50.688464",
     "exception": false,
     "start_time": "2021-12-09T07:23:50.639424",
     "status": "completed"
    },
    "tags": []
   },
   "source": [
    "### Number of Emloyee over Year (2011-2014)"
   ]
  },
  {
   "cell_type": "code",
   "execution_count": 10,
   "id": "da3c5b0c",
   "metadata": {
    "execution": {
     "iopub.execute_input": "2021-12-09T07:23:50.794574Z",
     "iopub.status.busy": "2021-12-09T07:23:50.790102Z",
     "iopub.status.idle": "2021-12-09T07:23:51.036659Z",
     "shell.execute_reply": "2021-12-09T07:23:51.035902Z",
     "shell.execute_reply.started": "2021-12-09T07:08:38.022293Z"
    },
    "papermill": {
     "duration": 0.299246,
     "end_time": "2021-12-09T07:23:51.036821",
     "exception": false,
     "start_time": "2021-12-09T07:23:50.737575",
     "status": "completed"
    },
    "tags": []
   },
   "outputs": [
    {
     "data": {
      "image/png": "[encoded data removed]",
      "text/plain": [
       "<Figure size 1080x576 with 1 Axes>"
      ]
     },
     "metadata": {},
     "output_type": "display_data"
    }
   ],
   "source": [
    "sns.set(rc = {'figure.figsize':(15,8)})\n",
    "ax = sns.countplot(x = 'Year', data = Salaries_dataset)\n",
    "ax.set_title('Number of Employee over Year', size=15)\n",
    "label_graph(ax)\n",
    "plt.show()"
   ]
  },
  {
   "cell_type": "markdown",
   "id": "cc7bcb08",
   "metadata": {
    "papermill": {
     "duration": 0.049585,
     "end_time": "2021-12-09T07:23:51.137334",
     "exception": false,
     "start_time": "2021-12-09T07:23:51.087749",
     "status": "completed"
    },
    "tags": []
   },
   "source": [
    "### Total pay over year (2011-2014)"
   ]
  },
  {
   "cell_type": "code",
   "execution_count": 11,
   "id": "1921286a",
   "metadata": {
    "execution": {
     "iopub.execute_input": "2021-12-09T07:23:51.251675Z",
     "iopub.status.busy": "2021-12-09T07:23:51.250928Z",
     "iopub.status.idle": "2021-12-09T07:23:51.278125Z",
     "shell.execute_reply": "2021-12-09T07:23:51.277382Z",
     "shell.execute_reply.started": "2021-12-09T07:08:38.286342Z"
    },
    "papermill": {
     "duration": 0.089377,
     "end_time": "2021-12-09T07:23:51.278279",
     "exception": false,
     "start_time": "2021-12-09T07:23:51.188902",
     "status": "completed"
    },
    "tags": []
   },
   "outputs": [
    {
     "data": {
      "text/plain": [
       "Year\n",
       "2011    71744.103871\n",
       "2012    74113.262265\n",
       "2013    77611.443142\n",
       "2014    75463.918140\n",
       "Name: TotalPay, dtype: float64"
      ]
     },
     "execution_count": 11,
     "metadata": {},
     "output_type": "execute_result"
    }
   ],
   "source": [
    "Salaries_dataset.groupby(\"Year\").mean()[\"TotalPay\"]"
   ]
  },
  {
   "cell_type": "code",
   "execution_count": 12,
   "id": "6f78054a",
   "metadata": {
    "execution": {
     "iopub.execute_input": "2021-12-09T07:23:51.384714Z",
     "iopub.status.busy": "2021-12-09T07:23:51.383968Z",
     "iopub.status.idle": "2021-12-09T07:23:52.799271Z",
     "shell.execute_reply": "2021-12-09T07:23:52.799944Z",
     "shell.execute_reply.started": "2021-12-09T07:08:38.330255Z"
    },
    "papermill": {
     "duration": 1.47085,
     "end_time": "2021-12-09T07:23:52.800152",
     "exception": false,
     "start_time": "2021-12-09T07:23:51.329302",
     "status": "completed"
    },
    "tags": []
   },
   "outputs": [
    {
     "data": {
      "text/plain": [
       "Text(0.5, 1.0, 'TotalPay over Year(2011-2014)')"
      ]
     },
     "execution_count": 12,
     "metadata": {},
     "output_type": "execute_result"
    },
    {
     "data": {
      "image/png": "[encoded data removed]",
      "text/plain": [
       "<Figure size 1080x576 with 1 Axes>"
      ]
     },
     "metadata": {},
     "output_type": "display_data"
    }
   ],
   "source": [
    "sns.lineplot(data=Salaries_dataset, x=\"Year\", y=\"TotalPay\").set_title('TotalPay over Year(2011-2014)', size=15)"
   ]
  },
  {
   "cell_type": "markdown",
   "id": "9df13efd",
   "metadata": {
    "papermill": {
     "duration": 0.051748,
     "end_time": "2021-12-09T07:23:52.904976",
     "exception": false,
     "start_time": "2021-12-09T07:23:52.853228",
     "status": "completed"
    },
    "tags": []
   },
   "source": [
    "### Total Pay Benefits Distribution over Year(2011-2014)"
   ]
  },
  {
   "cell_type": "code",
   "execution_count": 13,
   "id": "b3e4d3e8",
   "metadata": {
    "execution": {
     "iopub.execute_input": "2021-12-09T07:23:53.013396Z",
     "iopub.status.busy": "2021-12-09T07:23:53.012153Z",
     "iopub.status.idle": "2021-12-09T07:23:54.978155Z",
     "shell.execute_reply": "2021-12-09T07:23:54.978679Z",
     "shell.execute_reply.started": "2021-12-09T07:08:39.772714Z"
    },
    "papermill": {
     "duration": 2.021917,
     "end_time": "2021-12-09T07:23:54.978856",
     "exception": false,
     "start_time": "2021-12-09T07:23:52.956939",
     "status": "completed"
    },
    "tags": []
   },
   "outputs": [
    {
     "data": {
      "image/png": "[encoded data removed]",
      "text/plain": [
       "<Figure size 643.475x576 with 1 Axes>"
      ]
     },
     "metadata": {},
     "output_type": "display_data"
    }
   ],
   "source": [
    "g = sns.FacetGrid(Salaries_dataset, hue='Year', size=8).map(sns.distplot, 'TotalPayBenefits').add_legend()\n",
    "g.fig.suptitle('TotalPayBenefits Distribution over Year(2011-2014)')\n",
    "plt.show();"
   ]
  },
  {
   "cell_type": "code",
   "execution_count": 14,
   "id": "61edbe58",
   "metadata": {
    "execution": {
     "iopub.execute_input": "2021-12-09T07:23:55.093506Z",
     "iopub.status.busy": "2021-12-09T07:23:55.092240Z",
     "iopub.status.idle": "2021-12-09T07:23:55.117073Z",
     "shell.execute_reply": "2021-12-09T07:23:55.117596Z",
     "shell.execute_reply.started": "2021-12-09T07:08:41.826156Z"
    },
    "papermill": {
     "duration": 0.084268,
     "end_time": "2021-12-09T07:23:55.117791",
     "exception": false,
     "start_time": "2021-12-09T07:23:55.033523",
     "status": "completed"
    },
    "tags": []
   },
   "outputs": [
    {
     "data": {
      "text/html": [
       "<div>\n",
       "<style scoped>\n",
       "    .dataframe tbody tr th:only-of-type {\n",
       "        vertical-align: middle;\n",
       "    }\n",
       "\n",
       "    .dataframe tbody tr th {\n",
       "        vertical-align: top;\n",
       "    }\n",
       "\n",
       "    .dataframe thead th {\n",
       "        text-align: right;\n",
       "    }\n",
       "</style>\n",
       "<table border=\"1\" class=\"dataframe\">\n",
       "  <thead>\n",
       "    <tr style=\"text-align: right;\">\n",
       "      <th></th>\n",
       "      <th>Id</th>\n",
       "      <th>EmployeeName</th>\n",
       "      <th>JobTitle</th>\n",
       "      <th>BasePay</th>\n",
       "      <th>OvertimePay</th>\n",
       "      <th>OtherPay</th>\n",
       "      <th>Benefits</th>\n",
       "      <th>TotalPay</th>\n",
       "      <th>TotalPayBenefits</th>\n",
       "      <th>Year</th>\n",
       "      <th>Agency</th>\n",
       "    </tr>\n",
       "  </thead>\n",
       "  <tbody>\n",
       "    <tr>\n",
       "      <th>0</th>\n",
       "      <td>1</td>\n",
       "      <td>NATHANIEL FORD</td>\n",
       "      <td>GENERAL MANAGER-METROPOLITAN TRANSIT AUTHORITY</td>\n",
       "      <td>167411.18</td>\n",
       "      <td>0.0</td>\n",
       "      <td>400184.25</td>\n",
       "      <td>NaN</td>\n",
       "      <td>567595.43</td>\n",
       "      <td>567595.43</td>\n",
       "      <td>2011</td>\n",
       "      <td>San Francisco</td>\n",
       "    </tr>\n",
       "    <tr>\n",
       "      <th>1</th>\n",
       "      <td>2</td>\n",
       "      <td>GARY JIMENEZ</td>\n",
       "      <td>CAPTAIN III (POLICE DEPARTMENT)</td>\n",
       "      <td>155966.02</td>\n",
       "      <td>245131.88</td>\n",
       "      <td>137811.38</td>\n",
       "      <td>NaN</td>\n",
       "      <td>538909.28</td>\n",
       "      <td>538909.28</td>\n",
       "      <td>2011</td>\n",
       "      <td>San Francisco</td>\n",
       "    </tr>\n",
       "    <tr>\n",
       "      <th>2</th>\n",
       "      <td>3</td>\n",
       "      <td>ALBERT PARDINI</td>\n",
       "      <td>CAPTAIN III (POLICE DEPARTMENT)</td>\n",
       "      <td>212739.13</td>\n",
       "      <td>106088.18</td>\n",
       "      <td>16452.6</td>\n",
       "      <td>NaN</td>\n",
       "      <td>335279.91</td>\n",
       "      <td>335279.91</td>\n",
       "      <td>2011</td>\n",
       "      <td>San Francisco</td>\n",
       "    </tr>\n",
       "    <tr>\n",
       "      <th>3</th>\n",
       "      <td>4</td>\n",
       "      <td>CHRISTOPHER CHONG</td>\n",
       "      <td>WIRE ROPE CABLE MAINTENANCE MECHANIC</td>\n",
       "      <td>77916.0</td>\n",
       "      <td>56120.71</td>\n",
       "      <td>198306.9</td>\n",
       "      <td>NaN</td>\n",
       "      <td>332343.61</td>\n",
       "      <td>332343.61</td>\n",
       "      <td>2011</td>\n",
       "      <td>San Francisco</td>\n",
       "    </tr>\n",
       "    <tr>\n",
       "      <th>4</th>\n",
       "      <td>5</td>\n",
       "      <td>PATRICK GARDNER</td>\n",
       "      <td>DEPUTY CHIEF OF DEPARTMENT,(FIRE DEPARTMENT)</td>\n",
       "      <td>134401.6</td>\n",
       "      <td>9737.0</td>\n",
       "      <td>182234.59</td>\n",
       "      <td>NaN</td>\n",
       "      <td>326373.19</td>\n",
       "      <td>326373.19</td>\n",
       "      <td>2011</td>\n",
       "      <td>San Francisco</td>\n",
       "    </tr>\n",
       "  </tbody>\n",
       "</table>\n",
       "</div>"
      ],
      "text/plain": [
       "   Id       EmployeeName                                        JobTitle  \\\n",
       "0   1     NATHANIEL FORD  GENERAL MANAGER-METROPOLITAN TRANSIT AUTHORITY   \n",
       "1   2       GARY JIMENEZ                 CAPTAIN III (POLICE DEPARTMENT)   \n",
       "2   3     ALBERT PARDINI                 CAPTAIN III (POLICE DEPARTMENT)   \n",
       "3   4  CHRISTOPHER CHONG            WIRE ROPE CABLE MAINTENANCE MECHANIC   \n",
       "4   5    PATRICK GARDNER    DEPUTY CHIEF OF DEPARTMENT,(FIRE DEPARTMENT)   \n",
       "\n",
       "     BasePay OvertimePay   OtherPay Benefits   TotalPay  TotalPayBenefits  \\\n",
       "0  167411.18         0.0  400184.25      NaN  567595.43         567595.43   \n",
       "1  155966.02   245131.88  137811.38      NaN  538909.28         538909.28   \n",
       "2  212739.13   106088.18    16452.6      NaN  335279.91         335279.91   \n",
       "3    77916.0    56120.71   198306.9      NaN  332343.61         332343.61   \n",
       "4   134401.6      9737.0  182234.59      NaN  326373.19         326373.19   \n",
       "\n",
       "   Year         Agency  \n",
       "0  2011  San Francisco  \n",
       "1  2011  San Francisco  \n",
       "2  2011  San Francisco  \n",
       "3  2011  San Francisco  \n",
       "4  2011  San Francisco  "
      ]
     },
     "execution_count": 14,
     "metadata": {},
     "output_type": "execute_result"
    }
   ],
   "source": [
    "Salaries_dataset_Gender = Salaries_dataset.copy()\n",
    "Salaries_dataset_Gender.head()"
   ]
  },
  {
   "cell_type": "code",
   "execution_count": 15,
   "id": "d2a8a446",
   "metadata": {
    "execution": {
     "iopub.execute_input": "2021-12-09T07:23:55.231847Z",
     "iopub.status.busy": "2021-12-09T07:23:55.230863Z",
     "iopub.status.idle": "2021-12-09T07:23:55.254525Z",
     "shell.execute_reply": "2021-12-09T07:23:55.255082Z",
     "shell.execute_reply.started": "2021-12-09T07:08:41.853118Z"
    },
    "papermill": {
     "duration": 0.082688,
     "end_time": "2021-12-09T07:23:55.255249",
     "exception": false,
     "start_time": "2021-12-09T07:23:55.172561",
     "status": "completed"
    },
    "tags": []
   },
   "outputs": [
    {
     "data": {
      "text/plain": [
       "0"
      ]
     },
     "execution_count": 15,
     "metadata": {},
     "output_type": "execute_result"
    }
   ],
   "source": [
    "Salaries_dataset_Gender[\"EmployeeName\"].isnull().sum()"
   ]
  },
  {
   "cell_type": "markdown",
   "id": "206ca1f1",
   "metadata": {
    "papermill": {
     "duration": 0.055464,
     "end_time": "2021-12-09T07:23:55.366401",
     "exception": false,
     "start_time": "2021-12-09T07:23:55.310937",
     "status": "completed"
    },
    "tags": []
   },
   "source": [
    "### Get First Name from Employee Name"
   ]
  },
  {
   "cell_type": "code",
   "execution_count": 16,
   "id": "f4f28f4f",
   "metadata": {
    "execution": {
     "iopub.execute_input": "2021-12-09T07:23:55.483875Z",
     "iopub.status.busy": "2021-12-09T07:23:55.482839Z",
     "iopub.status.idle": "2021-12-09T07:23:55.543644Z",
     "shell.execute_reply": "2021-12-09T07:23:55.543056Z",
     "shell.execute_reply.started": "2021-12-09T07:08:41.879891Z"
    },
    "papermill": {
     "duration": 0.119811,
     "end_time": "2021-12-09T07:23:55.543785",
     "exception": false,
     "start_time": "2021-12-09T07:23:55.423974",
     "status": "completed"
    },
    "tags": []
   },
   "outputs": [
    {
     "data": {
      "text/html": [
       "<div>\n",
       "<style scoped>\n",
       "    .dataframe tbody tr th:only-of-type {\n",
       "        vertical-align: middle;\n",
       "    }\n",
       "\n",
       "    .dataframe tbody tr th {\n",
       "        vertical-align: top;\n",
       "    }\n",
       "\n",
       "    .dataframe thead th {\n",
       "        text-align: right;\n",
       "    }\n",
       "</style>\n",
       "<table border=\"1\" class=\"dataframe\">\n",
       "  <thead>\n",
       "    <tr style=\"text-align: right;\">\n",
       "      <th></th>\n",
       "      <th>Id</th>\n",
       "      <th>EmployeeName</th>\n",
       "      <th>JobTitle</th>\n",
       "      <th>BasePay</th>\n",
       "      <th>OvertimePay</th>\n",
       "      <th>OtherPay</th>\n",
       "      <th>Benefits</th>\n",
       "      <th>TotalPay</th>\n",
       "      <th>TotalPayBenefits</th>\n",
       "      <th>Year</th>\n",
       "      <th>Agency</th>\n",
       "    </tr>\n",
       "  </thead>\n",
       "  <tbody>\n",
       "    <tr>\n",
       "      <th>0</th>\n",
       "      <td>1</td>\n",
       "      <td>NATHANIEL FORD</td>\n",
       "      <td>GENERAL MANAGER-METROPOLITAN TRANSIT AUTHORITY</td>\n",
       "      <td>167411.18</td>\n",
       "      <td>0.0</td>\n",
       "      <td>400184.25</td>\n",
       "      <td>NaN</td>\n",
       "      <td>567595.43</td>\n",
       "      <td>567595.43</td>\n",
       "      <td>2011</td>\n",
       "      <td>San Francisco</td>\n",
       "    </tr>\n",
       "    <tr>\n",
       "      <th>1</th>\n",
       "      <td>2</td>\n",
       "      <td>GARY JIMENEZ</td>\n",
       "      <td>CAPTAIN III (POLICE DEPARTMENT)</td>\n",
       "      <td>155966.02</td>\n",
       "      <td>245131.88</td>\n",
       "      <td>137811.38</td>\n",
       "      <td>NaN</td>\n",
       "      <td>538909.28</td>\n",
       "      <td>538909.28</td>\n",
       "      <td>2011</td>\n",
       "      <td>San Francisco</td>\n",
       "    </tr>\n",
       "    <tr>\n",
       "      <th>2</th>\n",
       "      <td>3</td>\n",
       "      <td>ALBERT PARDINI</td>\n",
       "      <td>CAPTAIN III (POLICE DEPARTMENT)</td>\n",
       "      <td>212739.13</td>\n",
       "      <td>106088.18</td>\n",
       "      <td>16452.6</td>\n",
       "      <td>NaN</td>\n",
       "      <td>335279.91</td>\n",
       "      <td>335279.91</td>\n",
       "      <td>2011</td>\n",
       "      <td>San Francisco</td>\n",
       "    </tr>\n",
       "    <tr>\n",
       "      <th>3</th>\n",
       "      <td>4</td>\n",
       "      <td>CHRISTOPHER CHONG</td>\n",
       "      <td>WIRE ROPE CABLE MAINTENANCE MECHANIC</td>\n",
       "      <td>77916.0</td>\n",
       "      <td>56120.71</td>\n",
       "      <td>198306.9</td>\n",
       "      <td>NaN</td>\n",
       "      <td>332343.61</td>\n",
       "      <td>332343.61</td>\n",
       "      <td>2011</td>\n",
       "      <td>San Francisco</td>\n",
       "    </tr>\n",
       "    <tr>\n",
       "      <th>4</th>\n",
       "      <td>5</td>\n",
       "      <td>PATRICK GARDNER</td>\n",
       "      <td>DEPUTY CHIEF OF DEPARTMENT,(FIRE DEPARTMENT)</td>\n",
       "      <td>134401.6</td>\n",
       "      <td>9737.0</td>\n",
       "      <td>182234.59</td>\n",
       "      <td>NaN</td>\n",
       "      <td>326373.19</td>\n",
       "      <td>326373.19</td>\n",
       "      <td>2011</td>\n",
       "      <td>San Francisco</td>\n",
       "    </tr>\n",
       "  </tbody>\n",
       "</table>\n",
       "</div>"
      ],
      "text/plain": [
       "   Id       EmployeeName                                        JobTitle  \\\n",
       "0   1     NATHANIEL FORD  GENERAL MANAGER-METROPOLITAN TRANSIT AUTHORITY   \n",
       "1   2       GARY JIMENEZ                 CAPTAIN III (POLICE DEPARTMENT)   \n",
       "2   3     ALBERT PARDINI                 CAPTAIN III (POLICE DEPARTMENT)   \n",
       "3   4  CHRISTOPHER CHONG            WIRE ROPE CABLE MAINTENANCE MECHANIC   \n",
       "4   5    PATRICK GARDNER    DEPUTY CHIEF OF DEPARTMENT,(FIRE DEPARTMENT)   \n",
       "\n",
       "     BasePay OvertimePay   OtherPay Benefits   TotalPay  TotalPayBenefits  \\\n",
       "0  167411.18         0.0  400184.25      NaN  567595.43         567595.43   \n",
       "1  155966.02   245131.88  137811.38      NaN  538909.28         538909.28   \n",
       "2  212739.13   106088.18    16452.6      NaN  335279.91         335279.91   \n",
       "3    77916.0    56120.71   198306.9      NaN  332343.61         332343.61   \n",
       "4   134401.6      9737.0  182234.59      NaN  326373.19         326373.19   \n",
       "\n",
       "   Year         Agency  \n",
       "0  2011  San Francisco  \n",
       "1  2011  San Francisco  \n",
       "2  2011  San Francisco  \n",
       "3  2011  San Francisco  \n",
       "4  2011  San Francisco  "
      ]
     },
     "execution_count": 16,
     "metadata": {},
     "output_type": "execute_result"
    }
   ],
   "source": [
    "i = Salaries_dataset_Gender[(Salaries_dataset_Gender.EmployeeName == 'Not provided')].index\n",
    "Salaries_dataset_Gender_clean = Salaries_dataset_Gender.drop(i)\n",
    "Salaries_dataset_Gender_clean.head()"
   ]
  },
  {
   "cell_type": "code",
   "execution_count": 17,
   "id": "912a16b5",
   "metadata": {
    "execution": {
     "iopub.execute_input": "2021-12-09T07:23:55.658599Z",
     "iopub.status.busy": "2021-12-09T07:23:55.657559Z",
     "iopub.status.idle": "2021-12-09T07:23:55.754302Z",
     "shell.execute_reply": "2021-12-09T07:23:55.754770Z",
     "shell.execute_reply.started": "2021-12-09T07:08:41.952944Z"
    },
    "papermill": {
     "duration": 0.155865,
     "end_time": "2021-12-09T07:23:55.754963",
     "exception": false,
     "start_time": "2021-12-09T07:23:55.599098",
     "status": "completed"
    },
    "tags": []
   },
   "outputs": [
    {
     "data": {
      "text/html": [
       "<div>\n",
       "<style scoped>\n",
       "    .dataframe tbody tr th:only-of-type {\n",
       "        vertical-align: middle;\n",
       "    }\n",
       "\n",
       "    .dataframe tbody tr th {\n",
       "        vertical-align: top;\n",
       "    }\n",
       "\n",
       "    .dataframe thead th {\n",
       "        text-align: right;\n",
       "    }\n",
       "</style>\n",
       "<table border=\"1\" class=\"dataframe\">\n",
       "  <thead>\n",
       "    <tr style=\"text-align: right;\">\n",
       "      <th></th>\n",
       "      <th>Id</th>\n",
       "      <th>EmployeeName</th>\n",
       "      <th>JobTitle</th>\n",
       "      <th>BasePay</th>\n",
       "      <th>OvertimePay</th>\n",
       "      <th>OtherPay</th>\n",
       "      <th>Benefits</th>\n",
       "      <th>TotalPay</th>\n",
       "      <th>TotalPayBenefits</th>\n",
       "      <th>Year</th>\n",
       "      <th>Agency</th>\n",
       "      <th>FirstName</th>\n",
       "    </tr>\n",
       "  </thead>\n",
       "  <tbody>\n",
       "    <tr>\n",
       "      <th>0</th>\n",
       "      <td>1</td>\n",
       "      <td>NATHANIEL FORD</td>\n",
       "      <td>GENERAL MANAGER-METROPOLITAN TRANSIT AUTHORITY</td>\n",
       "      <td>167411.18</td>\n",
       "      <td>0.0</td>\n",
       "      <td>400184.25</td>\n",
       "      <td>NaN</td>\n",
       "      <td>567595.43</td>\n",
       "      <td>567595.43</td>\n",
       "      <td>2011</td>\n",
       "      <td>San Francisco</td>\n",
       "      <td>NATHANIEL</td>\n",
       "    </tr>\n",
       "    <tr>\n",
       "      <th>1</th>\n",
       "      <td>2</td>\n",
       "      <td>GARY JIMENEZ</td>\n",
       "      <td>CAPTAIN III (POLICE DEPARTMENT)</td>\n",
       "      <td>155966.02</td>\n",
       "      <td>245131.88</td>\n",
       "      <td>137811.38</td>\n",
       "      <td>NaN</td>\n",
       "      <td>538909.28</td>\n",
       "      <td>538909.28</td>\n",
       "      <td>2011</td>\n",
       "      <td>San Francisco</td>\n",
       "      <td>GARY</td>\n",
       "    </tr>\n",
       "    <tr>\n",
       "      <th>2</th>\n",
       "      <td>3</td>\n",
       "      <td>ALBERT PARDINI</td>\n",
       "      <td>CAPTAIN III (POLICE DEPARTMENT)</td>\n",
       "      <td>212739.13</td>\n",
       "      <td>106088.18</td>\n",
       "      <td>16452.6</td>\n",
       "      <td>NaN</td>\n",
       "      <td>335279.91</td>\n",
       "      <td>335279.91</td>\n",
       "      <td>2011</td>\n",
       "      <td>San Francisco</td>\n",
       "      <td>ALBERT</td>\n",
       "    </tr>\n",
       "    <tr>\n",
       "      <th>3</th>\n",
       "      <td>4</td>\n",
       "      <td>CHRISTOPHER CHONG</td>\n",
       "      <td>WIRE ROPE CABLE MAINTENANCE MECHANIC</td>\n",
       "      <td>77916.0</td>\n",
       "      <td>56120.71</td>\n",
       "      <td>198306.9</td>\n",
       "      <td>NaN</td>\n",
       "      <td>332343.61</td>\n",
       "      <td>332343.61</td>\n",
       "      <td>2011</td>\n",
       "      <td>San Francisco</td>\n",
       "      <td>CHRISTOPHER</td>\n",
       "    </tr>\n",
       "    <tr>\n",
       "      <th>4</th>\n",
       "      <td>5</td>\n",
       "      <td>PATRICK GARDNER</td>\n",
       "      <td>DEPUTY CHIEF OF DEPARTMENT,(FIRE DEPARTMENT)</td>\n",
       "      <td>134401.6</td>\n",
       "      <td>9737.0</td>\n",
       "      <td>182234.59</td>\n",
       "      <td>NaN</td>\n",
       "      <td>326373.19</td>\n",
       "      <td>326373.19</td>\n",
       "      <td>2011</td>\n",
       "      <td>San Francisco</td>\n",
       "      <td>PATRICK</td>\n",
       "    </tr>\n",
       "  </tbody>\n",
       "</table>\n",
       "</div>"
      ],
      "text/plain": [
       "   Id       EmployeeName                                        JobTitle  \\\n",
       "0   1     NATHANIEL FORD  GENERAL MANAGER-METROPOLITAN TRANSIT AUTHORITY   \n",
       "1   2       GARY JIMENEZ                 CAPTAIN III (POLICE DEPARTMENT)   \n",
       "2   3     ALBERT PARDINI                 CAPTAIN III (POLICE DEPARTMENT)   \n",
       "3   4  CHRISTOPHER CHONG            WIRE ROPE CABLE MAINTENANCE MECHANIC   \n",
       "4   5    PATRICK GARDNER    DEPUTY CHIEF OF DEPARTMENT,(FIRE DEPARTMENT)   \n",
       "\n",
       "     BasePay OvertimePay   OtherPay Benefits   TotalPay  TotalPayBenefits  \\\n",
       "0  167411.18         0.0  400184.25      NaN  567595.43         567595.43   \n",
       "1  155966.02   245131.88  137811.38      NaN  538909.28         538909.28   \n",
       "2  212739.13   106088.18    16452.6      NaN  335279.91         335279.91   \n",
       "3    77916.0    56120.71   198306.9      NaN  332343.61         332343.61   \n",
       "4   134401.6      9737.0  182234.59      NaN  326373.19         326373.19   \n",
       "\n",
       "   Year         Agency    FirstName  \n",
       "0  2011  San Francisco    NATHANIEL  \n",
       "1  2011  San Francisco         GARY  \n",
       "2  2011  San Francisco       ALBERT  \n",
       "3  2011  San Francisco  CHRISTOPHER  \n",
       "4  2011  San Francisco      PATRICK  "
      ]
     },
     "execution_count": 17,
     "metadata": {},
     "output_type": "execute_result"
    }
   ],
   "source": [
    "Salaries_dataset_Gender_clean[\"FirstName\"] = Salaries_dataset_Gender_clean[\"EmployeeName\"].apply(lambda x: x[0:x.find(\" \")])\n",
    "Salaries_dataset_Gender_clean.head()"
   ]
  },
  {
   "cell_type": "code",
   "execution_count": 18,
   "id": "3c5f7b10",
   "metadata": {
    "execution": {
     "iopub.execute_input": "2021-12-09T07:23:55.873576Z",
     "iopub.status.busy": "2021-12-09T07:23:55.872591Z",
     "iopub.status.idle": "2021-12-09T07:23:55.984012Z",
     "shell.execute_reply": "2021-12-09T07:23:55.984556Z",
     "shell.execute_reply.started": "2021-12-09T07:08:42.056950Z"
    },
    "papermill": {
     "duration": 0.173201,
     "end_time": "2021-12-09T07:23:55.984722",
     "exception": false,
     "start_time": "2021-12-09T07:23:55.811521",
     "status": "completed"
    },
    "tags": []
   },
   "outputs": [
    {
     "data": {
      "text/html": [
       "<div>\n",
       "<style scoped>\n",
       "    .dataframe tbody tr th:only-of-type {\n",
       "        vertical-align: middle;\n",
       "    }\n",
       "\n",
       "    .dataframe tbody tr th {\n",
       "        vertical-align: top;\n",
       "    }\n",
       "\n",
       "    .dataframe thead th {\n",
       "        text-align: right;\n",
       "    }\n",
       "</style>\n",
       "<table border=\"1\" class=\"dataframe\">\n",
       "  <thead>\n",
       "    <tr style=\"text-align: right;\">\n",
       "      <th></th>\n",
       "      <th>Id</th>\n",
       "      <th>EmployeeName</th>\n",
       "      <th>JobTitle</th>\n",
       "      <th>BasePay</th>\n",
       "      <th>OvertimePay</th>\n",
       "      <th>OtherPay</th>\n",
       "      <th>Benefits</th>\n",
       "      <th>TotalPay</th>\n",
       "      <th>TotalPayBenefits</th>\n",
       "      <th>Year</th>\n",
       "      <th>Agency</th>\n",
       "      <th>FirstName</th>\n",
       "    </tr>\n",
       "  </thead>\n",
       "  <tbody>\n",
       "    <tr>\n",
       "      <th>0</th>\n",
       "      <td>1</td>\n",
       "      <td>NATHANIEL FORD</td>\n",
       "      <td>GENERAL MANAGER-METROPOLITAN TRANSIT AUTHORITY</td>\n",
       "      <td>167411.18</td>\n",
       "      <td>0.0</td>\n",
       "      <td>400184.25</td>\n",
       "      <td>NaN</td>\n",
       "      <td>567595.43</td>\n",
       "      <td>567595.43</td>\n",
       "      <td>2011</td>\n",
       "      <td>San Francisco</td>\n",
       "      <td>Nathaniel</td>\n",
       "    </tr>\n",
       "    <tr>\n",
       "      <th>1</th>\n",
       "      <td>2</td>\n",
       "      <td>GARY JIMENEZ</td>\n",
       "      <td>CAPTAIN III (POLICE DEPARTMENT)</td>\n",
       "      <td>155966.02</td>\n",
       "      <td>245131.88</td>\n",
       "      <td>137811.38</td>\n",
       "      <td>NaN</td>\n",
       "      <td>538909.28</td>\n",
       "      <td>538909.28</td>\n",
       "      <td>2011</td>\n",
       "      <td>San Francisco</td>\n",
       "      <td>Gary</td>\n",
       "    </tr>\n",
       "    <tr>\n",
       "      <th>2</th>\n",
       "      <td>3</td>\n",
       "      <td>ALBERT PARDINI</td>\n",
       "      <td>CAPTAIN III (POLICE DEPARTMENT)</td>\n",
       "      <td>212739.13</td>\n",
       "      <td>106088.18</td>\n",
       "      <td>16452.6</td>\n",
       "      <td>NaN</td>\n",
       "      <td>335279.91</td>\n",
       "      <td>335279.91</td>\n",
       "      <td>2011</td>\n",
       "      <td>San Francisco</td>\n",
       "      <td>Albert</td>\n",
       "    </tr>\n",
       "    <tr>\n",
       "      <th>3</th>\n",
       "      <td>4</td>\n",
       "      <td>CHRISTOPHER CHONG</td>\n",
       "      <td>WIRE ROPE CABLE MAINTENANCE MECHANIC</td>\n",
       "      <td>77916.0</td>\n",
       "      <td>56120.71</td>\n",
       "      <td>198306.9</td>\n",
       "      <td>NaN</td>\n",
       "      <td>332343.61</td>\n",
       "      <td>332343.61</td>\n",
       "      <td>2011</td>\n",
       "      <td>San Francisco</td>\n",
       "      <td>Christopher</td>\n",
       "    </tr>\n",
       "    <tr>\n",
       "      <th>4</th>\n",
       "      <td>5</td>\n",
       "      <td>PATRICK GARDNER</td>\n",
       "      <td>DEPUTY CHIEF OF DEPARTMENT,(FIRE DEPARTMENT)</td>\n",
       "      <td>134401.6</td>\n",
       "      <td>9737.0</td>\n",
       "      <td>182234.59</td>\n",
       "      <td>NaN</td>\n",
       "      <td>326373.19</td>\n",
       "      <td>326373.19</td>\n",
       "      <td>2011</td>\n",
       "      <td>San Francisco</td>\n",
       "      <td>Patrick</td>\n",
       "    </tr>\n",
       "  </tbody>\n",
       "</table>\n",
       "</div>"
      ],
      "text/plain": [
       "   Id       EmployeeName                                        JobTitle  \\\n",
       "0   1     NATHANIEL FORD  GENERAL MANAGER-METROPOLITAN TRANSIT AUTHORITY   \n",
       "1   2       GARY JIMENEZ                 CAPTAIN III (POLICE DEPARTMENT)   \n",
       "2   3     ALBERT PARDINI                 CAPTAIN III (POLICE DEPARTMENT)   \n",
       "3   4  CHRISTOPHER CHONG            WIRE ROPE CABLE MAINTENANCE MECHANIC   \n",
       "4   5    PATRICK GARDNER    DEPUTY CHIEF OF DEPARTMENT,(FIRE DEPARTMENT)   \n",
       "\n",
       "     BasePay OvertimePay   OtherPay Benefits   TotalPay  TotalPayBenefits  \\\n",
       "0  167411.18         0.0  400184.25      NaN  567595.43         567595.43   \n",
       "1  155966.02   245131.88  137811.38      NaN  538909.28         538909.28   \n",
       "2  212739.13   106088.18    16452.6      NaN  335279.91         335279.91   \n",
       "3    77916.0    56120.71   198306.9      NaN  332343.61         332343.61   \n",
       "4   134401.6      9737.0  182234.59      NaN  326373.19         326373.19   \n",
       "\n",
       "   Year         Agency    FirstName  \n",
       "0  2011  San Francisco    Nathaniel  \n",
       "1  2011  San Francisco         Gary  \n",
       "2  2011  San Francisco       Albert  \n",
       "3  2011  San Francisco  Christopher  \n",
       "4  2011  San Francisco      Patrick  "
      ]
     },
     "execution_count": 18,
     "metadata": {},
     "output_type": "execute_result"
    }
   ],
   "source": [
    "Salaries_dataset_Gender_clean['FirstName'] = Salaries_dataset_Gender_clean['FirstName'].str.capitalize()\n",
    "Salaries_dataset_Gender_clean.head()"
   ]
  },
  {
   "cell_type": "markdown",
   "id": "f6a18044",
   "metadata": {
    "papermill": {
     "duration": 0.056568,
     "end_time": "2021-12-09T07:23:56.099482",
     "exception": false,
     "start_time": "2021-12-09T07:23:56.042914",
     "status": "completed"
    },
    "tags": []
   },
   "source": [
    "### Using gender-guesser library to check who is male or female based on First Name"
   ]
  },
  {
   "cell_type": "code",
   "execution_count": 19,
   "id": "d8fda16d",
   "metadata": {
    "execution": {
     "iopub.execute_input": "2021-12-09T07:23:56.218172Z",
     "iopub.status.busy": "2021-12-09T07:23:56.217147Z",
     "iopub.status.idle": "2021-12-09T07:24:07.151042Z",
     "shell.execute_reply": "2021-12-09T07:24:07.150352Z",
     "shell.execute_reply.started": "2021-12-09T07:08:42.176950Z"
    },
    "papermill": {
     "duration": 10.99399,
     "end_time": "2021-12-09T07:24:07.151192",
     "exception": false,
     "start_time": "2021-12-09T07:23:56.157202",
     "status": "completed"
    },
    "tags": []
   },
   "outputs": [
    {
     "name": "stdout",
     "output_type": "stream",
     "text": [
      "Collecting gender-guesser\r\n",
      "  Downloading gender_guesser-0.4.0-py2.py3-none-any.whl (379 kB)\r\n",
      "     |████████████████████████████████| 379 kB 886 kB/s            \r\n",
      "\u001b[?25hInstalling collected packages: gender-guesser\r\n",
      "Successfully installed gender-guesser-0.4.0\r\n",
      "\u001b[33mWARNING: Running pip as the 'root' user can result in broken permissions and conflicting behaviour with the system package manager. It is recommended to use a virtual environment instead: https://pip.pypa.io/warnings/venv\u001b[0m\r\n",
      "Note: you may need to restart the kernel to use updated packages.\n"
     ]
    }
   ],
   "source": [
    "pip install gender-guesser\n"
   ]
  },
  {
   "cell_type": "code",
   "execution_count": 20,
   "id": "d03cb029",
   "metadata": {
    "execution": {
     "iopub.execute_input": "2021-12-09T07:24:07.279429Z",
     "iopub.status.busy": "2021-12-09T07:24:07.278730Z",
     "iopub.status.idle": "2021-12-09T07:24:07.774765Z",
     "shell.execute_reply": "2021-12-09T07:24:07.773931Z",
     "shell.execute_reply.started": "2021-12-09T07:08:53.831197Z"
    },
    "papermill": {
     "duration": 0.562214,
     "end_time": "2021-12-09T07:24:07.774987",
     "exception": false,
     "start_time": "2021-12-09T07:24:07.212773",
     "status": "completed"
    },
    "tags": []
   },
   "outputs": [],
   "source": [
    "import gender_guesser.detector as gender\n",
    "d = gender.Detector()"
   ]
  },
  {
   "cell_type": "code",
   "execution_count": 21,
   "id": "aafb6043",
   "metadata": {
    "execution": {
     "iopub.execute_input": "2021-12-09T07:24:07.932761Z",
     "iopub.status.busy": "2021-12-09T07:24:07.931739Z",
     "iopub.status.idle": "2021-12-09T07:24:08.457498Z",
     "shell.execute_reply": "2021-12-09T07:24:08.456687Z",
     "shell.execute_reply.started": "2021-12-09T07:08:54.298277Z"
    },
    "papermill": {
     "duration": 0.612103,
     "end_time": "2021-12-09T07:24:08.457654",
     "exception": false,
     "start_time": "2021-12-09T07:24:07.845551",
     "status": "completed"
    },
    "tags": []
   },
   "outputs": [
    {
     "data": {
      "text/html": [
       "<div>\n",
       "<style scoped>\n",
       "    .dataframe tbody tr th:only-of-type {\n",
       "        vertical-align: middle;\n",
       "    }\n",
       "\n",
       "    .dataframe tbody tr th {\n",
       "        vertical-align: top;\n",
       "    }\n",
       "\n",
       "    .dataframe thead th {\n",
       "        text-align: right;\n",
       "    }\n",
       "</style>\n",
       "<table border=\"1\" class=\"dataframe\">\n",
       "  <thead>\n",
       "    <tr style=\"text-align: right;\">\n",
       "      <th></th>\n",
       "      <th>Id</th>\n",
       "      <th>EmployeeName</th>\n",
       "      <th>JobTitle</th>\n",
       "      <th>BasePay</th>\n",
       "      <th>OvertimePay</th>\n",
       "      <th>OtherPay</th>\n",
       "      <th>Benefits</th>\n",
       "      <th>TotalPay</th>\n",
       "      <th>TotalPayBenefits</th>\n",
       "      <th>Year</th>\n",
       "      <th>Agency</th>\n",
       "      <th>FirstName</th>\n",
       "      <th>Gender</th>\n",
       "    </tr>\n",
       "  </thead>\n",
       "  <tbody>\n",
       "    <tr>\n",
       "      <th>0</th>\n",
       "      <td>1</td>\n",
       "      <td>NATHANIEL FORD</td>\n",
       "      <td>GENERAL MANAGER-METROPOLITAN TRANSIT AUTHORITY</td>\n",
       "      <td>167411.18</td>\n",
       "      <td>0.0</td>\n",
       "      <td>400184.25</td>\n",
       "      <td>NaN</td>\n",
       "      <td>567595.43</td>\n",
       "      <td>567595.43</td>\n",
       "      <td>2011</td>\n",
       "      <td>San Francisco</td>\n",
       "      <td>Nathaniel</td>\n",
       "      <td>male</td>\n",
       "    </tr>\n",
       "    <tr>\n",
       "      <th>1</th>\n",
       "      <td>2</td>\n",
       "      <td>GARY JIMENEZ</td>\n",
       "      <td>CAPTAIN III (POLICE DEPARTMENT)</td>\n",
       "      <td>155966.02</td>\n",
       "      <td>245131.88</td>\n",
       "      <td>137811.38</td>\n",
       "      <td>NaN</td>\n",
       "      <td>538909.28</td>\n",
       "      <td>538909.28</td>\n",
       "      <td>2011</td>\n",
       "      <td>San Francisco</td>\n",
       "      <td>Gary</td>\n",
       "      <td>male</td>\n",
       "    </tr>\n",
       "    <tr>\n",
       "      <th>2</th>\n",
       "      <td>3</td>\n",
       "      <td>ALBERT PARDINI</td>\n",
       "      <td>CAPTAIN III (POLICE DEPARTMENT)</td>\n",
       "      <td>212739.13</td>\n",
       "      <td>106088.18</td>\n",
       "      <td>16452.6</td>\n",
       "      <td>NaN</td>\n",
       "      <td>335279.91</td>\n",
       "      <td>335279.91</td>\n",
       "      <td>2011</td>\n",
       "      <td>San Francisco</td>\n",
       "      <td>Albert</td>\n",
       "      <td>male</td>\n",
       "    </tr>\n",
       "    <tr>\n",
       "      <th>3</th>\n",
       "      <td>4</td>\n",
       "      <td>CHRISTOPHER CHONG</td>\n",
       "      <td>WIRE ROPE CABLE MAINTENANCE MECHANIC</td>\n",
       "      <td>77916.0</td>\n",
       "      <td>56120.71</td>\n",
       "      <td>198306.9</td>\n",
       "      <td>NaN</td>\n",
       "      <td>332343.61</td>\n",
       "      <td>332343.61</td>\n",
       "      <td>2011</td>\n",
       "      <td>San Francisco</td>\n",
       "      <td>Christopher</td>\n",
       "      <td>male</td>\n",
       "    </tr>\n",
       "    <tr>\n",
       "      <th>4</th>\n",
       "      <td>5</td>\n",
       "      <td>PATRICK GARDNER</td>\n",
       "      <td>DEPUTY CHIEF OF DEPARTMENT,(FIRE DEPARTMENT)</td>\n",
       "      <td>134401.6</td>\n",
       "      <td>9737.0</td>\n",
       "      <td>182234.59</td>\n",
       "      <td>NaN</td>\n",
       "      <td>326373.19</td>\n",
       "      <td>326373.19</td>\n",
       "      <td>2011</td>\n",
       "      <td>San Francisco</td>\n",
       "      <td>Patrick</td>\n",
       "      <td>male</td>\n",
       "    </tr>\n",
       "  </tbody>\n",
       "</table>\n",
       "</div>"
      ],
      "text/plain": [
       "   Id       EmployeeName                                        JobTitle  \\\n",
       "0   1     NATHANIEL FORD  GENERAL MANAGER-METROPOLITAN TRANSIT AUTHORITY   \n",
       "1   2       GARY JIMENEZ                 CAPTAIN III (POLICE DEPARTMENT)   \n",
       "2   3     ALBERT PARDINI                 CAPTAIN III (POLICE DEPARTMENT)   \n",
       "3   4  CHRISTOPHER CHONG            WIRE ROPE CABLE MAINTENANCE MECHANIC   \n",
       "4   5    PATRICK GARDNER    DEPUTY CHIEF OF DEPARTMENT,(FIRE DEPARTMENT)   \n",
       "\n",
       "     BasePay OvertimePay   OtherPay Benefits   TotalPay  TotalPayBenefits  \\\n",
       "0  167411.18         0.0  400184.25      NaN  567595.43         567595.43   \n",
       "1  155966.02   245131.88  137811.38      NaN  538909.28         538909.28   \n",
       "2  212739.13   106088.18    16452.6      NaN  335279.91         335279.91   \n",
       "3    77916.0    56120.71   198306.9      NaN  332343.61         332343.61   \n",
       "4   134401.6      9737.0  182234.59      NaN  326373.19         326373.19   \n",
       "\n",
       "   Year         Agency    FirstName Gender  \n",
       "0  2011  San Francisco    Nathaniel   male  \n",
       "1  2011  San Francisco         Gary   male  \n",
       "2  2011  San Francisco       Albert   male  \n",
       "3  2011  San Francisco  Christopher   male  \n",
       "4  2011  San Francisco      Patrick   male  "
      ]
     },
     "execution_count": 21,
     "metadata": {},
     "output_type": "execute_result"
    }
   ],
   "source": [
    "Salaries_dataset_Gender_clean['Gender'] = Salaries_dataset_Gender_clean['FirstName'].map(lambda x: d.get_gender(x, 'usa'))\n",
    "Salaries_dataset_Gender_clean.head()"
   ]
  },
  {
   "cell_type": "code",
   "execution_count": 22,
   "id": "31a7a2d2",
   "metadata": {
    "execution": {
     "iopub.execute_input": "2021-12-09T07:24:08.584228Z",
     "iopub.status.busy": "2021-12-09T07:24:08.583540Z",
     "iopub.status.idle": "2021-12-09T07:24:09.029275Z",
     "shell.execute_reply": "2021-12-09T07:24:09.029787Z",
     "shell.execute_reply.started": "2021-12-09T07:08:54.852904Z"
    },
    "papermill": {
     "duration": 0.510603,
     "end_time": "2021-12-09T07:24:09.029960",
     "exception": false,
     "start_time": "2021-12-09T07:24:08.519357",
     "status": "completed"
    },
    "tags": []
   },
   "outputs": [
    {
     "data": {
      "text/plain": [
       "<AxesSubplot:xlabel='Gender', ylabel='count'>"
      ]
     },
     "execution_count": 22,
     "metadata": {},
     "output_type": "execute_result"
    },
    {
     "data": {
      "image/png": "[encoded data removed]",
      "text/plain": [
       "<Figure size 1080x576 with 1 Axes>"
      ]
     },
     "metadata": {},
     "output_type": "display_data"
    }
   ],
   "source": [
    "#Salaries_dataset_Gender_clean['Gender']\n",
    "sns.countplot(x = 'Gender', data = Salaries_dataset_Gender_clean)"
   ]
  },
  {
   "cell_type": "markdown",
   "id": "111000d4",
   "metadata": {
    "papermill": {
     "duration": 0.062448,
     "end_time": "2021-12-09T07:24:09.154251",
     "exception": false,
     "start_time": "2021-12-09T07:24:09.091803",
     "status": "completed"
    },
    "tags": []
   },
   "source": [
    "In the Gender-guesser library, the result shows the unknown (name not found), andy (androgynous), male, female, mostly_male, or mostly_female. To make it clear, I decided to drop unknown and andy names. And, I put mostly_male into male and put mostly female into the female."
   ]
  },
  {
   "cell_type": "code",
   "execution_count": 23,
   "id": "1742475c",
   "metadata": {
    "execution": {
     "iopub.execute_input": "2021-12-09T07:24:09.284021Z",
     "iopub.status.busy": "2021-12-09T07:24:09.283065Z",
     "iopub.status.idle": "2021-12-09T07:24:09.337669Z",
     "shell.execute_reply": "2021-12-09T07:24:09.338184Z",
     "shell.execute_reply.started": "2021-12-09T07:08:55.309421Z"
    },
    "papermill": {
     "duration": 0.122361,
     "end_time": "2021-12-09T07:24:09.338370",
     "exception": false,
     "start_time": "2021-12-09T07:24:09.216009",
     "status": "completed"
    },
    "tags": []
   },
   "outputs": [],
   "source": [
    "Salaries_dataset_Gender_clean['Gender'] = Salaries_dataset_Gender_clean['Gender'].replace(['mostly_male'],'male')\n",
    "Salaries_dataset_Gender_clean['Gender'] = Salaries_dataset_Gender_clean['Gender'].replace(['mostly_female'],'female')"
   ]
  },
  {
   "cell_type": "code",
   "execution_count": 24,
   "id": "cc081c94",
   "metadata": {
    "execution": {
     "iopub.execute_input": "2021-12-09T07:24:09.466898Z",
     "iopub.status.busy": "2021-12-09T07:24:09.465921Z",
     "iopub.status.idle": "2021-12-09T07:24:09.574878Z",
     "shell.execute_reply": "2021-12-09T07:24:09.575417Z",
     "shell.execute_reply.started": "2021-12-09T07:08:55.369021Z"
    },
    "papermill": {
     "duration": 0.174348,
     "end_time": "2021-12-09T07:24:09.575605",
     "exception": false,
     "start_time": "2021-12-09T07:24:09.401257",
     "status": "completed"
    },
    "tags": []
   },
   "outputs": [],
   "source": [
    "G = Salaries_dataset_Gender_clean[(Salaries_dataset_Gender_clean.Gender == 'unknown')].index\n",
    "Salaries_dataset_GenderV2 = Salaries_dataset_Gender_clean.drop(G)"
   ]
  },
  {
   "cell_type": "code",
   "execution_count": 25,
   "id": "8fac7d12",
   "metadata": {
    "execution": {
     "iopub.execute_input": "2021-12-09T07:24:09.703459Z",
     "iopub.status.busy": "2021-12-09T07:24:09.702477Z",
     "iopub.status.idle": "2021-12-09T07:24:09.770523Z",
     "shell.execute_reply": "2021-12-09T07:24:09.771024Z",
     "shell.execute_reply.started": "2021-12-09T07:08:55.483232Z"
    },
    "papermill": {
     "duration": 0.133651,
     "end_time": "2021-12-09T07:24:09.771213",
     "exception": false,
     "start_time": "2021-12-09T07:24:09.637562",
     "status": "completed"
    },
    "tags": []
   },
   "outputs": [],
   "source": [
    "G_andy = Salaries_dataset_Gender_clean[(Salaries_dataset_Gender_clean.Gender == 'andy')].index\n",
    "Salaries_dataset_by_Gender = Salaries_dataset_GenderV2.drop(G_andy)"
   ]
  },
  {
   "cell_type": "code",
   "execution_count": 26,
   "id": "169aabcd",
   "metadata": {
    "execution": {
     "iopub.execute_input": "2021-12-09T07:24:09.899209Z",
     "iopub.status.busy": "2021-12-09T07:24:09.898113Z",
     "iopub.status.idle": "2021-12-09T07:24:10.056124Z",
     "shell.execute_reply": "2021-12-09T07:24:10.055485Z",
     "shell.execute_reply.started": "2021-12-09T07:08:55.554607Z"
    },
    "papermill": {
     "duration": 0.223247,
     "end_time": "2021-12-09T07:24:10.056270",
     "exception": false,
     "start_time": "2021-12-09T07:24:09.833023",
     "status": "completed"
    },
    "tags": []
   },
   "outputs": [
    {
     "data": {
      "image/png": "[encoded data removed]",
      "text/plain": [
       "<Figure size 1080x576 with 1 Axes>"
      ]
     },
     "metadata": {},
     "output_type": "display_data"
    }
   ],
   "source": [
    "gender_size_data = [len(Salaries_dataset_by_Gender[Salaries_dataset_by_Gender['Gender']=='male']),\n",
    "                    len(Salaries_dataset_by_Gender[Salaries_dataset_by_Gender['Gender']=='female'])]\n",
    "gender_labels = ['Male', 'Female']\n",
    "plt.title('Gender Percentage')\n",
    "plt.pie(gender_size_data, labels = gender_labels, autopct='%.0f%%')\n",
    "plt.show()"
   ]
  },
  {
   "cell_type": "code",
   "execution_count": 27,
   "id": "5b46c43a",
   "metadata": {
    "execution": {
     "iopub.execute_input": "2021-12-09T07:24:10.199926Z",
     "iopub.status.busy": "2021-12-09T07:24:10.199238Z",
     "iopub.status.idle": "2021-12-09T07:24:10.201941Z",
     "shell.execute_reply": "2021-12-09T07:24:10.202449Z",
     "shell.execute_reply.started": "2021-12-09T07:08:55.712871Z"
    },
    "papermill": {
     "duration": 0.083299,
     "end_time": "2021-12-09T07:24:10.202617",
     "exception": false,
     "start_time": "2021-12-09T07:24:10.119318",
     "status": "completed"
    },
    "tags": []
   },
   "outputs": [
    {
     "data": {
      "text/html": [
       "<div>\n",
       "<style scoped>\n",
       "    .dataframe tbody tr th:only-of-type {\n",
       "        vertical-align: middle;\n",
       "    }\n",
       "\n",
       "    .dataframe tbody tr th {\n",
       "        vertical-align: top;\n",
       "    }\n",
       "\n",
       "    .dataframe thead th {\n",
       "        text-align: right;\n",
       "    }\n",
       "</style>\n",
       "<table border=\"1\" class=\"dataframe\">\n",
       "  <thead>\n",
       "    <tr style=\"text-align: right;\">\n",
       "      <th></th>\n",
       "      <th>Id</th>\n",
       "      <th>EmployeeName</th>\n",
       "      <th>JobTitle</th>\n",
       "      <th>BasePay</th>\n",
       "      <th>OvertimePay</th>\n",
       "      <th>OtherPay</th>\n",
       "      <th>Benefits</th>\n",
       "      <th>TotalPay</th>\n",
       "      <th>TotalPayBenefits</th>\n",
       "      <th>Year</th>\n",
       "      <th>Agency</th>\n",
       "      <th>FirstName</th>\n",
       "      <th>Gender</th>\n",
       "    </tr>\n",
       "  </thead>\n",
       "  <tbody>\n",
       "    <tr>\n",
       "      <th>0</th>\n",
       "      <td>1</td>\n",
       "      <td>NATHANIEL FORD</td>\n",
       "      <td>GENERAL MANAGER-METROPOLITAN TRANSIT AUTHORITY</td>\n",
       "      <td>167411.18</td>\n",
       "      <td>0.0</td>\n",
       "      <td>400184.25</td>\n",
       "      <td>NaN</td>\n",
       "      <td>567595.43</td>\n",
       "      <td>567595.43</td>\n",
       "      <td>2011</td>\n",
       "      <td>San Francisco</td>\n",
       "      <td>Nathaniel</td>\n",
       "      <td>male</td>\n",
       "    </tr>\n",
       "    <tr>\n",
       "      <th>1</th>\n",
       "      <td>2</td>\n",
       "      <td>GARY JIMENEZ</td>\n",
       "      <td>CAPTAIN III (POLICE DEPARTMENT)</td>\n",
       "      <td>155966.02</td>\n",
       "      <td>245131.88</td>\n",
       "      <td>137811.38</td>\n",
       "      <td>NaN</td>\n",
       "      <td>538909.28</td>\n",
       "      <td>538909.28</td>\n",
       "      <td>2011</td>\n",
       "      <td>San Francisco</td>\n",
       "      <td>Gary</td>\n",
       "      <td>male</td>\n",
       "    </tr>\n",
       "    <tr>\n",
       "      <th>2</th>\n",
       "      <td>3</td>\n",
       "      <td>ALBERT PARDINI</td>\n",
       "      <td>CAPTAIN III (POLICE DEPARTMENT)</td>\n",
       "      <td>212739.13</td>\n",
       "      <td>106088.18</td>\n",
       "      <td>16452.6</td>\n",
       "      <td>NaN</td>\n",
       "      <td>335279.91</td>\n",
       "      <td>335279.91</td>\n",
       "      <td>2011</td>\n",
       "      <td>San Francisco</td>\n",
       "      <td>Albert</td>\n",
       "      <td>male</td>\n",
       "    </tr>\n",
       "    <tr>\n",
       "      <th>3</th>\n",
       "      <td>4</td>\n",
       "      <td>CHRISTOPHER CHONG</td>\n",
       "      <td>WIRE ROPE CABLE MAINTENANCE MECHANIC</td>\n",
       "      <td>77916.0</td>\n",
       "      <td>56120.71</td>\n",
       "      <td>198306.9</td>\n",
       "      <td>NaN</td>\n",
       "      <td>332343.61</td>\n",
       "      <td>332343.61</td>\n",
       "      <td>2011</td>\n",
       "      <td>San Francisco</td>\n",
       "      <td>Christopher</td>\n",
       "      <td>male</td>\n",
       "    </tr>\n",
       "    <tr>\n",
       "      <th>4</th>\n",
       "      <td>5</td>\n",
       "      <td>PATRICK GARDNER</td>\n",
       "      <td>DEPUTY CHIEF OF DEPARTMENT,(FIRE DEPARTMENT)</td>\n",
       "      <td>134401.6</td>\n",
       "      <td>9737.0</td>\n",
       "      <td>182234.59</td>\n",
       "      <td>NaN</td>\n",
       "      <td>326373.19</td>\n",
       "      <td>326373.19</td>\n",
       "      <td>2011</td>\n",
       "      <td>San Francisco</td>\n",
       "      <td>Patrick</td>\n",
       "      <td>male</td>\n",
       "    </tr>\n",
       "  </tbody>\n",
       "</table>\n",
       "</div>"
      ],
      "text/plain": [
       "   Id       EmployeeName                                        JobTitle  \\\n",
       "0   1     NATHANIEL FORD  GENERAL MANAGER-METROPOLITAN TRANSIT AUTHORITY   \n",
       "1   2       GARY JIMENEZ                 CAPTAIN III (POLICE DEPARTMENT)   \n",
       "2   3     ALBERT PARDINI                 CAPTAIN III (POLICE DEPARTMENT)   \n",
       "3   4  CHRISTOPHER CHONG            WIRE ROPE CABLE MAINTENANCE MECHANIC   \n",
       "4   5    PATRICK GARDNER    DEPUTY CHIEF OF DEPARTMENT,(FIRE DEPARTMENT)   \n",
       "\n",
       "     BasePay OvertimePay   OtherPay Benefits   TotalPay  TotalPayBenefits  \\\n",
       "0  167411.18         0.0  400184.25      NaN  567595.43         567595.43   \n",
       "1  155966.02   245131.88  137811.38      NaN  538909.28         538909.28   \n",
       "2  212739.13   106088.18    16452.6      NaN  335279.91         335279.91   \n",
       "3    77916.0    56120.71   198306.9      NaN  332343.61         332343.61   \n",
       "4   134401.6      9737.0  182234.59      NaN  326373.19         326373.19   \n",
       "\n",
       "   Year         Agency    FirstName Gender  \n",
       "0  2011  San Francisco    Nathaniel   male  \n",
       "1  2011  San Francisco         Gary   male  \n",
       "2  2011  San Francisco       Albert   male  \n",
       "3  2011  San Francisco  Christopher   male  \n",
       "4  2011  San Francisco      Patrick   male  "
      ]
     },
     "execution_count": 27,
     "metadata": {},
     "output_type": "execute_result"
    }
   ],
   "source": [
    "Salaries_dataset_by_Gender.head()"
   ]
  },
  {
   "cell_type": "code",
   "execution_count": 28,
   "id": "400e787a",
   "metadata": {
    "execution": {
     "iopub.execute_input": "2021-12-09T07:24:10.334068Z",
     "iopub.status.busy": "2021-12-09T07:24:10.333396Z",
     "iopub.status.idle": "2021-12-09T07:24:10.339754Z",
     "shell.execute_reply": "2021-12-09T07:24:10.338928Z",
     "shell.execute_reply.started": "2021-12-09T07:08:55.739225Z"
    },
    "papermill": {
     "duration": 0.072895,
     "end_time": "2021-12-09T07:24:10.339954",
     "exception": false,
     "start_time": "2021-12-09T07:24:10.267059",
     "status": "completed"
    },
    "tags": []
   },
   "outputs": [
    {
     "name": "stdout",
     "output_type": "stream",
     "text": [
      "Length of Column: 13\n",
      "Length of Rows: 110071\n"
     ]
    }
   ],
   "source": [
    "print(\"Length of Column: \" +str(len(Salaries_dataset_by_Gender.columns)))\n",
    "print(\"Length of Rows: \" +str(len(Salaries_dataset_by_Gender.index)))"
   ]
  },
  {
   "cell_type": "code",
   "execution_count": 29,
   "id": "cc9fe89e",
   "metadata": {
    "execution": {
     "iopub.execute_input": "2021-12-09T07:24:10.471250Z",
     "iopub.status.busy": "2021-12-09T07:24:10.470578Z",
     "iopub.status.idle": "2021-12-09T07:24:10.509742Z",
     "shell.execute_reply": "2021-12-09T07:24:10.509172Z",
     "shell.execute_reply.started": "2021-12-09T07:08:55.747886Z"
    },
    "papermill": {
     "duration": 0.105318,
     "end_time": "2021-12-09T07:24:10.509901",
     "exception": false,
     "start_time": "2021-12-09T07:24:10.404583",
     "status": "completed"
    },
    "tags": []
   },
   "outputs": [
    {
     "data": {
      "text/plain": [
       "Gender\n",
       "female    67458.455331\n",
       "male      85217.581298\n",
       "Name: TotalPay, dtype: float64"
      ]
     },
     "execution_count": 29,
     "metadata": {},
     "output_type": "execute_result"
    }
   ],
   "source": [
    "Salaries_dataset_by_Gender.groupby(\"Gender\").mean()[\"TotalPay\"]"
   ]
  },
  {
   "cell_type": "code",
   "execution_count": 30,
   "id": "80604934",
   "metadata": {
    "execution": {
     "iopub.execute_input": "2021-12-09T07:24:10.645208Z",
     "iopub.status.busy": "2021-12-09T07:24:10.644339Z",
     "iopub.status.idle": "2021-12-09T07:24:10.647556Z",
     "shell.execute_reply": "2021-12-09T07:24:10.648066Z",
     "shell.execute_reply.started": "2021-12-09T07:08:55.796406Z"
    },
    "papermill": {
     "duration": 0.073654,
     "end_time": "2021-12-09T07:24:10.648237",
     "exception": false,
     "start_time": "2021-12-09T07:24:10.574583",
     "status": "completed"
    },
    "tags": []
   },
   "outputs": [
    {
     "data": {
      "text/plain": [
       "126.32601929567002"
      ]
     },
     "execution_count": 30,
     "metadata": {},
     "output_type": "execute_result"
    }
   ],
   "source": [
    "(85217.581298 / 67458.455331)*100"
   ]
  },
  {
   "cell_type": "markdown",
   "id": "7498be8c",
   "metadata": {
    "papermill": {
     "duration": 0.063927,
     "end_time": "2021-12-09T07:24:10.776702",
     "exception": false,
     "start_time": "2021-12-09T07:24:10.712775",
     "status": "completed"
    },
    "tags": []
   },
   "source": [
    "### Total Pay over Year by Gender (2011-2014)\n",
    "According to the graph, the average salary of men is 26% higher than that of females. But, this graph doesn't show the difference in salaries for the same job. The salaries range depends on the type of job, and the position of the job. So, We can't be sure there is a wage gap between males and females. "
   ]
  },
  {
   "cell_type": "code",
   "execution_count": 31,
   "id": "e622ebe3",
   "metadata": {
    "execution": {
     "iopub.execute_input": "2021-12-09T07:24:10.912943Z",
     "iopub.status.busy": "2021-12-09T07:24:10.912221Z",
     "iopub.status.idle": "2021-12-09T07:24:12.336449Z",
     "shell.execute_reply": "2021-12-09T07:24:12.336972Z",
     "shell.execute_reply.started": "2021-12-09T07:08:55.804451Z"
    },
    "papermill": {
     "duration": 1.49621,
     "end_time": "2021-12-09T07:24:12.337160",
     "exception": false,
     "start_time": "2021-12-09T07:24:10.840950",
     "status": "completed"
    },
    "tags": []
   },
   "outputs": [
    {
     "data": {
      "text/plain": [
       "Text(0.5, 1.0, 'TotalPay over Year by Gender (2011-2014)')"
      ]
     },
     "execution_count": 31,
     "metadata": {},
     "output_type": "execute_result"
    },
    {
     "data": {
      "image/png": "[encoded data removed]",
      "text/plain": [
       "<Figure size 1080x576 with 1 Axes>"
      ]
     },
     "metadata": {},
     "output_type": "display_data"
    }
   ],
   "source": [
    "sns.lineplot(data=Salaries_dataset_by_Gender, x=\"Year\", y=\"TotalPay\", hue=\"Gender\").set_title('TotalPay over Year by Gender (2011-2014)')"
   ]
  },
  {
   "cell_type": "markdown",
   "id": "012113f3",
   "metadata": {
    "papermill": {
     "duration": 0.068094,
     "end_time": "2021-12-09T07:24:12.473714",
     "exception": false,
     "start_time": "2021-12-09T07:24:12.405620",
     "status": "completed"
    },
    "tags": []
   },
   "source": [
    "To determine the exact difference in salary between men and women, you need to check the difference in salary between the same position and the same occupation.This above graph shows which occupation has a large proportion of women and which occupation has a large proportion of men."
   ]
  },
  {
   "cell_type": "code",
   "execution_count": 32,
   "id": "9c3e9830",
   "metadata": {
    "execution": {
     "iopub.execute_input": "2021-12-09T07:24:12.629599Z",
     "iopub.status.busy": "2021-12-09T07:24:12.628630Z",
     "iopub.status.idle": "2021-12-09T07:24:13.494332Z",
     "shell.execute_reply": "2021-12-09T07:24:13.493774Z",
     "shell.execute_reply.started": "2021-12-09T07:08:57.243043Z"
    },
    "papermill": {
     "duration": 0.954514,
     "end_time": "2021-12-09T07:24:13.494488",
     "exception": false,
     "start_time": "2021-12-09T07:24:12.539974",
     "status": "completed"
    },
    "tags": []
   },
   "outputs": [
    {
     "data": {
      "text/plain": [
       "Text(0.5, 1.0, 'Top 20 JobTitle')"
      ]
     },
     "execution_count": 32,
     "metadata": {},
     "output_type": "execute_result"
    },
    {
     "data": {
      "image/png": "[encoded data removed]",
      "text/plain": [
       "<Figure size 1080x576 with 1 Axes>"
      ]
     },
     "metadata": {},
     "output_type": "display_data"
    }
   ],
   "source": [
    "sns.countplot(y=\"JobTitle\", \n",
    "              data=Salaries_dataset_by_Gender, \n",
    "              hue=\"Gender\",\n",
    "              order=Salaries_dataset_by_Gender.JobTitle.value_counts().iloc[:20].index).set_title('Top 20 JobTitle')"
   ]
  },
  {
   "cell_type": "code",
   "execution_count": 33,
   "id": "3788a783",
   "metadata": {
    "execution": {
     "iopub.execute_input": "2021-12-09T07:24:13.639068Z",
     "iopub.status.busy": "2021-12-09T07:24:13.638406Z",
     "iopub.status.idle": "2021-12-09T07:24:13.723035Z",
     "shell.execute_reply": "2021-12-09T07:24:13.722327Z",
     "shell.execute_reply.started": "2021-12-09T07:08:58.167702Z"
    },
    "papermill": {
     "duration": 0.159381,
     "end_time": "2021-12-09T07:24:13.723180",
     "exception": false,
     "start_time": "2021-12-09T07:24:13.563799",
     "status": "completed"
    },
    "tags": []
   },
   "outputs": [],
   "source": [
    "Salaries_dataset_Male= Salaries_dataset_by_Gender.copy()\n",
    "Salaries_dataset_OnlyMale = Salaries_dataset_Male.loc[Salaries_dataset_Male['Gender']=='male']\n",
    "Salaries_dataset_Female= Salaries_dataset_by_Gender.copy()\n",
    "Salaries_dataset_OnlyFemale = Salaries_dataset_Female.loc[Salaries_dataset_Female['Gender']=='female']"
   ]
  },
  {
   "cell_type": "markdown",
   "id": "e5dbf369",
   "metadata": {
    "papermill": {
     "duration": 0.069951,
     "end_time": "2021-12-09T07:24:13.862793",
     "exception": false,
     "start_time": "2021-12-09T07:24:13.792842",
     "status": "completed"
    },
    "tags": []
   },
   "source": [
    "### Top 10 Job Title by Gender\n",
    "Based on this graph, men usually do traffic drivers, police officers, firefighters, etc. In addition, women's jobs are nurses, transfer companies, recreation leaders, and patient assistance."
   ]
  },
  {
   "cell_type": "code",
   "execution_count": 34,
   "id": "51d5f64f",
   "metadata": {
    "execution": {
     "iopub.execute_input": "2021-12-09T07:24:14.026076Z",
     "iopub.status.busy": "2021-12-09T07:24:14.020902Z",
     "iopub.status.idle": "2021-12-09T07:24:14.806950Z",
     "shell.execute_reply": "2021-12-09T07:24:14.807493Z",
     "shell.execute_reply.started": "2021-12-09T07:08:58.256278Z"
    },
    "papermill": {
     "duration": 0.87473,
     "end_time": "2021-12-09T07:24:14.807662",
     "exception": false,
     "start_time": "2021-12-09T07:24:13.932932",
     "status": "completed"
    },
    "tags": []
   },
   "outputs": [
    {
     "data": {
      "image/png": "[encoded data removed]",
      "text/plain": [
       "<Figure size 1080x576 with 2 Axes>"
      ]
     },
     "metadata": {},
     "output_type": "display_data"
    }
   ],
   "source": [
    "fig, axs = plt.subplots(nrows=2)\n",
    "sns.countplot(y=\"JobTitle\", \n",
    "              data=Salaries_dataset_OnlyMale,\n",
    "              order=Salaries_dataset_OnlyMale.JobTitle.value_counts().iloc[:10].index,ax=axs[0]).set_title('Top 10 Male JobTitle')\n",
    "sns.countplot(y=\"JobTitle\", \n",
    "              data=Salaries_dataset_OnlyFemale,\n",
    "              order=Salaries_dataset_OnlyFemale.JobTitle.value_counts().iloc[:10].index, ax=axs[1]).set_title('Top 10 Female JobTitle')\n",
    "fig.tight_layout(pad=3.0)"
   ]
  },
  {
   "cell_type": "markdown",
   "id": "4c3f08ae",
   "metadata": {
    "papermill": {
     "duration": 0.070273,
     "end_time": "2021-12-09T07:24:14.948621",
     "exception": false,
     "start_time": "2021-12-09T07:24:14.878348",
     "status": "completed"
    },
    "tags": []
   },
   "source": [
    "### Salaries Difference by Gender for Transit Operator\n",
    "Since the transit operator is the job that both men and women are in the top 10 jobs, let's check the difference in salary."
   ]
  },
  {
   "cell_type": "code",
   "execution_count": 35,
   "id": "fa62c8e1",
   "metadata": {
    "execution": {
     "iopub.execute_input": "2021-12-09T07:24:15.113384Z",
     "iopub.status.busy": "2021-12-09T07:24:15.112654Z",
     "iopub.status.idle": "2021-12-09T07:24:15.419357Z",
     "shell.execute_reply": "2021-12-09T07:24:15.418750Z",
     "shell.execute_reply.started": "2021-12-09T07:08:59.083417Z"
    },
    "papermill": {
     "duration": 0.400117,
     "end_time": "2021-12-09T07:24:15.419521",
     "exception": false,
     "start_time": "2021-12-09T07:24:15.019404",
     "status": "completed"
    },
    "tags": []
   },
   "outputs": [
    {
     "data": {
      "image/png": "[encoded data removed]",
      "text/plain": [
       "<Figure size 1080x576 with 1 Axes>"
      ]
     },
     "metadata": {},
     "output_type": "display_data"
    }
   ],
   "source": [
    "ax2 = sns.barplot(data =Salaries_dataset_by_Gender[Salaries_dataset_by_Gender['JobTitle']=='Transit Operator'],\n",
    "                  x = \"Gender\",\n",
    "                  y = \"TotalPay\")\n",
    "ax2.set_title('Salaries Difference by Gender for Transit Operator', size=15)\n",
    "label_graph(ax2)\n",
    "plt.show()"
   ]
  },
  {
   "cell_type": "markdown",
   "id": "e2cd56af",
   "metadata": {
    "papermill": {
     "duration": 0.072571,
     "end_time": "2021-12-09T07:24:15.565669",
     "exception": false,
     "start_time": "2021-12-09T07:24:15.493098",
     "status": "completed"
    },
    "tags": []
   },
   "source": [
    "### Salaries Difference by Gender for Speical Nurse\n",
    "So, we know there is a difference in wages between men and women in transfer drivers. Let's check out other jobs with a large proportion of women. Looking at the graph above, which shows the top 10 male and female jobs, we can see that Special Nurse is a job that women usually do."
   ]
  },
  {
   "cell_type": "code",
   "execution_count": 36,
   "id": "ca05fdc9",
   "metadata": {
    "execution": {
     "iopub.execute_input": "2021-12-09T07:24:15.735258Z",
     "iopub.status.busy": "2021-12-09T07:24:15.734512Z",
     "iopub.status.idle": "2021-12-09T07:24:16.032944Z",
     "shell.execute_reply": "2021-12-09T07:24:16.033421Z",
     "shell.execute_reply.started": "2021-12-09T07:08:59.415022Z"
    },
    "papermill": {
     "duration": 0.394243,
     "end_time": "2021-12-09T07:24:16.033598",
     "exception": false,
     "start_time": "2021-12-09T07:24:15.639355",
     "status": "completed"
    },
    "tags": []
   },
   "outputs": [
    {
     "data": {
      "image/png": "[encoded data removed]",
      "text/plain": [
       "<Figure size 1080x576 with 1 Axes>"
      ]
     },
     "metadata": {},
     "output_type": "display_data"
    }
   ],
   "source": [
    "ax3 = sns.barplot(data =Salaries_dataset_by_Gender[Salaries_dataset_by_Gender['JobTitle']=='Special Nurse'],\n",
    "                  x = \"Gender\",\n",
    "                  y = \"TotalPay\")\n",
    "ax3.set_title('Salaries Difference by Gender for Speical Nurse', size=15)\n",
    "label_graph(ax3)\n",
    "plt.show()"
   ]
  },
  {
   "cell_type": "markdown",
   "id": "80ef08ee",
   "metadata": {
    "papermill": {
     "duration": 0.073847,
     "end_time": "2021-12-09T07:24:16.181226",
     "exception": false,
     "start_time": "2021-12-09T07:24:16.107379",
     "status": "completed"
    },
    "tags": []
   },
   "source": [
    "So we know that there is a wage difference between men and women. Is there any job that the female get more salaries than the male?"
   ]
  },
  {
   "cell_type": "code",
   "execution_count": 37,
   "id": "aa3d1b1c",
   "metadata": {
    "execution": {
     "iopub.execute_input": "2021-12-09T07:24:16.331836Z",
     "iopub.status.busy": "2021-12-09T07:24:16.331204Z",
     "iopub.status.idle": "2021-12-09T07:24:16.335952Z",
     "shell.execute_reply": "2021-12-09T07:24:16.336488Z",
     "shell.execute_reply.started": "2021-12-09T07:08:59.738102Z"
    },
    "papermill": {
     "duration": 0.082144,
     "end_time": "2021-12-09T07:24:16.336682",
     "exception": false,
     "start_time": "2021-12-09T07:24:16.254538",
     "status": "completed"
    },
    "tags": []
   },
   "outputs": [
    {
     "data": {
      "text/plain": [
       "array(['GENERAL MANAGER-METROPOLITAN TRANSIT AUTHORITY',\n",
       "       'CAPTAIN III (POLICE DEPARTMENT)',\n",
       "       'CAPTAIN III (POLICE DEPARTMENT)', ..., 'Custodian', 'Custodian',\n",
       "       'Counselor, Log Cabin Ranch'], dtype=object)"
      ]
     },
     "execution_count": 37,
     "metadata": {},
     "output_type": "execute_result"
    }
   ],
   "source": [
    "Salaries_dataset_by_Gender['JobTitle'].values"
   ]
  },
  {
   "cell_type": "code",
   "execution_count": 38,
   "id": "5ac6169c",
   "metadata": {
    "execution": {
     "iopub.execute_input": "2021-12-09T07:24:16.491831Z",
     "iopub.status.busy": "2021-12-09T07:24:16.491136Z",
     "iopub.status.idle": "2021-12-09T07:24:16.493967Z",
     "shell.execute_reply": "2021-12-09T07:24:16.494501Z",
     "shell.execute_reply.started": "2021-12-09T07:08:59.747389Z"
    },
    "papermill": {
     "duration": 0.083477,
     "end_time": "2021-12-09T07:24:16.494672",
     "exception": false,
     "start_time": "2021-12-09T07:24:16.411195",
     "status": "completed"
    },
    "tags": []
   },
   "outputs": [
    {
     "data": {
      "text/plain": [
       "110071"
      ]
     },
     "execution_count": 38,
     "metadata": {},
     "output_type": "execute_result"
    }
   ],
   "source": [
    "len(Salaries_dataset_by_Gender['JobTitle'].values)"
   ]
  },
  {
   "cell_type": "markdown",
   "id": "b2d61f9d",
   "metadata": {
    "papermill": {
     "duration": 0.075048,
     "end_time": "2021-12-09T07:24:16.646078",
     "exception": false,
     "start_time": "2021-12-09T07:24:16.571030",
     "status": "completed"
    },
    "tags": []
   },
   "source": [
    "### Test Top 3000 data from 110071 dataset"
   ]
  },
  {
   "cell_type": "code",
   "execution_count": 39,
   "id": "8a1df53d",
   "metadata": {
    "execution": {
     "iopub.execute_input": "2021-12-09T07:24:16.797845Z",
     "iopub.status.busy": "2021-12-09T07:24:16.797118Z",
     "iopub.status.idle": "2021-12-09T07:25:56.273637Z",
     "shell.execute_reply": "2021-12-09T07:25:56.273069Z",
     "shell.execute_reply.started": "2021-12-09T07:08:59.761863Z"
    },
    "papermill": {
     "duration": 99.553632,
     "end_time": "2021-12-09T07:25:56.273799",
     "exception": false,
     "start_time": "2021-12-09T07:24:16.720167",
     "status": "completed"
    },
    "tags": []
   },
   "outputs": [],
   "source": [
    "Male_Salaries = []\n",
    "for i in range(0, len(Salaries_dataset_by_Gender['JobTitle'].values[:3001])-1):\n",
    "    Male_Salaries.append(Salaries_dataset_by_Gender[Salaries_dataset_by_Gender['JobTitle']==Salaries_dataset_by_Gender['JobTitle'].values[i]][Salaries_dataset_by_Gender['Gender']=='male']['TotalPay'].mean())"
   ]
  },
  {
   "cell_type": "code",
   "execution_count": 40,
   "id": "cb29aeba",
   "metadata": {
    "execution": {
     "iopub.execute_input": "2021-12-09T07:25:56.429516Z",
     "iopub.status.busy": "2021-12-09T07:25:56.428778Z",
     "iopub.status.idle": "2021-12-09T07:27:36.427932Z",
     "shell.execute_reply": "2021-12-09T07:27:36.427281Z",
     "shell.execute_reply.started": "2021-12-09T07:10:40.174496Z"
    },
    "papermill": {
     "duration": 100.078689,
     "end_time": "2021-12-09T07:27:36.428120",
     "exception": false,
     "start_time": "2021-12-09T07:25:56.349431",
     "status": "completed"
    },
    "tags": []
   },
   "outputs": [],
   "source": [
    "Female_Salaries = []\n",
    "for i in range(0, len(Salaries_dataset_by_Gender['JobTitle'].values[:3001])-1):\n",
    "    Female_Salaries.append(Salaries_dataset_by_Gender[Salaries_dataset_by_Gender['JobTitle']==Salaries_dataset_by_Gender['JobTitle'].values[i]][Salaries_dataset_by_Gender['Gender']=='female']['TotalPay'].mean())"
   ]
  },
  {
   "cell_type": "code",
   "execution_count": 41,
   "id": "c5ea1fd5",
   "metadata": {
    "execution": {
     "iopub.execute_input": "2021-12-09T07:27:36.598941Z",
     "iopub.status.busy": "2021-12-09T07:27:36.597953Z",
     "iopub.status.idle": "2021-12-09T07:27:36.615402Z",
     "shell.execute_reply": "2021-12-09T07:27:36.614717Z",
     "shell.execute_reply.started": "2021-12-09T07:12:21.153555Z"
    },
    "papermill": {
     "duration": 0.094399,
     "end_time": "2021-12-09T07:27:36.615548",
     "exception": false,
     "start_time": "2021-12-09T07:27:36.521149",
     "status": "completed"
    },
    "tags": []
   },
   "outputs": [
    {
     "data": {
      "text/html": [
       "<div>\n",
       "<style scoped>\n",
       "    .dataframe tbody tr th:only-of-type {\n",
       "        vertical-align: middle;\n",
       "    }\n",
       "\n",
       "    .dataframe tbody tr th {\n",
       "        vertical-align: top;\n",
       "    }\n",
       "\n",
       "    .dataframe thead th {\n",
       "        text-align: right;\n",
       "    }\n",
       "</style>\n",
       "<table border=\"1\" class=\"dataframe\">\n",
       "  <thead>\n",
       "    <tr style=\"text-align: right;\">\n",
       "      <th></th>\n",
       "      <th>JobTitle</th>\n",
       "      <th>Male_Salaries</th>\n",
       "      <th>Female_Salaries</th>\n",
       "    </tr>\n",
       "  </thead>\n",
       "  <tbody>\n",
       "    <tr>\n",
       "      <th>0</th>\n",
       "      <td>GENERAL MANAGER-METROPOLITAN TRANSIT AUTHORITY</td>\n",
       "      <td>399211.275000</td>\n",
       "      <td>NaN</td>\n",
       "    </tr>\n",
       "    <tr>\n",
       "      <th>1</th>\n",
       "      <td>CAPTAIN III (POLICE DEPARTMENT)</td>\n",
       "      <td>215561.715769</td>\n",
       "      <td>203107.473333</td>\n",
       "    </tr>\n",
       "    <tr>\n",
       "      <th>2</th>\n",
       "      <td>CAPTAIN III (POLICE DEPARTMENT)</td>\n",
       "      <td>215561.715769</td>\n",
       "      <td>203107.473333</td>\n",
       "    </tr>\n",
       "    <tr>\n",
       "      <th>3</th>\n",
       "      <td>WIRE ROPE CABLE MAINTENANCE MECHANIC</td>\n",
       "      <td>145073.492500</td>\n",
       "      <td>NaN</td>\n",
       "    </tr>\n",
       "    <tr>\n",
       "      <th>4</th>\n",
       "      <td>DEPUTY CHIEF OF DEPARTMENT,(FIRE DEPARTMENT)</td>\n",
       "      <td>288356.270000</td>\n",
       "      <td>261366.140000</td>\n",
       "    </tr>\n",
       "    <tr>\n",
       "      <th>...</th>\n",
       "      <td>...</td>\n",
       "      <td>...</td>\n",
       "      <td>...</td>\n",
       "    </tr>\n",
       "    <tr>\n",
       "      <th>2995</th>\n",
       "      <td>SHERIFF'S LIEUTENANT</td>\n",
       "      <td>136484.114000</td>\n",
       "      <td>128048.831667</td>\n",
       "    </tr>\n",
       "    <tr>\n",
       "      <th>2996</th>\n",
       "      <td>TRANSIT SUPERVISOR</td>\n",
       "      <td>117992.110650</td>\n",
       "      <td>95045.876944</td>\n",
       "    </tr>\n",
       "    <tr>\n",
       "      <th>2997</th>\n",
       "      <td>IS BUSINESS ANALYST - PRINCIPAL</td>\n",
       "      <td>106532.319750</td>\n",
       "      <td>109262.655455</td>\n",
       "    </tr>\n",
       "    <tr>\n",
       "      <th>2998</th>\n",
       "      <td>FIREFIGHTER</td>\n",
       "      <td>140531.465034</td>\n",
       "      <td>129348.017905</td>\n",
       "    </tr>\n",
       "    <tr>\n",
       "      <th>2999</th>\n",
       "      <td>SHERIFF'S LIEUTENANT</td>\n",
       "      <td>136484.114000</td>\n",
       "      <td>128048.831667</td>\n",
       "    </tr>\n",
       "  </tbody>\n",
       "</table>\n",
       "<p>3000 rows × 3 columns</p>\n",
       "</div>"
      ],
      "text/plain": [
       "                                            JobTitle  Male_Salaries  \\\n",
       "0     GENERAL MANAGER-METROPOLITAN TRANSIT AUTHORITY  399211.275000   \n",
       "1                    CAPTAIN III (POLICE DEPARTMENT)  215561.715769   \n",
       "2                    CAPTAIN III (POLICE DEPARTMENT)  215561.715769   \n",
       "3               WIRE ROPE CABLE MAINTENANCE MECHANIC  145073.492500   \n",
       "4       DEPUTY CHIEF OF DEPARTMENT,(FIRE DEPARTMENT)  288356.270000   \n",
       "...                                              ...            ...   \n",
       "2995                            SHERIFF'S LIEUTENANT  136484.114000   \n",
       "2996                              TRANSIT SUPERVISOR  117992.110650   \n",
       "2997                 IS BUSINESS ANALYST - PRINCIPAL  106532.319750   \n",
       "2998                                     FIREFIGHTER  140531.465034   \n",
       "2999                            SHERIFF'S LIEUTENANT  136484.114000   \n",
       "\n",
       "      Female_Salaries  \n",
       "0                 NaN  \n",
       "1       203107.473333  \n",
       "2       203107.473333  \n",
       "3                 NaN  \n",
       "4       261366.140000  \n",
       "...               ...  \n",
       "2995    128048.831667  \n",
       "2996     95045.876944  \n",
       "2997    109262.655455  \n",
       "2998    129348.017905  \n",
       "2999    128048.831667  \n",
       "\n",
       "[3000 rows x 3 columns]"
      ]
     },
     "execution_count": 41,
     "metadata": {},
     "output_type": "execute_result"
    }
   ],
   "source": [
    "Gender_Salaries_data = {'JobTitle': Salaries_dataset_by_Gender['JobTitle'].values[:3000], \n",
    "                       'Male_Salaries':Male_Salaries, \n",
    "                       'Female_Salaries':Female_Salaries}\n",
    "Gender_Salaries = pd.DataFrame(Gender_Salaries_data)\n",
    "Gender_Salaries"
   ]
  },
  {
   "cell_type": "markdown",
   "id": "656371ae",
   "metadata": {
    "papermill": {
     "duration": 0.07404,
     "end_time": "2021-12-09T07:27:36.766021",
     "exception": false,
     "start_time": "2021-12-09T07:27:36.691981",
     "status": "completed"
    },
    "tags": []
   },
   "source": [
    "We have the top 3000 salaries difference by gender. In the \"GENERAL MANAGER-METROPOLITAN TRANSIT AUTHORITY\" job, it shows NaNs in the female section because there is no female data of \"GENERAL MANAGER-METROPOLITAN TRANSIT AUTHORITY\" job. To compare the salaries difference, I will just remove NaNs value in the data. "
   ]
  },
  {
   "cell_type": "code",
   "execution_count": 42,
   "id": "b1a844fe",
   "metadata": {
    "execution": {
     "iopub.execute_input": "2021-12-09T07:27:36.921399Z",
     "iopub.status.busy": "2021-12-09T07:27:36.920731Z",
     "iopub.status.idle": "2021-12-09T07:27:36.924642Z",
     "shell.execute_reply": "2021-12-09T07:27:36.925142Z",
     "shell.execute_reply.started": "2021-12-09T07:12:21.174208Z"
    },
    "papermill": {
     "duration": 0.085004,
     "end_time": "2021-12-09T07:27:36.925318",
     "exception": false,
     "start_time": "2021-12-09T07:27:36.840314",
     "status": "completed"
    },
    "tags": []
   },
   "outputs": [],
   "source": [
    "Gender_Salaries_dataset = Gender_Salaries.dropna()"
   ]
  },
  {
   "cell_type": "code",
   "execution_count": 43,
   "id": "ae07ed3d",
   "metadata": {
    "execution": {
     "iopub.execute_input": "2021-12-09T07:27:37.080168Z",
     "iopub.status.busy": "2021-12-09T07:27:37.079169Z",
     "iopub.status.idle": "2021-12-09T07:27:37.092139Z",
     "shell.execute_reply": "2021-12-09T07:27:37.091560Z",
     "shell.execute_reply.started": "2021-12-09T07:12:21.195570Z"
    },
    "papermill": {
     "duration": 0.092497,
     "end_time": "2021-12-09T07:27:37.092289",
     "exception": false,
     "start_time": "2021-12-09T07:27:36.999792",
     "status": "completed"
    },
    "tags": []
   },
   "outputs": [
    {
     "data": {
      "text/html": [
       "<div>\n",
       "<style scoped>\n",
       "    .dataframe tbody tr th:only-of-type {\n",
       "        vertical-align: middle;\n",
       "    }\n",
       "\n",
       "    .dataframe tbody tr th {\n",
       "        vertical-align: top;\n",
       "    }\n",
       "\n",
       "    .dataframe thead th {\n",
       "        text-align: right;\n",
       "    }\n",
       "</style>\n",
       "<table border=\"1\" class=\"dataframe\">\n",
       "  <thead>\n",
       "    <tr style=\"text-align: right;\">\n",
       "      <th></th>\n",
       "      <th>JobTitle</th>\n",
       "      <th>Male_Salaries</th>\n",
       "      <th>Female_Salaries</th>\n",
       "    </tr>\n",
       "  </thead>\n",
       "  <tbody>\n",
       "    <tr>\n",
       "      <th>1</th>\n",
       "      <td>CAPTAIN III (POLICE DEPARTMENT)</td>\n",
       "      <td>215561.715769</td>\n",
       "      <td>203107.473333</td>\n",
       "    </tr>\n",
       "    <tr>\n",
       "      <th>2</th>\n",
       "      <td>CAPTAIN III (POLICE DEPARTMENT)</td>\n",
       "      <td>215561.715769</td>\n",
       "      <td>203107.473333</td>\n",
       "    </tr>\n",
       "    <tr>\n",
       "      <th>4</th>\n",
       "      <td>DEPUTY CHIEF OF DEPARTMENT,(FIRE DEPARTMENT)</td>\n",
       "      <td>288356.270000</td>\n",
       "      <td>261366.140000</td>\n",
       "    </tr>\n",
       "    <tr>\n",
       "      <th>5</th>\n",
       "      <td>ASSISTANT DEPUTY CHIEF II</td>\n",
       "      <td>235149.870000</td>\n",
       "      <td>203023.050000</td>\n",
       "    </tr>\n",
       "    <tr>\n",
       "      <th>7</th>\n",
       "      <td>BATTALION CHIEF, (FIRE DEPARTMENT)</td>\n",
       "      <td>218203.607838</td>\n",
       "      <td>180388.765000</td>\n",
       "    </tr>\n",
       "    <tr>\n",
       "      <th>...</th>\n",
       "      <td>...</td>\n",
       "      <td>...</td>\n",
       "      <td>...</td>\n",
       "    </tr>\n",
       "    <tr>\n",
       "      <th>2995</th>\n",
       "      <td>SHERIFF'S LIEUTENANT</td>\n",
       "      <td>136484.114000</td>\n",
       "      <td>128048.831667</td>\n",
       "    </tr>\n",
       "    <tr>\n",
       "      <th>2996</th>\n",
       "      <td>TRANSIT SUPERVISOR</td>\n",
       "      <td>117992.110650</td>\n",
       "      <td>95045.876944</td>\n",
       "    </tr>\n",
       "    <tr>\n",
       "      <th>2997</th>\n",
       "      <td>IS BUSINESS ANALYST - PRINCIPAL</td>\n",
       "      <td>106532.319750</td>\n",
       "      <td>109262.655455</td>\n",
       "    </tr>\n",
       "    <tr>\n",
       "      <th>2998</th>\n",
       "      <td>FIREFIGHTER</td>\n",
       "      <td>140531.465034</td>\n",
       "      <td>129348.017905</td>\n",
       "    </tr>\n",
       "    <tr>\n",
       "      <th>2999</th>\n",
       "      <td>SHERIFF'S LIEUTENANT</td>\n",
       "      <td>136484.114000</td>\n",
       "      <td>128048.831667</td>\n",
       "    </tr>\n",
       "  </tbody>\n",
       "</table>\n",
       "<p>2871 rows × 3 columns</p>\n",
       "</div>"
      ],
      "text/plain": [
       "                                          JobTitle  Male_Salaries  \\\n",
       "1                  CAPTAIN III (POLICE DEPARTMENT)  215561.715769   \n",
       "2                  CAPTAIN III (POLICE DEPARTMENT)  215561.715769   \n",
       "4     DEPUTY CHIEF OF DEPARTMENT,(FIRE DEPARTMENT)  288356.270000   \n",
       "5                        ASSISTANT DEPUTY CHIEF II  235149.870000   \n",
       "7               BATTALION CHIEF, (FIRE DEPARTMENT)  218203.607838   \n",
       "...                                            ...            ...   \n",
       "2995                          SHERIFF'S LIEUTENANT  136484.114000   \n",
       "2996                            TRANSIT SUPERVISOR  117992.110650   \n",
       "2997               IS BUSINESS ANALYST - PRINCIPAL  106532.319750   \n",
       "2998                                   FIREFIGHTER  140531.465034   \n",
       "2999                          SHERIFF'S LIEUTENANT  136484.114000   \n",
       "\n",
       "      Female_Salaries  \n",
       "1       203107.473333  \n",
       "2       203107.473333  \n",
       "4       261366.140000  \n",
       "5       203023.050000  \n",
       "7       180388.765000  \n",
       "...               ...  \n",
       "2995    128048.831667  \n",
       "2996     95045.876944  \n",
       "2997    109262.655455  \n",
       "2998    129348.017905  \n",
       "2999    128048.831667  \n",
       "\n",
       "[2871 rows x 3 columns]"
      ]
     },
     "execution_count": 43,
     "metadata": {},
     "output_type": "execute_result"
    }
   ],
   "source": [
    "Gender_Salaries_dataset"
   ]
  },
  {
   "cell_type": "code",
   "execution_count": 44,
   "id": "0656352b",
   "metadata": {
    "execution": {
     "iopub.execute_input": "2021-12-09T07:27:37.251504Z",
     "iopub.status.busy": "2021-12-09T07:27:37.250783Z",
     "iopub.status.idle": "2021-12-09T07:27:37.283091Z",
     "shell.execute_reply": "2021-12-09T07:27:37.283614Z",
     "shell.execute_reply.started": "2021-12-09T07:12:21.218278Z"
    },
    "papermill": {
     "duration": 0.11627,
     "end_time": "2021-12-09T07:27:37.283785",
     "exception": false,
     "start_time": "2021-12-09T07:27:37.167515",
     "status": "completed"
    },
    "tags": []
   },
   "outputs": [
    {
     "data": {
      "text/plain": [
       "444"
      ]
     },
     "execution_count": 44,
     "metadata": {},
     "output_type": "execute_result"
    }
   ],
   "source": [
    "Higher_female_salaries =[]\n",
    "for i in range(0, len(Gender_Salaries_dataset)-1):\n",
    "    if Gender_Salaries_dataset['Female_Salaries'].values[i] > Gender_Salaries_dataset['Male_Salaries'].values[i]:\n",
    "        Higher_female_salaries.append(Gender_Salaries_dataset['JobTitle'].values[i])\n",
    "len(Higher_female_salaries)"
   ]
  },
  {
   "cell_type": "markdown",
   "id": "a9866f13",
   "metadata": {
    "papermill": {
     "duration": 0.077239,
     "end_time": "2021-12-09T07:27:37.437416",
     "exception": false,
     "start_time": "2021-12-09T07:27:37.360177",
     "status": "completed"
    },
    "tags": []
   },
   "source": [
    "### Jobs where women's salaries are higher than men's salaries."
   ]
  },
  {
   "cell_type": "code",
   "execution_count": 45,
   "id": "f1b00ad7",
   "metadata": {
    "execution": {
     "iopub.execute_input": "2021-12-09T07:27:37.596546Z",
     "iopub.status.busy": "2021-12-09T07:27:37.595563Z",
     "iopub.status.idle": "2021-12-09T07:27:37.600526Z",
     "shell.execute_reply": "2021-12-09T07:27:37.601239Z",
     "shell.execute_reply.started": "2021-12-09T07:12:21.264417Z"
    },
    "papermill": {
     "duration": 0.088717,
     "end_time": "2021-12-09T07:27:37.601480",
     "exception": false,
     "start_time": "2021-12-09T07:27:37.512763",
     "status": "completed"
    },
    "tags": []
   },
   "outputs": [
    {
     "name": "stdout",
     "output_type": "stream",
     "text": [
      "50\n"
     ]
    },
    {
     "data": {
      "text/plain": [
       "['DEPARTMENT HEAD V',\n",
       " 'ASSISTANT MEDICAL EXAMINER',\n",
       " 'DEPUTY CHIEF III (POLICE DEPARTMENT)',\n",
       " 'ELECTRICAL TRANSIT MECHANIC, ASSISTANT SUPERVISOR',\n",
       " 'MANAGER VII',\n",
       " 'INSPECTOR, BUREAU OF FIRE PREVENTION AND PUBLIC SA',\n",
       " 'ANESTHETIST',\n",
       " 'DEPUTY DIRECTOR II - MUNICIPAL TRANSPORTATION AG',\n",
       " 'MANAGER VIII',\n",
       " 'ELECTRICAL TRANSIT SYSTEM MECHANIC',\n",
       " 'NURSE MANAGER',\n",
       " 'ELECTRICAL TRANSIT SHOP SUPERVISOR I',\n",
       " 'DEPUTY DIRECTOR IV',\n",
       " 'ASSISTANT CHIEF ATTORNEY II',\n",
       " 'DEPUTY DIRECTOR III',\n",
       " 'DIAGNOSTIC IMAGING TECH III',\n",
       " 'CHIEF ADULT PROBATION OFFICER',\n",
       " 'PHYSICIAN ASSISTANT',\n",
       " 'ELECTRONIC MAINTENANCE TECHNICIAN',\n",
       " 'ASSOCIATE ENGINEER',\n",
       " 'PROJECT MANAGER IV',\n",
       " 'PILOT OF FIRE BOATS',\n",
       " 'DEPARTMENT HEAD I',\n",
       " 'SENIOR ENGINEER',\n",
       " 'PRINCIPAL CIVIL ENGINEER',\n",
       " 'ELECTRICAL TRANSIT MECHANIC SUPERVISOR I',\n",
       " 'MANAGER V',\n",
       " 'PROJECT MANAGER III',\n",
       " 'MAYORAL STAFF XVII',\n",
       " 'MANAGER VII - MUNICIPAL TRANSPORTATION AGENCY',\n",
       " 'MANAGER VIII - MUNICIPAL TRANSPORTATION AGENCY',\n",
       " 'MANAGER IV',\n",
       " 'IS ENGINEER - PRINCIPAL',\n",
       " 'INFORMATION SERVICES MANAGER',\n",
       " 'SUPERVISING PHARMACIST',\n",
       " 'SENIOR POWER GENERATION TECHNICIAN',\n",
       " 'DEPUTY DIRECTOR II',\n",
       " 'LANDSCAPE ARCHITECTURAL ASSOCIATE II',\n",
       " 'CHIEF STATIONARY ENGINEER',\n",
       " 'UNDERSHERIFF',\n",
       " 'DIAGNOSTIC IMAGING TECH I',\n",
       " 'PRINCIPAL ADMINISTRATIVE ANALYST',\n",
       " 'ADMINISTRATIVE ENGINEER',\n",
       " 'BUILDING INSPECTOR',\n",
       " 'SENIOR COUNSELOR, JUVENILE HALL',\n",
       " 'MANAGER V - MUNICIPAL TRANSPORTATION AGENCY',\n",
       " 'TRANSIT CAR CLEANER',\n",
       " 'PROJECT MANAGER II',\n",
       " 'MANAGER II',\n",
       " 'IS BUSINESS ANALYST - PRINCIPAL']"
      ]
     },
     "execution_count": 45,
     "metadata": {},
     "output_type": "execute_result"
    }
   ],
   "source": [
    "Higher_female_salaries_Job = []\n",
    "for i in Higher_female_salaries:\n",
    "    if i not in Higher_female_salaries_Job:\n",
    "        Higher_female_salaries_Job.append(i)\n",
    "print(len(Higher_female_salaries_Job))\n",
    "Higher_female_salaries_Job"
   ]
  },
  {
   "cell_type": "markdown",
   "id": "509b2ab8",
   "metadata": {
    "papermill": {
     "duration": 0.075769,
     "end_time": "2021-12-09T07:27:37.754597",
     "exception": false,
     "start_time": "2021-12-09T07:27:37.678828",
     "status": "completed"
    },
    "tags": []
   },
   "source": [
    "### In sf-salaries.csv data, it has 110071 rows of data with 2103 unique task titles. It took too long to test only the top 3,000 data among the 110071 datasets. Of the total 3,000 job datasets (198 unique jobs), there are 444 jobs (50 unique jobs), where women's salaries are higher than men's. So there are about 15% of jobs where women are paid more than men.\n",
    "\n",
    "### Since I tested only 2.7% of the total dataset, I'm not sure if there's a wage gap between men and women. Although this dataset shows that there is a slight wage gap between men and women, there are also jobs where women are paid higher.\n",
    "\n",
    "### In order to accurately compare the salaries difference between the male and the female, I think we have to consider job title, levels, year of experience, location, etc. \n"
   ]
  }
 ],
 "metadata": {
  "kernelspec": {
   "display_name": "Python 3",
   "language": "python",
   "name": "python3"
  },
  "language_info": {
   "codemirror_mode": {
    "name": "ipython",
    "version": 3
   },
   "file_extension": ".py",
   "mimetype": "text/x-python",
   "name": "python",
   "nbconvert_exporter": "python",
   "pygments_lexer": "ipython3",
   "version": "3.7.12"
  },
  "papermill": {
   "default_parameters": {},
   "duration": 242.295818,
   "end_time": "2021-12-09T07:27:38.743808",
   "environment_variables": {},
   "exception": null,
   "input_path": "__notebook__.ipynb",
   "output_path": "__notebook__.ipynb",
   "parameters": {},
   "start_time": "2021-12-09T07:23:36.447990",
   "version": "2.3.3"
  }
 },
 "nbformat": 4,
 "nbformat_minor": 5
}
