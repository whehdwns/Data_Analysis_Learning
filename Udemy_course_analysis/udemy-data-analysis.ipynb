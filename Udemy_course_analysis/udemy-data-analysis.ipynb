{
 "cells": [
  {
   "cell_type": "code",
   "execution_count": 1,
   "id": "e678c8e5",
   "metadata": {
    "_cell_guid": "b1076dfc-b9ad-4769-8c92-a6c4dae69d19",
    "_uuid": "8f2839f25d086af736a60e9eeb907d3b93b6e0e5",
    "execution": {
     "iopub.execute_input": "2021-12-09T23:33:04.321416Z",
     "iopub.status.busy": "2021-12-09T23:33:04.319567Z",
     "iopub.status.idle": "2021-12-09T23:33:05.418462Z",
     "shell.execute_reply": "2021-12-09T23:33:05.419603Z",
     "shell.execute_reply.started": "2021-12-09T23:26:32.132178Z"
    },
    "papermill": {
     "duration": 1.136428,
     "end_time": "2021-12-09T23:33:05.420126",
     "exception": false,
     "start_time": "2021-12-09T23:33:04.283698",
     "status": "completed"
    },
    "tags": []
   },
   "outputs": [
    {
     "name": "stdout",
     "output_type": "stream",
     "text": [
      "/kaggle/input/finance-accounting-courses-udemy-13k-course/udemy_output_All_Finance__Accounting_p1_p626.csv\n"
     ]
    }
   ],
   "source": [
    "# This Python 3 environment comes with many helpful analytics libraries installed\n",
    "# It is defined by the kaggle/python Docker image: https://github.com/kaggle/docker-python\n",
    "# For example, here's several helpful packages to load\n",
    "\n",
    "import numpy as np # linear algebra\n",
    "import pandas as pd # data processing, CSV file I/O (e.g. pd.read_csv)\n",
    "import matplotlib.pyplot as plt\n",
    "import warnings\n",
    "import seaborn as sns\n",
    "warnings.filterwarnings('ignore')\n",
    "\n",
    "# Input data files are available in the read-only \"../input/\" directory\n",
    "# For example, running this (by clicking run or pressing Shift+Enter) will list all files under the input directory\n",
    "\n",
    "import os\n",
    "for dirname, _, filenames in os.walk('/kaggle/input'):\n",
    "    for filename in filenames:\n",
    "        print(os.path.join(dirname, filename))\n",
    "\n",
    "# You can write up to 20GB to the current directory (/kaggle/working/) that gets preserved as output when you create a version using \"Save & Run All\" \n",
    "# You can also write temporary files to /kaggle/temp/, but they won't be saved outside of the current session"
   ]
  },
  {
   "cell_type": "code",
   "execution_count": 2,
   "id": "ec9d7978",
   "metadata": {
    "execution": {
     "iopub.execute_input": "2021-12-09T23:33:05.485062Z",
     "iopub.status.busy": "2021-12-09T23:33:05.484022Z",
     "iopub.status.idle": "2021-12-09T23:33:05.655590Z",
     "shell.execute_reply": "2021-12-09T23:33:05.654995Z",
     "shell.execute_reply.started": "2021-12-09T23:26:53.854142Z"
    },
    "papermill": {
     "duration": 0.204449,
     "end_time": "2021-12-09T23:33:05.655748",
     "exception": false,
     "start_time": "2021-12-09T23:33:05.451299",
     "status": "completed"
    },
    "tags": []
   },
   "outputs": [],
   "source": [
    "udemy_original_data = pd.read_csv('../input/finance-accounting-courses-udemy-13k-course/udemy_output_All_Finance__Accounting_p1_p626.csv')"
   ]
  },
  {
   "cell_type": "code",
   "execution_count": 3,
   "id": "16c4c68b",
   "metadata": {
    "execution": {
     "iopub.execute_input": "2021-12-09T23:33:05.720711Z",
     "iopub.status.busy": "2021-12-09T23:33:05.719670Z",
     "iopub.status.idle": "2021-12-09T23:33:05.750518Z",
     "shell.execute_reply": "2021-12-09T23:33:05.751082Z",
     "shell.execute_reply.started": "2021-12-09T23:27:00.779596Z"
    },
    "papermill": {
     "duration": 0.065458,
     "end_time": "2021-12-09T23:33:05.751275",
     "exception": false,
     "start_time": "2021-12-09T23:33:05.685817",
     "status": "completed"
    },
    "tags": []
   },
   "outputs": [
    {
     "data": {
      "text/html": [
       "<div>\n",
       "<style scoped>\n",
       "    .dataframe tbody tr th:only-of-type {\n",
       "        vertical-align: middle;\n",
       "    }\n",
       "\n",
       "    .dataframe tbody tr th {\n",
       "        vertical-align: top;\n",
       "    }\n",
       "\n",
       "    .dataframe thead th {\n",
       "        text-align: right;\n",
       "    }\n",
       "</style>\n",
       "<table border=\"1\" class=\"dataframe\">\n",
       "  <thead>\n",
       "    <tr style=\"text-align: right;\">\n",
       "      <th></th>\n",
       "      <th>id</th>\n",
       "      <th>title</th>\n",
       "      <th>url</th>\n",
       "      <th>is_paid</th>\n",
       "      <th>num_subscribers</th>\n",
       "      <th>avg_rating</th>\n",
       "      <th>avg_rating_recent</th>\n",
       "      <th>rating</th>\n",
       "      <th>num_reviews</th>\n",
       "      <th>is_wishlisted</th>\n",
       "      <th>num_published_lectures</th>\n",
       "      <th>num_published_practice_tests</th>\n",
       "      <th>created</th>\n",
       "      <th>published_time</th>\n",
       "      <th>discount_price__amount</th>\n",
       "      <th>discount_price__currency</th>\n",
       "      <th>discount_price__price_string</th>\n",
       "      <th>price_detail__amount</th>\n",
       "      <th>price_detail__currency</th>\n",
       "      <th>price_detail__price_string</th>\n",
       "    </tr>\n",
       "  </thead>\n",
       "  <tbody>\n",
       "    <tr>\n",
       "      <th>0</th>\n",
       "      <td>762616</td>\n",
       "      <td>The Complete SQL Bootcamp 2020: Go from Zero t...</td>\n",
       "      <td>/course/the-complete-sql-bootcamp/</td>\n",
       "      <td>True</td>\n",
       "      <td>295509</td>\n",
       "      <td>4.66019</td>\n",
       "      <td>4.67874</td>\n",
       "      <td>4.67874</td>\n",
       "      <td>78006</td>\n",
       "      <td>False</td>\n",
       "      <td>84</td>\n",
       "      <td>0</td>\n",
       "      <td>2016-02-14T22:57:48Z</td>\n",
       "      <td>2016-04-06T05:16:11Z</td>\n",
       "      <td>455.0</td>\n",
       "      <td>INR</td>\n",
       "      <td>₹455</td>\n",
       "      <td>8640.0</td>\n",
       "      <td>INR</td>\n",
       "      <td>₹8,640</td>\n",
       "    </tr>\n",
       "    <tr>\n",
       "      <th>1</th>\n",
       "      <td>937678</td>\n",
       "      <td>Tableau 2020 A-Z: Hands-On Tableau Training fo...</td>\n",
       "      <td>/course/tableau10/</td>\n",
       "      <td>True</td>\n",
       "      <td>209070</td>\n",
       "      <td>4.58956</td>\n",
       "      <td>4.60015</td>\n",
       "      <td>4.60015</td>\n",
       "      <td>54581</td>\n",
       "      <td>False</td>\n",
       "      <td>78</td>\n",
       "      <td>0</td>\n",
       "      <td>2016-08-22T12:10:18Z</td>\n",
       "      <td>2016-08-23T16:59:49Z</td>\n",
       "      <td>455.0</td>\n",
       "      <td>INR</td>\n",
       "      <td>₹455</td>\n",
       "      <td>8640.0</td>\n",
       "      <td>INR</td>\n",
       "      <td>₹8,640</td>\n",
       "    </tr>\n",
       "    <tr>\n",
       "      <th>2</th>\n",
       "      <td>1361790</td>\n",
       "      <td>PMP Exam Prep Seminar -  PMBOK Guide 6</td>\n",
       "      <td>/course/pmp-pmbok6-35-pdus/</td>\n",
       "      <td>True</td>\n",
       "      <td>155282</td>\n",
       "      <td>4.59491</td>\n",
       "      <td>4.59326</td>\n",
       "      <td>4.59326</td>\n",
       "      <td>52653</td>\n",
       "      <td>False</td>\n",
       "      <td>292</td>\n",
       "      <td>2</td>\n",
       "      <td>2017-09-26T16:32:48Z</td>\n",
       "      <td>2017-11-14T23:58:14Z</td>\n",
       "      <td>455.0</td>\n",
       "      <td>INR</td>\n",
       "      <td>₹455</td>\n",
       "      <td>8640.0</td>\n",
       "      <td>INR</td>\n",
       "      <td>₹8,640</td>\n",
       "    </tr>\n",
       "    <tr>\n",
       "      <th>3</th>\n",
       "      <td>648826</td>\n",
       "      <td>The Complete Financial Analyst Course 2020</td>\n",
       "      <td>/course/the-complete-financial-analyst-course/</td>\n",
       "      <td>True</td>\n",
       "      <td>245860</td>\n",
       "      <td>4.54407</td>\n",
       "      <td>4.53772</td>\n",
       "      <td>4.53772</td>\n",
       "      <td>46447</td>\n",
       "      <td>False</td>\n",
       "      <td>338</td>\n",
       "      <td>0</td>\n",
       "      <td>2015-10-23T13:34:35Z</td>\n",
       "      <td>2016-01-21T01:38:48Z</td>\n",
       "      <td>455.0</td>\n",
       "      <td>INR</td>\n",
       "      <td>₹455</td>\n",
       "      <td>8640.0</td>\n",
       "      <td>INR</td>\n",
       "      <td>₹8,640</td>\n",
       "    </tr>\n",
       "    <tr>\n",
       "      <th>4</th>\n",
       "      <td>637930</td>\n",
       "      <td>An Entire MBA in 1 Course:Award Winning Busine...</td>\n",
       "      <td>/course/an-entire-mba-in-1-courseaward-winning...</td>\n",
       "      <td>True</td>\n",
       "      <td>374836</td>\n",
       "      <td>4.47080</td>\n",
       "      <td>4.47173</td>\n",
       "      <td>4.47173</td>\n",
       "      <td>41630</td>\n",
       "      <td>False</td>\n",
       "      <td>83</td>\n",
       "      <td>0</td>\n",
       "      <td>2015-10-12T06:39:46Z</td>\n",
       "      <td>2016-01-11T21:39:33Z</td>\n",
       "      <td>455.0</td>\n",
       "      <td>INR</td>\n",
       "      <td>₹455</td>\n",
       "      <td>8640.0</td>\n",
       "      <td>INR</td>\n",
       "      <td>₹8,640</td>\n",
       "    </tr>\n",
       "  </tbody>\n",
       "</table>\n",
       "</div>"
      ],
      "text/plain": [
       "        id                                              title  \\\n",
       "0   762616  The Complete SQL Bootcamp 2020: Go from Zero t...   \n",
       "1   937678  Tableau 2020 A-Z: Hands-On Tableau Training fo...   \n",
       "2  1361790             PMP Exam Prep Seminar -  PMBOK Guide 6   \n",
       "3   648826         The Complete Financial Analyst Course 2020   \n",
       "4   637930  An Entire MBA in 1 Course:Award Winning Busine...   \n",
       "\n",
       "                                                 url  is_paid  \\\n",
       "0                 /course/the-complete-sql-bootcamp/     True   \n",
       "1                                 /course/tableau10/     True   \n",
       "2                        /course/pmp-pmbok6-35-pdus/     True   \n",
       "3     /course/the-complete-financial-analyst-course/     True   \n",
       "4  /course/an-entire-mba-in-1-courseaward-winning...     True   \n",
       "\n",
       "   num_subscribers  avg_rating  avg_rating_recent   rating  num_reviews  \\\n",
       "0           295509     4.66019            4.67874  4.67874        78006   \n",
       "1           209070     4.58956            4.60015  4.60015        54581   \n",
       "2           155282     4.59491            4.59326  4.59326        52653   \n",
       "3           245860     4.54407            4.53772  4.53772        46447   \n",
       "4           374836     4.47080            4.47173  4.47173        41630   \n",
       "\n",
       "   is_wishlisted  num_published_lectures  num_published_practice_tests  \\\n",
       "0          False                      84                             0   \n",
       "1          False                      78                             0   \n",
       "2          False                     292                             2   \n",
       "3          False                     338                             0   \n",
       "4          False                      83                             0   \n",
       "\n",
       "                created        published_time  discount_price__amount  \\\n",
       "0  2016-02-14T22:57:48Z  2016-04-06T05:16:11Z                   455.0   \n",
       "1  2016-08-22T12:10:18Z  2016-08-23T16:59:49Z                   455.0   \n",
       "2  2017-09-26T16:32:48Z  2017-11-14T23:58:14Z                   455.0   \n",
       "3  2015-10-23T13:34:35Z  2016-01-21T01:38:48Z                   455.0   \n",
       "4  2015-10-12T06:39:46Z  2016-01-11T21:39:33Z                   455.0   \n",
       "\n",
       "  discount_price__currency discount_price__price_string  price_detail__amount  \\\n",
       "0                      INR                         ₹455                8640.0   \n",
       "1                      INR                         ₹455                8640.0   \n",
       "2                      INR                         ₹455                8640.0   \n",
       "3                      INR                         ₹455                8640.0   \n",
       "4                      INR                         ₹455                8640.0   \n",
       "\n",
       "  price_detail__currency price_detail__price_string  \n",
       "0                    INR                     ₹8,640  \n",
       "1                    INR                     ₹8,640  \n",
       "2                    INR                     ₹8,640  \n",
       "3                    INR                     ₹8,640  \n",
       "4                    INR                     ₹8,640  "
      ]
     },
     "execution_count": 3,
     "metadata": {},
     "output_type": "execute_result"
    }
   ],
   "source": [
    "udemy_dataset = udemy_original_data.copy()\n",
    "udemy_dataset.head()"
   ]
  },
  {
   "cell_type": "code",
   "execution_count": 4,
   "id": "c97d3784",
   "metadata": {
    "execution": {
     "iopub.execute_input": "2021-12-09T23:33:05.830131Z",
     "iopub.status.busy": "2021-12-09T23:33:05.828994Z",
     "iopub.status.idle": "2021-12-09T23:33:05.837950Z",
     "shell.execute_reply": "2021-12-09T23:33:05.837398Z",
     "shell.execute_reply.started": "2021-12-09T23:27:08.830931Z"
    },
    "papermill": {
     "duration": 0.056621,
     "end_time": "2021-12-09T23:33:05.838104",
     "exception": false,
     "start_time": "2021-12-09T23:33:05.781483",
     "status": "completed"
    },
    "tags": []
   },
   "outputs": [
    {
     "data": {
      "text/plain": [
       "id                                 0\n",
       "title                              0\n",
       "url                                0\n",
       "is_paid                            0\n",
       "num_subscribers                    0\n",
       "avg_rating                         0\n",
       "avg_rating_recent                  0\n",
       "rating                             0\n",
       "num_reviews                        0\n",
       "is_wishlisted                      0\n",
       "num_published_lectures             0\n",
       "num_published_practice_tests       0\n",
       "created                            0\n",
       "published_time                     0\n",
       "discount_price__amount          1403\n",
       "discount_price__currency        1403\n",
       "discount_price__price_string    1403\n",
       "price_detail__amount             497\n",
       "price_detail__currency           497\n",
       "price_detail__price_string       497\n",
       "dtype: int64"
      ]
     },
     "execution_count": 4,
     "metadata": {},
     "output_type": "execute_result"
    }
   ],
   "source": [
    "udemy_dataset.isnull().sum()"
   ]
  },
  {
   "cell_type": "code",
   "execution_count": 5,
   "id": "ea12b4fe",
   "metadata": {
    "execution": {
     "iopub.execute_input": "2021-12-09T23:33:05.923447Z",
     "iopub.status.busy": "2021-12-09T23:33:05.922601Z",
     "iopub.status.idle": "2021-12-09T23:33:05.926782Z",
     "shell.execute_reply": "2021-12-09T23:33:05.926185Z",
     "shell.execute_reply.started": "2021-12-09T23:27:14.922716Z"
    },
    "papermill": {
     "duration": 0.058576,
     "end_time": "2021-12-09T23:33:05.926958",
     "exception": false,
     "start_time": "2021-12-09T23:33:05.868382",
     "status": "completed"
    },
    "tags": []
   },
   "outputs": [
    {
     "name": "stdout",
     "output_type": "stream",
     "text": [
      "volume of NaNs of discount_price__amount is 10.31%\n",
      "volume of NaNs of discount_price__currency is 10.31%\n",
      "volume of NaNs of discount_price__price_string is 10.31%\n",
      "volume of NaNs of price_detail__amount is 3.65%\n",
      "volume of NaNs of price_detail__currency  is 3.65%\n",
      "volume of NaNs of price_detail__price_string is 3.65%\n"
     ]
    }
   ],
   "source": [
    "check_null_discount_price__amount = (udemy_dataset.discount_price__amount.isnull().sum())/(len(udemy_dataset.discount_price__amount))*100\n",
    "check_null_discount_price__currency = (udemy_dataset.discount_price__currency.isnull().sum())/(len(udemy_dataset.discount_price__currency))*100\n",
    "check_null_discount_price__price_string = (udemy_dataset.discount_price__price_string.isnull().sum())/(len(udemy_dataset.discount_price__price_string))*100\n",
    "check_null_price_detail__amount = (udemy_dataset.price_detail__amount.isnull().sum())/(len(udemy_dataset.price_detail__amount))*100\n",
    "check_null_price_detail__currency= (udemy_dataset.price_detail__currency.isnull().sum())/(len(udemy_dataset.price_detail__currency))*100\n",
    "check_null_price_detail__price_string  = (udemy_dataset.price_detail__price_string.isnull().sum())/(len(udemy_dataset.price_detail__price_string))*100\n",
    "\n",
    "print(\"volume of NaNs of discount_price__amount is \" + str(round(check_null_discount_price__amount,2))+\"%\")\n",
    "print(\"volume of NaNs of discount_price__currency is \" + str(round(check_null_discount_price__currency,2))+\"%\")\n",
    "print(\"volume of NaNs of discount_price__price_string is \" + str(round(check_null_discount_price__price_string,2))+\"%\")\n",
    "print(\"volume of NaNs of price_detail__amount is \" + str(round(check_null_price_detail__amount,2))+\"%\")\n",
    "print(\"volume of NaNs of price_detail__currency  is \" + str(round(check_null_price_detail__currency,2))+\"%\")\n",
    "print(\"volume of NaNs of price_detail__price_string is \" + str(round(check_null_price_detail__price_string,2))+\"%\")"
   ]
  },
  {
   "cell_type": "code",
   "execution_count": 6,
   "id": "74dac577",
   "metadata": {
    "execution": {
     "iopub.execute_input": "2021-12-09T23:33:05.995649Z",
     "iopub.status.busy": "2021-12-09T23:33:05.994782Z",
     "iopub.status.idle": "2021-12-09T23:33:05.999582Z",
     "shell.execute_reply": "2021-12-09T23:33:05.999061Z",
     "shell.execute_reply.started": "2021-12-09T23:27:20.424603Z"
    },
    "papermill": {
     "duration": 0.040787,
     "end_time": "2021-12-09T23:33:05.999745",
     "exception": false,
     "start_time": "2021-12-09T23:33:05.958958",
     "status": "completed"
    },
    "tags": []
   },
   "outputs": [
    {
     "data": {
      "text/plain": [
       "13608"
      ]
     },
     "execution_count": 6,
     "metadata": {},
     "output_type": "execute_result"
    }
   ],
   "source": [
    "len(udemy_dataset.index)"
   ]
  },
  {
   "cell_type": "code",
   "execution_count": 7,
   "id": "0f4a8c1b",
   "metadata": {
    "execution": {
     "iopub.execute_input": "2021-12-09T23:33:06.068246Z",
     "iopub.status.busy": "2021-12-09T23:33:06.065020Z",
     "iopub.status.idle": "2021-12-09T23:33:06.071629Z",
     "shell.execute_reply": "2021-12-09T23:33:06.070929Z",
     "shell.execute_reply.started": "2021-12-09T23:27:27.700835Z"
    },
    "papermill": {
     "duration": 0.040022,
     "end_time": "2021-12-09T23:33:06.071836",
     "exception": false,
     "start_time": "2021-12-09T23:33:06.031814",
     "status": "completed"
    },
    "tags": []
   },
   "outputs": [
    {
     "data": {
      "text/plain": [
       "array(['The Complete SQL Bootcamp 2020: Go from Zero to Hero',\n",
       "       'Tableau 2020 A-Z: Hands-On Tableau Training for Data Science',\n",
       "       'PMP Exam Prep Seminar -  PMBOK Guide 6', ...,\n",
       "       'Goodwill and Method of Calculating Goodwill (Accountancy)',\n",
       "       'Poderoso Investidor',\n",
       "       'Acabou a Previdência e agora? -  Volume 03'], dtype=object)"
      ]
     },
     "execution_count": 7,
     "metadata": {},
     "output_type": "execute_result"
    }
   ],
   "source": [
    "udemy_dataset.title.values"
   ]
  },
  {
   "cell_type": "code",
   "execution_count": 8,
   "id": "3b25d6e8",
   "metadata": {
    "execution": {
     "iopub.execute_input": "2021-12-09T23:33:06.153482Z",
     "iopub.status.busy": "2021-12-09T23:33:06.152763Z",
     "iopub.status.idle": "2021-12-09T23:33:06.714041Z",
     "shell.execute_reply": "2021-12-09T23:33:06.712979Z",
     "shell.execute_reply.started": "2021-12-09T23:29:00.107718Z"
    },
    "papermill": {
     "duration": 0.608991,
     "end_time": "2021-12-09T23:33:06.714210",
     "exception": false,
     "start_time": "2021-12-09T23:33:06.105219",
     "status": "completed"
    },
    "tags": []
   },
   "outputs": [
    {
     "data": {
      "text/plain": [
       "<seaborn.axisgrid.FacetGrid at 0x7f16b6a58c90>"
      ]
     },
     "execution_count": 8,
     "metadata": {},
     "output_type": "execute_result"
    },
    {
     "data": {
      "image/png": "[encoded data removed]",
      "text/plain": [
       "<Figure size 360x360 with 1 Axes>"
      ]
     },
     "metadata": {
      "needs_background": "light"
     },
     "output_type": "display_data"
    }
   ],
   "source": [
    "sns.displot(udemy_dataset['rating'])"
   ]
  },
  {
   "cell_type": "code",
   "execution_count": 9,
   "id": "a941f6fe",
   "metadata": {
    "execution": {
     "iopub.execute_input": "2021-12-09T23:33:06.852402Z",
     "iopub.status.busy": "2021-12-09T23:33:06.826157Z",
     "iopub.status.idle": "2021-12-09T23:33:07.715661Z",
     "shell.execute_reply": "2021-12-09T23:33:07.715031Z",
     "shell.execute_reply.started": "2021-12-09T23:27:33.664500Z"
    },
    "papermill": {
     "duration": 0.967444,
     "end_time": "2021-12-09T23:33:07.715805",
     "exception": false,
     "start_time": "2021-12-09T23:33:06.748361",
     "status": "completed"
    },
    "tags": []
   },
   "outputs": [],
   "source": [
    "rating_5 = []\n",
    "rating_4 = []\n",
    "rating_3 = []\n",
    "rating_2 = []\n",
    "rating_1 = []\n",
    "rating_0 = []\n",
    "for i in range(0, len(udemy_dataset.rating.values)-1):\n",
    "    if udemy_dataset.rating.values[i] == 5.0:\n",
    "        rating_5.append(udemy_dataset.title.values[i])\n",
    "    if 4.0 <= udemy_dataset.rating.values[i] < 5.0:\n",
    "        rating_4.append(udemy_dataset.title.values[i])\n",
    "    if 3.0 <= udemy_dataset.rating.values[i] < 4.0:\n",
    "        rating_3.append(udemy_dataset.title.values[i])\n",
    "    if 2.0 <= udemy_dataset.rating.values[i] < 3.0:\n",
    "        rating_2.append(udemy_dataset.title.values[i])\n",
    "    if 1.0 <= udemy_dataset.rating.values[i] < 2.0:\n",
    "        rating_1.append(udemy_dataset.title.values[i])\n",
    "    if 0.0 <= udemy_dataset.rating.values[i] < 1.0:\n",
    "        rating_0.append(udemy_dataset.title.values[i])"
   ]
  },
  {
   "cell_type": "markdown",
   "id": "fb004aee",
   "metadata": {
    "papermill": {
     "duration": 0.031661,
     "end_time": "2021-12-09T23:33:07.780094",
     "exception": false,
     "start_time": "2021-12-09T23:33:07.748433",
     "status": "completed"
    },
    "tags": []
   },
   "source": [
    "### List of 5.0 Courses in Udemy"
   ]
  },
  {
   "cell_type": "code",
   "execution_count": 10,
   "id": "83eb7f8f",
   "metadata": {
    "execution": {
     "iopub.execute_input": "2021-12-09T23:33:07.856821Z",
     "iopub.status.busy": "2021-12-09T23:33:07.853472Z",
     "iopub.status.idle": "2021-12-09T23:33:07.860966Z",
     "shell.execute_reply": "2021-12-09T23:33:07.861475Z"
    },
    "papermill": {
     "duration": 0.049463,
     "end_time": "2021-12-09T23:33:07.861652",
     "exception": false,
     "start_time": "2021-12-09T23:33:07.812189",
     "status": "completed"
    },
    "tags": []
   },
   "outputs": [
    {
     "data": {
      "text/plain": [
       "['Advanced Upwork Interviews: A Simple Way to Earn High-Pay!',\n",
       " 'Price Action: The complete Price Action Masterclass A-Z',\n",
       " 'New! Raise funds for your innovative business with EU grants',\n",
       " 'Shipping address and Shipping cost for E-commerce series',\n",
       " 'Emotional Intelligence Training for Increased Sales',\n",
       " 'Make Money On Youtube Without Making Videos [2020 Edition]',\n",
       " 'Persuasion Psychology & Influence | Close the Deal',\n",
       " 'Energizing Your Powerful Entrepreneurial Mindset',\n",
       " 'Are You Ready to Start Your Own Preschool?',\n",
       " 'Exec 901: Introduction to Management with Slimf it Method',\n",
       " 'The Freelancing Online Business Model - Practical & Honest',\n",
       " 'Coach your team like a PRO',\n",
       " 'Quality Management Systems for Operational Excellence',\n",
       " 'Effective Listening For Business',\n",
       " 'Module 1: Supply Chain Network Designing',\n",
       " 'The basics of delivering a public speech',\n",
       " 'eTribe - People who buy from you again and again',\n",
       " 'Udemy Instructor Guide To Tracking Your Results (unofficial)',\n",
       " 'How to reveal people who dislike you',\n",
       " 'How To Present An Offer So It Gets Accepted',\n",
       " 'Medicare Provider Enrollment for a Physical Therapist PECOS',\n",
       " 'Evaluate Startup Ideas - 10 steps to score your idea',\n",
       " 'Become a Champion Communicator',\n",
       " 'Maximize Your Succes & Double Your Income',\n",
       " '[2020] Resume&Cover Letter Guide with the Canadian Recruiter',\n",
       " 'Freelancer Masterclass',\n",
       " 'How To Buy The Right iPad',\n",
       " 'RFID in Business',\n",
       " 'CPA 2020 Business Environment & Concepts (BEC) Practice Test',\n",
       " 'Plan and Manage Communications (PMI - PMP)',\n",
       " 'Grow Your Following and Increase Your Credibility Online',\n",
       " '30-day Business Blast',\n",
       " 'How to Sell Goods and Services to the Government of Canada',\n",
       " 'Master Alteryx Analytical Apps',\n",
       " 'Sales Smarts: A playbook to become a sales pro!',\n",
       " 'Amazon FBA The Ultimate Private Label Business Opportunity',\n",
       " 'Sales Mastery: Rapid B2B Sales Growth & Epic Career Success',\n",
       " 'Become a Coaching Management User',\n",
       " 'Scaled Professional Scrum (Nexus) Exam Prep Workshop | SPS',\n",
       " 'GROWTH HACKING Fiverr -- full time freelance income.',\n",
       " 'Periscope 101 Profits: Business Strategies Pro Course',\n",
       " 'Selling Diamonds: Become Brilliant',\n",
       " 'Freelancing for Artists: How to Build Your Business',\n",
       " 'HOW TO MAKE GREAT VERBAL SKILLS',\n",
       " 'Manufacturing Mastery with Production Planning & Control',\n",
       " 'Sales - A non technical way of selling',\n",
       " 'How to choose the best real estate investing niche',\n",
       " 'Defense of a DUI Breathalyzer Charge by an Ontario Attorney',\n",
       " 'How To Spot the Best Mortgage For Maximum Profit?',\n",
       " 'The Consulting Case Interview: Beginner to Expert',\n",
       " 'Just Give me the Codes: Entry Level Python',\n",
       " '3 Online Business / Side Hustle Ideas For Sports Fans',\n",
       " 'Mastering Productivity For The Busy Professional ',\n",
       " 'Become a Student Investor',\n",
       " 'Create a Money Making Pitch for More Customers and Investors',\n",
       " 'The Science of Teams (TSoT) - Theory',\n",
       " 'Business Analytics with Excel',\n",
       " 'How To Start Your Own Food Brand And Sell In Stores.',\n",
       " 'Get Approved on Upwork: How to Get Approved Your First Try',\n",
       " 'Preparing for a Profitable Business Launch',\n",
       " 'Construction Procurement Masterclass',\n",
       " 'Starting Your Business from Scratch',\n",
       " 'How To Sell Your Jewelry',\n",
       " 'Energy Management Principles Revealed',\n",
       " 'AGILE: What Is \"Real\" Agile? Part 2',\n",
       " 'Business Data Mining Using Python : Discovering Knowledge.',\n",
       " 'Etsy 101: Branding your Etsy Shop with Banner Templates- #1',\n",
       " 'Selling consulting like you mean it',\n",
       " 'How to enter the UK market?',\n",
       " 'Increase Your Profit by Understanding the Numbers',\n",
       " 'Growing Your Business Through Connecting (Networking)',\n",
       " 'Self-Publish Paperback Books With Images Using Createspace',\n",
       " 'Persuasive Business Writing Skills',\n",
       " 'Angular School ERP',\n",
       " 'Personal Lines Insurance P&C Sales and Service Guide',\n",
       " 'Online Business Plan',\n",
       " 'Want to be a Public Speaker? Everything you need to know',\n",
       " 'Create a messaging guide to grow your small business!',\n",
       " 'Mastering MS Excel - From Beginner to Advanced and Beyond',\n",
       " 'Freelancing: Learn How to Make Money Online During the COVID',\n",
       " 'Learn the structure of all successful presentations',\n",
       " 'How To Start & Run A UK Telephone Answering Service Business',\n",
       " 'Skillshare Ninja : How To Become Successful On Skillshare',\n",
       " 'Goal Setting for Professionals',\n",
       " \"Outsourcing without Fear - an Entrepreneur's Hands on Guide \",\n",
       " 'Accounting - Closing Process – Practice Test Questions',\n",
       " 'Trading in Stock Options',\n",
       " 'Crowdfunding Training Course: Everything You Need to Know',\n",
       " 'What is Government Contracting and Is It Right for You?',\n",
       " \"Project Manager's Playbook for Construction - Part 2 of 6\",\n",
       " 'The ultimate guide to remote work and landing your dream job',\n",
       " 'The Mindset of a Sales Professional',\n",
       " 'Business Basics for Professional Entrepreneurs',\n",
       " 'Online Speeches and Presentation Preparation Skills',\n",
       " 'START ANY BUSINESS',\n",
       " 'Options Trading Strategy With Moving Average False Breakout',\n",
       " 'Negotiation Mastery: Become A World Class Negotiator',\n",
       " 'Betting Basics - How to become profitable on sportsbettting',\n",
       " 'Putting the Agreement Together - No Money Down Lease Options',\n",
       " 'Intelligent Selling Masterclass',\n",
       " 'How to enter the US market?',\n",
       " 'Investing A to Z:  Value Investing (Latest Edition)',\n",
       " 'Personal Finance for YOU! - Simple and Easy Course (Canada)',\n",
       " 'Forex Trading Made Easy as ABC - With LIVE Examples Part 2',\n",
       " 'Understanding Stock-based Compensation and Retirement Plans',\n",
       " 'Coach your Clients on Debt-free Personal Finance',\n",
       " 'Crowdfunding Campaign for individuals & small organizations',\n",
       " 'Debt Collectors - Lies, Damn Lies and Deceit',\n",
       " 'Complete Cryptocurrency Course 2020 : Become Expert in 6 Hrs',\n",
       " '12 Signals to Master Any Market',\n",
       " 'Xero - Mastering Sales in Xero',\n",
       " 'Forex Trading for Beginners Course + 40 Robots Monthly',\n",
       " 'Trading Economic Cycles As A Macro Investor. Full Course.',\n",
       " 'Xero UK - Complete Accounting & Bookkeeping Training Course',\n",
       " 'Career in Quantitative Trading and Risk Management',\n",
       " 'Charts Sniper S3 : Stocks TA - Indicators and Studies',\n",
       " 'Private Equity and Venture Capital with a Witch',\n",
       " 'A million dollar idea in the Forex market',\n",
       " 'How to Make QuickBooks® More User-Friendly',\n",
       " 'The Art of Value Investing',\n",
       " 'ESTATE PLANNING',\n",
       " 'Debt Mastery 101',\n",
       " 'Protecting Your Stocks with Options Made Easy',\n",
       " 'Charts Sniper S4 : Stocks TA - Internals & Advanced Scanners',\n",
       " 'How do you improve your retail model',\n",
       " 'Cryptocurrency Millionaire Investment Mastery',\n",
       " 'Volume Trading 101: Day Trading Stocks With Volume Analysis',\n",
       " 'Take Control of Your Future - Understand Cryptocurrency',\n",
       " 'The Complete Forex Course - Make Your Money Work For You',\n",
       " \"Ted Hunter's Master Class on Financial Freedom\",\n",
       " 'CPA 2020 AUDITING(AUD) Practice Test',\n",
       " 'Introductory Microeconomics',\n",
       " 'Stock Beginner to Advance trading DIRTY SECRETS Share market',\n",
       " 'Futures Day Trading: Trade with Tapereading and Tick Charts',\n",
       " 'Macro Watch: Fourth Quarter 2013',\n",
       " 'NPV, IRR, PI using TI BAII+ calc. & on EXCEL spreadsheet',\n",
       " 'Overcome Your Fears and Start Saving Money Today!',\n",
       " 'Blockchain & Smart Contracts: Applied for Professionals',\n",
       " 'Finance & Accounting : Beginner to pro complete training!',\n",
       " 'Introduction to Forex Algorithmic Trading [Metatrader 4]',\n",
       " 'How to improve your day trading with any system',\n",
       " 'Understanding Credit Cards',\n",
       " 'Teen to Titan',\n",
       " 'Learn Finance and its management in just 248 minutes',\n",
       " 'Mastering QuickBooks v 2015 for Lawyers Training Tutorial',\n",
       " '299 Personal Grants for Houston Flood Victims To Live On',\n",
       " 'Accounting Cycle- Test Questions Only',\n",
       " 'How To Invest According To Science',\n",
       " 'How to Avoid Capital Gains Taxes',\n",
       " 'Financial Management for Entrepreneurs and Freelancers',\n",
       " 'Economics: Fundamentals of Demand and Supply Analysis',\n",
       " 'Saving is no longer a great move. Find out why now.',\n",
       " 'Performance Management',\n",
       " 'QuickBooks Desktop Bank Reconciliation, Proving All Records',\n",
       " 'Forex Trading All in One Masterclass',\n",
       " 'IFRS 16 Beginner to Advance',\n",
       " \"Let's Automate Your Personal Finances\",\n",
       " 'How To Manage Your Money Without Budgeting',\n",
       " 'About bitcoins',\n",
       " 'Structured Note Taking Vol 18: Plastic Card Organization',\n",
       " 'Tax, Accounting and Finance for non professionals',\n",
       " 'QuickBooks For Beginners: Fast Track Training',\n",
       " 'Accounting for Revenue & Related Party Transactions (ASPE)',\n",
       " 'Mastering QuickBooks Pro 2020 for Lawyers Training Tutorial',\n",
       " 'Options for Newbies - Call Options',\n",
       " 'Practical Approach to Corporate Compliance',\n",
       " 'Depreciation Accounting & Methods of depreciation',\n",
       " 'Learn to Protect, Pay off And Pass On Assets To Your Heirs',\n",
       " 'CIA Part 2- 2020 Version -  900+MCQs',\n",
       " 'Introduction to financial accounting',\n",
       " 'The Cuckoo Strategy to get European Funding',\n",
       " 'Short Term Trading: Examples| Journaling |Performance Review',\n",
       " 'Design, Implement and Update the Collection Policy',\n",
       " 'Xero Not for Profit Organization',\n",
       " '21 Strategies to Build GREAT Credit!',\n",
       " 'TGIF: Transform Grow Innovate the Finance Function',\n",
       " 'Basic credit repair 101',\n",
       " 'CPA 2020 Financial Accounting & Reporting  Practice Test',\n",
       " 'IFRS 15 - Revenue from Contracts with Customers',\n",
       " 'Statistics for Financial Analysis',\n",
       " 'How To Get Out Of Debt - Your Debt Free Journey Starts Today',\n",
       " 'Cryptocurrency Course for Beginners',\n",
       " 'Investing in real estate- step-by-step plan',\n",
       " 'Stock Market Investing for Beginners',\n",
       " 'Technical Analysis for Everyone - Learning with Charts',\n",
       " 'Capital Budgeting - Investment Appraisal',\n",
       " 'International Tax - Royalty and Fee for Technical Services',\n",
       " 'Cryptocurrency for Normal People',\n",
       " 'CFA Level 2 - Portfolio Management (2020 - 2021)',\n",
       " \"The Mom's Guide to Budgeting\",\n",
       " \"The Accountant's Guide to Climate Change\",\n",
       " 'Buy Bitcoin The Right Way',\n",
       " 'Series 7 tests by topic + Full Exam',\n",
       " 'Breaking Free from Debt for Good',\n",
       " 'Not for Profit QuickBooks Desktop vs QuickBooks Online',\n",
       " 'Options Trading in plain English for beginners',\n",
       " 'Analyzing Data with QuickBooks Online and Microsoft Excel',\n",
       " 'Online Stock Market Course',\n",
       " 'Financial Advisor Training: Practice Management Pro (Part 1)',\n",
       " 'Learn to Trade Digital Assets Successfully',\n",
       " 'Business Environment & Concepts (BEC) CPA Practice Test 2020',\n",
       " 'How To Invest in Bitcoin & Crypto in 2020 - Fundamentals',\n",
       " 'Engineering Your Tax-Free Retirement',\n",
       " 'Accountancy For All',\n",
       " 'FINANCIAL MANAGEMENT AND CAPITAL BUDGETING',\n",
       " 'Trade Based Anti Money Laundering AML Framework',\n",
       " '6. Annuities Due and Deferred',\n",
       " 'Learn numbers and associate with others',\n",
       " 'Mastering Your Money 101',\n",
       " 'Tax Minimization Strategies When Computing Corporate Taxable',\n",
       " 'Withholding Tax (TDS) on Payments to Non-resident',\n",
       " 'Blender Animation via scripting :Programming language no bar',\n",
       " 'FINANCIAL MANAGEMENT [F9] ACCA',\n",
       " 'QuickBooks Online Inventory Management',\n",
       " 'Income While You Sleep!',\n",
       " 'Time Value of Money with Excel',\n",
       " 'Transforming the Public Sector',\n",
       " 'The Complete Scalping S&P500 Course on Real Trading Account',\n",
       " 'Health Plan Finance and Risk Management - Practice Test',\n",
       " 'Learn Financial Modeling from Scratch - Part 3',\n",
       " 'Coaching Course:Investment Analysis for Your Clients',\n",
       " 'Tax Saver Series (Standard Vs. Itemized) Deductions - 2019',\n",
       " 'DIY Ethical-Sustainable Investing Pays Tutorial',\n",
       " 'Basic Budgeting Strategies with Google Sheets',\n",
       " 'Budgeting and Planning to Save',\n",
       " 'Companies act,2013 with practical examples',\n",
       " 'Financial Triage - Your first step to financial wellness',\n",
       " 'QuickBooks (Beginners & Advanced): Fast Track Training',\n",
       " '5 Easy Steps To Increase Your Credit Score',\n",
       " 'Ethereum Developer Masterclass | Blockchain Development',\n",
       " 'A Complete Guide To Trading The Financial Markets',\n",
       " 'College Visits on a Budget',\n",
       " 'Unfailing Principles Of Wealth',\n",
       " 'Cryptocurrency 101: Investing in the Future of the Economy',\n",
       " 'Live FX Trading on Real Account With Gravity',\n",
       " 'How to Budget: From Basics to Levels of Financial Literacy',\n",
       " 'InvestSmart: Investing in Cryptocurrency for Beginners',\n",
       " 'MINIMALIST TRADER',\n",
       " 'Introduction to Excel for Finance and Accounting',\n",
       " 'Blockchain și Bitcoin pe înțelesul tuturor - ghid pas cu pas',\n",
       " 'Definición de Persona Física y Persona Moral',\n",
       " 'The Ultimate Technical & Fundamental Analysis',\n",
       " 'Como hacer empresa en 10 sesiones prácticas',\n",
       " 'Investimentos - Os segredos da mente para investir melhor',\n",
       " 'Practical Course in Income Tax (INDIA)',\n",
       " 'Investir dans les parkings : Vous devez savoir cela !',\n",
       " 'המודול הפיננסי בסאפ -SAP-FI',\n",
       " 'Treinamento Super Trader - Dólar Futuro',\n",
       " 'الاقتصاد لغير المتخصصين',\n",
       " 'Gestão Financeira: gerencie seu dinheiro!',\n",
       " 'Reforma Tributaria de Estados Unidos',\n",
       " 'FOREX, PRICE ACTION  TRADING con PIVOT POINTS.',\n",
       " 'Бухгалтерия с нуля до аутсорсинга',\n",
       " 'SWING TRADING: Une méthode efficace',\n",
       " 'Regime forfettario: fai la tua dichiarazione dei redditi',\n",
       " 'Borsa Yatırım Stratejisi Teknik Analiz Eğitimi(BORSA ANALİZ)',\n",
       " 'Биржевой и Жизненный Грааль: Практическое руководство',\n",
       " 'Bolsa de Valores: Os segredos do mercado de ações',\n",
       " 'Machine Learning para Finanzas',\n",
       " 'Eczanede Finans Yönetimi',\n",
       " 'Liberdade financeira',\n",
       " 'ביטקוין בגובה העניים',\n",
       " 'Prográmate para incrementar tus ingresos',\n",
       " 'Tally ERP9 GST Enabled (in Hindi)',\n",
       " 'ארגז הכלים שיעשה את ההבדל בהשקעות שלך בשוק ההון',\n",
       " 'Microsoft Excel Bootcamp - Sıfırdan Expert səviyyəyə .',\n",
       " 'Workshop Ao Vivo - Semana Controle Financeiro no Power Bi',\n",
       " 'Matemática Financeira e Análise de Investimentos',\n",
       " 'Trading - Portefeuille optimal ( En 2H )',\n",
       " 'Mais Dinheiro',\n",
       " 'Matemática Financeira - Passo a Passo (HP12C e Excel)',\n",
       " 'Инвестирование в краудфандинг в России и Мире',\n",
       " 'Economía 1 - Principios de Economía',\n",
       " 'Petra Klaus - Vom Soll zum Haben',\n",
       " 'Финанси на фирмата',\n",
       " 'Investindo do Zero - Educação Financeira e Mercado',\n",
       " 'Tally ERP.9  Course in Hindi',\n",
       " 'Contabilidad de Propiedad Planta y Equipo bajo NIC N°16',\n",
       " 'Dein Erster Privater Finanzplan - Für Mehr Geld als Monat',\n",
       " 'Etoro trading التداول للمبتدئين عبر منصة الإيتورو',\n",
       " 'Contabilidad para Nuevos Emprendedores',\n",
       " 'MALİYET MUHASEBESİ (SMMM YETERLİLİK SINAVINA HAZIRLIK)',\n",
       " 'Certificação Profissional Contador 2.0 na PRÁTICA',\n",
       " 'ACCA FA-Финансовый Учет (ist.Russian I Financial Accounting)',\n",
       " 'Le bitcoin et la blockchain de A à Z',\n",
       " 'Finansal Türev Ürünlere Giriş',\n",
       " 'Χρηματιστήριο και μετοχές για αρχάριους',\n",
       " 'Инвестиции в ценные бумаги. Базовый курс \"ИНВЕСТОР ПЛЮС\"',\n",
       " 'In 4 Schritten - zu deinem eigenen Bitcoin',\n",
       " 'Gestão Financeira para pequenos comerciantes',\n",
       " 'Cómo comprar su primera casa financiada en Florida',\n",
       " 'Trading pour le moyen terme: Stratégie incluse',\n",
       " 'Contabilidade Tributária - Lucro real, presumido e Simples',\n",
       " 'Jornada Rumo ao Milhão: Aprenda a investir seu dinheiro',\n",
       " 'Fundamental Analysis తెలుగు లో',\n",
       " 'Economía Financiera',\n",
       " 'MÉTODO START BOLT',\n",
       " 'Bitcoin dalla teoria alla pratica - sezione Blockchain',\n",
       " 'Contrôle de Gestion: Notions de base avec études de cas',\n",
       " 'TECHNICAL ANALYSIS ADVANCE SWING TRADING STRATEGY(2020)',\n",
       " 'Forex Strategy Somali',\n",
       " 'Finanzas Personales y Como Empezar a Invertir',\n",
       " 'Финансовый анализ в Excel',\n",
       " 'Masterclass  de Plame y T-registro',\n",
       " 'Forex-Viop-Borsa Yatırımlarına yönelik TEKNİK ANALİZ EĞİTİMİ',\n",
       " 'TEMEL FİNANS MATEMATİĞİ VE DEĞERLEME YÖNTEMLERİ',\n",
       " 'Dashboards mit Excel - Teil 3',\n",
       " 'Contabilidad para No Contadores',\n",
       " 'Pague a cuotas sin intereses con su tarjeta de crédito',\n",
       " '株式投資テクニカル入門「初心者コース」',\n",
       " 'Excel para Bancários (do básico ao avançado)',\n",
       " 'Forex MasterClass de Cero a Avanzado- Ejemplos en Vivo',\n",
       " 'Ahorra en tu factura energética',\n",
       " 'forex and you',\n",
       " 'Cartões de Crédito - Como Ter os Melhores Benefícios',\n",
       " 'Aprenda a fazer declaração de imposto de renda Pessoa Física',\n",
       " 'Como livrar-se das dívidas, investir e ganhar dinheiro',\n",
       " 'Finanças Pessoais na prática para iniciantes com EXCEL',\n",
       " 'احترف التداول في سوق الفوركس FOREX Trading',\n",
       " 'Aprenda a investir na Bolsa de Valores',\n",
       " 'Crashkurs Steuern für Selbständige Teil 2: Gewinnermittlung',\n",
       " '海外デモ口座とMetaTrader4で実践する仮想通貨トレード',\n",
       " 'Sage 50 Accounting  basic to Advance training in Hindi Urdu',\n",
       " 'Kryptowaluty Jak Zacząć',\n",
       " 'Introduccion a las Opciones de Compra y a Opciones de Venta',\n",
       " '全面掌握ICO知识做聪明的投资者',\n",
       " 'Morgan教你学习量化投资与程序化交易 (EP7:量化选股:基本面与技术面因子)',\n",
       " 'مهارات كشف التزييف والتزوير في الاوراق النقدية والمستندات',\n",
       " 'QuickBooks Pro Desktop for beginners in Hindi/Urdu',\n",
       " 'Инвестиции для чайников',\n",
       " 'Guia básico para investir em ações no longo prazo',\n",
       " '非凡葉芷娟跟你一起解讀散戶的 50 道難題',\n",
       " 'Meaning and Scope of Business Economics (in Hindi)',\n",
       " 'Reich werden, reich bleiben-Mehr auskommen mit dem Einkommen',\n",
       " 'SPSS Statistics   Master SPSS  | برنامج الاحصاء',\n",
       " 'Workshop Ao Vivo - Imersão em Power Bi',\n",
       " 'SHARE MARKET PREMIUM COURSE',\n",
       " 'Liberdade Financeira',\n",
       " 'OS MELHORES SISTEMAS PARA DAY TRADE!',\n",
       " 'Factura electrónica en Colombia',\n",
       " '飛岡健\\u3000経済の秘密解明講座vol.2',\n",
       " 'HOW TO FILE GSTR1 RETURN & HOW TO CALCULATE VALUE FOR GSTR-1',\n",
       " 'Forex Training dhameystiran',\n",
       " 'Bagaimana Cara Melakukan Penelitian Akuntansi untuk Pemula',\n",
       " 'Cours complet sur la Blockchain & les Crypto monnaies',\n",
       " 'Como se Aposentar ? - Previdência Privada para Iniciantes',\n",
       " 'Sistem Kontrol Manajemen untuk Pemula',\n",
       " '12th Accountancy CBSE']"
      ]
     },
     "execution_count": 10,
     "metadata": {},
     "output_type": "execute_result"
    }
   ],
   "source": [
    "rating_5"
   ]
  },
  {
   "cell_type": "code",
   "execution_count": 11,
   "id": "dbdb9353",
   "metadata": {
    "execution": {
     "iopub.execute_input": "2021-12-09T23:33:07.933983Z",
     "iopub.status.busy": "2021-12-09T23:33:07.932969Z",
     "iopub.status.idle": "2021-12-09T23:33:07.937998Z",
     "shell.execute_reply": "2021-12-09T23:33:07.938594Z",
     "shell.execute_reply.started": "2021-12-09T23:27:40.449764Z"
    },
    "papermill": {
     "duration": 0.042104,
     "end_time": "2021-12-09T23:33:07.938761",
     "exception": false,
     "start_time": "2021-12-09T23:33:07.896657",
     "status": "completed"
    },
    "tags": []
   },
   "outputs": [],
   "source": [
    "def label_graph(ax):\n",
    "    for p in ax.patches:\n",
    "        height = p.get_height()\n",
    "        ax.text(p.get_x() + p.get_width() / 2., height + 3, height, ha = 'center', size = 15)"
   ]
  },
  {
   "cell_type": "code",
   "execution_count": 12,
   "id": "26d4baa2",
   "metadata": {
    "execution": {
     "iopub.execute_input": "2021-12-09T23:33:08.008798Z",
     "iopub.status.busy": "2021-12-09T23:33:08.007821Z",
     "iopub.status.idle": "2021-12-09T23:33:08.223887Z",
     "shell.execute_reply": "2021-12-09T23:33:08.224349Z",
     "shell.execute_reply.started": "2021-12-09T23:27:45.559406Z"
    },
    "papermill": {
     "duration": 0.252456,
     "end_time": "2021-12-09T23:33:08.224522",
     "exception": false,
     "start_time": "2021-12-09T23:33:07.972066",
     "status": "completed"
    },
    "tags": []
   },
   "outputs": [
    {
     "data": {
      "image/png": "[encoded data removed]",
      "text/plain": [
       "<Figure size 432x288 with 1 Axes>"
      ]
     },
     "metadata": {
      "needs_background": "light"
     },
     "output_type": "display_data"
    }
   ],
   "source": [
    "fig = plt.figure()\n",
    "ax = fig.add_axes([0,0,1,1])\n",
    "udemy_rating_label = [\"0.0\", \"1.0\", \"2.0\", \"3.0\", \"4.0\", \"5.0\"]\n",
    "udemy_rating_data = [len(rating_5), len(rating_4), len(rating_3), len(rating_2), len(rating_1), len(rating_0)]\n",
    "ax.bar(udemy_rating_label,udemy_rating_data)\n",
    "label_graph(ax)\n",
    "ax.set_ylabel('Number of Course')\n",
    "ax.set_xlabel('Course Rating')\n",
    "ax.set_title('Udemy rating')\n",
    "plt.show()"
   ]
  },
  {
   "cell_type": "code",
   "execution_count": 13,
   "id": "10dd63e3",
   "metadata": {
    "execution": {
     "iopub.execute_input": "2021-12-09T23:33:08.296357Z",
     "iopub.status.busy": "2021-12-09T23:33:08.295377Z",
     "iopub.status.idle": "2021-12-09T23:33:08.394286Z",
     "shell.execute_reply": "2021-12-09T23:33:08.394746Z",
     "shell.execute_reply.started": "2021-12-09T23:28:00.908565Z"
    },
    "papermill": {
     "duration": 0.136514,
     "end_time": "2021-12-09T23:33:08.394950",
     "exception": false,
     "start_time": "2021-12-09T23:33:08.258436",
     "status": "completed"
    },
    "tags": []
   },
   "outputs": [
    {
     "data": {
      "image/png": "[encoded data removed]",
      "text/plain": [
       "<Figure size 432x288 with 1 Axes>"
      ]
     },
     "metadata": {},
     "output_type": "display_data"
    }
   ],
   "source": [
    "paid_course_data = [len(udemy_dataset[udemy_dataset['is_paid']==True]),\n",
    "                    len(udemy_dataset[udemy_dataset['is_paid']==False])]\n",
    "paid_course_labels = ['Paid', 'Not Paid']\n",
    "plt.title('Udemy Paid Percentage')\n",
    "plt.pie(paid_course_data, labels = paid_course_labels, autopct='%.0f%%')\n",
    "plt.show()"
   ]
  },
  {
   "cell_type": "code",
   "execution_count": 14,
   "id": "d3f4b8a9",
   "metadata": {
    "execution": {
     "iopub.execute_input": "2021-12-09T23:33:08.468469Z",
     "iopub.status.busy": "2021-12-09T23:33:08.467774Z",
     "iopub.status.idle": "2021-12-09T23:33:09.577686Z",
     "shell.execute_reply": "2021-12-09T23:33:09.578222Z",
     "shell.execute_reply.started": "2021-12-09T23:28:07.789130Z"
    },
    "papermill": {
     "duration": 1.148218,
     "end_time": "2021-12-09T23:33:09.578431",
     "exception": false,
     "start_time": "2021-12-09T23:33:08.430213",
     "status": "completed"
    },
    "tags": []
   },
   "outputs": [
    {
     "data": {
      "text/plain": [
       "<seaborn.axisgrid.FacetGrid at 0x7f16af36ba90>"
      ]
     },
     "execution_count": 14,
     "metadata": {},
     "output_type": "execute_result"
    },
    {
     "data": {
      "image/png": "[encoded data removed]",
      "text/plain": [
       "<Figure size 360x360 with 1 Axes>"
      ]
     },
     "metadata": {
      "needs_background": "light"
     },
     "output_type": "display_data"
    }
   ],
   "source": [
    "sns.lmplot(x=\"num_subscribers\", y=\"num_reviews\",data =udemy_dataset)"
   ]
  },
  {
   "cell_type": "code",
   "execution_count": 15,
   "id": "eba9b0a3",
   "metadata": {
    "execution": {
     "iopub.execute_input": "2021-12-09T23:33:09.657040Z",
     "iopub.status.busy": "2021-12-09T23:33:09.656306Z",
     "iopub.status.idle": "2021-12-09T23:33:11.527295Z",
     "shell.execute_reply": "2021-12-09T23:33:11.526666Z",
     "shell.execute_reply.started": "2021-12-09T23:29:16.598625Z"
    },
    "papermill": {
     "duration": 1.911122,
     "end_time": "2021-12-09T23:33:11.527435",
     "exception": false,
     "start_time": "2021-12-09T23:33:09.616313",
     "status": "completed"
    },
    "tags": []
   },
   "outputs": [
    {
     "data": {
      "image/png": "[encoded data removed]",
      "text/plain": [
       "<Figure size 576x576 with 2 Axes>"
      ]
     },
     "metadata": {
      "needs_background": "light"
     },
     "output_type": "display_data"
    }
   ],
   "source": [
    "fig, axs = plt.subplots(nrows=2, figsize=(8,8))\n",
    "g1 = sns.regplot(x=\"num_subscribers\", y=\"rating\",data =udemy_dataset, ax=axs[0])\n",
    "g2 = sns.regplot(x=\"num_reviews\", y=\"rating\",data =udemy_dataset, ax=axs[1])\n",
    "g1.set(ylim=(0, 5))\n",
    "g2.set(ylim=(0, 5))\n",
    "fig.tight_layout(pad=3.0)"
   ]
  },
  {
   "cell_type": "code",
   "execution_count": 16,
   "id": "c27638dc",
   "metadata": {
    "execution": {
     "iopub.execute_input": "2021-12-09T23:33:11.614421Z",
     "iopub.status.busy": "2021-12-09T23:33:11.613573Z",
     "iopub.status.idle": "2021-12-09T23:33:11.681145Z",
     "shell.execute_reply": "2021-12-09T23:33:11.681649Z",
     "shell.execute_reply.started": "2021-12-09T23:29:24.411982Z"
    },
    "papermill": {
     "duration": 0.116686,
     "end_time": "2021-12-09T23:33:11.681828",
     "exception": false,
     "start_time": "2021-12-09T23:33:11.565142",
     "status": "completed"
    },
    "tags": []
   },
   "outputs": [
    {
     "data": {
      "text/html": [
       "<div>\n",
       "<style scoped>\n",
       "    .dataframe tbody tr th:only-of-type {\n",
       "        vertical-align: middle;\n",
       "    }\n",
       "\n",
       "    .dataframe tbody tr th {\n",
       "        vertical-align: top;\n",
       "    }\n",
       "\n",
       "    .dataframe thead th {\n",
       "        text-align: right;\n",
       "    }\n",
       "</style>\n",
       "<table border=\"1\" class=\"dataframe\">\n",
       "  <thead>\n",
       "    <tr style=\"text-align: right;\">\n",
       "      <th></th>\n",
       "      <th>id</th>\n",
       "      <th>title</th>\n",
       "      <th>url</th>\n",
       "      <th>is_paid</th>\n",
       "      <th>num_subscribers</th>\n",
       "      <th>avg_rating</th>\n",
       "      <th>avg_rating_recent</th>\n",
       "      <th>rating</th>\n",
       "      <th>num_reviews</th>\n",
       "      <th>is_wishlisted</th>\n",
       "      <th>...</th>\n",
       "      <th>created</th>\n",
       "      <th>published_time</th>\n",
       "      <th>discount_price__amount</th>\n",
       "      <th>discount_price__currency</th>\n",
       "      <th>discount_price__price_string</th>\n",
       "      <th>price_detail__amount</th>\n",
       "      <th>price_detail__currency</th>\n",
       "      <th>price_detail__price_string</th>\n",
       "      <th>created_year</th>\n",
       "      <th>published_year</th>\n",
       "    </tr>\n",
       "  </thead>\n",
       "  <tbody>\n",
       "    <tr>\n",
       "      <th>0</th>\n",
       "      <td>762616</td>\n",
       "      <td>The Complete SQL Bootcamp 2020: Go from Zero t...</td>\n",
       "      <td>/course/the-complete-sql-bootcamp/</td>\n",
       "      <td>True</td>\n",
       "      <td>295509</td>\n",
       "      <td>4.66019</td>\n",
       "      <td>4.67874</td>\n",
       "      <td>4.67874</td>\n",
       "      <td>78006</td>\n",
       "      <td>False</td>\n",
       "      <td>...</td>\n",
       "      <td>2016-02-14T22:57:48Z</td>\n",
       "      <td>2016-04-06T05:16:11Z</td>\n",
       "      <td>455.0</td>\n",
       "      <td>INR</td>\n",
       "      <td>₹455</td>\n",
       "      <td>8640.0</td>\n",
       "      <td>INR</td>\n",
       "      <td>₹8,640</td>\n",
       "      <td>2016</td>\n",
       "      <td>2016</td>\n",
       "    </tr>\n",
       "    <tr>\n",
       "      <th>1</th>\n",
       "      <td>937678</td>\n",
       "      <td>Tableau 2020 A-Z: Hands-On Tableau Training fo...</td>\n",
       "      <td>/course/tableau10/</td>\n",
       "      <td>True</td>\n",
       "      <td>209070</td>\n",
       "      <td>4.58956</td>\n",
       "      <td>4.60015</td>\n",
       "      <td>4.60015</td>\n",
       "      <td>54581</td>\n",
       "      <td>False</td>\n",
       "      <td>...</td>\n",
       "      <td>2016-08-22T12:10:18Z</td>\n",
       "      <td>2016-08-23T16:59:49Z</td>\n",
       "      <td>455.0</td>\n",
       "      <td>INR</td>\n",
       "      <td>₹455</td>\n",
       "      <td>8640.0</td>\n",
       "      <td>INR</td>\n",
       "      <td>₹8,640</td>\n",
       "      <td>2016</td>\n",
       "      <td>2016</td>\n",
       "    </tr>\n",
       "    <tr>\n",
       "      <th>2</th>\n",
       "      <td>1361790</td>\n",
       "      <td>PMP Exam Prep Seminar -  PMBOK Guide 6</td>\n",
       "      <td>/course/pmp-pmbok6-35-pdus/</td>\n",
       "      <td>True</td>\n",
       "      <td>155282</td>\n",
       "      <td>4.59491</td>\n",
       "      <td>4.59326</td>\n",
       "      <td>4.59326</td>\n",
       "      <td>52653</td>\n",
       "      <td>False</td>\n",
       "      <td>...</td>\n",
       "      <td>2017-09-26T16:32:48Z</td>\n",
       "      <td>2017-11-14T23:58:14Z</td>\n",
       "      <td>455.0</td>\n",
       "      <td>INR</td>\n",
       "      <td>₹455</td>\n",
       "      <td>8640.0</td>\n",
       "      <td>INR</td>\n",
       "      <td>₹8,640</td>\n",
       "      <td>2017</td>\n",
       "      <td>2017</td>\n",
       "    </tr>\n",
       "    <tr>\n",
       "      <th>3</th>\n",
       "      <td>648826</td>\n",
       "      <td>The Complete Financial Analyst Course 2020</td>\n",
       "      <td>/course/the-complete-financial-analyst-course/</td>\n",
       "      <td>True</td>\n",
       "      <td>245860</td>\n",
       "      <td>4.54407</td>\n",
       "      <td>4.53772</td>\n",
       "      <td>4.53772</td>\n",
       "      <td>46447</td>\n",
       "      <td>False</td>\n",
       "      <td>...</td>\n",
       "      <td>2015-10-23T13:34:35Z</td>\n",
       "      <td>2016-01-21T01:38:48Z</td>\n",
       "      <td>455.0</td>\n",
       "      <td>INR</td>\n",
       "      <td>₹455</td>\n",
       "      <td>8640.0</td>\n",
       "      <td>INR</td>\n",
       "      <td>₹8,640</td>\n",
       "      <td>2015</td>\n",
       "      <td>2016</td>\n",
       "    </tr>\n",
       "    <tr>\n",
       "      <th>4</th>\n",
       "      <td>637930</td>\n",
       "      <td>An Entire MBA in 1 Course:Award Winning Busine...</td>\n",
       "      <td>/course/an-entire-mba-in-1-courseaward-winning...</td>\n",
       "      <td>True</td>\n",
       "      <td>374836</td>\n",
       "      <td>4.47080</td>\n",
       "      <td>4.47173</td>\n",
       "      <td>4.47173</td>\n",
       "      <td>41630</td>\n",
       "      <td>False</td>\n",
       "      <td>...</td>\n",
       "      <td>2015-10-12T06:39:46Z</td>\n",
       "      <td>2016-01-11T21:39:33Z</td>\n",
       "      <td>455.0</td>\n",
       "      <td>INR</td>\n",
       "      <td>₹455</td>\n",
       "      <td>8640.0</td>\n",
       "      <td>INR</td>\n",
       "      <td>₹8,640</td>\n",
       "      <td>2015</td>\n",
       "      <td>2016</td>\n",
       "    </tr>\n",
       "    <tr>\n",
       "      <th>...</th>\n",
       "      <td>...</td>\n",
       "      <td>...</td>\n",
       "      <td>...</td>\n",
       "      <td>...</td>\n",
       "      <td>...</td>\n",
       "      <td>...</td>\n",
       "      <td>...</td>\n",
       "      <td>...</td>\n",
       "      <td>...</td>\n",
       "      <td>...</td>\n",
       "      <td>...</td>\n",
       "      <td>...</td>\n",
       "      <td>...</td>\n",
       "      <td>...</td>\n",
       "      <td>...</td>\n",
       "      <td>...</td>\n",
       "      <td>...</td>\n",
       "      <td>...</td>\n",
       "      <td>...</td>\n",
       "      <td>...</td>\n",
       "      <td>...</td>\n",
       "    </tr>\n",
       "    <tr>\n",
       "      <th>13603</th>\n",
       "      <td>3005408</td>\n",
       "      <td>מושגים בסיסיים באופציות חלק ב</td>\n",
       "      <td>/course/1-ndgzhu/</td>\n",
       "      <td>False</td>\n",
       "      <td>47</td>\n",
       "      <td>0.00000</td>\n",
       "      <td>0.00000</td>\n",
       "      <td>0.00000</td>\n",
       "      <td>0</td>\n",
       "      <td>False</td>\n",
       "      <td>...</td>\n",
       "      <td>2020-04-15T10:20:17Z</td>\n",
       "      <td>2020-04-23T02:06:55Z</td>\n",
       "      <td>NaN</td>\n",
       "      <td>NaN</td>\n",
       "      <td>NaN</td>\n",
       "      <td>NaN</td>\n",
       "      <td>NaN</td>\n",
       "      <td>NaN</td>\n",
       "      <td>2020</td>\n",
       "      <td>2020</td>\n",
       "    </tr>\n",
       "    <tr>\n",
       "      <th>13604</th>\n",
       "      <td>3467284</td>\n",
       "      <td>Programa de Integridade</td>\n",
       "      <td>/course/iaudit_programa_de_integridade/</td>\n",
       "      <td>False</td>\n",
       "      <td>19</td>\n",
       "      <td>0.00000</td>\n",
       "      <td>0.00000</td>\n",
       "      <td>0.00000</td>\n",
       "      <td>0</td>\n",
       "      <td>False</td>\n",
       "      <td>...</td>\n",
       "      <td>2020-09-01T17:57:15Z</td>\n",
       "      <td>2020-09-03T15:26:47Z</td>\n",
       "      <td>NaN</td>\n",
       "      <td>NaN</td>\n",
       "      <td>NaN</td>\n",
       "      <td>NaN</td>\n",
       "      <td>NaN</td>\n",
       "      <td>NaN</td>\n",
       "      <td>2020</td>\n",
       "      <td>2020</td>\n",
       "    </tr>\n",
       "    <tr>\n",
       "      <th>13605</th>\n",
       "      <td>3368222</td>\n",
       "      <td>Goodwill and Method of Calculating Goodwill (A...</td>\n",
       "      <td>/course/goodwill-and-method-of-calculating-goo...</td>\n",
       "      <td>False</td>\n",
       "      <td>47</td>\n",
       "      <td>0.00000</td>\n",
       "      <td>0.00000</td>\n",
       "      <td>0.00000</td>\n",
       "      <td>0</td>\n",
       "      <td>False</td>\n",
       "      <td>...</td>\n",
       "      <td>2020-07-27T02:29:18Z</td>\n",
       "      <td>2020-07-31T12:14:40Z</td>\n",
       "      <td>NaN</td>\n",
       "      <td>NaN</td>\n",
       "      <td>NaN</td>\n",
       "      <td>NaN</td>\n",
       "      <td>NaN</td>\n",
       "      <td>NaN</td>\n",
       "      <td>2020</td>\n",
       "      <td>2020</td>\n",
       "    </tr>\n",
       "    <tr>\n",
       "      <th>13606</th>\n",
       "      <td>3211345</td>\n",
       "      <td>Poderoso Investidor</td>\n",
       "      <td>/course/poderoso-investidor/</td>\n",
       "      <td>False</td>\n",
       "      <td>48</td>\n",
       "      <td>0.00000</td>\n",
       "      <td>0.00000</td>\n",
       "      <td>0.00000</td>\n",
       "      <td>0</td>\n",
       "      <td>False</td>\n",
       "      <td>...</td>\n",
       "      <td>2020-06-07T01:29:53Z</td>\n",
       "      <td>2020-07-15T10:35:38Z</td>\n",
       "      <td>NaN</td>\n",
       "      <td>NaN</td>\n",
       "      <td>NaN</td>\n",
       "      <td>NaN</td>\n",
       "      <td>NaN</td>\n",
       "      <td>NaN</td>\n",
       "      <td>2020</td>\n",
       "      <td>2020</td>\n",
       "    </tr>\n",
       "    <tr>\n",
       "      <th>13607</th>\n",
       "      <td>2935720</td>\n",
       "      <td>Acabou a Previdência e agora? -  Volume 03</td>\n",
       "      <td>/course/acabou-a-previdencia-e-agora-volume-03/</td>\n",
       "      <td>True</td>\n",
       "      <td>0</td>\n",
       "      <td>0.00000</td>\n",
       "      <td>0.00000</td>\n",
       "      <td>0.00000</td>\n",
       "      <td>0</td>\n",
       "      <td>False</td>\n",
       "      <td>...</td>\n",
       "      <td>2020-03-30T19:10:58Z</td>\n",
       "      <td>2020-04-02T16:33:32Z</td>\n",
       "      <td>NaN</td>\n",
       "      <td>NaN</td>\n",
       "      <td>NaN</td>\n",
       "      <td>NaN</td>\n",
       "      <td>NaN</td>\n",
       "      <td>NaN</td>\n",
       "      <td>2020</td>\n",
       "      <td>2020</td>\n",
       "    </tr>\n",
       "  </tbody>\n",
       "</table>\n",
       "<p>13608 rows × 22 columns</p>\n",
       "</div>"
      ],
      "text/plain": [
       "            id                                              title  \\\n",
       "0       762616  The Complete SQL Bootcamp 2020: Go from Zero t...   \n",
       "1       937678  Tableau 2020 A-Z: Hands-On Tableau Training fo...   \n",
       "2      1361790             PMP Exam Prep Seminar -  PMBOK Guide 6   \n",
       "3       648826         The Complete Financial Analyst Course 2020   \n",
       "4       637930  An Entire MBA in 1 Course:Award Winning Busine...   \n",
       "...        ...                                                ...   \n",
       "13603  3005408                      מושגים בסיסיים באופציות חלק ב   \n",
       "13604  3467284                            Programa de Integridade   \n",
       "13605  3368222  Goodwill and Method of Calculating Goodwill (A...   \n",
       "13606  3211345                                Poderoso Investidor   \n",
       "13607  2935720         Acabou a Previdência e agora? -  Volume 03   \n",
       "\n",
       "                                                     url  is_paid  \\\n",
       "0                     /course/the-complete-sql-bootcamp/     True   \n",
       "1                                     /course/tableau10/     True   \n",
       "2                            /course/pmp-pmbok6-35-pdus/     True   \n",
       "3         /course/the-complete-financial-analyst-course/     True   \n",
       "4      /course/an-entire-mba-in-1-courseaward-winning...     True   \n",
       "...                                                  ...      ...   \n",
       "13603                                  /course/1-ndgzhu/    False   \n",
       "13604            /course/iaudit_programa_de_integridade/    False   \n",
       "13605  /course/goodwill-and-method-of-calculating-goo...    False   \n",
       "13606                       /course/poderoso-investidor/    False   \n",
       "13607    /course/acabou-a-previdencia-e-agora-volume-03/     True   \n",
       "\n",
       "       num_subscribers  avg_rating  avg_rating_recent   rating  num_reviews  \\\n",
       "0               295509     4.66019            4.67874  4.67874        78006   \n",
       "1               209070     4.58956            4.60015  4.60015        54581   \n",
       "2               155282     4.59491            4.59326  4.59326        52653   \n",
       "3               245860     4.54407            4.53772  4.53772        46447   \n",
       "4               374836     4.47080            4.47173  4.47173        41630   \n",
       "...                ...         ...                ...      ...          ...   \n",
       "13603               47     0.00000            0.00000  0.00000            0   \n",
       "13604               19     0.00000            0.00000  0.00000            0   \n",
       "13605               47     0.00000            0.00000  0.00000            0   \n",
       "13606               48     0.00000            0.00000  0.00000            0   \n",
       "13607                0     0.00000            0.00000  0.00000            0   \n",
       "\n",
       "       is_wishlisted  ...               created        published_time  \\\n",
       "0              False  ...  2016-02-14T22:57:48Z  2016-04-06T05:16:11Z   \n",
       "1              False  ...  2016-08-22T12:10:18Z  2016-08-23T16:59:49Z   \n",
       "2              False  ...  2017-09-26T16:32:48Z  2017-11-14T23:58:14Z   \n",
       "3              False  ...  2015-10-23T13:34:35Z  2016-01-21T01:38:48Z   \n",
       "4              False  ...  2015-10-12T06:39:46Z  2016-01-11T21:39:33Z   \n",
       "...              ...  ...                   ...                   ...   \n",
       "13603          False  ...  2020-04-15T10:20:17Z  2020-04-23T02:06:55Z   \n",
       "13604          False  ...  2020-09-01T17:57:15Z  2020-09-03T15:26:47Z   \n",
       "13605          False  ...  2020-07-27T02:29:18Z  2020-07-31T12:14:40Z   \n",
       "13606          False  ...  2020-06-07T01:29:53Z  2020-07-15T10:35:38Z   \n",
       "13607          False  ...  2020-03-30T19:10:58Z  2020-04-02T16:33:32Z   \n",
       "\n",
       "      discount_price__amount discount_price__currency  \\\n",
       "0                      455.0                      INR   \n",
       "1                      455.0                      INR   \n",
       "2                      455.0                      INR   \n",
       "3                      455.0                      INR   \n",
       "4                      455.0                      INR   \n",
       "...                      ...                      ...   \n",
       "13603                    NaN                      NaN   \n",
       "13604                    NaN                      NaN   \n",
       "13605                    NaN                      NaN   \n",
       "13606                    NaN                      NaN   \n",
       "13607                    NaN                      NaN   \n",
       "\n",
       "       discount_price__price_string price_detail__amount  \\\n",
       "0                              ₹455               8640.0   \n",
       "1                              ₹455               8640.0   \n",
       "2                              ₹455               8640.0   \n",
       "3                              ₹455               8640.0   \n",
       "4                              ₹455               8640.0   \n",
       "...                             ...                  ...   \n",
       "13603                           NaN                  NaN   \n",
       "13604                           NaN                  NaN   \n",
       "13605                           NaN                  NaN   \n",
       "13606                           NaN                  NaN   \n",
       "13607                           NaN                  NaN   \n",
       "\n",
       "      price_detail__currency  price_detail__price_string created_year  \\\n",
       "0                        INR                      ₹8,640         2016   \n",
       "1                        INR                      ₹8,640         2016   \n",
       "2                        INR                      ₹8,640         2017   \n",
       "3                        INR                      ₹8,640         2015   \n",
       "4                        INR                      ₹8,640         2015   \n",
       "...                      ...                         ...          ...   \n",
       "13603                    NaN                         NaN         2020   \n",
       "13604                    NaN                         NaN         2020   \n",
       "13605                    NaN                         NaN         2020   \n",
       "13606                    NaN                         NaN         2020   \n",
       "13607                    NaN                         NaN         2020   \n",
       "\n",
       "      published_year  \n",
       "0               2016  \n",
       "1               2016  \n",
       "2               2017  \n",
       "3               2016  \n",
       "4               2016  \n",
       "...              ...  \n",
       "13603           2020  \n",
       "13604           2020  \n",
       "13605           2020  \n",
       "13606           2020  \n",
       "13607           2020  \n",
       "\n",
       "[13608 rows x 22 columns]"
      ]
     },
     "execution_count": 16,
     "metadata": {},
     "output_type": "execute_result"
    }
   ],
   "source": [
    "udemy_dataset['created_year'] = udemy_dataset['created'].apply(lambda x: np.int(x[0:4]))\n",
    "udemy_dataset['published_year'] = udemy_dataset['published_time'].apply(lambda x: np.int(x[0:4]))\n",
    "udemy_dataset"
   ]
  },
  {
   "cell_type": "code",
   "execution_count": 17,
   "id": "4c2c5c1c",
   "metadata": {
    "execution": {
     "iopub.execute_input": "2021-12-09T23:33:11.764742Z",
     "iopub.status.busy": "2021-12-09T23:33:11.762526Z",
     "iopub.status.idle": "2021-12-09T23:33:12.015225Z",
     "shell.execute_reply": "2021-12-09T23:33:12.014632Z",
     "shell.execute_reply.started": "2021-12-09T23:29:34.388137Z"
    },
    "papermill": {
     "duration": 0.294769,
     "end_time": "2021-12-09T23:33:12.015376",
     "exception": false,
     "start_time": "2021-12-09T23:33:11.720607",
     "status": "completed"
    },
    "tags": []
   },
   "outputs": [
    {
     "data": {
      "text/plain": [
       "Text(0.5, 1.0, '# of Course over the year')"
      ]
     },
     "execution_count": 17,
     "metadata": {},
     "output_type": "execute_result"
    },
    {
     "data": {
      "image/png": "[encoded data removed]",
      "text/plain": [
       "<Figure size 432x288 with 1 Axes>"
      ]
     },
     "metadata": {
      "needs_background": "light"
     },
     "output_type": "display_data"
    }
   ],
   "source": [
    "sns.countplot(x= \"published_year\", data= udemy_dataset).set_title('# of Course over the year')"
   ]
  },
  {
   "cell_type": "code",
   "execution_count": 18,
   "id": "bfa898af",
   "metadata": {
    "execution": {
     "iopub.execute_input": "2021-12-09T23:33:12.102174Z",
     "iopub.status.busy": "2021-12-09T23:33:12.100498Z",
     "iopub.status.idle": "2021-12-09T23:33:12.130643Z",
     "shell.execute_reply": "2021-12-09T23:33:12.129967Z",
     "shell.execute_reply.started": "2021-12-09T23:29:39.970153Z"
    },
    "papermill": {
     "duration": 0.073194,
     "end_time": "2021-12-09T23:33:12.130793",
     "exception": false,
     "start_time": "2021-12-09T23:33:12.057599",
     "status": "completed"
    },
    "tags": []
   },
   "outputs": [
    {
     "data": {
      "text/html": [
       "<div>\n",
       "<style scoped>\n",
       "    .dataframe tbody tr th:only-of-type {\n",
       "        vertical-align: middle;\n",
       "    }\n",
       "\n",
       "    .dataframe tbody tr th {\n",
       "        vertical-align: top;\n",
       "    }\n",
       "\n",
       "    .dataframe thead th {\n",
       "        text-align: right;\n",
       "    }\n",
       "</style>\n",
       "<table border=\"1\" class=\"dataframe\">\n",
       "  <thead>\n",
       "    <tr style=\"text-align: right;\">\n",
       "      <th></th>\n",
       "      <th>id</th>\n",
       "      <th>title</th>\n",
       "      <th>url</th>\n",
       "      <th>is_paid</th>\n",
       "      <th>num_subscribers</th>\n",
       "      <th>avg_rating</th>\n",
       "      <th>avg_rating_recent</th>\n",
       "      <th>rating</th>\n",
       "      <th>num_reviews</th>\n",
       "      <th>is_wishlisted</th>\n",
       "      <th>...</th>\n",
       "      <th>created</th>\n",
       "      <th>published_time</th>\n",
       "      <th>discount_price__amount</th>\n",
       "      <th>discount_price__currency</th>\n",
       "      <th>discount_price__price_string</th>\n",
       "      <th>price_detail__amount</th>\n",
       "      <th>price_detail__currency</th>\n",
       "      <th>price_detail__price_string</th>\n",
       "      <th>created_year</th>\n",
       "      <th>published_year</th>\n",
       "    </tr>\n",
       "  </thead>\n",
       "  <tbody>\n",
       "    <tr>\n",
       "      <th>0</th>\n",
       "      <td>762616</td>\n",
       "      <td>The Complete SQL Bootcamp 2020: Go from Zero t...</td>\n",
       "      <td>/course/the-complete-sql-bootcamp/</td>\n",
       "      <td>True</td>\n",
       "      <td>295509</td>\n",
       "      <td>4.66019</td>\n",
       "      <td>4.67874</td>\n",
       "      <td>4.67874</td>\n",
       "      <td>78006</td>\n",
       "      <td>False</td>\n",
       "      <td>...</td>\n",
       "      <td>2016-02-14T22:57:48Z</td>\n",
       "      <td>2016-04-06T05:16:11Z</td>\n",
       "      <td>455.0</td>\n",
       "      <td>INR</td>\n",
       "      <td>₹455</td>\n",
       "      <td>8640.0</td>\n",
       "      <td>INR</td>\n",
       "      <td>₹8,640</td>\n",
       "      <td>2016</td>\n",
       "      <td>2016</td>\n",
       "    </tr>\n",
       "    <tr>\n",
       "      <th>1</th>\n",
       "      <td>937678</td>\n",
       "      <td>Tableau 2020 A-Z: Hands-On Tableau Training fo...</td>\n",
       "      <td>/course/tableau10/</td>\n",
       "      <td>True</td>\n",
       "      <td>209070</td>\n",
       "      <td>4.58956</td>\n",
       "      <td>4.60015</td>\n",
       "      <td>4.60015</td>\n",
       "      <td>54581</td>\n",
       "      <td>False</td>\n",
       "      <td>...</td>\n",
       "      <td>2016-08-22T12:10:18Z</td>\n",
       "      <td>2016-08-23T16:59:49Z</td>\n",
       "      <td>455.0</td>\n",
       "      <td>INR</td>\n",
       "      <td>₹455</td>\n",
       "      <td>8640.0</td>\n",
       "      <td>INR</td>\n",
       "      <td>₹8,640</td>\n",
       "      <td>2016</td>\n",
       "      <td>2016</td>\n",
       "    </tr>\n",
       "    <tr>\n",
       "      <th>2</th>\n",
       "      <td>1361790</td>\n",
       "      <td>PMP Exam Prep Seminar -  PMBOK Guide 6</td>\n",
       "      <td>/course/pmp-pmbok6-35-pdus/</td>\n",
       "      <td>True</td>\n",
       "      <td>155282</td>\n",
       "      <td>4.59491</td>\n",
       "      <td>4.59326</td>\n",
       "      <td>4.59326</td>\n",
       "      <td>52653</td>\n",
       "      <td>False</td>\n",
       "      <td>...</td>\n",
       "      <td>2017-09-26T16:32:48Z</td>\n",
       "      <td>2017-11-14T23:58:14Z</td>\n",
       "      <td>455.0</td>\n",
       "      <td>INR</td>\n",
       "      <td>₹455</td>\n",
       "      <td>8640.0</td>\n",
       "      <td>INR</td>\n",
       "      <td>₹8,640</td>\n",
       "      <td>2017</td>\n",
       "      <td>2017</td>\n",
       "    </tr>\n",
       "    <tr>\n",
       "      <th>3</th>\n",
       "      <td>648826</td>\n",
       "      <td>The Complete Financial Analyst Course 2020</td>\n",
       "      <td>/course/the-complete-financial-analyst-course/</td>\n",
       "      <td>True</td>\n",
       "      <td>245860</td>\n",
       "      <td>4.54407</td>\n",
       "      <td>4.53772</td>\n",
       "      <td>4.53772</td>\n",
       "      <td>46447</td>\n",
       "      <td>False</td>\n",
       "      <td>...</td>\n",
       "      <td>2015-10-23T13:34:35Z</td>\n",
       "      <td>2016-01-21T01:38:48Z</td>\n",
       "      <td>455.0</td>\n",
       "      <td>INR</td>\n",
       "      <td>₹455</td>\n",
       "      <td>8640.0</td>\n",
       "      <td>INR</td>\n",
       "      <td>₹8,640</td>\n",
       "      <td>2015</td>\n",
       "      <td>2016</td>\n",
       "    </tr>\n",
       "    <tr>\n",
       "      <th>4</th>\n",
       "      <td>637930</td>\n",
       "      <td>An Entire MBA in 1 Course:Award Winning Busine...</td>\n",
       "      <td>/course/an-entire-mba-in-1-courseaward-winning...</td>\n",
       "      <td>True</td>\n",
       "      <td>374836</td>\n",
       "      <td>4.47080</td>\n",
       "      <td>4.47173</td>\n",
       "      <td>4.47173</td>\n",
       "      <td>41630</td>\n",
       "      <td>False</td>\n",
       "      <td>...</td>\n",
       "      <td>2015-10-12T06:39:46Z</td>\n",
       "      <td>2016-01-11T21:39:33Z</td>\n",
       "      <td>455.0</td>\n",
       "      <td>INR</td>\n",
       "      <td>₹455</td>\n",
       "      <td>8640.0</td>\n",
       "      <td>INR</td>\n",
       "      <td>₹8,640</td>\n",
       "      <td>2015</td>\n",
       "      <td>2016</td>\n",
       "    </tr>\n",
       "  </tbody>\n",
       "</table>\n",
       "<p>5 rows × 22 columns</p>\n",
       "</div>"
      ],
      "text/plain": [
       "        id                                              title  \\\n",
       "0   762616  The Complete SQL Bootcamp 2020: Go from Zero t...   \n",
       "1   937678  Tableau 2020 A-Z: Hands-On Tableau Training fo...   \n",
       "2  1361790             PMP Exam Prep Seminar -  PMBOK Guide 6   \n",
       "3   648826         The Complete Financial Analyst Course 2020   \n",
       "4   637930  An Entire MBA in 1 Course:Award Winning Busine...   \n",
       "\n",
       "                                                 url  is_paid  \\\n",
       "0                 /course/the-complete-sql-bootcamp/     True   \n",
       "1                                 /course/tableau10/     True   \n",
       "2                        /course/pmp-pmbok6-35-pdus/     True   \n",
       "3     /course/the-complete-financial-analyst-course/     True   \n",
       "4  /course/an-entire-mba-in-1-courseaward-winning...     True   \n",
       "\n",
       "   num_subscribers  avg_rating  avg_rating_recent   rating  num_reviews  \\\n",
       "0           295509     4.66019            4.67874  4.67874        78006   \n",
       "1           209070     4.58956            4.60015  4.60015        54581   \n",
       "2           155282     4.59491            4.59326  4.59326        52653   \n",
       "3           245860     4.54407            4.53772  4.53772        46447   \n",
       "4           374836     4.47080            4.47173  4.47173        41630   \n",
       "\n",
       "   is_wishlisted  ...               created        published_time  \\\n",
       "0          False  ...  2016-02-14T22:57:48Z  2016-04-06T05:16:11Z   \n",
       "1          False  ...  2016-08-22T12:10:18Z  2016-08-23T16:59:49Z   \n",
       "2          False  ...  2017-09-26T16:32:48Z  2017-11-14T23:58:14Z   \n",
       "3          False  ...  2015-10-23T13:34:35Z  2016-01-21T01:38:48Z   \n",
       "4          False  ...  2015-10-12T06:39:46Z  2016-01-11T21:39:33Z   \n",
       "\n",
       "  discount_price__amount discount_price__currency  \\\n",
       "0                  455.0                      INR   \n",
       "1                  455.0                      INR   \n",
       "2                  455.0                      INR   \n",
       "3                  455.0                      INR   \n",
       "4                  455.0                      INR   \n",
       "\n",
       "   discount_price__price_string price_detail__amount price_detail__currency  \\\n",
       "0                          ₹455               8640.0                    INR   \n",
       "1                          ₹455               8640.0                    INR   \n",
       "2                          ₹455               8640.0                    INR   \n",
       "3                          ₹455               8640.0                    INR   \n",
       "4                          ₹455               8640.0                    INR   \n",
       "\n",
       "   price_detail__price_string created_year published_year  \n",
       "0                      ₹8,640         2016           2016  \n",
       "1                      ₹8,640         2016           2016  \n",
       "2                      ₹8,640         2017           2017  \n",
       "3                      ₹8,640         2015           2016  \n",
       "4                      ₹8,640         2015           2016  \n",
       "\n",
       "[5 rows x 22 columns]"
      ]
     },
     "execution_count": 18,
     "metadata": {},
     "output_type": "execute_result"
    }
   ],
   "source": [
    "udemy_dataset_testing = udemy_dataset.copy()\n",
    "udemy_dataset_testing.head()"
   ]
  },
  {
   "cell_type": "code",
   "execution_count": 19,
   "id": "72279405",
   "metadata": {
    "execution": {
     "iopub.execute_input": "2021-12-09T23:33:12.218770Z",
     "iopub.status.busy": "2021-12-09T23:33:12.218024Z",
     "iopub.status.idle": "2021-12-09T23:33:12.238148Z",
     "shell.execute_reply": "2021-12-09T23:33:12.237502Z",
     "shell.execute_reply.started": "2021-12-09T23:29:47.250525Z"
    },
    "papermill": {
     "duration": 0.06597,
     "end_time": "2021-12-09T23:33:12.238289",
     "exception": false,
     "start_time": "2021-12-09T23:33:12.172319",
     "status": "completed"
    },
    "tags": []
   },
   "outputs": [
    {
     "data": {
      "text/plain": [
       "id                                 0\n",
       "title                              0\n",
       "url                                0\n",
       "is_paid                            0\n",
       "num_subscribers                    0\n",
       "avg_rating                         0\n",
       "avg_rating_recent                  0\n",
       "rating                             0\n",
       "num_reviews                        0\n",
       "is_wishlisted                      0\n",
       "num_published_lectures             0\n",
       "num_published_practice_tests       0\n",
       "created                            0\n",
       "published_time                     0\n",
       "discount_price__amount          1403\n",
       "discount_price__currency        1403\n",
       "discount_price__price_string    1403\n",
       "price_detail__amount             497\n",
       "price_detail__currency           497\n",
       "price_detail__price_string       497\n",
       "created_year                       0\n",
       "published_year                     0\n",
       "dtype: int64"
      ]
     },
     "execution_count": 19,
     "metadata": {},
     "output_type": "execute_result"
    }
   ],
   "source": [
    "udemy_dataset_testing.isnull().sum()"
   ]
  },
  {
   "cell_type": "code",
   "execution_count": 20,
   "id": "0ac91710",
   "metadata": {
    "execution": {
     "iopub.execute_input": "2021-12-09T23:33:12.339738Z",
     "iopub.status.busy": "2021-12-09T23:33:12.339084Z",
     "iopub.status.idle": "2021-12-09T23:33:12.343528Z",
     "shell.execute_reply": "2021-12-09T23:33:12.344026Z",
     "shell.execute_reply.started": "2021-12-09T23:29:53.848931Z"
    },
    "papermill": {
     "duration": 0.063857,
     "end_time": "2021-12-09T23:33:12.344208",
     "exception": false,
     "start_time": "2021-12-09T23:33:12.280351",
     "status": "completed"
    },
    "tags": []
   },
   "outputs": [
    {
     "data": {
      "text/html": [
       "<div>\n",
       "<style scoped>\n",
       "    .dataframe tbody tr th:only-of-type {\n",
       "        vertical-align: middle;\n",
       "    }\n",
       "\n",
       "    .dataframe tbody tr th {\n",
       "        vertical-align: top;\n",
       "    }\n",
       "\n",
       "    .dataframe thead th {\n",
       "        text-align: right;\n",
       "    }\n",
       "</style>\n",
       "<table border=\"1\" class=\"dataframe\">\n",
       "  <thead>\n",
       "    <tr style=\"text-align: right;\">\n",
       "      <th></th>\n",
       "      <th>is_paid</th>\n",
       "      <th>num_subscribers</th>\n",
       "      <th>avg_rating</th>\n",
       "      <th>avg_rating_recent</th>\n",
       "      <th>rating</th>\n",
       "      <th>num_reviews</th>\n",
       "      <th>is_wishlisted</th>\n",
       "      <th>num_published_lectures</th>\n",
       "      <th>num_published_practice_tests</th>\n",
       "      <th>discount_price__amount</th>\n",
       "      <th>price_detail__amount</th>\n",
       "      <th>created_year</th>\n",
       "      <th>published_year</th>\n",
       "    </tr>\n",
       "  </thead>\n",
       "  <tbody>\n",
       "    <tr>\n",
       "      <th>0</th>\n",
       "      <td>True</td>\n",
       "      <td>295509</td>\n",
       "      <td>4.66019</td>\n",
       "      <td>4.67874</td>\n",
       "      <td>4.67874</td>\n",
       "      <td>78006</td>\n",
       "      <td>False</td>\n",
       "      <td>84</td>\n",
       "      <td>0</td>\n",
       "      <td>455.0</td>\n",
       "      <td>8640.0</td>\n",
       "      <td>2016</td>\n",
       "      <td>2016</td>\n",
       "    </tr>\n",
       "    <tr>\n",
       "      <th>1</th>\n",
       "      <td>True</td>\n",
       "      <td>209070</td>\n",
       "      <td>4.58956</td>\n",
       "      <td>4.60015</td>\n",
       "      <td>4.60015</td>\n",
       "      <td>54581</td>\n",
       "      <td>False</td>\n",
       "      <td>78</td>\n",
       "      <td>0</td>\n",
       "      <td>455.0</td>\n",
       "      <td>8640.0</td>\n",
       "      <td>2016</td>\n",
       "      <td>2016</td>\n",
       "    </tr>\n",
       "    <tr>\n",
       "      <th>2</th>\n",
       "      <td>True</td>\n",
       "      <td>155282</td>\n",
       "      <td>4.59491</td>\n",
       "      <td>4.59326</td>\n",
       "      <td>4.59326</td>\n",
       "      <td>52653</td>\n",
       "      <td>False</td>\n",
       "      <td>292</td>\n",
       "      <td>2</td>\n",
       "      <td>455.0</td>\n",
       "      <td>8640.0</td>\n",
       "      <td>2017</td>\n",
       "      <td>2017</td>\n",
       "    </tr>\n",
       "    <tr>\n",
       "      <th>3</th>\n",
       "      <td>True</td>\n",
       "      <td>245860</td>\n",
       "      <td>4.54407</td>\n",
       "      <td>4.53772</td>\n",
       "      <td>4.53772</td>\n",
       "      <td>46447</td>\n",
       "      <td>False</td>\n",
       "      <td>338</td>\n",
       "      <td>0</td>\n",
       "      <td>455.0</td>\n",
       "      <td>8640.0</td>\n",
       "      <td>2015</td>\n",
       "      <td>2016</td>\n",
       "    </tr>\n",
       "    <tr>\n",
       "      <th>4</th>\n",
       "      <td>True</td>\n",
       "      <td>374836</td>\n",
       "      <td>4.47080</td>\n",
       "      <td>4.47173</td>\n",
       "      <td>4.47173</td>\n",
       "      <td>41630</td>\n",
       "      <td>False</td>\n",
       "      <td>83</td>\n",
       "      <td>0</td>\n",
       "      <td>455.0</td>\n",
       "      <td>8640.0</td>\n",
       "      <td>2015</td>\n",
       "      <td>2016</td>\n",
       "    </tr>\n",
       "  </tbody>\n",
       "</table>\n",
       "</div>"
      ],
      "text/plain": [
       "   is_paid  num_subscribers  avg_rating  avg_rating_recent   rating  \\\n",
       "0     True           295509     4.66019            4.67874  4.67874   \n",
       "1     True           209070     4.58956            4.60015  4.60015   \n",
       "2     True           155282     4.59491            4.59326  4.59326   \n",
       "3     True           245860     4.54407            4.53772  4.53772   \n",
       "4     True           374836     4.47080            4.47173  4.47173   \n",
       "\n",
       "   num_reviews  is_wishlisted  num_published_lectures  \\\n",
       "0        78006          False                      84   \n",
       "1        54581          False                      78   \n",
       "2        52653          False                     292   \n",
       "3        46447          False                     338   \n",
       "4        41630          False                      83   \n",
       "\n",
       "   num_published_practice_tests  discount_price__amount  price_detail__amount  \\\n",
       "0                             0                   455.0                8640.0   \n",
       "1                             0                   455.0                8640.0   \n",
       "2                             2                   455.0                8640.0   \n",
       "3                             0                   455.0                8640.0   \n",
       "4                             0                   455.0                8640.0   \n",
       "\n",
       "   created_year  published_year  \n",
       "0          2016            2016  \n",
       "1          2016            2016  \n",
       "2          2017            2017  \n",
       "3          2015            2016  \n",
       "4          2015            2016  "
      ]
     },
     "execution_count": 20,
     "metadata": {},
     "output_type": "execute_result"
    }
   ],
   "source": [
    "udemy_dataset_testing = udemy_dataset_testing.drop(['id',\n",
    "                                                    'title',\n",
    "                                                    'url',\n",
    "                                                    'created',\n",
    "                                                    'published_time',\n",
    "                                                    'discount_price__currency',\n",
    "                                                    'discount_price__price_string',\n",
    "                                                    'price_detail__currency',\n",
    "                                                    'price_detail__price_string'\n",
    "                                                   ], axis=1)\n",
    "udemy_dataset_testing.head()"
   ]
  },
  {
   "cell_type": "code",
   "execution_count": 21,
   "id": "69a06328",
   "metadata": {
    "execution": {
     "iopub.execute_input": "2021-12-09T23:33:12.431139Z",
     "iopub.status.busy": "2021-12-09T23:33:12.430429Z",
     "iopub.status.idle": "2021-12-09T23:33:12.440443Z",
     "shell.execute_reply": "2021-12-09T23:33:12.440969Z",
     "shell.execute_reply.started": "2021-12-09T23:30:00.033519Z"
    },
    "papermill": {
     "duration": 0.055395,
     "end_time": "2021-12-09T23:33:12.441145",
     "exception": false,
     "start_time": "2021-12-09T23:33:12.385750",
     "status": "completed"
    },
    "tags": []
   },
   "outputs": [
    {
     "data": {
      "text/plain": [
       "is_paid                         0\n",
       "num_subscribers                 0\n",
       "avg_rating                      0\n",
       "avg_rating_recent               0\n",
       "rating                          0\n",
       "num_reviews                     0\n",
       "is_wishlisted                   0\n",
       "num_published_lectures          0\n",
       "num_published_practice_tests    0\n",
       "discount_price__amount          0\n",
       "price_detail__amount            0\n",
       "created_year                    0\n",
       "published_year                  0\n",
       "dtype: int64"
      ]
     },
     "execution_count": 21,
     "metadata": {},
     "output_type": "execute_result"
    }
   ],
   "source": [
    "udemy_dataset_testing['discount_price__amount']= udemy_dataset_testing['discount_price__amount'].fillna(udemy_dataset_testing['discount_price__amount'].mean())\n",
    "udemy_dataset_testing['price_detail__amount']= udemy_dataset_testing['price_detail__amount'].fillna(udemy_dataset_testing['price_detail__amount'].mean())\n",
    "udemy_dataset_testing.isnull().sum()"
   ]
  },
  {
   "cell_type": "code",
   "execution_count": 22,
   "id": "891169ff",
   "metadata": {
    "execution": {
     "iopub.execute_input": "2021-12-09T23:33:12.528297Z",
     "iopub.status.busy": "2021-12-09T23:33:12.527608Z",
     "iopub.status.idle": "2021-12-09T23:33:12.533962Z",
     "shell.execute_reply": "2021-12-09T23:33:12.533406Z",
     "shell.execute_reply.started": "2021-12-09T23:30:09.580474Z"
    },
    "papermill": {
     "duration": 0.050797,
     "end_time": "2021-12-09T23:33:12.534107",
     "exception": false,
     "start_time": "2021-12-09T23:33:12.483310",
     "status": "completed"
    },
    "tags": []
   },
   "outputs": [],
   "source": [
    "udemy_dataset_testing['is_paid'] = udemy_dataset_testing['is_paid'].astype(np.int)\n",
    "udemy_dataset_testing['is_wishlisted'] = udemy_dataset_testing['is_wishlisted'].astype(np.int)"
   ]
  },
  {
   "cell_type": "code",
   "execution_count": 23,
   "id": "89e64154",
   "metadata": {
    "execution": {
     "iopub.execute_input": "2021-12-09T23:33:12.634696Z",
     "iopub.status.busy": "2021-12-09T23:33:12.633412Z",
     "iopub.status.idle": "2021-12-09T23:33:12.637982Z",
     "shell.execute_reply": "2021-12-09T23:33:12.638521Z",
     "shell.execute_reply.started": "2021-12-09T23:30:13.398497Z"
    },
    "papermill": {
     "duration": 0.062323,
     "end_time": "2021-12-09T23:33:12.638690",
     "exception": false,
     "start_time": "2021-12-09T23:33:12.576367",
     "status": "completed"
    },
    "tags": []
   },
   "outputs": [
    {
     "data": {
      "text/html": [
       "<div>\n",
       "<style scoped>\n",
       "    .dataframe tbody tr th:only-of-type {\n",
       "        vertical-align: middle;\n",
       "    }\n",
       "\n",
       "    .dataframe tbody tr th {\n",
       "        vertical-align: top;\n",
       "    }\n",
       "\n",
       "    .dataframe thead th {\n",
       "        text-align: right;\n",
       "    }\n",
       "</style>\n",
       "<table border=\"1\" class=\"dataframe\">\n",
       "  <thead>\n",
       "    <tr style=\"text-align: right;\">\n",
       "      <th></th>\n",
       "      <th>is_paid</th>\n",
       "      <th>num_subscribers</th>\n",
       "      <th>avg_rating</th>\n",
       "      <th>avg_rating_recent</th>\n",
       "      <th>rating</th>\n",
       "      <th>num_reviews</th>\n",
       "      <th>is_wishlisted</th>\n",
       "      <th>num_published_lectures</th>\n",
       "      <th>num_published_practice_tests</th>\n",
       "      <th>discount_price__amount</th>\n",
       "      <th>price_detail__amount</th>\n",
       "      <th>created_year</th>\n",
       "      <th>published_year</th>\n",
       "    </tr>\n",
       "  </thead>\n",
       "  <tbody>\n",
       "    <tr>\n",
       "      <th>0</th>\n",
       "      <td>1</td>\n",
       "      <td>295509</td>\n",
       "      <td>4.66019</td>\n",
       "      <td>4.67874</td>\n",
       "      <td>4.67874</td>\n",
       "      <td>78006</td>\n",
       "      <td>0</td>\n",
       "      <td>84</td>\n",
       "      <td>0</td>\n",
       "      <td>455.0</td>\n",
       "      <td>8640.0</td>\n",
       "      <td>2016</td>\n",
       "      <td>2016</td>\n",
       "    </tr>\n",
       "    <tr>\n",
       "      <th>1</th>\n",
       "      <td>1</td>\n",
       "      <td>209070</td>\n",
       "      <td>4.58956</td>\n",
       "      <td>4.60015</td>\n",
       "      <td>4.60015</td>\n",
       "      <td>54581</td>\n",
       "      <td>0</td>\n",
       "      <td>78</td>\n",
       "      <td>0</td>\n",
       "      <td>455.0</td>\n",
       "      <td>8640.0</td>\n",
       "      <td>2016</td>\n",
       "      <td>2016</td>\n",
       "    </tr>\n",
       "    <tr>\n",
       "      <th>2</th>\n",
       "      <td>1</td>\n",
       "      <td>155282</td>\n",
       "      <td>4.59491</td>\n",
       "      <td>4.59326</td>\n",
       "      <td>4.59326</td>\n",
       "      <td>52653</td>\n",
       "      <td>0</td>\n",
       "      <td>292</td>\n",
       "      <td>2</td>\n",
       "      <td>455.0</td>\n",
       "      <td>8640.0</td>\n",
       "      <td>2017</td>\n",
       "      <td>2017</td>\n",
       "    </tr>\n",
       "    <tr>\n",
       "      <th>3</th>\n",
       "      <td>1</td>\n",
       "      <td>245860</td>\n",
       "      <td>4.54407</td>\n",
       "      <td>4.53772</td>\n",
       "      <td>4.53772</td>\n",
       "      <td>46447</td>\n",
       "      <td>0</td>\n",
       "      <td>338</td>\n",
       "      <td>0</td>\n",
       "      <td>455.0</td>\n",
       "      <td>8640.0</td>\n",
       "      <td>2015</td>\n",
       "      <td>2016</td>\n",
       "    </tr>\n",
       "    <tr>\n",
       "      <th>4</th>\n",
       "      <td>1</td>\n",
       "      <td>374836</td>\n",
       "      <td>4.47080</td>\n",
       "      <td>4.47173</td>\n",
       "      <td>4.47173</td>\n",
       "      <td>41630</td>\n",
       "      <td>0</td>\n",
       "      <td>83</td>\n",
       "      <td>0</td>\n",
       "      <td>455.0</td>\n",
       "      <td>8640.0</td>\n",
       "      <td>2015</td>\n",
       "      <td>2016</td>\n",
       "    </tr>\n",
       "  </tbody>\n",
       "</table>\n",
       "</div>"
      ],
      "text/plain": [
       "   is_paid  num_subscribers  avg_rating  avg_rating_recent   rating  \\\n",
       "0        1           295509     4.66019            4.67874  4.67874   \n",
       "1        1           209070     4.58956            4.60015  4.60015   \n",
       "2        1           155282     4.59491            4.59326  4.59326   \n",
       "3        1           245860     4.54407            4.53772  4.53772   \n",
       "4        1           374836     4.47080            4.47173  4.47173   \n",
       "\n",
       "   num_reviews  is_wishlisted  num_published_lectures  \\\n",
       "0        78006              0                      84   \n",
       "1        54581              0                      78   \n",
       "2        52653              0                     292   \n",
       "3        46447              0                     338   \n",
       "4        41630              0                      83   \n",
       "\n",
       "   num_published_practice_tests  discount_price__amount  price_detail__amount  \\\n",
       "0                             0                   455.0                8640.0   \n",
       "1                             0                   455.0                8640.0   \n",
       "2                             2                   455.0                8640.0   \n",
       "3                             0                   455.0                8640.0   \n",
       "4                             0                   455.0                8640.0   \n",
       "\n",
       "   created_year  published_year  \n",
       "0          2016            2016  \n",
       "1          2016            2016  \n",
       "2          2017            2017  \n",
       "3          2015            2016  \n",
       "4          2015            2016  "
      ]
     },
     "execution_count": 23,
     "metadata": {},
     "output_type": "execute_result"
    }
   ],
   "source": [
    "udemy_dataset_testing.head()"
   ]
  },
  {
   "cell_type": "code",
   "execution_count": 24,
   "id": "5fdd2279",
   "metadata": {
    "execution": {
     "iopub.execute_input": "2021-12-09T23:33:12.727969Z",
     "iopub.status.busy": "2021-12-09T23:33:12.727308Z",
     "iopub.status.idle": "2021-12-09T23:33:12.733502Z",
     "shell.execute_reply": "2021-12-09T23:33:12.732795Z",
     "shell.execute_reply.started": "2021-12-09T23:30:19.348536Z"
    },
    "papermill": {
     "duration": 0.052472,
     "end_time": "2021-12-09T23:33:12.733649",
     "exception": false,
     "start_time": "2021-12-09T23:33:12.681177",
     "status": "completed"
    },
    "tags": []
   },
   "outputs": [
    {
     "data": {
      "text/plain": [
       "Index(['is_paid', 'num_subscribers', 'avg_rating', 'avg_rating_recent',\n",
       "       'rating', 'num_reviews', 'is_wishlisted', 'num_published_lectures',\n",
       "       'num_published_practice_tests', 'discount_price__amount',\n",
       "       'price_detail__amount', 'created_year', 'published_year'],\n",
       "      dtype='object')"
      ]
     },
     "execution_count": 24,
     "metadata": {},
     "output_type": "execute_result"
    }
   ],
   "source": [
    "udemy_dataset_testing.columns"
   ]
  },
  {
   "cell_type": "code",
   "execution_count": 25,
   "id": "15cc8388",
   "metadata": {
    "execution": {
     "iopub.execute_input": "2021-12-09T23:33:12.827224Z",
     "iopub.status.busy": "2021-12-09T23:33:12.826448Z",
     "iopub.status.idle": "2021-12-09T23:33:12.831303Z",
     "shell.execute_reply": "2021-12-09T23:33:12.831834Z",
     "shell.execute_reply.started": "2021-12-09T23:30:24.113527Z"
    },
    "papermill": {
     "duration": 0.055463,
     "end_time": "2021-12-09T23:33:12.832037",
     "exception": false,
     "start_time": "2021-12-09T23:33:12.776574",
     "status": "completed"
    },
    "tags": []
   },
   "outputs": [],
   "source": [
    "X = udemy_dataset_testing[['is_paid', 'num_subscribers', 'avg_rating', 'avg_rating_recent',\n",
    "                'num_reviews','is_wishlisted', 'num_published_lectures','num_published_practice_tests', \n",
    "                'discount_price__amount','price_detail__amount', 'created_year', 'published_year']]\n",
    "y = udemy_dataset_testing['rating']"
   ]
  },
  {
   "cell_type": "code",
   "execution_count": 26,
   "id": "0b05fae1",
   "metadata": {
    "execution": {
     "iopub.execute_input": "2021-12-09T23:33:12.926732Z",
     "iopub.status.busy": "2021-12-09T23:33:12.923955Z",
     "iopub.status.idle": "2021-12-09T23:33:13.111970Z",
     "shell.execute_reply": "2021-12-09T23:33:13.111378Z",
     "shell.execute_reply.started": "2021-12-09T23:30:31.562530Z"
    },
    "papermill": {
     "duration": 0.23433,
     "end_time": "2021-12-09T23:33:13.112110",
     "exception": false,
     "start_time": "2021-12-09T23:33:12.877780",
     "status": "completed"
    },
    "tags": []
   },
   "outputs": [],
   "source": [
    "from sklearn.model_selection import train_test_split\n",
    "\n",
    "X_train, X_test, y_train, y_test = train_test_split(X, y, test_size=0.25, random_state=100)"
   ]
  },
  {
   "cell_type": "markdown",
   "id": "8a08867c",
   "metadata": {
    "papermill": {
     "duration": 0.043402,
     "end_time": "2021-12-09T23:33:13.198455",
     "exception": false,
     "start_time": "2021-12-09T23:33:13.155053",
     "status": "completed"
    },
    "tags": []
   },
   "source": [
    "### Linear Regression"
   ]
  },
  {
   "cell_type": "code",
   "execution_count": 27,
   "id": "a7d03705",
   "metadata": {
    "execution": {
     "iopub.execute_input": "2021-12-09T23:33:13.291226Z",
     "iopub.status.busy": "2021-12-09T23:33:13.290474Z",
     "iopub.status.idle": "2021-12-09T23:33:13.511141Z",
     "shell.execute_reply": "2021-12-09T23:33:13.512039Z",
     "shell.execute_reply.started": "2021-12-09T23:30:41.986173Z"
    },
    "papermill": {
     "duration": 0.27072,
     "end_time": "2021-12-09T23:33:13.512325",
     "exception": false,
     "start_time": "2021-12-09T23:33:13.241605",
     "status": "completed"
    },
    "tags": []
   },
   "outputs": [
    {
     "data": {
      "text/plain": [
       "LinearRegression(normalize=True)"
      ]
     },
     "execution_count": 27,
     "metadata": {},
     "output_type": "execute_result"
    }
   ],
   "source": [
    "from sklearn.linear_model import LinearRegression\n",
    "\n",
    "lin_reg = LinearRegression(normalize=True)\n",
    "lin_reg.fit(X_train,y_train)"
   ]
  },
  {
   "cell_type": "code",
   "execution_count": 28,
   "id": "916459b3",
   "metadata": {
    "execution": {
     "iopub.execute_input": "2021-12-09T23:33:13.657571Z",
     "iopub.status.busy": "2021-12-09T23:33:13.655845Z",
     "iopub.status.idle": "2021-12-09T23:33:13.661771Z",
     "shell.execute_reply": "2021-12-09T23:33:13.662322Z",
     "shell.execute_reply.started": "2021-12-09T23:30:47.371741Z"
    },
    "papermill": {
     "duration": 0.067436,
     "end_time": "2021-12-09T23:33:13.662513",
     "exception": false,
     "start_time": "2021-12-09T23:33:13.595077",
     "status": "completed"
    },
    "tags": []
   },
   "outputs": [
    {
     "data": {
      "text/plain": [
       "-4.489741911584133e-13"
      ]
     },
     "execution_count": 28,
     "metadata": {},
     "output_type": "execute_result"
    }
   ],
   "source": [
    "lin_reg.intercept_"
   ]
  },
  {
   "cell_type": "code",
   "execution_count": 29,
   "id": "7db8a87d",
   "metadata": {
    "execution": {
     "iopub.execute_input": "2021-12-09T23:33:13.763196Z",
     "iopub.status.busy": "2021-12-09T23:33:13.762473Z",
     "iopub.status.idle": "2021-12-09T23:33:13.765146Z",
     "shell.execute_reply": "2021-12-09T23:33:13.765635Z",
     "shell.execute_reply.started": "2021-12-09T23:30:52.869965Z"
    },
    "papermill": {
     "duration": 0.059604,
     "end_time": "2021-12-09T23:33:13.765815",
     "exception": false,
     "start_time": "2021-12-09T23:33:13.706211",
     "status": "completed"
    },
    "tags": []
   },
   "outputs": [
    {
     "data": {
      "text/html": [
       "<div>\n",
       "<style scoped>\n",
       "    .dataframe tbody tr th:only-of-type {\n",
       "        vertical-align: middle;\n",
       "    }\n",
       "\n",
       "    .dataframe tbody tr th {\n",
       "        vertical-align: top;\n",
       "    }\n",
       "\n",
       "    .dataframe thead th {\n",
       "        text-align: right;\n",
       "    }\n",
       "</style>\n",
       "<table border=\"1\" class=\"dataframe\">\n",
       "  <thead>\n",
       "    <tr style=\"text-align: right;\">\n",
       "      <th></th>\n",
       "      <th>Coefficient</th>\n",
       "    </tr>\n",
       "  </thead>\n",
       "  <tbody>\n",
       "    <tr>\n",
       "      <th>is_paid</th>\n",
       "      <td>2.110661e-16</td>\n",
       "    </tr>\n",
       "    <tr>\n",
       "      <th>num_subscribers</th>\n",
       "      <td>5.700895e-21</td>\n",
       "    </tr>\n",
       "    <tr>\n",
       "      <th>avg_rating</th>\n",
       "      <td>1.026199e-16</td>\n",
       "    </tr>\n",
       "    <tr>\n",
       "      <th>avg_rating_recent</th>\n",
       "      <td>1.000000e+00</td>\n",
       "    </tr>\n",
       "    <tr>\n",
       "      <th>num_reviews</th>\n",
       "      <td>0.000000e+00</td>\n",
       "    </tr>\n",
       "    <tr>\n",
       "      <th>is_wishlisted</th>\n",
       "      <td>7.460699e-14</td>\n",
       "    </tr>\n",
       "    <tr>\n",
       "      <th>num_published_lectures</th>\n",
       "      <td>-5.897365e-18</td>\n",
       "    </tr>\n",
       "    <tr>\n",
       "      <th>num_published_practice_tests</th>\n",
       "      <td>-1.554999e-16</td>\n",
       "    </tr>\n",
       "    <tr>\n",
       "      <th>discount_price__amount</th>\n",
       "      <td>-3.699972e-19</td>\n",
       "    </tr>\n",
       "    <tr>\n",
       "      <th>price_detail__amount</th>\n",
       "      <td>2.140828e-20</td>\n",
       "    </tr>\n",
       "    <tr>\n",
       "      <th>created_year</th>\n",
       "      <td>7.883793e-17</td>\n",
       "    </tr>\n",
       "    <tr>\n",
       "      <th>published_year</th>\n",
       "      <td>1.426046e-16</td>\n",
       "    </tr>\n",
       "  </tbody>\n",
       "</table>\n",
       "</div>"
      ],
      "text/plain": [
       "                               Coefficient\n",
       "is_paid                       2.110661e-16\n",
       "num_subscribers               5.700895e-21\n",
       "avg_rating                    1.026199e-16\n",
       "avg_rating_recent             1.000000e+00\n",
       "num_reviews                   0.000000e+00\n",
       "is_wishlisted                 7.460699e-14\n",
       "num_published_lectures       -5.897365e-18\n",
       "num_published_practice_tests -1.554999e-16\n",
       "discount_price__amount       -3.699972e-19\n",
       "price_detail__amount          2.140828e-20\n",
       "created_year                  7.883793e-17\n",
       "published_year                1.426046e-16"
      ]
     },
     "execution_count": 29,
     "metadata": {},
     "output_type": "execute_result"
    }
   ],
   "source": [
    "coeff_df = pd.DataFrame(lin_reg.coef_,X.columns,columns=['Coefficient'])\n",
    "coeff_df"
   ]
  },
  {
   "cell_type": "code",
   "execution_count": 30,
   "id": "3b7a8694",
   "metadata": {
    "execution": {
     "iopub.execute_input": "2021-12-09T23:33:13.864802Z",
     "iopub.status.busy": "2021-12-09T23:33:13.861997Z",
     "iopub.status.idle": "2021-12-09T23:33:14.131206Z",
     "shell.execute_reply": "2021-12-09T23:33:14.131710Z",
     "shell.execute_reply.started": "2021-12-09T23:30:58.946602Z"
    },
    "papermill": {
     "duration": 0.320162,
     "end_time": "2021-12-09T23:33:14.131925",
     "exception": false,
     "start_time": "2021-12-09T23:33:13.811763",
     "status": "completed"
    },
    "tags": []
   },
   "outputs": [
    {
     "name": "stdout",
     "output_type": "stream",
     "text": [
      "[4.20032 3.85569 3.83743 ... 4.19623 4.08929 4.88945]\n"
     ]
    },
    {
     "data": {
      "text/plain": [
       "[<matplotlib.lines.Line2D at 0x7f16a3b7c450>]"
      ]
     },
     "execution_count": 30,
     "metadata": {},
     "output_type": "execute_result"
    },
    {
     "data": {
      "image/png": "[encoded data removed]",
      "text/plain": [
       "<Figure size 432x288 with 1 Axes>"
      ]
     },
     "metadata": {
      "needs_background": "light"
     },
     "output_type": "display_data"
    }
   ],
   "source": [
    "pred = lin_reg.predict(X_test)\n",
    "print(pred)\n",
    "plt.scatter(y_test, pred)\n",
    "plt.plot([y_test.min(), y_test.max()], [y_test.min(), y_test.max()], color = 'g')"
   ]
  },
  {
   "cell_type": "code",
   "execution_count": 31,
   "id": "81dea7d4",
   "metadata": {
    "execution": {
     "iopub.execute_input": "2021-12-09T23:33:14.228478Z",
     "iopub.status.busy": "2021-12-09T23:33:14.227446Z",
     "iopub.status.idle": "2021-12-09T23:33:14.240130Z",
     "shell.execute_reply": "2021-12-09T23:33:14.241514Z",
     "shell.execute_reply.started": "2021-12-09T23:31:05.376993Z"
    },
    "papermill": {
     "duration": 0.062861,
     "end_time": "2021-12-09T23:33:14.241864",
     "exception": false,
     "start_time": "2021-12-09T23:33:14.179003",
     "status": "completed"
    },
    "tags": []
   },
   "outputs": [],
   "source": [
    "test_pred = lin_reg.predict(X_test)\n",
    "train_pred = lin_reg.predict(X_train)"
   ]
  },
  {
   "cell_type": "code",
   "execution_count": 32,
   "id": "af9b229d",
   "metadata": {
    "execution": {
     "iopub.execute_input": "2021-12-09T23:33:14.396100Z",
     "iopub.status.busy": "2021-12-09T23:33:14.395025Z",
     "iopub.status.idle": "2021-12-09T23:33:14.397556Z",
     "shell.execute_reply": "2021-12-09T23:33:14.396983Z",
     "shell.execute_reply.started": "2021-12-09T23:31:09.852838Z"
    },
    "papermill": {
     "duration": 0.063742,
     "end_time": "2021-12-09T23:33:14.397693",
     "exception": false,
     "start_time": "2021-12-09T23:33:14.333951",
     "status": "completed"
    },
    "tags": []
   },
   "outputs": [],
   "source": [
    "from sklearn import metrics\n",
    "from sklearn.model_selection import cross_val_score"
   ]
  },
  {
   "cell_type": "code",
   "execution_count": 33,
   "id": "43cba217",
   "metadata": {
    "execution": {
     "iopub.execute_input": "2021-12-09T23:33:14.500035Z",
     "iopub.status.busy": "2021-12-09T23:33:14.499050Z",
     "iopub.status.idle": "2021-12-09T23:33:14.504769Z",
     "shell.execute_reply": "2021-12-09T23:33:14.505582Z",
     "shell.execute_reply.started": "2021-12-09T23:31:14.391418Z"
    },
    "papermill": {
     "duration": 0.062511,
     "end_time": "2021-12-09T23:33:14.505791",
     "exception": false,
     "start_time": "2021-12-09T23:33:14.443280",
     "status": "completed"
    },
    "tags": []
   },
   "outputs": [],
   "source": [
    "def print_evaluate(true, predicted):  \n",
    "    mae = metrics.mean_absolute_error(true, predicted)\n",
    "    mse = metrics.mean_squared_error(true, predicted)\n",
    "    rmse = np.sqrt(metrics.mean_squared_error(true, predicted))\n",
    "    r2_square = metrics.r2_score(true, predicted)\n",
    "    print('MAE:', mae)\n",
    "    print('MSE:', mse)\n",
    "    print('RMSE:', rmse)\n",
    "    print('R2 Square', r2_square)"
   ]
  },
  {
   "cell_type": "code",
   "execution_count": 34,
   "id": "d141ba4d",
   "metadata": {
    "execution": {
     "iopub.execute_input": "2021-12-09T23:33:14.617565Z",
     "iopub.status.busy": "2021-12-09T23:33:14.616563Z",
     "iopub.status.idle": "2021-12-09T23:33:14.624669Z",
     "shell.execute_reply": "2021-12-09T23:33:14.625519Z",
     "shell.execute_reply.started": "2021-12-09T23:31:19.467624Z"
    },
    "papermill": {
     "duration": 0.064792,
     "end_time": "2021-12-09T23:33:14.625827",
     "exception": false,
     "start_time": "2021-12-09T23:33:14.561035",
     "status": "completed"
    },
    "tags": []
   },
   "outputs": [
    {
     "name": "stdout",
     "output_type": "stream",
     "text": [
      "MAE: 6.297916282444717e-16\n",
      "MSE: 7.689716589145999e-31\n",
      "RMSE: 8.769102912582335e-16\n",
      "R2 Square 1.0\n"
     ]
    }
   ],
   "source": [
    "print_evaluate(y_train,train_pred)"
   ]
  }
 ],
 "metadata": {
  "kernelspec": {
   "display_name": "Python 3",
   "language": "python",
   "name": "python3"
  },
  "language_info": {
   "codemirror_mode": {
    "name": "ipython",
    "version": 3
   },
   "file_extension": ".py",
   "mimetype": "text/x-python",
   "name": "python",
   "nbconvert_exporter": "python",
   "pygments_lexer": "ipython3",
   "version": "3.7.12"
  },
  "papermill": {
   "default_parameters": {},
   "duration": 21.303337,
   "end_time": "2021-12-09T23:33:15.485155",
   "environment_variables": {},
   "exception": null,
   "input_path": "__notebook__.ipynb",
   "output_path": "__notebook__.ipynb",
   "parameters": {},
   "start_time": "2021-12-09T23:32:54.181818",
   "version": "2.3.3"
  }
 },
 "nbformat": 4,
 "nbformat_minor": 5
}
