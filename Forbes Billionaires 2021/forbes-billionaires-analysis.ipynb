{
 "cells": [
  {
   "cell_type": "code",
   "execution_count": 1,
   "id": "daily-recruitment",
   "metadata": {
    "_cell_guid": "b1076dfc-b9ad-4769-8c92-a6c4dae69d19",
    "_uuid": "8f2839f25d086af736a60e9eeb907d3b93b6e0e5",
    "execution": {
     "iopub.execute_input": "2021-05-19T20:47:50.273039Z",
     "iopub.status.busy": "2021-05-19T20:47:50.272383Z",
     "iopub.status.idle": "2021-05-19T20:47:51.174001Z",
     "shell.execute_reply": "2021-05-19T20:47:51.172717Z",
     "shell.execute_reply.started": "2021-05-19T20:25:20.510205Z"
    },
    "papermill": {
     "duration": 0.929327,
     "end_time": "2021-05-19T20:47:51.174243",
     "exception": false,
     "start_time": "2021-05-19T20:47:50.244916",
     "status": "completed"
    },
    "tags": []
   },
   "outputs": [
    {
     "name": "stdout",
     "output_type": "stream",
     "text": [
      "/kaggle/input/forbes-billionaires-2021-30/forbes_billionaires_geo.csv\n"
     ]
    }
   ],
   "source": [
    "# This Python 3 environment comes with many helpful analytics libraries installed\n",
    "# It is defined by the kaggle/python Docker image: https://github.com/kaggle/docker-python\n",
    "# For example, here's several helpful packages to load\n",
    "\n",
    "import numpy as np # linear algebra\n",
    "import pandas as pd # data processing, CSV file I/O (e.g. pd.read_csv)\n",
    "import matplotlib.pyplot as plt\n",
    "import seaborn as sns\n",
    "import math\n",
    "import matplotlib as mpl\n",
    "from matplotlib import pyplot as plt\n",
    "import warnings\n",
    "warnings.filterwarnings('ignore')\n",
    "\n",
    "# Input data files are available in the read-only \"../input/\" directory\n",
    "# For example, running this (by clicking run or pressing Shift+Enter) will list all files under the input directory\n",
    "\n",
    "import os\n",
    "for dirname, _, filenames in os.walk('/kaggle/input'):\n",
    "    for filename in filenames:\n",
    "        print(os.path.join(dirname, filename))\n",
    "\n",
    "# You can write up to 20GB to the current directory (/kaggle/working/) that gets preserved as output when you create a version using \"Save & Run All\" \n",
    "# You can also write temporary files to /kaggle/temp/, but they won't be saved outside of the current session"
   ]
  },
  {
   "cell_type": "code",
   "execution_count": 2,
   "id": "violent-jaguar",
   "metadata": {
    "execution": {
     "iopub.execute_input": "2021-05-19T20:47:51.211243Z",
     "iopub.status.busy": "2021-05-19T20:47:51.210579Z",
     "iopub.status.idle": "2021-05-19T20:47:51.277105Z",
     "shell.execute_reply": "2021-05-19T20:47:51.276478Z",
     "shell.execute_reply.started": "2021-05-19T20:25:21.399557Z"
    },
    "papermill": {
     "duration": 0.086746,
     "end_time": "2021-05-19T20:47:51.277243",
     "exception": false,
     "start_time": "2021-05-19T20:47:51.190497",
     "status": "completed"
    },
    "tags": []
   },
   "outputs": [
    {
     "data": {
      "text/html": [
       "<div>\n",
       "<style scoped>\n",
       "    .dataframe tbody tr th:only-of-type {\n",
       "        vertical-align: middle;\n",
       "    }\n",
       "\n",
       "    .dataframe tbody tr th {\n",
       "        vertical-align: top;\n",
       "    }\n",
       "\n",
       "    .dataframe thead th {\n",
       "        text-align: right;\n",
       "    }\n",
       "</style>\n",
       "<table border=\"1\" class=\"dataframe\">\n",
       "  <thead>\n",
       "    <tr style=\"text-align: right;\">\n",
       "      <th></th>\n",
       "      <th>Name</th>\n",
       "      <th>NetWorth</th>\n",
       "      <th>Country</th>\n",
       "      <th>Source</th>\n",
       "      <th>Rank</th>\n",
       "      <th>Age</th>\n",
       "      <th>Residence</th>\n",
       "      <th>Citizenship</th>\n",
       "      <th>Status</th>\n",
       "      <th>Children</th>\n",
       "      <th>Education</th>\n",
       "      <th>Self_made</th>\n",
       "      <th>geometry</th>\n",
       "    </tr>\n",
       "  </thead>\n",
       "  <tbody>\n",
       "    <tr>\n",
       "      <th>0</th>\n",
       "      <td>Jeff Bezos</td>\n",
       "      <td>177.0</td>\n",
       "      <td>United States</td>\n",
       "      <td>Amazon</td>\n",
       "      <td>1</td>\n",
       "      <td>57.0</td>\n",
       "      <td>Seattle, Washington</td>\n",
       "      <td>United States</td>\n",
       "      <td>In Relationship</td>\n",
       "      <td>4.0</td>\n",
       "      <td>Bachelor of Arts/Science, Princeton University</td>\n",
       "      <td>True</td>\n",
       "      <td>POINT (-122.3300624 47.6038321)</td>\n",
       "    </tr>\n",
       "    <tr>\n",
       "      <th>1</th>\n",
       "      <td>Elon Musk</td>\n",
       "      <td>151.0</td>\n",
       "      <td>United States</td>\n",
       "      <td>Tesla, SpaceX</td>\n",
       "      <td>2</td>\n",
       "      <td>49.0</td>\n",
       "      <td>Austin, Texas</td>\n",
       "      <td>United States</td>\n",
       "      <td>In Relationship</td>\n",
       "      <td>7.0</td>\n",
       "      <td>Bachelor of Arts/Science, University of Pennsy...</td>\n",
       "      <td>True</td>\n",
       "      <td>POINT (-97.74369950000001 30.2711286)</td>\n",
       "    </tr>\n",
       "    <tr>\n",
       "      <th>2</th>\n",
       "      <td>Bernard Arnault &amp; family</td>\n",
       "      <td>150.0</td>\n",
       "      <td>France</td>\n",
       "      <td>LVMH</td>\n",
       "      <td>3</td>\n",
       "      <td>72.0</td>\n",
       "      <td>Paris, France</td>\n",
       "      <td>France</td>\n",
       "      <td>Married</td>\n",
       "      <td>5.0</td>\n",
       "      <td>Bachelor of Arts/Science, Ecole Polytechnique ...</td>\n",
       "      <td>False</td>\n",
       "      <td>POINT (2.3514616 48.8566969)</td>\n",
       "    </tr>\n",
       "    <tr>\n",
       "      <th>3</th>\n",
       "      <td>Bill Gates</td>\n",
       "      <td>124.0</td>\n",
       "      <td>United States</td>\n",
       "      <td>Microsoft</td>\n",
       "      <td>4</td>\n",
       "      <td>65.0</td>\n",
       "      <td>Medina, Washington</td>\n",
       "      <td>United States</td>\n",
       "      <td>Divorced</td>\n",
       "      <td>3.0</td>\n",
       "      <td>Drop Out, Harvard University</td>\n",
       "      <td>True</td>\n",
       "      <td>POINT (-122.2264453 47.620548)</td>\n",
       "    </tr>\n",
       "    <tr>\n",
       "      <th>4</th>\n",
       "      <td>Mark Zuckerberg</td>\n",
       "      <td>97.0</td>\n",
       "      <td>United States</td>\n",
       "      <td>Facebook</td>\n",
       "      <td>5</td>\n",
       "      <td>36.0</td>\n",
       "      <td>Palo Alto, California</td>\n",
       "      <td>United States</td>\n",
       "      <td>Married</td>\n",
       "      <td>2.0</td>\n",
       "      <td>Drop Out, Harvard University</td>\n",
       "      <td>True</td>\n",
       "      <td>POINT (-122.1598465 37.4443293)</td>\n",
       "    </tr>\n",
       "  </tbody>\n",
       "</table>\n",
       "</div>"
      ],
      "text/plain": [
       "                       Name  NetWorth        Country         Source  Rank  \\\n",
       "0                Jeff Bezos     177.0  United States         Amazon     1   \n",
       "1                 Elon Musk     151.0  United States  Tesla, SpaceX     2   \n",
       "2  Bernard Arnault & family     150.0         France           LVMH     3   \n",
       "3                Bill Gates     124.0  United States      Microsoft     4   \n",
       "4           Mark Zuckerberg      97.0  United States       Facebook     5   \n",
       "\n",
       "    Age              Residence    Citizenship           Status  Children  \\\n",
       "0  57.0    Seattle, Washington  United States  In Relationship       4.0   \n",
       "1  49.0          Austin, Texas  United States  In Relationship       7.0   \n",
       "2  72.0          Paris, France         France          Married       5.0   \n",
       "3  65.0     Medina, Washington  United States         Divorced       3.0   \n",
       "4  36.0  Palo Alto, California  United States          Married       2.0   \n",
       "\n",
       "                                           Education Self_made  \\\n",
       "0     Bachelor of Arts/Science, Princeton University      True   \n",
       "1  Bachelor of Arts/Science, University of Pennsy...      True   \n",
       "2  Bachelor of Arts/Science, Ecole Polytechnique ...     False   \n",
       "3                       Drop Out, Harvard University      True   \n",
       "4                       Drop Out, Harvard University      True   \n",
       "\n",
       "                                geometry  \n",
       "0        POINT (-122.3300624 47.6038321)  \n",
       "1  POINT (-97.74369950000001 30.2711286)  \n",
       "2           POINT (2.3514616 48.8566969)  \n",
       "3         POINT (-122.2264453 47.620548)  \n",
       "4        POINT (-122.1598465 37.4443293)  "
      ]
     },
     "execution_count": 2,
     "metadata": {},
     "output_type": "execute_result"
    }
   ],
   "source": [
    "forbes_data= pd.read_csv('../input/forbes-billionaires-2021-30/forbes_billionaires_geo.csv')\n",
    "forbes_data.head()"
   ]
  },
  {
   "cell_type": "code",
   "execution_count": 3,
   "id": "surgical-amount",
   "metadata": {
    "execution": {
     "iopub.execute_input": "2021-05-19T20:47:51.318327Z",
     "iopub.status.busy": "2021-05-19T20:47:51.317654Z",
     "iopub.status.idle": "2021-05-19T20:47:51.320319Z",
     "shell.execute_reply": "2021-05-19T20:47:51.320751Z",
     "shell.execute_reply.started": "2021-05-19T20:25:21.469892Z"
    },
    "papermill": {
     "duration": 0.02844,
     "end_time": "2021-05-19T20:47:51.320927",
     "exception": false,
     "start_time": "2021-05-19T20:47:51.292487",
     "status": "completed"
    },
    "tags": []
   },
   "outputs": [
    {
     "data": {
      "text/plain": [
       "Name              0\n",
       "NetWorth          0\n",
       "Country           0\n",
       "Source            0\n",
       "Rank              0\n",
       "Age             125\n",
       "Residence        40\n",
       "Citizenship      16\n",
       "Status          665\n",
       "Children       1203\n",
       "Education      1346\n",
       "Self_made        18\n",
       "geometry          0\n",
       "dtype: int64"
      ]
     },
     "execution_count": 3,
     "metadata": {},
     "output_type": "execute_result"
    }
   ],
   "source": [
    "forbes_data.isnull().sum()"
   ]
  },
  {
   "cell_type": "code",
   "execution_count": 4,
   "id": "romantic-damages",
   "metadata": {
    "execution": {
     "iopub.execute_input": "2021-05-19T20:47:51.355618Z",
     "iopub.status.busy": "2021-05-19T20:47:51.354940Z",
     "iopub.status.idle": "2021-05-19T20:47:51.366330Z",
     "shell.execute_reply": "2021-05-19T20:47:51.366823Z",
     "shell.execute_reply.started": "2021-05-19T20:25:21.483458Z"
    },
    "papermill": {
     "duration": 0.030238,
     "end_time": "2021-05-19T20:47:51.367009",
     "exception": false,
     "start_time": "2021-05-19T20:47:51.336771",
     "status": "completed"
    },
    "tags": []
   },
   "outputs": [
    {
     "data": {
      "text/plain": [
       "United States     724\n",
       "China             626\n",
       "India             140\n",
       "Germany           136\n",
       "Russia            118\n",
       "Hong Kong          71\n",
       "Brazil             65\n",
       "Canada             64\n",
       "United Kingdom     56\n",
       "Italy              51\n",
       "Japan              49\n",
       "Taiwan             47\n",
       "Australia          44\n",
       "South Korea        43\n",
       "France             42\n",
       "Sweden             41\n",
       "Switzerland        40\n",
       "Thailand           31\n",
       "Spain              30\n",
       "Turkey             27\n",
       "Name: Country, dtype: int64"
      ]
     },
     "execution_count": 4,
     "metadata": {},
     "output_type": "execute_result"
    }
   ],
   "source": [
    "forbes_data['Country'].value_counts()[:20]"
   ]
  },
  {
   "cell_type": "code",
   "execution_count": 5,
   "id": "norman-stone",
   "metadata": {
    "execution": {
     "iopub.execute_input": "2021-05-19T20:47:51.402419Z",
     "iopub.status.busy": "2021-05-19T20:47:51.401775Z",
     "iopub.status.idle": "2021-05-19T20:47:51.727892Z",
     "shell.execute_reply": "2021-05-19T20:47:51.728473Z",
     "shell.execute_reply.started": "2021-05-19T20:25:21.502623Z"
    },
    "papermill": {
     "duration": 0.345267,
     "end_time": "2021-05-19T20:47:51.728656",
     "exception": false,
     "start_time": "2021-05-19T20:47:51.383389",
     "status": "completed"
    },
    "tags": []
   },
   "outputs": [
    {
     "data": {
      "text/plain": [
       "Text(0, 0.5, 'Number of Billionaires')"
      ]
     },
     "execution_count": 5,
     "metadata": {},
     "output_type": "execute_result"
    },
    {
     "data": {
      "image/png": "[encoded data removed]",
      "text/plain": [
       "<Figure size 864x360 with 1 Axes>"
      ]
     },
     "metadata": {
      "needs_background": "light"
     },
     "output_type": "display_data"
    }
   ],
   "source": [
    "plt.figure(figsize=(12,5))\n",
    "country_data= forbes_data['Country'].value_counts()[:20]\n",
    "country_data.plot.bar()\n",
    "plt.title('Top 20 Billionaires Country', fontsize=15)\n",
    "plt.xlabel(\"Country\",fontsize=15)\n",
    "plt.ylabel(\"Number of Billionaires\",fontsize=15)"
   ]
  },
  {
   "cell_type": "code",
   "execution_count": 6,
   "id": "french-haiti",
   "metadata": {
    "execution": {
     "iopub.execute_input": "2021-05-19T20:47:51.799375Z",
     "iopub.status.busy": "2021-05-19T20:47:51.783441Z",
     "iopub.status.idle": "2021-05-19T20:47:51.992848Z",
     "shell.execute_reply": "2021-05-19T20:47:51.993353Z",
     "shell.execute_reply.started": "2021-05-19T20:25:21.833899Z"
    },
    "papermill": {
     "duration": 0.246982,
     "end_time": "2021-05-19T20:47:51.993544",
     "exception": false,
     "start_time": "2021-05-19T20:47:51.746562",
     "status": "completed"
    },
    "tags": []
   },
   "outputs": [
    {
     "data": {
      "text/plain": [
       "<matplotlib.legend.Legend at 0x7f9037c9b810>"
      ]
     },
     "execution_count": 6,
     "metadata": {},
     "output_type": "execute_result"
    },
    {
     "data": {
      "image/png": "[encoded data removed]",
      "text/plain": [
       "<Figure size 864x360 with 1 Axes>"
      ]
     },
     "metadata": {
      "needs_background": "light"
     },
     "output_type": "display_data"
    }
   ],
   "source": [
    "plt.figure(figsize=(12,5))\n",
    "sns.barplot(y=\"Name\", x=\"NetWorth\", data=forbes_data[:10])\n",
    "plt.title('Top 10 Billionaires', fontsize=15)\n",
    "plt.xlabel(\"NetWorth: USD (bilions)\",fontsize=15)\n",
    "plt.ylabel(\"Name\",fontsize=15)\n",
    "plt.legend(bbox_to_anchor=(1.05, 1), loc=2, borderaxespad=0.)"
   ]
  },
  {
   "cell_type": "code",
   "execution_count": 7,
   "id": "upper-pioneer",
   "metadata": {
    "execution": {
     "iopub.execute_input": "2021-05-19T20:47:52.034560Z",
     "iopub.status.busy": "2021-05-19T20:47:52.033897Z",
     "iopub.status.idle": "2021-05-19T20:47:52.137339Z",
     "shell.execute_reply": "2021-05-19T20:47:52.136766Z",
     "shell.execute_reply.started": "2021-05-19T20:25:22.073254Z"
    },
    "papermill": {
     "duration": 0.124915,
     "end_time": "2021-05-19T20:47:52.137480",
     "exception": false,
     "start_time": "2021-05-19T20:47:52.012565",
     "status": "completed"
    },
    "tags": []
   },
   "outputs": [
    {
     "data": {
      "text/plain": [
       "Text(0.5, 1.0, 'Self Made Rate')"
      ]
     },
     "execution_count": 7,
     "metadata": {},
     "output_type": "execute_result"
    },
    {
     "data": {
      "image/png": "[encoded data removed]",
      "text/plain": [
       "<Figure size 864x360 with 1 Axes>"
      ]
     },
     "metadata": {},
     "output_type": "display_data"
    }
   ],
   "source": [
    "Self_made_status= len(forbes_data[forbes_data['Self_made']==True])\n",
    "Not_Self_made_status=len(forbes_data[forbes_data['Self_made']==False])\n",
    "plt.figure(figsize=(12,5))\n",
    "Self_made_pie = [Self_made_status,Not_Self_made_status]\n",
    "labels = 'Self Made','Not Self made'\n",
    "plt.pie(Self_made_pie,labels=labels,autopct='%1.1f%%')\n",
    "plt.title('Self Made Rate',fontsize=15)"
   ]
  },
  {
   "cell_type": "code",
   "execution_count": 8,
   "id": "reduced-runner",
   "metadata": {
    "execution": {
     "iopub.execute_input": "2021-05-19T20:47:52.182695Z",
     "iopub.status.busy": "2021-05-19T20:47:52.181880Z",
     "iopub.status.idle": "2021-05-19T20:47:52.185998Z",
     "shell.execute_reply": "2021-05-19T20:47:52.185418Z",
     "shell.execute_reply.started": "2021-05-19T20:25:22.179408Z"
    },
    "papermill": {
     "duration": 0.029065,
     "end_time": "2021-05-19T20:47:52.186151",
     "exception": false,
     "start_time": "2021-05-19T20:47:52.157086",
     "status": "completed"
    },
    "tags": []
   },
   "outputs": [
    {
     "data": {
      "text/plain": [
       "array(['In Relationship', 'Married', 'Divorced', 'Widowed, Remarried',\n",
       "       nan, 'Widowed', 'Single', 'Separated', 'Engaged'], dtype=object)"
      ]
     },
     "execution_count": 8,
     "metadata": {},
     "output_type": "execute_result"
    }
   ],
   "source": [
    "forbes_data['Status'].unique()"
   ]
  },
  {
   "cell_type": "code",
   "execution_count": 9,
   "id": "tested-tower",
   "metadata": {
    "execution": {
     "iopub.execute_input": "2021-05-19T20:47:52.239099Z",
     "iopub.status.busy": "2021-05-19T20:47:52.235881Z",
     "iopub.status.idle": "2021-05-19T20:47:52.567143Z",
     "shell.execute_reply": "2021-05-19T20:47:52.567614Z",
     "shell.execute_reply.started": "2021-05-19T20:25:22.191340Z"
    },
    "papermill": {
     "duration": 0.361484,
     "end_time": "2021-05-19T20:47:52.567781",
     "exception": false,
     "start_time": "2021-05-19T20:47:52.206297",
     "status": "completed"
    },
    "tags": []
   },
   "outputs": [
    {
     "data": {
      "image/png": "[encoded data removed]",
      "text/plain": [
       "<Figure size 864x360 with 1 Axes>"
      ]
     },
     "metadata": {
      "needs_background": "light"
     },
     "output_type": "display_data"
    },
    {
     "data": {
      "text/plain": [
       "([<matplotlib.patches.Wedge at 0x7f9037a76190>,\n",
       "  <matplotlib.patches.Wedge at 0x7f9037a86510>,\n",
       "  <matplotlib.patches.Wedge at 0x7f9037a86d10>,\n",
       "  <matplotlib.patches.Wedge at 0x7f9037a96590>,\n",
       "  <matplotlib.patches.Wedge at 0x7f9037a96e10>,\n",
       "  <matplotlib.patches.Wedge at 0x7f9037aa2710>,\n",
       "  <matplotlib.patches.Wedge at 0x7f9037aa2ed0>,\n",
       "  <matplotlib.patches.Wedge at 0x7f9037a2f710>],\n",
       " [Text(1.0994520103525394, 0.03471709855042479, 'In Relationship'),\n",
       "  Text(-0.9797315577912132, 0.5001260587771874, 'Married'),\n",
       "  Text(0.7737145441304074, -0.7818988452485884, 'Divorced'),\n",
       "  Text(0.930704743813112, -0.5863349553316515, 'Widowed, Remarried'),\n",
       "  Text(1.0099891763863875, -0.435800256519368, 'Widowed'),\n",
       "  Text(1.0870961421590777, -0.1679939811506663, 'Single'),\n",
       "  Text(1.0995973847812053, -0.02975888745121721, 'Separated'),\n",
       "  Text(1.0999801163198648, -0.006613902096102234, 'Engaged')],\n",
       " [Text(0.5997010965559305, 0.018936599209322613, '1.0%'),\n",
       "  Text(-0.5343990315224799, 0.27279603206028397, '83.0%'),\n",
       "  Text(0.4220261149802222, -0.4264902792265028, '6.9%'),\n",
       "  Text(0.5076571329889701, -0.3198190665445371, '0.4%'),\n",
       "  Text(0.5509031871198476, -0.23770923082874612, '4.5%'),\n",
       "  Text(0.5929615320867696, -0.09163308062763616, '3.5%'),\n",
       "  Text(0.5997803916988391, -0.016232120427936658, '0.5%'),\n",
       "  Text(0.5999891543562899, -0.003607582961510309, '0.2%')])"
      ]
     },
     "execution_count": 9,
     "metadata": {},
     "output_type": "execute_result"
    },
    {
     "data": {
      "image/png": "[encoded data removed]",
      "text/plain": [
       "<Figure size 864x360 with 1 Axes>"
      ]
     },
     "metadata": {},
     "output_type": "display_data"
    }
   ],
   "source": [
    "plt.figure(figsize=(12,5))\n",
    "sns.countplot(forbes_data['Status'],order = forbes_data['Status'].value_counts().index)\n",
    "plt.title('Marriage Status Rate',fontsize=15)\n",
    "plt.show()\n",
    "\n",
    "plt.figure(figsize=(12,5))\n",
    "status_data=[]\n",
    "for i in range(len(forbes_data['Status'].unique())):\n",
    "    if i == 4:\n",
    "        continue\n",
    "    status_data.append(len(forbes_data[forbes_data['Status']==forbes_data['Status'].unique()[i]]))\n",
    "labels = 'In Relationship', 'Married', 'Divorced', 'Widowed, Remarried','Widowed', 'Single', 'Separated', 'Engaged'\n",
    "plt.pie(status_data,labels=labels,autopct='%1.1f%%')"
   ]
  },
  {
   "cell_type": "code",
   "execution_count": 10,
   "id": "excellent-combination",
   "metadata": {
    "execution": {
     "iopub.execute_input": "2021-05-19T20:47:52.621112Z",
     "iopub.status.busy": "2021-05-19T20:47:52.620443Z",
     "iopub.status.idle": "2021-05-19T20:47:52.676790Z",
     "shell.execute_reply": "2021-05-19T20:47:52.677283Z",
     "shell.execute_reply.started": "2021-05-19T20:25:22.535375Z"
    },
    "papermill": {
     "duration": 0.087275,
     "end_time": "2021-05-19T20:47:52.677468",
     "exception": false,
     "start_time": "2021-05-19T20:47:52.590193",
     "status": "completed"
    },
    "tags": []
   },
   "outputs": [],
   "source": [
    "forbes_data= forbes_data.dropna(subset=['Age'])\n",
    "def Age(age):\n",
    "    if age >= 90 : return '90 years old'\n",
    "    if age >= 80 : return '80 years old'\n",
    "    if age >= 70 : return '70 years old'\n",
    "    if age >= 60 : return '60 years old'\n",
    "    if age >= 50 : return '50 years old'\n",
    "    if age >= 40 : return '40 years old'\n",
    "    if age >= 30 : return '30 years old'\n",
    "    if age >= 20 : return '20 years old'\n",
    "    else: return 'Teenager'\n",
    "forbes_data['age_group'] = forbes_data.apply(lambda x: Age(x[\"Age\"]), axis = 1)"
   ]
  },
  {
   "cell_type": "code",
   "execution_count": 11,
   "id": "varying-impossible",
   "metadata": {
    "execution": {
     "iopub.execute_input": "2021-05-19T20:47:52.724265Z",
     "iopub.status.busy": "2021-05-19T20:47:52.723641Z",
     "iopub.status.idle": "2021-05-19T20:47:52.914788Z",
     "shell.execute_reply": "2021-05-19T20:47:52.914244Z",
     "shell.execute_reply.started": "2021-05-19T20:25:22.597532Z"
    },
    "papermill": {
     "duration": 0.215457,
     "end_time": "2021-05-19T20:47:52.914926",
     "exception": false,
     "start_time": "2021-05-19T20:47:52.699469",
     "status": "completed"
    },
    "tags": []
   },
   "outputs": [
    {
     "data": {
      "text/plain": [
       "Text(0.5, 0, 'Age')"
      ]
     },
     "execution_count": 11,
     "metadata": {},
     "output_type": "execute_result"
    },
    {
     "data": {
      "image/png": "[encoded data removed]",
      "text/plain": [
       "<Figure size 864x360 with 1 Axes>"
      ]
     },
     "metadata": {
      "needs_background": "light"
     },
     "output_type": "display_data"
    }
   ],
   "source": [
    "plt.figure(figsize=(12,5))\n",
    "g = sns.countplot(forbes_data['age_group'],order = forbes_data['age_group'].value_counts().index)\n",
    "plt.title('Forbes Billionaires Age',fontsize=15)\n",
    "plt.xlabel(\"Age\", fontsize=15)"
   ]
  },
  {
   "cell_type": "code",
   "execution_count": 12,
   "id": "productive-accent",
   "metadata": {
    "execution": {
     "iopub.execute_input": "2021-05-19T20:47:52.969176Z",
     "iopub.status.busy": "2021-05-19T20:47:52.968123Z",
     "iopub.status.idle": "2021-05-19T20:47:53.283855Z",
     "shell.execute_reply": "2021-05-19T20:47:53.284313Z",
     "shell.execute_reply.started": "2021-05-19T20:25:22.797309Z"
    },
    "papermill": {
     "duration": 0.346583,
     "end_time": "2021-05-19T20:47:53.284497",
     "exception": false,
     "start_time": "2021-05-19T20:47:52.937914",
     "status": "completed"
    },
    "tags": []
   },
   "outputs": [
    {
     "data": {
      "text/plain": [
       "Text(0.5, 0, 'Number of Children')"
      ]
     },
     "execution_count": 12,
     "metadata": {},
     "output_type": "execute_result"
    },
    {
     "data": {
      "image/png": "[encoded data removed]",
      "text/plain": [
       "<Figure size 864x360 with 1 Axes>"
      ]
     },
     "metadata": {
      "needs_background": "light"
     },
     "output_type": "display_data"
    }
   ],
   "source": [
    "plt.figure(figsize=(12,5))\n",
    "sns.countplot(forbes_data['Children'],order = forbes_data['Children'].value_counts().index)\n",
    "plt.title('Forbes Billionaires Children',fontsize=15)\n",
    "plt.xlabel(\"Number of Children\", fontsize=12)"
   ]
  },
  {
   "cell_type": "code",
   "execution_count": 13,
   "id": "preceding-boring",
   "metadata": {
    "execution": {
     "iopub.execute_input": "2021-05-19T20:47:53.339275Z",
     "iopub.status.busy": "2021-05-19T20:47:53.338355Z",
     "iopub.status.idle": "2021-05-19T20:47:53.342774Z",
     "shell.execute_reply": "2021-05-19T20:47:53.342183Z",
     "shell.execute_reply.started": "2021-05-19T20:25:23.126959Z"
    },
    "papermill": {
     "duration": 0.034544,
     "end_time": "2021-05-19T20:47:53.342924",
     "exception": false,
     "start_time": "2021-05-19T20:47:53.308380",
     "status": "completed"
    },
    "tags": []
   },
   "outputs": [
    {
     "data": {
      "text/plain": [
       "array(['Bachelor of Arts/Science, Princeton University',\n",
       "       'Bachelor of Arts/Science, University of Pennsylvania',\n",
       "       'Bachelor of Arts/Science, Ecole Polytechnique de Paris', ...,\n",
       "       'National Taichung University of Education', 'High School',\n",
       "       'Bachelor of Science, University of Florida'], dtype=object)"
      ]
     },
     "execution_count": 13,
     "metadata": {},
     "output_type": "execute_result"
    }
   ],
   "source": [
    "forbes_data['Education'].unique()"
   ]
  },
  {
   "cell_type": "code",
   "execution_count": 14,
   "id": "considered-football",
   "metadata": {
    "execution": {
     "iopub.execute_input": "2021-05-19T20:47:53.410148Z",
     "iopub.status.busy": "2021-05-19T20:47:53.406554Z",
     "iopub.status.idle": "2021-05-19T20:47:53.432056Z",
     "shell.execute_reply": "2021-05-19T20:47:53.432762Z",
     "shell.execute_reply.started": "2021-05-19T20:37:32.172362Z"
    },
    "papermill": {
     "duration": 0.065442,
     "end_time": "2021-05-19T20:47:53.433002",
     "exception": false,
     "start_time": "2021-05-19T20:47:53.367560",
     "status": "completed"
    },
    "tags": []
   },
   "outputs": [
    {
     "name": "stdout",
     "output_type": "stream",
     "text": [
      "Drop out High School: 8\n",
      "Drop out: 78\n",
      "University: 991\n",
      "University with baschelor_science: 106\n",
      "University with Art/science: 794\n",
      "Master: 438\n"
     ]
    }
   ],
   "source": [
    "import re\n",
    "dropout_highschool = forbes_data.Education.str.contains('Drop Out, High School', flags = re.IGNORECASE, regex = True, na = False)\n",
    "university= forbes_data.Education.str.contains('University', flags = re.IGNORECASE, regex = True, na = False)\n",
    "baschelor_science= forbes_data.Education.str.contains('Bachelor of Science', flags = re.IGNORECASE, regex = True, na = False)\n",
    "baschelor_art_science= forbes_data.Education.str.contains('Bachelor of Arts/Science', flags = re.IGNORECASE, regex = True, na = False)\n",
    "Master_of= forbes_data.Education.str.contains('Master of', flags = re.IGNORECASE, regex = True, na = False)\n",
    "dropout = forbes_data.Education.str.contains('Drop Out', flags = re.IGNORECASE, regex = True, na = False)\n",
    "\n",
    "print(\"Drop out High School: \"+ str(len(forbes_data[dropout_highschool]['Education'])))\n",
    "print(\"Drop out: \"+ str(len(forbes_data[dropout]['Education'])))\n",
    "print(\"University: \"+ str(len(forbes_data[university]['Education'])-len(forbes_data[dropout]['Education'])))\n",
    "print(\"University with baschelor_science: \"+ str(len(forbes_data[baschelor_science]['Education'])))\n",
    "print(\"University with Art/science: \"+ str(len(forbes_data[baschelor_art_science]['Education'])))\n",
    "print(\"Master: \"+ str(len(forbes_data[Master_of]['Education'])))"
   ]
  },
  {
   "cell_type": "code",
   "execution_count": 15,
   "id": "little-treasury",
   "metadata": {
    "execution": {
     "iopub.execute_input": "2021-05-19T20:47:53.507619Z",
     "iopub.status.busy": "2021-05-19T20:47:53.490757Z",
     "iopub.status.idle": "2021-05-19T20:47:53.590909Z",
     "shell.execute_reply": "2021-05-19T20:47:53.590191Z",
     "shell.execute_reply.started": "2021-05-19T20:46:54.328422Z"
    },
    "papermill": {
     "duration": 0.132507,
     "end_time": "2021-05-19T20:47:53.591075",
     "exception": false,
     "start_time": "2021-05-19T20:47:53.458568",
     "status": "completed"
    },
    "tags": []
   },
   "outputs": [
    {
     "data": {
      "text/plain": [
       "Text(0.5, 1.0, 'Forbes Billionaires Education')"
      ]
     },
     "execution_count": 15,
     "metadata": {},
     "output_type": "execute_result"
    },
    {
     "data": {
      "image/png": "[encoded data removed]",
      "text/plain": [
       "<Figure size 432x288 with 1 Axes>"
      ]
     },
     "metadata": {},
     "output_type": "display_data"
    }
   ],
   "source": [
    "Drop_out = len(forbes_data[dropout]['Education'])\n",
    "University = len(forbes_data[university]['Education'])-len(forbes_data[dropout]['Education'])\n",
    "Master = len(forbes_data[Master_of]['Education'])\n",
    "Education = [Drop_out, University, Master]\n",
    "\n",
    "labels = 'Drop_out','University', 'Master'\n",
    "plt.pie(Education,labels=labels,autopct='%1.1f%%')\n",
    "plt.title('Forbes Billionaires Education',fontsize=15)"
   ]
  },
  {
   "cell_type": "markdown",
   "id": "contemporary-valuation",
   "metadata": {
    "papermill": {
     "duration": 0.025905,
     "end_time": "2021-05-19T20:47:53.643458",
     "exception": false,
     "start_time": "2021-05-19T20:47:53.617553",
     "status": "completed"
    },
    "tags": []
   },
   "source": [
    "Throughout Top 10 billionaries, there are 4 drop out university from Harvard, Stanford, University of Chicago"
   ]
  },
  {
   "cell_type": "code",
   "execution_count": 16,
   "id": "liable-automation",
   "metadata": {
    "execution": {
     "iopub.execute_input": "2021-05-19T20:47:53.707391Z",
     "iopub.status.busy": "2021-05-19T20:47:53.706709Z",
     "iopub.status.idle": "2021-05-19T20:47:53.711718Z",
     "shell.execute_reply": "2021-05-19T20:47:53.710682Z",
     "shell.execute_reply.started": "2021-05-19T20:35:52.681249Z"
    },
    "papermill": {
     "duration": 0.042255,
     "end_time": "2021-05-19T20:47:53.711938",
     "exception": false,
     "start_time": "2021-05-19T20:47:53.669683",
     "status": "completed"
    },
    "tags": []
   },
   "outputs": [
    {
     "name": "stdout",
     "output_type": "stream",
     "text": [
      "Drop out: 4\n",
      "3                         Drop Out, Harvard University\n",
      "4                         Drop Out, Harvard University\n",
      "6    Drop Out, University of Chicago; Drop Out, Uni...\n",
      "9    Drop Out, Stanford University; Bachelor of Sci...\n",
      "Name: Education, dtype: object\n"
     ]
    }
   ],
   "source": [
    "top_10_billionaires = forbes_data[:10]\n",
    "print(\"Drop out: \"+ str(len(top_10_billionaires[dropout]['Education'])))\n",
    "print(top_10_billionaires[dropout]['Education'])"
   ]
  }
 ],
 "metadata": {
  "kernelspec": {
   "display_name": "Python 3",
   "language": "python",
   "name": "python3"
  },
  "language_info": {
   "codemirror_mode": {
    "name": "ipython",
    "version": 3
   },
   "file_extension": ".py",
   "mimetype": "text/x-python",
   "name": "python",
   "nbconvert_exporter": "python",
   "pygments_lexer": "ipython3",
   "version": "3.7.10"
  },
  "papermill": {
   "default_parameters": {},
   "duration": 12.613972,
   "end_time": "2021-05-19T20:47:54.451540",
   "environment_variables": {},
   "exception": null,
   "input_path": "__notebook__.ipynb",
   "output_path": "__notebook__.ipynb",
   "parameters": {},
   "start_time": "2021-05-19T20:47:41.837568",
   "version": "2.3.3"
  }
 },
 "nbformat": 4,
 "nbformat_minor": 5
}
