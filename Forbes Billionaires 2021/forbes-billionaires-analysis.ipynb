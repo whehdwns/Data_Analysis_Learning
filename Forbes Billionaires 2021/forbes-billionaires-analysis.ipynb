{
 "cells": [
  {
   "cell_type": "code",
   "execution_count": 1,
   "id": "sexual-foundation",
   "metadata": {
    "_cell_guid": "b1076dfc-b9ad-4769-8c92-a6c4dae69d19",
    "_uuid": "8f2839f25d086af736a60e9eeb907d3b93b6e0e5",
    "execution": {
     "iopub.execute_input": "2021-05-18T21:22:22.430692Z",
     "iopub.status.busy": "2021-05-18T21:22:22.428956Z",
     "iopub.status.idle": "2021-05-18T21:22:23.272391Z",
     "shell.execute_reply": "2021-05-18T21:22:23.273130Z"
    },
    "papermill": {
     "duration": 0.860298,
     "end_time": "2021-05-18T21:22:23.273514",
     "exception": false,
     "start_time": "2021-05-18T21:22:22.413216",
     "status": "completed"
    },
    "tags": []
   },
   "outputs": [
    {
     "name": "stdout",
     "output_type": "stream",
     "text": [
      "/kaggle/input/forbes-billionaires-2021-30/forbes_billionaires_geo.csv\n"
     ]
    }
   ],
   "source": [
    "# This Python 3 environment comes with many helpful analytics libraries installed\n",
    "# It is defined by the kaggle/python Docker image: https://github.com/kaggle/docker-python\n",
    "# For example, here's several helpful packages to load\n",
    "\n",
    "import numpy as np # linear algebra\n",
    "import pandas as pd # data processing, CSV file I/O (e.g. pd.read_csv)\n",
    "import matplotlib.pyplot as plt\n",
    "import seaborn as sns\n",
    "import math\n",
    "import matplotlib as mpl\n",
    "from matplotlib import pyplot as plt\n",
    "import warnings\n",
    "warnings.filterwarnings('ignore')\n",
    "\n",
    "# Input data files are available in the read-only \"../input/\" directory\n",
    "# For example, running this (by clicking run or pressing Shift+Enter) will list all files under the input directory\n",
    "\n",
    "import os\n",
    "for dirname, _, filenames in os.walk('/kaggle/input'):\n",
    "    for filename in filenames:\n",
    "        print(os.path.join(dirname, filename))\n",
    "\n",
    "# You can write up to 20GB to the current directory (/kaggle/working/) that gets preserved as output when you create a version using \"Save & Run All\" \n",
    "# You can also write temporary files to /kaggle/temp/, but they won't be saved outside of the current session"
   ]
  },
  {
   "cell_type": "code",
   "execution_count": 2,
   "id": "expressed-deviation",
   "metadata": {
    "execution": {
     "iopub.execute_input": "2021-05-18T21:22:23.303015Z",
     "iopub.status.busy": "2021-05-18T21:22:23.301912Z",
     "iopub.status.idle": "2021-05-18T21:22:23.379384Z",
     "shell.execute_reply": "2021-05-18T21:22:23.378822Z"
    },
    "papermill": {
     "duration": 0.093337,
     "end_time": "2021-05-18T21:22:23.379541",
     "exception": false,
     "start_time": "2021-05-18T21:22:23.286204",
     "status": "completed"
    },
    "tags": []
   },
   "outputs": [
    {
     "data": {
      "text/html": [
       "<div>\n",
       "<style scoped>\n",
       "    .dataframe tbody tr th:only-of-type {\n",
       "        vertical-align: middle;\n",
       "    }\n",
       "\n",
       "    .dataframe tbody tr th {\n",
       "        vertical-align: top;\n",
       "    }\n",
       "\n",
       "    .dataframe thead th {\n",
       "        text-align: right;\n",
       "    }\n",
       "</style>\n",
       "<table border=\"1\" class=\"dataframe\">\n",
       "  <thead>\n",
       "    <tr style=\"text-align: right;\">\n",
       "      <th></th>\n",
       "      <th>Name</th>\n",
       "      <th>NetWorth</th>\n",
       "      <th>Country</th>\n",
       "      <th>Source</th>\n",
       "      <th>Rank</th>\n",
       "      <th>Age</th>\n",
       "      <th>Residence</th>\n",
       "      <th>Citizenship</th>\n",
       "      <th>Status</th>\n",
       "      <th>Children</th>\n",
       "      <th>Education</th>\n",
       "      <th>Self_made</th>\n",
       "      <th>geometry</th>\n",
       "    </tr>\n",
       "  </thead>\n",
       "  <tbody>\n",
       "    <tr>\n",
       "      <th>0</th>\n",
       "      <td>Jeff Bezos</td>\n",
       "      <td>177.0</td>\n",
       "      <td>United States</td>\n",
       "      <td>Amazon</td>\n",
       "      <td>1</td>\n",
       "      <td>57.0</td>\n",
       "      <td>Seattle, Washington</td>\n",
       "      <td>United States</td>\n",
       "      <td>In Relationship</td>\n",
       "      <td>4.0</td>\n",
       "      <td>Bachelor of Arts/Science, Princeton University</td>\n",
       "      <td>True</td>\n",
       "      <td>POINT (-122.3300624 47.6038321)</td>\n",
       "    </tr>\n",
       "    <tr>\n",
       "      <th>1</th>\n",
       "      <td>Elon Musk</td>\n",
       "      <td>151.0</td>\n",
       "      <td>United States</td>\n",
       "      <td>Tesla, SpaceX</td>\n",
       "      <td>2</td>\n",
       "      <td>49.0</td>\n",
       "      <td>Austin, Texas</td>\n",
       "      <td>United States</td>\n",
       "      <td>In Relationship</td>\n",
       "      <td>7.0</td>\n",
       "      <td>Bachelor of Arts/Science, University of Pennsy...</td>\n",
       "      <td>True</td>\n",
       "      <td>POINT (-97.74369950000001 30.2711286)</td>\n",
       "    </tr>\n",
       "    <tr>\n",
       "      <th>2</th>\n",
       "      <td>Bernard Arnault &amp; family</td>\n",
       "      <td>150.0</td>\n",
       "      <td>France</td>\n",
       "      <td>LVMH</td>\n",
       "      <td>3</td>\n",
       "      <td>72.0</td>\n",
       "      <td>Paris, France</td>\n",
       "      <td>France</td>\n",
       "      <td>Married</td>\n",
       "      <td>5.0</td>\n",
       "      <td>Bachelor of Arts/Science, Ecole Polytechnique ...</td>\n",
       "      <td>False</td>\n",
       "      <td>POINT (2.3514616 48.8566969)</td>\n",
       "    </tr>\n",
       "    <tr>\n",
       "      <th>3</th>\n",
       "      <td>Bill Gates</td>\n",
       "      <td>124.0</td>\n",
       "      <td>United States</td>\n",
       "      <td>Microsoft</td>\n",
       "      <td>4</td>\n",
       "      <td>65.0</td>\n",
       "      <td>Medina, Washington</td>\n",
       "      <td>United States</td>\n",
       "      <td>Divorced</td>\n",
       "      <td>3.0</td>\n",
       "      <td>Drop Out, Harvard University</td>\n",
       "      <td>True</td>\n",
       "      <td>POINT (-122.2264453 47.620548)</td>\n",
       "    </tr>\n",
       "    <tr>\n",
       "      <th>4</th>\n",
       "      <td>Mark Zuckerberg</td>\n",
       "      <td>97.0</td>\n",
       "      <td>United States</td>\n",
       "      <td>Facebook</td>\n",
       "      <td>5</td>\n",
       "      <td>36.0</td>\n",
       "      <td>Palo Alto, California</td>\n",
       "      <td>United States</td>\n",
       "      <td>Married</td>\n",
       "      <td>2.0</td>\n",
       "      <td>Drop Out, Harvard University</td>\n",
       "      <td>True</td>\n",
       "      <td>POINT (-122.1598465 37.4443293)</td>\n",
       "    </tr>\n",
       "  </tbody>\n",
       "</table>\n",
       "</div>"
      ],
      "text/plain": [
       "                       Name  NetWorth        Country         Source  Rank  \\\n",
       "0                Jeff Bezos     177.0  United States         Amazon     1   \n",
       "1                 Elon Musk     151.0  United States  Tesla, SpaceX     2   \n",
       "2  Bernard Arnault & family     150.0         France           LVMH     3   \n",
       "3                Bill Gates     124.0  United States      Microsoft     4   \n",
       "4           Mark Zuckerberg      97.0  United States       Facebook     5   \n",
       "\n",
       "    Age              Residence    Citizenship           Status  Children  \\\n",
       "0  57.0    Seattle, Washington  United States  In Relationship       4.0   \n",
       "1  49.0          Austin, Texas  United States  In Relationship       7.0   \n",
       "2  72.0          Paris, France         France          Married       5.0   \n",
       "3  65.0     Medina, Washington  United States         Divorced       3.0   \n",
       "4  36.0  Palo Alto, California  United States          Married       2.0   \n",
       "\n",
       "                                           Education Self_made  \\\n",
       "0     Bachelor of Arts/Science, Princeton University      True   \n",
       "1  Bachelor of Arts/Science, University of Pennsy...      True   \n",
       "2  Bachelor of Arts/Science, Ecole Polytechnique ...     False   \n",
       "3                       Drop Out, Harvard University      True   \n",
       "4                       Drop Out, Harvard University      True   \n",
       "\n",
       "                                geometry  \n",
       "0        POINT (-122.3300624 47.6038321)  \n",
       "1  POINT (-97.74369950000001 30.2711286)  \n",
       "2           POINT (2.3514616 48.8566969)  \n",
       "3         POINT (-122.2264453 47.620548)  \n",
       "4        POINT (-122.1598465 37.4443293)  "
      ]
     },
     "execution_count": 2,
     "metadata": {},
     "output_type": "execute_result"
    }
   ],
   "source": [
    "forbes_data= pd.read_csv('../input/forbes-billionaires-2021-30/forbes_billionaires_geo.csv')\n",
    "forbes_data.head()"
   ]
  },
  {
   "cell_type": "code",
   "execution_count": 3,
   "id": "smart-moldova",
   "metadata": {
    "execution": {
     "iopub.execute_input": "2021-05-18T21:22:23.410569Z",
     "iopub.status.busy": "2021-05-18T21:22:23.409927Z",
     "iopub.status.idle": "2021-05-18T21:22:23.413747Z",
     "shell.execute_reply": "2021-05-18T21:22:23.413254Z"
    },
    "papermill": {
     "duration": 0.024035,
     "end_time": "2021-05-18T21:22:23.413904",
     "exception": false,
     "start_time": "2021-05-18T21:22:23.389869",
     "status": "completed"
    },
    "tags": []
   },
   "outputs": [
    {
     "data": {
      "text/plain": [
       "Name              0\n",
       "NetWorth          0\n",
       "Country           0\n",
       "Source            0\n",
       "Rank              0\n",
       "Age             125\n",
       "Residence        40\n",
       "Citizenship      16\n",
       "Status          665\n",
       "Children       1203\n",
       "Education      1346\n",
       "Self_made        18\n",
       "geometry          0\n",
       "dtype: int64"
      ]
     },
     "execution_count": 3,
     "metadata": {},
     "output_type": "execute_result"
    }
   ],
   "source": [
    "forbes_data.isnull().sum()"
   ]
  },
  {
   "cell_type": "code",
   "execution_count": 4,
   "id": "weekly-seven",
   "metadata": {
    "execution": {
     "iopub.execute_input": "2021-05-18T21:22:23.442167Z",
     "iopub.status.busy": "2021-05-18T21:22:23.441519Z",
     "iopub.status.idle": "2021-05-18T21:22:23.450776Z",
     "shell.execute_reply": "2021-05-18T21:22:23.450260Z"
    },
    "papermill": {
     "duration": 0.026231,
     "end_time": "2021-05-18T21:22:23.450932",
     "exception": false,
     "start_time": "2021-05-18T21:22:23.424701",
     "status": "completed"
    },
    "tags": []
   },
   "outputs": [
    {
     "data": {
      "text/plain": [
       "United States     724\n",
       "China             626\n",
       "India             140\n",
       "Germany           136\n",
       "Russia            118\n",
       "Hong Kong          71\n",
       "Brazil             65\n",
       "Canada             64\n",
       "United Kingdom     56\n",
       "Italy              51\n",
       "Japan              49\n",
       "Taiwan             47\n",
       "Australia          44\n",
       "South Korea        43\n",
       "France             42\n",
       "Sweden             41\n",
       "Switzerland        40\n",
       "Thailand           31\n",
       "Spain              30\n",
       "Singapore          27\n",
       "Name: Country, dtype: int64"
      ]
     },
     "execution_count": 4,
     "metadata": {},
     "output_type": "execute_result"
    }
   ],
   "source": [
    "forbes_data['Country'].value_counts()[:20]"
   ]
  },
  {
   "cell_type": "code",
   "execution_count": 5,
   "id": "surrounded-location",
   "metadata": {
    "execution": {
     "iopub.execute_input": "2021-05-18T21:22:23.482771Z",
     "iopub.status.busy": "2021-05-18T21:22:23.482111Z",
     "iopub.status.idle": "2021-05-18T21:22:23.784627Z",
     "shell.execute_reply": "2021-05-18T21:22:23.784134Z"
    },
    "papermill": {
     "duration": 0.322481,
     "end_time": "2021-05-18T21:22:23.784760",
     "exception": false,
     "start_time": "2021-05-18T21:22:23.462279",
     "status": "completed"
    },
    "tags": []
   },
   "outputs": [
    {
     "data": {
      "text/plain": [
       "Text(0.5, 0, 'Country')"
      ]
     },
     "execution_count": 5,
     "metadata": {},
     "output_type": "execute_result"
    },
    {
     "data": {
      "image/png": "[encoded data removed]",
      "text/plain": [
       "<Figure size 864x360 with 1 Axes>"
      ]
     },
     "metadata": {
      "needs_background": "light"
     },
     "output_type": "display_data"
    }
   ],
   "source": [
    "plt.figure(figsize=(12,5))\n",
    "country_data= forbes_data['Country'].value_counts()[:20]\n",
    "country_data.plot.bar()\n",
    "plt.title('Top 20 Billionaires Country', fontsize=15)\n",
    "plt.xlabel(\"Country\",fontsize=15)"
   ]
  },
  {
   "cell_type": "code",
   "execution_count": 6,
   "id": "sporting-insulation",
   "metadata": {
    "execution": {
     "iopub.execute_input": "2021-05-18T21:22:23.843707Z",
     "iopub.status.busy": "2021-05-18T21:22:23.832692Z",
     "iopub.status.idle": "2021-05-18T21:22:24.042465Z",
     "shell.execute_reply": "2021-05-18T21:22:24.041697Z"
    },
    "papermill": {
     "duration": 0.245066,
     "end_time": "2021-05-18T21:22:24.042627",
     "exception": false,
     "start_time": "2021-05-18T21:22:23.797561",
     "status": "completed"
    },
    "tags": []
   },
   "outputs": [
    {
     "data": {
      "text/plain": [
       "<matplotlib.legend.Legend at 0x7f1ce248ef50>"
      ]
     },
     "execution_count": 6,
     "metadata": {},
     "output_type": "execute_result"
    },
    {
     "data": {
      "image/png": "[encoded data removed]",
      "text/plain": [
       "<Figure size 864x360 with 1 Axes>"
      ]
     },
     "metadata": {
      "needs_background": "light"
     },
     "output_type": "display_data"
    }
   ],
   "source": [
    "plt.figure(figsize=(12,5))\n",
    "sns.barplot(y=\"Name\", x=\"NetWorth\", data=forbes_data[:10])\n",
    "plt.title('Top 10 Billionaires', fontsize=15)\n",
    "plt.xlabel(\"NetWorth: USD (bilions)\",fontsize=15)\n",
    "plt.ylabel(\"Name\",fontsize=15)\n",
    "plt.legend(bbox_to_anchor=(1.05, 1), loc=2, borderaxespad=0.)"
   ]
  },
  {
   "cell_type": "code",
   "execution_count": 7,
   "id": "detailed-soldier",
   "metadata": {
    "execution": {
     "iopub.execute_input": "2021-05-18T21:22:24.078777Z",
     "iopub.status.busy": "2021-05-18T21:22:24.078086Z",
     "iopub.status.idle": "2021-05-18T21:22:24.174872Z",
     "shell.execute_reply": "2021-05-18T21:22:24.175338Z"
    },
    "papermill": {
     "duration": 0.118578,
     "end_time": "2021-05-18T21:22:24.175515",
     "exception": false,
     "start_time": "2021-05-18T21:22:24.056937",
     "status": "completed"
    },
    "tags": []
   },
   "outputs": [
    {
     "data": {
      "text/plain": [
       "Text(0.5, 1.0, 'Self Made Rate')"
      ]
     },
     "execution_count": 7,
     "metadata": {},
     "output_type": "execute_result"
    },
    {
     "data": {
      "image/png": "[encoded data removed]",
      "text/plain": [
       "<Figure size 864x360 with 1 Axes>"
      ]
     },
     "metadata": {},
     "output_type": "display_data"
    }
   ],
   "source": [
    "Self_made_status= len(forbes_data[forbes_data['Self_made']==True])\n",
    "Not_Self_made_status=len(forbes_data[forbes_data['Self_made']==False])\n",
    "plt.figure(figsize=(12,5))\n",
    "Self_made_pie = [Self_made_status,Not_Self_made_status]\n",
    "labels = 'Self Made','Not Self made'\n",
    "plt.pie(Self_made_pie,labels=labels,autopct='%1.1f%%')\n",
    "plt.title('Self Made Rate',fontsize=15)"
   ]
  },
  {
   "cell_type": "code",
   "execution_count": 8,
   "id": "fuzzy-presentation",
   "metadata": {
    "execution": {
     "iopub.execute_input": "2021-05-18T21:22:24.212148Z",
     "iopub.status.busy": "2021-05-18T21:22:24.211509Z",
     "iopub.status.idle": "2021-05-18T21:22:24.213944Z",
     "shell.execute_reply": "2021-05-18T21:22:24.214438Z"
    },
    "papermill": {
     "duration": 0.023286,
     "end_time": "2021-05-18T21:22:24.214592",
     "exception": false,
     "start_time": "2021-05-18T21:22:24.191306",
     "status": "completed"
    },
    "tags": []
   },
   "outputs": [
    {
     "data": {
      "text/plain": [
       "array(['In Relationship', 'Married', 'Divorced', 'Widowed, Remarried',\n",
       "       nan, 'Widowed', 'Single', 'Separated', 'Engaged'], dtype=object)"
      ]
     },
     "execution_count": 8,
     "metadata": {},
     "output_type": "execute_result"
    }
   ],
   "source": [
    "forbes_data['Status'].unique()"
   ]
  },
  {
   "cell_type": "code",
   "execution_count": 9,
   "id": "present-peninsula",
   "metadata": {
    "execution": {
     "iopub.execute_input": "2021-05-18T21:22:24.249532Z",
     "iopub.status.busy": "2021-05-18T21:22:24.248857Z",
     "iopub.status.idle": "2021-05-18T21:22:24.580636Z",
     "shell.execute_reply": "2021-05-18T21:22:24.581117Z"
    },
    "papermill": {
     "duration": 0.350781,
     "end_time": "2021-05-18T21:22:24.581297",
     "exception": false,
     "start_time": "2021-05-18T21:22:24.230516",
     "status": "completed"
    },
    "tags": []
   },
   "outputs": [
    {
     "data": {
      "image/png": "[encoded data removed]",
      "text/plain": [
       "<Figure size 864x360 with 1 Axes>"
      ]
     },
     "metadata": {
      "needs_background": "light"
     },
     "output_type": "display_data"
    },
    {
     "data": {
      "text/plain": [
       "([<matplotlib.patches.Wedge at 0x7f1ce184ec50>,\n",
       "  <matplotlib.patches.Wedge at 0x7f1ce185d450>,\n",
       "  <matplotlib.patches.Wedge at 0x7f1ce185dc50>,\n",
       "  <matplotlib.patches.Wedge at 0x7f1ce186b4d0>,\n",
       "  <matplotlib.patches.Wedge at 0x7f1ce186bd50>,\n",
       "  <matplotlib.patches.Wedge at 0x7f1ce1877650>,\n",
       "  <matplotlib.patches.Wedge at 0x7f1ce1877e10>,\n",
       "  <matplotlib.patches.Wedge at 0x7f1ce1808650>],\n",
       " [Text(1.0994520103525394, 0.03471709855042479, 'In Relationship'),\n",
       "  Text(-0.9797315577912132, 0.5001260587771874, 'Married'),\n",
       "  Text(0.7737145441304074, -0.7818988452485884, 'Divorced'),\n",
       "  Text(0.930704743813112, -0.5863349553316515, 'Widowed, Remarried'),\n",
       "  Text(1.0099891763863875, -0.435800256519368, 'Widowed'),\n",
       "  Text(1.0870961421590777, -0.1679939811506663, 'Single'),\n",
       "  Text(1.0995973847812053, -0.02975888745121721, 'Separated'),\n",
       "  Text(1.0999801163198648, -0.006613902096102234, 'Engaged')],\n",
       " [Text(0.5997010965559305, 0.018936599209322613, '1.0%'),\n",
       "  Text(-0.5343990315224799, 0.27279603206028397, '83.0%'),\n",
       "  Text(0.4220261149802222, -0.4264902792265028, '6.9%'),\n",
       "  Text(0.5076571329889701, -0.3198190665445371, '0.4%'),\n",
       "  Text(0.5509031871198476, -0.23770923082874612, '4.5%'),\n",
       "  Text(0.5929615320867696, -0.09163308062763616, '3.5%'),\n",
       "  Text(0.5997803916988391, -0.016232120427936658, '0.5%'),\n",
       "  Text(0.5999891543562899, -0.003607582961510309, '0.2%')])"
      ]
     },
     "execution_count": 9,
     "metadata": {},
     "output_type": "execute_result"
    },
    {
     "data": {
      "image/png": "[encoded data removed]",
      "text/plain": [
       "<Figure size 864x360 with 1 Axes>"
      ]
     },
     "metadata": {},
     "output_type": "display_data"
    }
   ],
   "source": [
    "plt.figure(figsize=(12,5))\n",
    "sns.countplot(forbes_data['Status'],order = forbes_data['Status'].value_counts().index)\n",
    "plt.title('Marriage Status Rate',fontsize=15)\n",
    "plt.show()\n",
    "\n",
    "plt.figure(figsize=(12,5))\n",
    "status_data=[]\n",
    "for i in range(len(forbes_data['Status'].unique())):\n",
    "    if i == 4:\n",
    "        continue\n",
    "    status_data.append(len(forbes_data[forbes_data['Status']==forbes_data['Status'].unique()[i]]))\n",
    "labels = 'In Relationship', 'Married', 'Divorced', 'Widowed, Remarried','Widowed', 'Single', 'Separated', 'Engaged'\n",
    "plt.pie(status_data,labels=labels,autopct='%1.1f%%')"
   ]
  },
  {
   "cell_type": "code",
   "execution_count": 10,
   "id": "short-victorian",
   "metadata": {
    "execution": {
     "iopub.execute_input": "2021-05-18T21:22:24.620318Z",
     "iopub.status.busy": "2021-05-18T21:22:24.619708Z",
     "iopub.status.idle": "2021-05-18T21:22:24.679146Z",
     "shell.execute_reply": "2021-05-18T21:22:24.678467Z"
    },
    "papermill": {
     "duration": 0.079934,
     "end_time": "2021-05-18T21:22:24.679301",
     "exception": false,
     "start_time": "2021-05-18T21:22:24.599367",
     "status": "completed"
    },
    "tags": []
   },
   "outputs": [],
   "source": [
    "forbes_data= forbes_data.dropna(subset=['Age'])\n",
    "def Age(age):\n",
    "    if age >= 90 : return '90 years old'\n",
    "    if age >= 80 : return '80 years old'\n",
    "    if age >= 70 : return '70 years old'\n",
    "    if age >= 60 : return '60 years old'\n",
    "    if age >= 50 : return '50 years old'\n",
    "    if age >= 40 : return '40 years old'\n",
    "    if age >= 30 : return '30 years old'\n",
    "    if age >= 20 : return '20 years old'\n",
    "    else: return 'Teenager'\n",
    "forbes_data['age_group'] = forbes_data.apply(lambda x: Age(x[\"Age\"]), axis = 1)"
   ]
  },
  {
   "cell_type": "code",
   "execution_count": 11,
   "id": "occupied-liechtenstein",
   "metadata": {
    "execution": {
     "iopub.execute_input": "2021-05-18T21:22:24.727411Z",
     "iopub.status.busy": "2021-05-18T21:22:24.725595Z",
     "iopub.status.idle": "2021-05-18T21:22:24.907859Z",
     "shell.execute_reply": "2021-05-18T21:22:24.908352Z"
    },
    "papermill": {
     "duration": 0.211111,
     "end_time": "2021-05-18T21:22:24.908521",
     "exception": false,
     "start_time": "2021-05-18T21:22:24.697410",
     "status": "completed"
    },
    "tags": []
   },
   "outputs": [
    {
     "data": {
      "text/plain": [
       "Text(0.5, 0, 'Age')"
      ]
     },
     "execution_count": 11,
     "metadata": {},
     "output_type": "execute_result"
    },
    {
     "data": {
      "image/png": "[encoded data removed]",
      "text/plain": [
       "<Figure size 864x360 with 1 Axes>"
      ]
     },
     "metadata": {
      "needs_background": "light"
     },
     "output_type": "display_data"
    }
   ],
   "source": [
    "plt.figure(figsize=(12,5))\n",
    "g = sns.countplot(forbes_data['age_group'],order = forbes_data['age_group'].value_counts().index)\n",
    "plt.title('Forbes Billionaires Age',fontsize=15)\n",
    "plt.xlabel(\"Age\", fontsize=15)"
   ]
  },
  {
   "cell_type": "code",
   "execution_count": 12,
   "id": "corporate-ready",
   "metadata": {
    "execution": {
     "iopub.execute_input": "2021-05-18T21:22:24.955922Z",
     "iopub.status.busy": "2021-05-18T21:22:24.954930Z",
     "iopub.status.idle": "2021-05-18T21:22:25.268986Z",
     "shell.execute_reply": "2021-05-18T21:22:25.268354Z"
    },
    "papermill": {
     "duration": 0.341222,
     "end_time": "2021-05-18T21:22:25.269123",
     "exception": false,
     "start_time": "2021-05-18T21:22:24.927901",
     "status": "completed"
    },
    "tags": []
   },
   "outputs": [
    {
     "data": {
      "text/plain": [
       "Text(0.5, 0, 'Number of Children')"
      ]
     },
     "execution_count": 12,
     "metadata": {},
     "output_type": "execute_result"
    },
    {
     "data": {
      "image/png": "[encoded data removed]",
      "text/plain": [
       "<Figure size 864x360 with 1 Axes>"
      ]
     },
     "metadata": {
      "needs_background": "light"
     },
     "output_type": "display_data"
    }
   ],
   "source": [
    "plt.figure(figsize=(12,5))\n",
    "sns.countplot(forbes_data['Children'],order = forbes_data['Children'].value_counts().index)\n",
    "plt.title('Forbes Billionaires Children',fontsize=15)\n",
    "plt.xlabel(\"Number of Children\", fontsize=12)"
   ]
  }
 ],
 "metadata": {
  "kernelspec": {
   "display_name": "Python 3",
   "language": "python",
   "name": "python3"
  },
  "language_info": {
   "codemirror_mode": {
    "name": "ipython",
    "version": 3
   },
   "file_extension": ".py",
   "mimetype": "text/x-python",
   "name": "python",
   "nbconvert_exporter": "python",
   "pygments_lexer": "ipython3",
   "version": "3.7.10"
  },
  "papermill": {
   "default_parameters": {},
   "duration": 11.617623,
   "end_time": "2021-05-18T21:22:25.999178",
   "environment_variables": {},
   "exception": null,
   "input_path": "__notebook__.ipynb",
   "output_path": "__notebook__.ipynb",
   "parameters": {},
   "start_time": "2021-05-18T21:22:14.381555",
   "version": "2.3.3"
  }
 },
 "nbformat": 4,
 "nbformat_minor": 5
}
