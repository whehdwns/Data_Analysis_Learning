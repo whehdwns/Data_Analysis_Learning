{
 "cells": [
  {
   "cell_type": "code",
   "execution_count": 1,
   "metadata": {
    "scrolled": true
   },
   "outputs": [],
   "source": [
    "import numpy as np # linear algebra\n",
    "import pandas as pd # data processing, CSV file I/O (e.g. pd.read_csv)\n",
    "import matplotlib.pyplot as plt\n",
    "import warnings\n",
    "import seaborn as sns\n",
    "warnings.filterwarnings('ignore')"
   ]
  },
  {
   "cell_type": "code",
   "execution_count": 2,
   "metadata": {
    "scrolled": true
   },
   "outputs": [
    {
     "data": {
      "text/html": [
       "<div>\n",
       "<style scoped>\n",
       "    .dataframe tbody tr th:only-of-type {\n",
       "        vertical-align: middle;\n",
       "    }\n",
       "\n",
       "    .dataframe tbody tr th {\n",
       "        vertical-align: top;\n",
       "    }\n",
       "\n",
       "    .dataframe thead th {\n",
       "        text-align: right;\n",
       "    }\n",
       "</style>\n",
       "<table border=\"1\" class=\"dataframe\">\n",
       "  <thead>\n",
       "    <tr style=\"text-align: right;\">\n",
       "      <th></th>\n",
       "      <th>activity_year</th>\n",
       "      <th>lei</th>\n",
       "      <th>derived_msa-md</th>\n",
       "      <th>state_code</th>\n",
       "      <th>county_code</th>\n",
       "      <th>census_tract</th>\n",
       "      <th>conforming_loan_limit</th>\n",
       "      <th>derived_loan_product_type</th>\n",
       "      <th>derived_dwelling_category</th>\n",
       "      <th>derived_ethnicity</th>\n",
       "      <th>...</th>\n",
       "      <th>denial_reason-2</th>\n",
       "      <th>denial_reason-3</th>\n",
       "      <th>denial_reason-4</th>\n",
       "      <th>tract_population</th>\n",
       "      <th>tract_minority_population_percent</th>\n",
       "      <th>ffiec_msa_md_median_family_income</th>\n",
       "      <th>tract_to_msa_income_percentage</th>\n",
       "      <th>tract_owner_occupied_units</th>\n",
       "      <th>tract_one_to_four_family_homes</th>\n",
       "      <th>tract_median_age_of_housing_units</th>\n",
       "    </tr>\n",
       "  </thead>\n",
       "  <tbody>\n",
       "    <tr>\n",
       "      <th>0</th>\n",
       "      <td>2020</td>\n",
       "      <td>JJKC32MCHWDI71265Z06</td>\n",
       "      <td>40380</td>\n",
       "      <td>NY</td>\n",
       "      <td>36055.0</td>\n",
       "      <td>3.605501e+10</td>\n",
       "      <td>C</td>\n",
       "      <td>Conventional:First Lien</td>\n",
       "      <td>Single Family (1-4 Units):Site-Built</td>\n",
       "      <td>Ethnicity Not Available</td>\n",
       "      <td>...</td>\n",
       "      <td>NaN</td>\n",
       "      <td>NaN</td>\n",
       "      <td>NaN</td>\n",
       "      <td>5560</td>\n",
       "      <td>16.31</td>\n",
       "      <td>76200</td>\n",
       "      <td>139</td>\n",
       "      <td>1997</td>\n",
       "      <td>2093</td>\n",
       "      <td>45</td>\n",
       "    </tr>\n",
       "    <tr>\n",
       "      <th>1</th>\n",
       "      <td>2020</td>\n",
       "      <td>JJKC32MCHWDI71265Z06</td>\n",
       "      <td>35614</td>\n",
       "      <td>NY</td>\n",
       "      <td>36119.0</td>\n",
       "      <td>3.611901e+10</td>\n",
       "      <td>C</td>\n",
       "      <td>Conventional:First Lien</td>\n",
       "      <td>Single Family (1-4 Units):Site-Built</td>\n",
       "      <td>Ethnicity Not Available</td>\n",
       "      <td>...</td>\n",
       "      <td>NaN</td>\n",
       "      <td>NaN</td>\n",
       "      <td>NaN</td>\n",
       "      <td>4305</td>\n",
       "      <td>21.84</td>\n",
       "      <td>81800</td>\n",
       "      <td>258</td>\n",
       "      <td>1323</td>\n",
       "      <td>1314</td>\n",
       "      <td>76</td>\n",
       "    </tr>\n",
       "    <tr>\n",
       "      <th>2</th>\n",
       "      <td>2020</td>\n",
       "      <td>JJKC32MCHWDI71265Z06</td>\n",
       "      <td>45060</td>\n",
       "      <td>NY</td>\n",
       "      <td>36067.0</td>\n",
       "      <td>3.606701e+10</td>\n",
       "      <td>C</td>\n",
       "      <td>VA:First Lien</td>\n",
       "      <td>Single Family (1-4 Units):Site-Built</td>\n",
       "      <td>Ethnicity Not Available</td>\n",
       "      <td>...</td>\n",
       "      <td>NaN</td>\n",
       "      <td>NaN</td>\n",
       "      <td>NaN</td>\n",
       "      <td>5825</td>\n",
       "      <td>9.10</td>\n",
       "      <td>75800</td>\n",
       "      <td>152</td>\n",
       "      <td>1781</td>\n",
       "      <td>2019</td>\n",
       "      <td>23</td>\n",
       "    </tr>\n",
       "    <tr>\n",
       "      <th>3</th>\n",
       "      <td>2020</td>\n",
       "      <td>JJKC32MCHWDI71265Z06</td>\n",
       "      <td>35614</td>\n",
       "      <td>NY</td>\n",
       "      <td>36119.0</td>\n",
       "      <td>3.611901e+10</td>\n",
       "      <td>C</td>\n",
       "      <td>Conventional:First Lien</td>\n",
       "      <td>Single Family (1-4 Units):Site-Built</td>\n",
       "      <td>Ethnicity Not Available</td>\n",
       "      <td>...</td>\n",
       "      <td>NaN</td>\n",
       "      <td>NaN</td>\n",
       "      <td>NaN</td>\n",
       "      <td>4136</td>\n",
       "      <td>72.32</td>\n",
       "      <td>81800</td>\n",
       "      <td>136</td>\n",
       "      <td>766</td>\n",
       "      <td>1278</td>\n",
       "      <td>64</td>\n",
       "    </tr>\n",
       "    <tr>\n",
       "      <th>4</th>\n",
       "      <td>2020</td>\n",
       "      <td>JJKC32MCHWDI71265Z06</td>\n",
       "      <td>35614</td>\n",
       "      <td>NY</td>\n",
       "      <td>36081.0</td>\n",
       "      <td>3.608111e+10</td>\n",
       "      <td>C</td>\n",
       "      <td>Conventional:First Lien</td>\n",
       "      <td>Single Family (1-4 Units):Site-Built</td>\n",
       "      <td>Ethnicity Not Available</td>\n",
       "      <td>...</td>\n",
       "      <td>NaN</td>\n",
       "      <td>NaN</td>\n",
       "      <td>NaN</td>\n",
       "      <td>2496</td>\n",
       "      <td>56.97</td>\n",
       "      <td>81800</td>\n",
       "      <td>106</td>\n",
       "      <td>612</td>\n",
       "      <td>948</td>\n",
       "      <td>65</td>\n",
       "    </tr>\n",
       "  </tbody>\n",
       "</table>\n",
       "<p>5 rows × 99 columns</p>\n",
       "</div>"
      ],
      "text/plain": [
       "   activity_year                   lei  derived_msa-md state_code  \\\n",
       "0           2020  JJKC32MCHWDI71265Z06           40380         NY   \n",
       "1           2020  JJKC32MCHWDI71265Z06           35614         NY   \n",
       "2           2020  JJKC32MCHWDI71265Z06           45060         NY   \n",
       "3           2020  JJKC32MCHWDI71265Z06           35614         NY   \n",
       "4           2020  JJKC32MCHWDI71265Z06           35614         NY   \n",
       "\n",
       "   county_code  census_tract conforming_loan_limit derived_loan_product_type  \\\n",
       "0      36055.0  3.605501e+10                     C   Conventional:First Lien   \n",
       "1      36119.0  3.611901e+10                     C   Conventional:First Lien   \n",
       "2      36067.0  3.606701e+10                     C             VA:First Lien   \n",
       "3      36119.0  3.611901e+10                     C   Conventional:First Lien   \n",
       "4      36081.0  3.608111e+10                     C   Conventional:First Lien   \n",
       "\n",
       "              derived_dwelling_category        derived_ethnicity  ...  \\\n",
       "0  Single Family (1-4 Units):Site-Built  Ethnicity Not Available  ...   \n",
       "1  Single Family (1-4 Units):Site-Built  Ethnicity Not Available  ...   \n",
       "2  Single Family (1-4 Units):Site-Built  Ethnicity Not Available  ...   \n",
       "3  Single Family (1-4 Units):Site-Built  Ethnicity Not Available  ...   \n",
       "4  Single Family (1-4 Units):Site-Built  Ethnicity Not Available  ...   \n",
       "\n",
       "  denial_reason-2 denial_reason-3  denial_reason-4  tract_population  \\\n",
       "0             NaN             NaN              NaN              5560   \n",
       "1             NaN             NaN              NaN              4305   \n",
       "2             NaN             NaN              NaN              5825   \n",
       "3             NaN             NaN              NaN              4136   \n",
       "4             NaN             NaN              NaN              2496   \n",
       "\n",
       "   tract_minority_population_percent  ffiec_msa_md_median_family_income  \\\n",
       "0                              16.31                              76200   \n",
       "1                              21.84                              81800   \n",
       "2                               9.10                              75800   \n",
       "3                              72.32                              81800   \n",
       "4                              56.97                              81800   \n",
       "\n",
       "   tract_to_msa_income_percentage  tract_owner_occupied_units  \\\n",
       "0                             139                        1997   \n",
       "1                             258                        1323   \n",
       "2                             152                        1781   \n",
       "3                             136                         766   \n",
       "4                             106                         612   \n",
       "\n",
       "   tract_one_to_four_family_homes  tract_median_age_of_housing_units  \n",
       "0                            2093                                 45  \n",
       "1                            1314                                 76  \n",
       "2                            2019                                 23  \n",
       "3                            1278                                 64  \n",
       "4                             948                                 65  \n",
       "\n",
       "[5 rows x 99 columns]"
      ]
     },
     "execution_count": 2,
     "metadata": {},
     "output_type": "execute_result"
    }
   ],
   "source": [
    "hmda_dataset_original = pd.read_csv('state_NY.csv')\n",
    "hmda_dataset = hmda_dataset_original.copy()\n",
    "hmda_dataset.head()"
   ]
  },
  {
   "cell_type": "code",
   "execution_count": 3,
   "metadata": {
    "scrolled": true
   },
   "outputs": [
    {
     "data": {
      "text/plain": [
       "Index(['activity_year', 'lei', 'derived_msa-md', 'state_code', 'county_code',\n",
       "       'census_tract', 'conforming_loan_limit', 'derived_loan_product_type',\n",
       "       'derived_dwelling_category', 'derived_ethnicity', 'derived_race',\n",
       "       'derived_sex', 'action_taken', 'purchaser_type', 'preapproval',\n",
       "       'loan_type', 'loan_purpose', 'lien_status', 'reverse_mortgage',\n",
       "       'open-end_line_of_credit', 'business_or_commercial_purpose',\n",
       "       'loan_amount', 'loan_to_value_ratio', 'interest_rate', 'rate_spread',\n",
       "       'hoepa_status', 'total_loan_costs', 'total_points_and_fees',\n",
       "       'origination_charges', 'discount_points', 'lender_credits', 'loan_term',\n",
       "       'prepayment_penalty_term', 'intro_rate_period', 'negative_amortization',\n",
       "       'interest_only_payment', 'balloon_payment',\n",
       "       'other_nonamortizing_features', 'property_value', 'construction_method',\n",
       "       'occupancy_type', 'manufactured_home_secured_property_type',\n",
       "       'manufactured_home_land_property_interest', 'total_units',\n",
       "       'multifamily_affordable_units', 'income', 'debt_to_income_ratio',\n",
       "       'applicant_credit_score_type', 'co-applicant_credit_score_type',\n",
       "       'applicant_ethnicity-1', 'applicant_ethnicity-2',\n",
       "       'applicant_ethnicity-3', 'applicant_ethnicity-4',\n",
       "       'applicant_ethnicity-5', 'co-applicant_ethnicity-1',\n",
       "       'co-applicant_ethnicity-2', 'co-applicant_ethnicity-3',\n",
       "       'co-applicant_ethnicity-4', 'co-applicant_ethnicity-5',\n",
       "       'applicant_ethnicity_observed', 'co-applicant_ethnicity_observed',\n",
       "       'applicant_race-1', 'applicant_race-2', 'applicant_race-3',\n",
       "       'applicant_race-4', 'applicant_race-5', 'co-applicant_race-1',\n",
       "       'co-applicant_race-2', 'co-applicant_race-3', 'co-applicant_race-4',\n",
       "       'co-applicant_race-5', 'applicant_race_observed',\n",
       "       'co-applicant_race_observed', 'applicant_sex', 'co-applicant_sex',\n",
       "       'applicant_sex_observed', 'co-applicant_sex_observed', 'applicant_age',\n",
       "       'co-applicant_age', 'applicant_age_above_62',\n",
       "       'co-applicant_age_above_62', 'submission_of_application',\n",
       "       'initially_payable_to_institution', 'aus-1', 'aus-2', 'aus-3', 'aus-4',\n",
       "       'aus-5', 'denial_reason-1', 'denial_reason-2', 'denial_reason-3',\n",
       "       'denial_reason-4', 'tract_population',\n",
       "       'tract_minority_population_percent',\n",
       "       'ffiec_msa_md_median_family_income', 'tract_to_msa_income_percentage',\n",
       "       'tract_owner_occupied_units', 'tract_one_to_four_family_homes',\n",
       "       'tract_median_age_of_housing_units'],\n",
       "      dtype='object')"
      ]
     },
     "execution_count": 3,
     "metadata": {},
     "output_type": "execute_result"
    }
   ],
   "source": [
    "hmda_dataset.columns"
   ]
  },
  {
   "cell_type": "markdown",
   "metadata": {},
   "source": [
    "## Data Cleaning / Processing"
   ]
  },
  {
   "cell_type": "code",
   "execution_count": 4,
   "metadata": {
    "scrolled": true
   },
   "outputs": [],
   "source": [
    "def change_action_taken_name(y):\n",
    "    if ( y == 1):\n",
    "        return \"Loan originated\"\n",
    "    if (y == 2):\n",
    "        return \"Application approved but not accepted\"\n",
    "    if (y == 3):\n",
    "        return \"Application denied\"\n",
    "    if (y == 4):\n",
    "        return \"Application withdrawn by applicant\"\n",
    "    if (y == 5):\n",
    "        return \"File closed for incompleteness\"\n",
    "    if (y == 6):\n",
    "        return \"Purchased loan\"\n",
    "    if (y == 7):\n",
    "        return \"Preapproval request denied\"\n",
    "    if (y == 8):\n",
    "        return \"Preapproval request approved but not accepted\"\n",
    "    else:\n",
    "        return \"N/A\""
   ]
  },
  {
   "cell_type": "code",
   "execution_count": 5,
   "metadata": {
    "scrolled": true
   },
   "outputs": [],
   "source": [
    "def change_loan_type_name(y):\n",
    "    if ( y == 1):\n",
    "        return \"Conventional (not insured or guaranteed by FHA, VA, RHS, FSA)\"\n",
    "    if (y == 2):\n",
    "        return \"Federal Housing Administration insured (FHA)\"\n",
    "    if (y == 3):\n",
    "        return \"Veterans Affairs guaranteed (VA)\"\n",
    "    if (y == 4):\n",
    "        return \"USDA Rural Housing Service or Farm Service Agency guaranteed (RHS or FSA)\"\n",
    "    else:\n",
    "        return \"N/A\""
   ]
  },
  {
   "cell_type": "code",
   "execution_count": 6,
   "metadata": {
    "scrolled": true
   },
   "outputs": [],
   "source": [
    "def change_loan_purpose_name(y):\n",
    "    if ( y == 1):\n",
    "        return \"Home purchase\"\n",
    "    if (y == 2):\n",
    "        return \"Home improvement\"\n",
    "    if (y == 31):\n",
    "        return \"Refinancing\"\n",
    "    if (y == 32):\n",
    "        return \"Cash-out refinancing\"\n",
    "    if (y == 4):\n",
    "        return \"Other purpose\"\n",
    "    if (y == 5):\n",
    "        return \"Not applicable\"\n",
    "    else:\n",
    "        return \"N/A\""
   ]
  },
  {
   "cell_type": "code",
   "execution_count": 7,
   "metadata": {
    "scrolled": true
   },
   "outputs": [],
   "source": [
    "def change_lien_status_name(y):\n",
    "    if ( y == 1):\n",
    "        return \"Secured by a first lien\"\n",
    "    if (y == 2):\n",
    "        return \"Secured by a subordinate lien\"\n",
    "    else:\n",
    "        \"N/A\""
   ]
  },
  {
   "cell_type": "code",
   "execution_count": 8,
   "metadata": {
    "scrolled": true
   },
   "outputs": [],
   "source": [
    "def change_construction_method_name(y):\n",
    "    if ( y == 1):\n",
    "        return \"Site-built\"\n",
    "    if (y == 2):\n",
    "        return \"Manufactured home\"\n",
    "    else:\n",
    "        \"N/A\""
   ]
  },
  {
   "cell_type": "code",
   "execution_count": 9,
   "metadata": {
    "scrolled": true
   },
   "outputs": [],
   "source": [
    "def change_derived_ethnicity_name(y):\n",
    "    if ( y == 1):\n",
    "        return \"Hispanic or Latino\"\n",
    "    if (y == 2):\n",
    "        return \"Not Hispanic or Latino\"\n",
    "    if (y == 3):\n",
    "        return \"Joint\"\n",
    "    if (y == 4):\n",
    "        return \"Ethnicity Not Available\"\n",
    "    if (y == 5):\n",
    "        return \"Free Form Text Only\"\n",
    "    else:\n",
    "        return \"N/A\""
   ]
  },
  {
   "cell_type": "code",
   "execution_count": 10,
   "metadata": {
    "scrolled": true
   },
   "outputs": [],
   "source": [
    "def change_derived_race_name(y):\n",
    "    if ( y == 1):\n",
    "        return \"American Indian or Alaska Native\"\n",
    "    if (y == 2):\n",
    "        return \"Asian\"\n",
    "    if (y == 3):\n",
    "        return \"Black or African American\"\n",
    "    if (y == 4):\n",
    "        return \"Native Hawaiian or Other Pacific Islander\"\n",
    "    if (y == 5):\n",
    "        return \"White\"\n",
    "    if ( y == 6):\n",
    "        return \"2 or more minority races\"\n",
    "    if (y == 7):\n",
    "        return \"Joint\"\n",
    "    if (y == 8):\n",
    "        return \"Free Form Text Only\"\n",
    "    if (y == 9):\n",
    "        return \"Race Not Available\"\n",
    "    else:\n",
    "        return \"N/A\""
   ]
  },
  {
   "cell_type": "code",
   "execution_count": 11,
   "metadata": {
    "scrolled": true
   },
   "outputs": [],
   "source": [
    "def change_derived_sex_name(y):\n",
    "    if ( y == 1):\n",
    "        return \"Male\"\n",
    "    if (y == 2):\n",
    "        return \"Female\"\n",
    "    if (y == 3):\n",
    "        return \"Joint\"\n",
    "    if (y == 4):\n",
    "        return \"Sex Not Available\"\n",
    "    else:\n",
    "        return \"N/A\""
   ]
  },
  {
   "cell_type": "code",
   "execution_count": 12,
   "metadata": {},
   "outputs": [],
   "source": [
    "def change_applicant_age_name(y):\n",
    "    if ( y == \"<25\"):\n",
    "        return 1\n",
    "    if (y == \"25-34\"):\n",
    "        return 2\n",
    "    if (y == \"35-44\"):\n",
    "        return 3\n",
    "    if (y == \"45-54\"):\n",
    "        return 4\n",
    "    if (y == \"55-64\"):\n",
    "        return 5\n",
    "    if ( y == \"65-74\"):\n",
    "        return 6\n",
    "    if (y == \">74\"):\n",
    "        return 7\n",
    "    else:\n",
    "        return 8"
   ]
  },
  {
   "cell_type": "code",
   "execution_count": 13,
   "metadata": {
    "scrolled": true
   },
   "outputs": [],
   "source": [
    "hmda_dataset['action_taken_name'] = hmda_dataset['action_taken']\n",
    "hmda_dataset['action_taken_name'] = hmda_dataset['action_taken_name'].apply(change_action_taken_name)\n",
    "\n",
    "hmda_dataset['loan_type_name'] = hmda_dataset['loan_type']\n",
    "hmda_dataset['loan_type_name'] = hmda_dataset['loan_type_name'].apply(change_loan_type_name)\n",
    "\n",
    "hmda_dataset['loan_purpose_name'] = hmda_dataset['loan_purpose']\n",
    "hmda_dataset['loan_purpose_name'] = hmda_dataset['loan_purpose_name'].apply(change_loan_purpose_name)\n",
    "\n",
    "hmda_dataset['lien_status_name'] = hmda_dataset['lien_status']\n",
    "hmda_dataset['lien_status_name'] = hmda_dataset['lien_status_name'].apply(change_lien_status_name)\n",
    "\n",
    "hmda_dataset['construction_method_name'] = hmda_dataset['construction_method']\n",
    "hmda_dataset['construction_method_name'] = hmda_dataset['construction_method_name'].apply(change_construction_method_name)\n",
    "\n",
    "#Ethnicity\n",
    "hmda_dataset['applicant_ethnicity-1_name'] = hmda_dataset['applicant_ethnicity-1']\n",
    "hmda_dataset['applicant_ethnicity-1_name'] = hmda_dataset['applicant_ethnicity-1_name'].apply(change_derived_ethnicity_name)\n",
    "\n",
    "hmda_dataset['co-applicant_ethnicity-1_name'] = hmda_dataset['co-applicant_ethnicity-1']\n",
    "hmda_dataset['co-applicant_ethnicity-1_name'] = hmda_dataset['co-applicant_ethnicity-1_name'].apply(change_derived_ethnicity_name)\n",
    "\n",
    "hmda_dataset['applicant_ethnicity_observed_name'] = hmda_dataset['applicant_ethnicity_observed']\n",
    "hmda_dataset['applicant_ethnicity_observed_name'] = hmda_dataset['applicant_ethnicity_observed_name'].apply(change_derived_ethnicity_name)\n",
    "\n",
    "hmda_dataset['co-applicant_ethnicity_observed_name'] = hmda_dataset['co-applicant_ethnicity_observed']\n",
    "hmda_dataset['co-applicant_ethnicity_observed_name'] = hmda_dataset['co-applicant_ethnicity_observed_name'].apply(change_derived_ethnicity_name)\n",
    "\n",
    "#Race\n",
    "hmda_dataset['applicant_race-1_name'] = hmda_dataset['applicant_race-1']\n",
    "hmda_dataset['applicant_race-1_name'] = hmda_dataset['applicant_race-1_name'].apply(change_derived_race_name)\n",
    "\n",
    "hmda_dataset['co-applicant_race-1_name'] = hmda_dataset['co-applicant_race-1']\n",
    "hmda_dataset['co-applicant_race-1_name'] = hmda_dataset['co-applicant_race-1_name'].apply(change_derived_race_name)\n",
    "\n",
    "hmda_dataset['applicant_race_observed_name'] = hmda_dataset['applicant_race_observed']\n",
    "hmda_dataset['applicant_race_observed_name'] = hmda_dataset['applicant_race_observed_name'].apply(change_derived_race_name)\n",
    "\n",
    "hmda_dataset['co-applicant_race_observed_name'] = hmda_dataset['co-applicant_race_observed']\n",
    "hmda_dataset['co-applicant_race_observed_name'] =hmda_dataset['co-applicant_race_observed_name'].apply(change_derived_race_name)\n",
    "\n",
    "#Sex\n",
    "hmda_dataset['applicant_sex_name'] = hmda_dataset['applicant_sex']\n",
    "hmda_dataset['applicant_sex_name'] = hmda_dataset['applicant_sex_name'].apply(change_derived_sex_name)\n",
    "\n",
    "hmda_dataset['co-applicant_sex_name'] = hmda_dataset['co-applicant_sex']\n",
    "hmda_dataset['co-applicant_sex_name'] = hmda_dataset['co-applicant_sex_name'].apply(change_derived_sex_name)\n",
    "\n",
    "hmda_dataset['applicant_sex_observed_name'] = hmda_dataset['applicant_sex_observed']\n",
    "hmda_dataset['applicant_sex_observed_name'] = hmda_dataset['applicant_sex_observed_name'].apply(change_derived_sex_name)\n",
    "\n",
    "hmda_dataset['co-applicant_sex_observed_name'] = hmda_dataset['co-applicant_sex_observed']\n",
    "hmda_dataset['co-applicant_sex_observed_name'] = hmda_dataset['co-applicant_sex_observed_name'].apply(change_derived_sex_name)\n",
    "\n",
    "#Age\n",
    "hmda_dataset['applicant_age_num'] = hmda_dataset['applicant_age']\n",
    "hmda_dataset['applicant_age_num'] = hmda_dataset['applicant_age_num'].apply(change_applicant_age_name)\n"
   ]
  },
  {
   "cell_type": "code",
   "execution_count": 14,
   "metadata": {
    "scrolled": true
   },
   "outputs": [
    {
     "data": {
      "text/html": [
       "<div>\n",
       "<style scoped>\n",
       "    .dataframe tbody tr th:only-of-type {\n",
       "        vertical-align: middle;\n",
       "    }\n",
       "\n",
       "    .dataframe tbody tr th {\n",
       "        vertical-align: top;\n",
       "    }\n",
       "\n",
       "    .dataframe thead th {\n",
       "        text-align: right;\n",
       "    }\n",
       "</style>\n",
       "<table border=\"1\" class=\"dataframe\">\n",
       "  <thead>\n",
       "    <tr style=\"text-align: right;\">\n",
       "      <th></th>\n",
       "      <th>activity_year</th>\n",
       "      <th>lei</th>\n",
       "      <th>derived_msa-md</th>\n",
       "      <th>state_code</th>\n",
       "      <th>county_code</th>\n",
       "      <th>census_tract</th>\n",
       "      <th>conforming_loan_limit</th>\n",
       "      <th>derived_loan_product_type</th>\n",
       "      <th>derived_dwelling_category</th>\n",
       "      <th>derived_ethnicity</th>\n",
       "      <th>...</th>\n",
       "      <th>co-applicant_ethnicity_observed_name</th>\n",
       "      <th>applicant_race-1_name</th>\n",
       "      <th>co-applicant_race-1_name</th>\n",
       "      <th>applicant_race_observed_name</th>\n",
       "      <th>co-applicant_race_observed_name</th>\n",
       "      <th>applicant_sex_name</th>\n",
       "      <th>co-applicant_sex_name</th>\n",
       "      <th>applicant_sex_observed_name</th>\n",
       "      <th>co-applicant_sex_observed_name</th>\n",
       "      <th>applicant_age_num</th>\n",
       "    </tr>\n",
       "  </thead>\n",
       "  <tbody>\n",
       "    <tr>\n",
       "      <th>0</th>\n",
       "      <td>2020</td>\n",
       "      <td>JJKC32MCHWDI71265Z06</td>\n",
       "      <td>40380</td>\n",
       "      <td>NY</td>\n",
       "      <td>36055.0</td>\n",
       "      <td>3.605501e+10</td>\n",
       "      <td>C</td>\n",
       "      <td>Conventional:First Lien</td>\n",
       "      <td>Single Family (1-4 Units):Site-Built</td>\n",
       "      <td>Ethnicity Not Available</td>\n",
       "      <td>...</td>\n",
       "      <td>Joint</td>\n",
       "      <td>Joint</td>\n",
       "      <td>Joint</td>\n",
       "      <td>Black or African American</td>\n",
       "      <td>Black or African American</td>\n",
       "      <td>Sex Not Available</td>\n",
       "      <td>Sex Not Available</td>\n",
       "      <td>Joint</td>\n",
       "      <td>Joint</td>\n",
       "      <td>8</td>\n",
       "    </tr>\n",
       "    <tr>\n",
       "      <th>1</th>\n",
       "      <td>2020</td>\n",
       "      <td>JJKC32MCHWDI71265Z06</td>\n",
       "      <td>35614</td>\n",
       "      <td>NY</td>\n",
       "      <td>36119.0</td>\n",
       "      <td>3.611901e+10</td>\n",
       "      <td>C</td>\n",
       "      <td>Conventional:First Lien</td>\n",
       "      <td>Single Family (1-4 Units):Site-Built</td>\n",
       "      <td>Ethnicity Not Available</td>\n",
       "      <td>...</td>\n",
       "      <td>Joint</td>\n",
       "      <td>Joint</td>\n",
       "      <td>Joint</td>\n",
       "      <td>Black or African American</td>\n",
       "      <td>Black or African American</td>\n",
       "      <td>Sex Not Available</td>\n",
       "      <td>Sex Not Available</td>\n",
       "      <td>Joint</td>\n",
       "      <td>Joint</td>\n",
       "      <td>8</td>\n",
       "    </tr>\n",
       "    <tr>\n",
       "      <th>2</th>\n",
       "      <td>2020</td>\n",
       "      <td>JJKC32MCHWDI71265Z06</td>\n",
       "      <td>45060</td>\n",
       "      <td>NY</td>\n",
       "      <td>36067.0</td>\n",
       "      <td>3.606701e+10</td>\n",
       "      <td>C</td>\n",
       "      <td>VA:First Lien</td>\n",
       "      <td>Single Family (1-4 Units):Site-Built</td>\n",
       "      <td>Ethnicity Not Available</td>\n",
       "      <td>...</td>\n",
       "      <td>Joint</td>\n",
       "      <td>Joint</td>\n",
       "      <td>Joint</td>\n",
       "      <td>Black or African American</td>\n",
       "      <td>Black or African American</td>\n",
       "      <td>Sex Not Available</td>\n",
       "      <td>Sex Not Available</td>\n",
       "      <td>Joint</td>\n",
       "      <td>Joint</td>\n",
       "      <td>8</td>\n",
       "    </tr>\n",
       "    <tr>\n",
       "      <th>3</th>\n",
       "      <td>2020</td>\n",
       "      <td>JJKC32MCHWDI71265Z06</td>\n",
       "      <td>35614</td>\n",
       "      <td>NY</td>\n",
       "      <td>36119.0</td>\n",
       "      <td>3.611901e+10</td>\n",
       "      <td>C</td>\n",
       "      <td>Conventional:First Lien</td>\n",
       "      <td>Single Family (1-4 Units):Site-Built</td>\n",
       "      <td>Ethnicity Not Available</td>\n",
       "      <td>...</td>\n",
       "      <td>Joint</td>\n",
       "      <td>Joint</td>\n",
       "      <td>Joint</td>\n",
       "      <td>Black or African American</td>\n",
       "      <td>Black or African American</td>\n",
       "      <td>Sex Not Available</td>\n",
       "      <td>Sex Not Available</td>\n",
       "      <td>Joint</td>\n",
       "      <td>Joint</td>\n",
       "      <td>8</td>\n",
       "    </tr>\n",
       "    <tr>\n",
       "      <th>4</th>\n",
       "      <td>2020</td>\n",
       "      <td>JJKC32MCHWDI71265Z06</td>\n",
       "      <td>35614</td>\n",
       "      <td>NY</td>\n",
       "      <td>36081.0</td>\n",
       "      <td>3.608111e+10</td>\n",
       "      <td>C</td>\n",
       "      <td>Conventional:First Lien</td>\n",
       "      <td>Single Family (1-4 Units):Site-Built</td>\n",
       "      <td>Ethnicity Not Available</td>\n",
       "      <td>...</td>\n",
       "      <td>Joint</td>\n",
       "      <td>Joint</td>\n",
       "      <td>Joint</td>\n",
       "      <td>Black or African American</td>\n",
       "      <td>Black or African American</td>\n",
       "      <td>Sex Not Available</td>\n",
       "      <td>Sex Not Available</td>\n",
       "      <td>Joint</td>\n",
       "      <td>Joint</td>\n",
       "      <td>8</td>\n",
       "    </tr>\n",
       "  </tbody>\n",
       "</table>\n",
       "<p>5 rows × 117 columns</p>\n",
       "</div>"
      ],
      "text/plain": [
       "   activity_year                   lei  derived_msa-md state_code  \\\n",
       "0           2020  JJKC32MCHWDI71265Z06           40380         NY   \n",
       "1           2020  JJKC32MCHWDI71265Z06           35614         NY   \n",
       "2           2020  JJKC32MCHWDI71265Z06           45060         NY   \n",
       "3           2020  JJKC32MCHWDI71265Z06           35614         NY   \n",
       "4           2020  JJKC32MCHWDI71265Z06           35614         NY   \n",
       "\n",
       "   county_code  census_tract conforming_loan_limit derived_loan_product_type  \\\n",
       "0      36055.0  3.605501e+10                     C   Conventional:First Lien   \n",
       "1      36119.0  3.611901e+10                     C   Conventional:First Lien   \n",
       "2      36067.0  3.606701e+10                     C             VA:First Lien   \n",
       "3      36119.0  3.611901e+10                     C   Conventional:First Lien   \n",
       "4      36081.0  3.608111e+10                     C   Conventional:First Lien   \n",
       "\n",
       "              derived_dwelling_category        derived_ethnicity  ...  \\\n",
       "0  Single Family (1-4 Units):Site-Built  Ethnicity Not Available  ...   \n",
       "1  Single Family (1-4 Units):Site-Built  Ethnicity Not Available  ...   \n",
       "2  Single Family (1-4 Units):Site-Built  Ethnicity Not Available  ...   \n",
       "3  Single Family (1-4 Units):Site-Built  Ethnicity Not Available  ...   \n",
       "4  Single Family (1-4 Units):Site-Built  Ethnicity Not Available  ...   \n",
       "\n",
       "  co-applicant_ethnicity_observed_name applicant_race-1_name  \\\n",
       "0                                Joint                 Joint   \n",
       "1                                Joint                 Joint   \n",
       "2                                Joint                 Joint   \n",
       "3                                Joint                 Joint   \n",
       "4                                Joint                 Joint   \n",
       "\n",
       "   co-applicant_race-1_name  applicant_race_observed_name  \\\n",
       "0                     Joint     Black or African American   \n",
       "1                     Joint     Black or African American   \n",
       "2                     Joint     Black or African American   \n",
       "3                     Joint     Black or African American   \n",
       "4                     Joint     Black or African American   \n",
       "\n",
       "   co-applicant_race_observed_name  applicant_sex_name  co-applicant_sex_name  \\\n",
       "0        Black or African American   Sex Not Available      Sex Not Available   \n",
       "1        Black or African American   Sex Not Available      Sex Not Available   \n",
       "2        Black or African American   Sex Not Available      Sex Not Available   \n",
       "3        Black or African American   Sex Not Available      Sex Not Available   \n",
       "4        Black or African American   Sex Not Available      Sex Not Available   \n",
       "\n",
       "   applicant_sex_observed_name  co-applicant_sex_observed_name  \\\n",
       "0                        Joint                           Joint   \n",
       "1                        Joint                           Joint   \n",
       "2                        Joint                           Joint   \n",
       "3                        Joint                           Joint   \n",
       "4                        Joint                           Joint   \n",
       "\n",
       "   applicant_age_num  \n",
       "0                  8  \n",
       "1                  8  \n",
       "2                  8  \n",
       "3                  8  \n",
       "4                  8  \n",
       "\n",
       "[5 rows x 117 columns]"
      ]
     },
     "execution_count": 14,
     "metadata": {},
     "output_type": "execute_result"
    }
   ],
   "source": [
    "hmda_dataset.head()"
   ]
  },
  {
   "cell_type": "markdown",
   "metadata": {},
   "source": [
    "## Data Visualization"
   ]
  },
  {
   "cell_type": "code",
   "execution_count": 15,
   "metadata": {
    "scrolled": true
   },
   "outputs": [],
   "source": [
    "selected_visualized_dataset = [\"action_taken_name\", \"loan_type_name\", \"loan_purpose_name\", \"lien_status_name\",\n",
    "                               \"construction_method_name\", \"derived_loan_product_type\", \"derived_dwelling_category\",\n",
    "                               \"applicant_ethnicity-1_name\", \"applicant_race-1_name\", \"applicant_sex_name\",\n",
    "                               \"applicant_age\"\n",
    "                              ]\n",
    "selected_visualized_dataset_title = [\"Mortgage Action\", \"Loan Type\", \"Loan Purpose\", \"lien Status\", \n",
    "                                     \"Construction Method\", \"Loan Product Type\", \"Dwelling category\",\n",
    "                                     \"Aplicant Ethnicity\", \"Applicant Race\", \"Applicant Sex\", \"Applicant Age\"\n",
    "                                    ]"
   ]
  },
  {
   "cell_type": "code",
   "execution_count": 16,
   "metadata": {
    "scrolled": false
   },
   "outputs": [
    {
     "data": {
      "image/png": "[encoded data removed]",
      "text/plain": [
       "<Figure size 720x432 with 1 Axes>"
      ]
     },
     "metadata": {
      "needs_background": "light"
     },
     "output_type": "display_data"
    },
    {
     "data": {
      "text/plain": [
       "<Figure size 720x432 with 0 Axes>"
      ]
     },
     "metadata": {},
     "output_type": "display_data"
    },
    {
     "data": {
      "image/png": "[encoded data removed]",
      "text/plain": [
       "<Figure size 720x432 with 1 Axes>"
      ]
     },
     "metadata": {
      "needs_background": "light"
     },
     "output_type": "display_data"
    },
    {
     "data": {
      "text/plain": [
       "<Figure size 720x432 with 0 Axes>"
      ]
     },
     "metadata": {},
     "output_type": "display_data"
    },
    {
     "data": {
      "image/png": "[encoded data removed]",
      "text/plain": [
       "<Figure size 720x432 with 1 Axes>"
      ]
     },
     "metadata": {
      "needs_background": "light"
     },
     "output_type": "display_data"
    },
    {
     "data": {
      "text/plain": [
       "<Figure size 720x432 with 0 Axes>"
      ]
     },
     "metadata": {},
     "output_type": "display_data"
    },
    {
     "data": {
      "image/png": "[encoded data removed]",
      "text/plain": [
       "<Figure size 720x432 with 1 Axes>"
      ]
     },
     "metadata": {
      "needs_background": "light"
     },
     "output_type": "display_data"
    },
    {
     "data": {
      "text/plain": [
       "<Figure size 720x432 with 0 Axes>"
      ]
     },
     "metadata": {},
     "output_type": "display_data"
    },
    {
     "data": {
      "image/png": "[encoded data removed]",
      "text/plain": [
       "<Figure size 720x432 with 1 Axes>"
      ]
     },
     "metadata": {
      "needs_background": "light"
     },
     "output_type": "display_data"
    },
    {
     "data": {
      "text/plain": [
       "<Figure size 720x432 with 0 Axes>"
      ]
     },
     "metadata": {},
     "output_type": "display_data"
    },
    {
     "data": {
      "image/png": "[encoded data removed]",
      "text/plain": [
       "<Figure size 720x432 with 1 Axes>"
      ]
     },
     "metadata": {
      "needs_background": "light"
     },
     "output_type": "display_data"
    },
    {
     "data": {
      "text/plain": [
       "<Figure size 720x432 with 0 Axes>"
      ]
     },
     "metadata": {},
     "output_type": "display_data"
    },
    {
     "data": {
      "image/png": "[encoded data removed]",
      "text/plain": [
       "<Figure size 720x432 with 1 Axes>"
      ]
     },
     "metadata": {
      "needs_background": "light"
     },
     "output_type": "display_data"
    },
    {
     "data": {
      "text/plain": [
       "<Figure size 720x432 with 0 Axes>"
      ]
     },
     "metadata": {},
     "output_type": "display_data"
    },
    {
     "data": {
      "image/png": "[encoded data removed]",
      "text/plain": [
       "<Figure size 720x432 with 1 Axes>"
      ]
     },
     "metadata": {
      "needs_background": "light"
     },
     "output_type": "display_data"
    },
    {
     "data": {
      "text/plain": [
       "<Figure size 720x432 with 0 Axes>"
      ]
     },
     "metadata": {},
     "output_type": "display_data"
    },
    {
     "data": {
      "image/png": "[encoded data removed]",
      "text/plain": [
       "<Figure size 720x432 with 1 Axes>"
      ]
     },
     "metadata": {
      "needs_background": "light"
     },
     "output_type": "display_data"
    },
    {
     "data": {
      "text/plain": [
       "<Figure size 720x432 with 0 Axes>"
      ]
     },
     "metadata": {},
     "output_type": "display_data"
    },
    {
     "data": {
      "image/png": "[encoded data removed]",
      "text/plain": [
       "<Figure size 720x432 with 1 Axes>"
      ]
     },
     "metadata": {
      "needs_background": "light"
     },
     "output_type": "display_data"
    },
    {
     "data": {
      "text/plain": [
       "<Figure size 720x432 with 0 Axes>"
      ]
     },
     "metadata": {},
     "output_type": "display_data"
    },
    {
     "data": {
      "image/png": "[encoded data removed]",
      "text/plain": [
       "<Figure size 720x432 with 1 Axes>"
      ]
     },
     "metadata": {
      "needs_background": "light"
     },
     "output_type": "display_data"
    },
    {
     "data": {
      "text/plain": [
       "<Figure size 720x432 with 0 Axes>"
      ]
     },
     "metadata": {},
     "output_type": "display_data"
    }
   ],
   "source": [
    "for i in range(0, len(selected_visualized_dataset)):\n",
    "    fig = plt.figure(figsize=(10,6))\n",
    "    sns.countplot(y=selected_visualized_dataset[i], \n",
    "                  data=hmda_dataset)\n",
    "    plt.title(str(selected_visualized_dataset_title [i]))\n",
    "    plt.figure(figsize=(10,6))"
   ]
  },
  {
   "cell_type": "code",
   "execution_count": 17,
   "metadata": {},
   "outputs": [],
   "source": [
    "cols = [i for i in hmda_dataset.columns if hmda_dataset[i].dtype != 'object']"
   ]
  },
  {
   "cell_type": "code",
   "execution_count": 18,
   "metadata": {},
   "outputs": [],
   "source": [
    "list_to_remove = ['action_taken']\n",
    "features = cols\n",
    "features= list(set(cols).difference(set(list_to_remove)))\n",
    "\n",
    "X = hmda_dataset[features]\n",
    "y = hmda_dataset['action_taken']"
   ]
  },
  {
   "cell_type": "code",
   "execution_count": 19,
   "metadata": {},
   "outputs": [],
   "source": [
    "def change_action_taken(y):\n",
    "    if ( y == 1):\n",
    "        return 1\n",
    "    else:\n",
    "        return 0"
   ]
  },
  {
   "cell_type": "code",
   "execution_count": 20,
   "metadata": {},
   "outputs": [],
   "source": [
    "y = hmda_dataset['action_taken'].apply(change_action_taken)\n",
    "X = X.fillna(0)"
   ]
  },
  {
   "cell_type": "code",
   "execution_count": 21,
   "metadata": {},
   "outputs": [],
   "source": [
    "from sklearn.model_selection import train_test_split\n",
    "from sklearn.metrics import classification_report\n",
    "from sklearn.metrics import accuracy_score\n",
    "\n",
    "X_train, X_test, y_train, y_test = train_test_split(X, y, random_state=42)"
   ]
  },
  {
   "cell_type": "code",
   "execution_count": 22,
   "metadata": {},
   "outputs": [
    {
     "name": "stdout",
     "output_type": "stream",
     "text": [
      "[22:23:41] WARNING: ../src/learner.cc:1115: Starting in XGBoost 1.3.0, the default evaluation metric used with the objective 'binary:logistic' was changed from 'error' to 'logloss'. Explicitly set eval_metric if you'd like to restore the old behavior.\n"
     ]
    },
    {
     "data": {
      "text/plain": [
       "XGBClassifier(base_score=0.5, booster='gbtree', colsample_bylevel=1,\n",
       "              colsample_bynode=1, colsample_bytree=1, enable_categorical=False,\n",
       "              gamma=0, gpu_id=-1, importance_type=None,\n",
       "              interaction_constraints='', learning_rate=0.300000012,\n",
       "              max_delta_step=0, max_depth=6, min_child_weight=1, missing=nan,\n",
       "              monotone_constraints='()', n_estimators=100, n_jobs=4,\n",
       "              num_parallel_tree=1, predictor='auto', random_state=0,\n",
       "              reg_alpha=0, reg_lambda=1, scale_pos_weight=1, subsample=1,\n",
       "              tree_method='exact', validate_parameters=1, verbosity=None)"
      ]
     },
     "execution_count": 22,
     "metadata": {},
     "output_type": "execute_result"
    }
   ],
   "source": [
    "import xgboost as xgb\n",
    "\n",
    "model_xgboost= xgb.XGBClassifier()\n",
    "model_xgboost.fit(X_train,y_train)"
   ]
  },
  {
   "cell_type": "code",
   "execution_count": 23,
   "metadata": {},
   "outputs": [
    {
     "data": {
      "text/plain": [
       "99.4"
      ]
     },
     "execution_count": 23,
     "metadata": {},
     "output_type": "execute_result"
    }
   ],
   "source": [
    "pred_xgboost=model_xgboost.predict(X_test)\n",
    "xgboost_score =accuracy_score(pred_xgboost, y_test)\n",
    "xgboost_pred_score =round(xgboost_score*100,2)\n",
    "xgboost_pred_score"
   ]
  },
  {
   "cell_type": "code",
   "execution_count": 24,
   "metadata": {},
   "outputs": [
    {
     "name": "stdout",
     "output_type": "stream",
     "text": [
      "              precision    recall  f1-score   support\n",
      "\n",
      "           0       0.99      0.99      0.99     79622\n",
      "           1       0.99      1.00      0.99     99915\n",
      "\n",
      "    accuracy                           0.99    179537\n",
      "   macro avg       0.99      0.99      0.99    179537\n",
      "weighted avg       0.99      0.99      0.99    179537\n",
      "\n"
     ]
    }
   ],
   "source": [
    "print(classification_report(y_test,pred_xgboost))"
   ]
  },
  {
   "cell_type": "code",
   "execution_count": 25,
   "metadata": {},
   "outputs": [
    {
     "data": {
      "text/plain": [
       "LGBMClassifier()"
      ]
     },
     "execution_count": 25,
     "metadata": {},
     "output_type": "execute_result"
    }
   ],
   "source": [
    "import lightgbm as lgb\n",
    "\n",
    "model_lightgbm = lgb.LGBMClassifier()\n",
    "model_lightgbm.fit(X_train,y_train)"
   ]
  },
  {
   "cell_type": "code",
   "execution_count": 26,
   "metadata": {},
   "outputs": [
    {
     "data": {
      "text/plain": [
       "99.37"
      ]
     },
     "execution_count": 26,
     "metadata": {},
     "output_type": "execute_result"
    }
   ],
   "source": [
    "pred_lightgbm=model_lightgbm.predict(X_test)\n",
    "lightgbm_score =accuracy_score(pred_lightgbm, y_test)\n",
    "lightgbm_pred_score =round(lightgbm_score*100,2)\n",
    "lightgbm_pred_score"
   ]
  },
  {
   "cell_type": "code",
   "execution_count": 27,
   "metadata": {},
   "outputs": [
    {
     "name": "stdout",
     "output_type": "stream",
     "text": [
      "              precision    recall  f1-score   support\n",
      "\n",
      "           0       0.99      0.99      0.99     79622\n",
      "           1       0.99      0.99      0.99     99915\n",
      "\n",
      "    accuracy                           0.99    179537\n",
      "   macro avg       0.99      0.99      0.99    179537\n",
      "weighted avg       0.99      0.99      0.99    179537\n",
      "\n"
     ]
    }
   ],
   "source": [
    "print(classification_report(y_test,pred_lightgbm))"
   ]
  },
  {
   "cell_type": "markdown",
   "metadata": {},
   "source": [
    "## xgboost gives best scores from \"xgboost\" and \"LGBMClassifier\""
   ]
  },
  {
   "cell_type": "code",
   "execution_count": 28,
   "metadata": {},
   "outputs": [],
   "source": [
    "from sklearn import metrics\n",
    "from sklearn.model_selection import cross_val_score"
   ]
  },
  {
   "cell_type": "code",
   "execution_count": 29,
   "metadata": {},
   "outputs": [],
   "source": [
    "def print_evaluate(true, predicted):  \n",
    "    mae = metrics.mean_absolute_error(true, predicted)\n",
    "    mse = metrics.mean_squared_error(true, predicted)\n",
    "    rmse = np.sqrt(metrics.mean_squared_error(true, predicted))\n",
    "    r2_square = metrics.r2_score(true, predicted)\n",
    "    print('MAE:', mae)\n",
    "    print('MSE:', mse)\n",
    "    print('RMSE:', rmse)\n",
    "    print('R2 Square', r2_square)"
   ]
  },
  {
   "cell_type": "code",
   "execution_count": 30,
   "metadata": {},
   "outputs": [
    {
     "name": "stdout",
     "output_type": "stream",
     "text": [
      "MAE: 0.004778968084513841\n",
      "MSE: 0.004778968084513841\n",
      "RMSE: 0.06913008089474394\n",
      "R2 Square 0.9806374798053673\n"
     ]
    }
   ],
   "source": [
    "print_evaluate(y_train,model_xgboost.predict(X_train))"
   ]
  },
  {
   "cell_type": "code",
   "execution_count": 31,
   "metadata": {},
   "outputs": [],
   "source": [
    "from sklearn.metrics import roc_curve, roc_auc_score"
   ]
  },
  {
   "cell_type": "code",
   "execution_count": 32,
   "metadata": {},
   "outputs": [
    {
     "data": {
      "text/plain": [
       "Text(0.5, 1.0, 'ROC Curve')"
      ]
     },
     "execution_count": 32,
     "metadata": {},
     "output_type": "execute_result"
    },
    {
     "data": {
      "image/png": "[encoded data removed]",
      "text/plain": [
       "<Figure size 1080x504 with 1 Axes>"
      ]
     },
     "metadata": {
      "needs_background": "light"
     },
     "output_type": "display_data"
    }
   ],
   "source": [
    "model_predict_test=model_xgboost.predict_proba(X_test)[:,1]\n",
    "fpr, tpr, thresholds  = roc_curve(y_test,model_predict_test)\n",
    "plt.figure(figsize=(15,7))\n",
    "plt.subplot(1,2,2)\n",
    "plt.plot([0, 1], [0, 1], 'k--')\n",
    "plt.plot(fpr, tpr)\n",
    "plt.xlabel('False Positive Rate',fontsize=14)\n",
    "plt.ylabel('True Positive Rate',fontsize=14)\n",
    "plt.title('ROC Curve',fontsize=15)"
   ]
  },
  {
   "cell_type": "markdown",
   "metadata": {},
   "source": [
    "# Where are mortgages most likely to be approved?"
   ]
  },
  {
   "cell_type": "markdown",
   "metadata": {},
   "source": [
    "## By Ethnicity"
   ]
  },
  {
   "cell_type": "code",
   "execution_count": 33,
   "metadata": {},
   "outputs": [
    {
     "data": {
      "text/plain": [
       "Not Hispanic or Latino     504251\n",
       "Joint                      103967\n",
       "Ethnicity Not Available     60401\n",
       "Hispanic or Latino          44207\n",
       "N/A                          5321\n",
       "Name: applicant_ethnicity-1_name, dtype: int64"
      ]
     },
     "execution_count": 33,
     "metadata": {},
     "output_type": "execute_result"
    }
   ],
   "source": [
    "hmda_dataset['applicant_ethnicity-1_name'].value_counts()"
   ]
  },
  {
   "cell_type": "code",
   "execution_count": 34,
   "metadata": {},
   "outputs": [],
   "source": [
    "loans_not_latino = X[X['applicant_ethnicity-1'] == 2]\n",
    "loans_latino = X[X['applicant_ethnicity-1'] == 1]"
   ]
  },
  {
   "cell_type": "code",
   "execution_count": 35,
   "metadata": {},
   "outputs": [],
   "source": [
    "predictions_not_latino = model_xgboost.predict(loans_not_latino)\n",
    "\n",
    "predictions_latino = model_xgboost.predict(loans_latino)"
   ]
  },
  {
   "cell_type": "code",
   "execution_count": 36,
   "metadata": {},
   "outputs": [
    {
     "name": "stdout",
     "output_type": "stream",
     "text": [
      "Approval rate for Non Latino's: [61.00414278]\n",
      "Approval rate for Latino's: [52.87171715]\n"
     ]
    }
   ],
   "source": [
    "approval_rate_not_latino = np.sum(predictions_not_latino) / predictions_not_latino.shape\n",
    "print(\"Approval rate for Non Latino's:\", approval_rate_not_latino * 100)\n",
    "\n",
    "approval_rate_latino = np.sum(predictions_latino) / predictions_latino.shape\n",
    "print(\"Approval rate for Latino's:\", approval_rate_latino * 100)"
   ]
  },
  {
   "cell_type": "markdown",
   "metadata": {},
   "source": [
    "## By Race"
   ]
  },
  {
   "cell_type": "code",
   "execution_count": 37,
   "metadata": {},
   "outputs": [],
   "source": [
    "loans_white = X[X['applicant_race-1'] == 5]\n",
    "loans_black = X[X['applicant_race-1'] == 3]\n",
    "loans_asian = X[X['applicant_race-1'] == 2]\n",
    "loans_indian = X[X['applicant_race-1'] == 1]\n",
    "loans_hawaiian = X[X['applicant_race-1'] == 4]"
   ]
  },
  {
   "cell_type": "code",
   "execution_count": 38,
   "metadata": {},
   "outputs": [],
   "source": [
    "predictions_white = model_xgboost.predict(loans_white)\n",
    "\n",
    "predictions_black = model_xgboost.predict(loans_black)\n",
    "\n",
    "predictions_asian = model_xgboost.predict(loans_asian)\n",
    "\n",
    "predictions_indian = model_xgboost.predict(loans_indian)\n",
    "\n",
    "predictions_hawaiian = model_xgboost.predict(loans_hawaiian)"
   ]
  },
  {
   "cell_type": "code",
   "execution_count": 39,
   "metadata": {},
   "outputs": [
    {
     "name": "stdout",
     "output_type": "stream",
     "text": [
      "Approval rate for Whites: [62.2459377]\n",
      "Approval rate for Black: [49.47065379]\n",
      "Approval rate for Asian: [56.45087522]\n",
      "Approval rate for Indian: [43.24022346]\n",
      "Approval rate for Hawaiian: [43.71460929]\n"
     ]
    }
   ],
   "source": [
    "approval_rate_white = np.sum(predictions_white) / predictions_white.shape\n",
    "print(\"Approval rate for Whites:\", approval_rate_white * 100)\n",
    "\n",
    "approval_rate_black = np.sum(predictions_black) / predictions_black.shape\n",
    "print(\"Approval rate for Black:\", approval_rate_black* 100)\n",
    "\n",
    "approval_rate_asian = np.sum(predictions_asian) / predictions_asian.shape\n",
    "print(\"Approval rate for Asian:\", approval_rate_asian* 100)\n",
    "\n",
    "approval_rate_indian = np.sum(predictions_indian) / predictions_indian.shape\n",
    "print(\"Approval rate for Indian:\", approval_rate_indian* 100)\n",
    "\n",
    "approval_rate_hawaiian = np.sum(predictions_hawaiian) / predictions_hawaiian.shape\n",
    "print(\"Approval rate for Hawaiian:\", approval_rate_hawaiian* 100)"
   ]
  },
  {
   "cell_type": "markdown",
   "metadata": {},
   "source": [
    "## By Sex"
   ]
  },
  {
   "cell_type": "code",
   "execution_count": 40,
   "metadata": {},
   "outputs": [],
   "source": [
    "loans_male = X[X['applicant_sex'] == 1]\n",
    "loans_female = X[X['applicant_sex'] == 2]\n",
    "loans_joint = X[X['applicant_sex'] == 3]"
   ]
  },
  {
   "cell_type": "code",
   "execution_count": 41,
   "metadata": {},
   "outputs": [],
   "source": [
    "predictions_male = model_xgboost.predict(loans_male)\n",
    "\n",
    "predictions_female = model_xgboost.predict(loans_female)\n",
    "\n",
    "predictions_joint = model_xgboost.predict(loans_joint)"
   ]
  },
  {
   "cell_type": "code",
   "execution_count": 42,
   "metadata": {},
   "outputs": [
    {
     "name": "stdout",
     "output_type": "stream",
     "text": [
      "Approval rate for Male: [59.80059639]\n",
      "Approval rate for Female: [59.43432929]\n",
      "Approval rate for Joint: [57.48101199]\n"
     ]
    }
   ],
   "source": [
    "approval_rate_male = np.sum(predictions_male) / predictions_male.shape\n",
    "print(\"Approval rate for Male:\", approval_rate_male* 100)\n",
    "\n",
    "approval_rate_female = np.sum(predictions_female) / predictions_female.shape\n",
    "print(\"Approval rate for Female:\", approval_rate_female* 100)\n",
    "\n",
    "approval_rate_joint = np.sum(predictions_joint) / predictions_joint.shape\n",
    "print(\"Approval rate for Joint:\", approval_rate_joint* 100)"
   ]
  },
  {
   "cell_type": "markdown",
   "metadata": {},
   "source": [
    "## By Age"
   ]
  },
  {
   "cell_type": "code",
   "execution_count": 43,
   "metadata": {},
   "outputs": [],
   "source": [
    "loans_less_25 =  X[X['applicant_age_num'] == 1]\n",
    "loans_25_34 = X[X['applicant_age_num'] == 2]\n",
    "loans_35_44 = X[X['applicant_age_num'] == 3]\n",
    "loans_45_54 = X[X['applicant_age_num'] == 4]\n",
    "loans_55_64 = X[X['applicant_age_num'] == 5]\n",
    "loans_65_74 = X[X['applicant_age_num'] == 6]\n",
    "loans_greater_75 =  X[X['applicant_age_num'] == 7]"
   ]
  },
  {
   "cell_type": "code",
   "execution_count": 44,
   "metadata": {},
   "outputs": [],
   "source": [
    "predictions_less_25 = model_xgboost.predict(loans_less_25)\n",
    "\n",
    "predictions_25_34 = model_xgboost.predict(loans_25_34)\n",
    "\n",
    "predictions_35_44 = model_xgboost.predict(loans_35_44)\n",
    "\n",
    "predictions_45_54 = model_xgboost.predict(loans_45_54)\n",
    "\n",
    "predictions_55_64 = model_xgboost.predict(loans_55_64)\n",
    "\n",
    "predictions_65_74 = model_xgboost.predict(loans_65_74)\n",
    "\n",
    "predictions_greater_75 = model_xgboost.predict(loans_greater_75)"
   ]
  },
  {
   "cell_type": "code",
   "execution_count": 45,
   "metadata": {},
   "outputs": [
    {
     "name": "stdout",
     "output_type": "stream",
     "text": [
      "Approval rate age > 25 [63.23247098]\n",
      "Approval rate age 25-24: [65.37602263]\n",
      "Approval rate age 35-44: [62.20002537]\n",
      "Approval rate age 45-54: [58.21189876]\n",
      "Approval rate age 55-64: [55.43952109]\n",
      "Approval rate age 65-74: [53.86515602]\n",
      "Approval rate age > 75: [48.26282203]\n"
     ]
    }
   ],
   "source": [
    "approval_rate_less_25 = np.sum(predictions_less_25) / predictions_less_25.shape\n",
    "print(\"Approval rate age > 25\", approval_rate_less_25* 100)\n",
    "\n",
    "approval_rate_25_34 = np.sum(predictions_25_34) / predictions_25_34.shape\n",
    "print(\"Approval rate age 25-24:\", approval_rate_25_34* 100)\n",
    "\n",
    "approval_rate_35_44 = np.sum(predictions_35_44) / predictions_35_44.shape\n",
    "print(\"Approval rate age 35-44:\", approval_rate_35_44* 100)\n",
    "\n",
    "approval_rate_45_54 = np.sum(predictions_45_54) / predictions_45_54.shape\n",
    "print(\"Approval rate age 45-54:\", approval_rate_45_54* 100)\n",
    "\n",
    "approval_rate_55_64 = np.sum(predictions_55_64) / predictions_55_64.shape\n",
    "print(\"Approval rate age 55-64:\", approval_rate_55_64* 100)\n",
    "\n",
    "approval_rate_65_74 = np.sum(predictions_65_74) / predictions_65_74.shape\n",
    "print(\"Approval rate age 65-74:\", approval_rate_65_74* 100)\n",
    "\n",
    "approval_rate_greater_75 = np.sum(predictions_greater_75) / predictions_greater_75.shape\n",
    "print(\"Approval rate age > 75:\", approval_rate_greater_75* 100)"
   ]
  },
  {
   "cell_type": "markdown",
   "metadata": {},
   "source": [
    "# Can you predict mortgage decisions based on the criteria provided here?"
   ]
  },
  {
   "cell_type": "markdown",
   "metadata": {},
   "source": [
    "## Loan Purpose"
   ]
  },
  {
   "cell_type": "code",
   "execution_count": 46,
   "metadata": {},
   "outputs": [],
   "source": [
    "#partial dependencies\n",
    "from pdpbox import pdp, get_dataset, info_plots"
   ]
  },
  {
   "cell_type": "code",
   "execution_count": 47,
   "metadata": {},
   "outputs": [],
   "source": [
    "feat_name = 'loan_purpose'\n",
    "pdp_dist = pdp.pdp_isolate(model=model_xgboost, dataset=X_test, model_features=features, feature=feat_name)"
   ]
  },
  {
   "cell_type": "code",
   "execution_count": 48,
   "metadata": {},
   "outputs": [
    {
     "name": "stderr",
     "output_type": "stream",
     "text": [
      "findfont: Font family ['Arial'] not found. Falling back to DejaVu Sans.\n",
      "findfont: Font family ['Arial'] not found. Falling back to DejaVu Sans.\n",
      "findfont: Font family ['Arial'] not found. Falling back to DejaVu Sans.\n",
      "findfont: Font family ['Arial'] not found. Falling back to DejaVu Sans.\n"
     ]
    },
    {
     "data": {
      "image/png": "[encoded data removed]",
      "text/plain": [
       "<Figure size 1080x684 with 2 Axes>"
      ]
     },
     "metadata": {
      "needs_background": "light"
     },
     "output_type": "display_data"
    }
   ],
   "source": [
    "fig, axes = pdp.pdp_plot(pdp_isolate_out=pdp_dist,\n",
    "                         feature_name=feat_name)"
   ]
  },
  {
   "cell_type": "code",
   "execution_count": 49,
   "metadata": {},
   "outputs": [
    {
     "data": {
      "text/plain": [
       "loan_purpose  loan_purpose_name   \n",
       "1             Home purchase           240357\n",
       "2             Home improvement         47699\n",
       "4             Other purpose            37684\n",
       "5             Not applicable           16768\n",
       "31            Refinancing             257708\n",
       "32            Cash-out refinancing    117931\n",
       "Name: loan_type, dtype: int64"
      ]
     },
     "execution_count": 49,
     "metadata": {},
     "output_type": "execute_result"
    }
   ],
   "source": [
    "hmda_dataset.groupby(['loan_purpose','loan_purpose_name']).loan_type.count()"
   ]
  },
  {
   "cell_type": "markdown",
   "metadata": {},
   "source": [
    "## Income"
   ]
  },
  {
   "cell_type": "code",
   "execution_count": 50,
   "metadata": {},
   "outputs": [],
   "source": [
    "feat_name = 'income'\n",
    "pdp_dist = pdp.pdp_isolate(model=model_xgboost, dataset=X_test, model_features=features, feature=feat_name)"
   ]
  },
  {
   "cell_type": "code",
   "execution_count": 51,
   "metadata": {},
   "outputs": [
    {
     "data": {
      "image/png": "[encoded data removed]",
      "text/plain": [
       "<Figure size 1080x684 with 2 Axes>"
      ]
     },
     "metadata": {
      "needs_background": "light"
     },
     "output_type": "display_data"
    }
   ],
   "source": [
    "fig, axes = pdp.pdp_plot(pdp_isolate_out=pdp_dist,\n",
    "                         feature_name=feat_name)"
   ]
  },
  {
   "cell_type": "code",
   "execution_count": 52,
   "metadata": {},
   "outputs": [
    {
     "data": {
      "text/plain": [
       "count    6.390170e+05\n",
       "mean     3.802801e+02\n",
       "std      9.254584e+03\n",
       "min     -3.131200e+04\n",
       "25%      7.300000e+01\n",
       "50%      1.120000e+02\n",
       "75%      1.750000e+02\n",
       "max      4.338770e+06\n",
       "Name: income, dtype: float64"
      ]
     },
     "execution_count": 52,
     "metadata": {},
     "output_type": "execute_result"
    }
   ],
   "source": [
    "hmda_dataset[feat_name].describe()"
   ]
  },
  {
   "cell_type": "code",
   "execution_count": 53,
   "metadata": {},
   "outputs": [
    {
     "data": {
      "text/plain": [
       "loan_purpose  loan_purpose_name   \n",
       "1             Home purchase           215865\n",
       "2             Home improvement         45409\n",
       "4             Other purpose            35971\n",
       "5             Not applicable              72\n",
       "31            Refinancing             231620\n",
       "32            Cash-out refinancing    110080\n",
       "Name: income, dtype: int64"
      ]
     },
     "execution_count": 53,
     "metadata": {},
     "output_type": "execute_result"
    }
   ],
   "source": [
    "hmda_dataset.groupby(['loan_purpose','loan_purpose_name']).income.count()"
   ]
  },
  {
   "cell_type": "markdown",
   "metadata": {},
   "source": [
    "### Based on those graph above, we know loan purpose and loan income of Home purchase has the highest probablity of Loan Orgination."
   ]
  }
 ],
 "metadata": {
  "kernelspec": {
   "display_name": "Python 3",
   "language": "python",
   "name": "python3"
  },
  "language_info": {
   "codemirror_mode": {
    "name": "ipython",
    "version": 3
   },
   "file_extension": ".py",
   "mimetype": "text/x-python",
   "name": "python",
   "nbconvert_exporter": "python",
   "pygments_lexer": "ipython3",
   "version": "3.6.8"
  }
 },
 "nbformat": 4,
 "nbformat_minor": 4
}
