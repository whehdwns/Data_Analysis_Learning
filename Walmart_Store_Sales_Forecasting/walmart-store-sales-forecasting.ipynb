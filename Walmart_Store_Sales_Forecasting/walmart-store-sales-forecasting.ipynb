{
 "cells": [
  {
   "cell_type": "code",
   "execution_count": 1,
   "id": "aware-damage",
   "metadata": {
    "_cell_guid": "b1076dfc-b9ad-4769-8c92-a6c4dae69d19",
    "_uuid": "8f2839f25d086af736a60e9eeb907d3b93b6e0e5",
    "execution": {
     "iopub.execute_input": "2021-04-19T22:59:38.997066Z",
     "iopub.status.busy": "2021-04-19T22:59:38.995501Z",
     "iopub.status.idle": "2021-04-19T22:59:39.988904Z",
     "shell.execute_reply": "2021-04-19T22:59:39.989687Z"
    },
    "papermill": {
     "duration": 1.016345,
     "end_time": "2021-04-19T22:59:39.990059",
     "exception": false,
     "start_time": "2021-04-19T22:59:38.973714",
     "status": "completed"
    },
    "tags": []
   },
   "outputs": [
    {
     "name": "stdout",
     "output_type": "stream",
     "text": [
      "/kaggle/input/walmart-recruiting-store-sales-forecasting/train.csv.zip\n",
      "/kaggle/input/walmart-recruiting-store-sales-forecasting/sampleSubmission.csv.zip\n",
      "/kaggle/input/walmart-recruiting-store-sales-forecasting/stores.csv\n",
      "/kaggle/input/walmart-recruiting-store-sales-forecasting/features.csv.zip\n",
      "/kaggle/input/walmart-recruiting-store-sales-forecasting/test.csv.zip\n"
     ]
    }
   ],
   "source": [
    "# This Python 3 environment comes with many helpful analytics libraries installed\n",
    "# It is defined by the kaggle/python Docker image: https://github.com/kaggle/docker-python\n",
    "# For example, here's several helpful packages to load\n",
    "\n",
    "import numpy as np # linear algebra\n",
    "import pandas as pd # data processing, CSV file I/O (e.g. pd.read_csv)\n",
    "import matplotlib.pyplot as plt\n",
    "import seaborn as sns\n",
    "import warnings\n",
    "warnings.filterwarnings('ignore')\n",
    "\n",
    "# Input data files are available in the read-only \"../input/\" directory\n",
    "# For example, running this (by clicking run or pressing Shift+Enter) will list all files under the input directory\n",
    "\n",
    "import os\n",
    "for dirname, _, filenames in os.walk('/kaggle/input'):\n",
    "    for filename in filenames:\n",
    "        print(os.path.join(dirname, filename))\n",
    "\n",
    "# You can write up to 20GB to the current directory (/kaggle/working/) that gets preserved as output when you create a version using \"Save & Run All\" \n",
    "# You can also write temporary files to /kaggle/temp/, but they won't be saved outside of the current session"
   ]
  },
  {
   "cell_type": "code",
   "execution_count": 2,
   "id": "copyrighted-anthony",
   "metadata": {
    "execution": {
     "iopub.execute_input": "2021-04-19T22:59:40.030326Z",
     "iopub.status.busy": "2021-04-19T22:59:40.029641Z",
     "iopub.status.idle": "2021-04-19T22:59:40.619558Z",
     "shell.execute_reply": "2021-04-19T22:59:40.618110Z"
    },
    "papermill": {
     "duration": 0.610445,
     "end_time": "2021-04-19T22:59:40.619706",
     "exception": false,
     "start_time": "2021-04-19T22:59:40.009261",
     "status": "completed"
    },
    "tags": []
   },
   "outputs": [],
   "source": [
    "store_data = pd.read_csv('/kaggle/input/walmart-recruiting-store-sales-forecasting/stores.csv')\n",
    "feature_data=pd.read_csv('/kaggle/input/walmart-recruiting-store-sales-forecasting/features.csv.zip')\n",
    "sample_data=pd.read_csv('/kaggle/input/walmart-recruiting-store-sales-forecasting/sampleSubmission.csv.zip')\n",
    "train_data=pd.read_csv('/kaggle/input/walmart-recruiting-store-sales-forecasting/train.csv.zip')\n",
    "test_data=pd.read_csv('/kaggle/input/walmart-recruiting-store-sales-forecasting/test.csv.zip')"
   ]
  },
  {
   "cell_type": "code",
   "execution_count": 3,
   "id": "italian-witch",
   "metadata": {
    "execution": {
     "iopub.execute_input": "2021-04-19T22:59:40.667522Z",
     "iopub.status.busy": "2021-04-19T22:59:40.666776Z",
     "iopub.status.idle": "2021-04-19T22:59:40.684347Z",
     "shell.execute_reply": "2021-04-19T22:59:40.684853Z"
    },
    "papermill": {
     "duration": 0.047509,
     "end_time": "2021-04-19T22:59:40.685053",
     "exception": false,
     "start_time": "2021-04-19T22:59:40.637544",
     "status": "completed"
    },
    "tags": []
   },
   "outputs": [
    {
     "data": {
      "text/html": [
       "<div>\n",
       "<style scoped>\n",
       "    .dataframe tbody tr th:only-of-type {\n",
       "        vertical-align: middle;\n",
       "    }\n",
       "\n",
       "    .dataframe tbody tr th {\n",
       "        vertical-align: top;\n",
       "    }\n",
       "\n",
       "    .dataframe thead th {\n",
       "        text-align: right;\n",
       "    }\n",
       "</style>\n",
       "<table border=\"1\" class=\"dataframe\">\n",
       "  <thead>\n",
       "    <tr style=\"text-align: right;\">\n",
       "      <th></th>\n",
       "      <th>Store</th>\n",
       "      <th>Type</th>\n",
       "      <th>Size</th>\n",
       "    </tr>\n",
       "  </thead>\n",
       "  <tbody>\n",
       "    <tr>\n",
       "      <th>0</th>\n",
       "      <td>1</td>\n",
       "      <td>A</td>\n",
       "      <td>151315</td>\n",
       "    </tr>\n",
       "    <tr>\n",
       "      <th>1</th>\n",
       "      <td>2</td>\n",
       "      <td>A</td>\n",
       "      <td>202307</td>\n",
       "    </tr>\n",
       "    <tr>\n",
       "      <th>2</th>\n",
       "      <td>3</td>\n",
       "      <td>B</td>\n",
       "      <td>37392</td>\n",
       "    </tr>\n",
       "    <tr>\n",
       "      <th>3</th>\n",
       "      <td>4</td>\n",
       "      <td>A</td>\n",
       "      <td>205863</td>\n",
       "    </tr>\n",
       "    <tr>\n",
       "      <th>4</th>\n",
       "      <td>5</td>\n",
       "      <td>B</td>\n",
       "      <td>34875</td>\n",
       "    </tr>\n",
       "  </tbody>\n",
       "</table>\n",
       "</div>"
      ],
      "text/plain": [
       "   Store Type    Size\n",
       "0      1    A  151315\n",
       "1      2    A  202307\n",
       "2      3    B   37392\n",
       "3      4    A  205863\n",
       "4      5    B   34875"
      ]
     },
     "execution_count": 3,
     "metadata": {},
     "output_type": "execute_result"
    }
   ],
   "source": [
    "store_data.head()"
   ]
  },
  {
   "cell_type": "code",
   "execution_count": 4,
   "id": "prepared-klein",
   "metadata": {
    "execution": {
     "iopub.execute_input": "2021-04-19T22:59:40.725286Z",
     "iopub.status.busy": "2021-04-19T22:59:40.724617Z",
     "iopub.status.idle": "2021-04-19T22:59:40.731529Z",
     "shell.execute_reply": "2021-04-19T22:59:40.732086Z"
    },
    "papermill": {
     "duration": 0.028595,
     "end_time": "2021-04-19T22:59:40.732258",
     "exception": false,
     "start_time": "2021-04-19T22:59:40.703663",
     "status": "completed"
    },
    "tags": []
   },
   "outputs": [
    {
     "data": {
      "text/plain": [
       "array(['A', 'B', 'C'], dtype=object)"
      ]
     },
     "execution_count": 4,
     "metadata": {},
     "output_type": "execute_result"
    }
   ],
   "source": [
    "store_data['Type'].unique()"
   ]
  },
  {
   "cell_type": "code",
   "execution_count": 5,
   "id": "respiratory-sentence",
   "metadata": {
    "execution": {
     "iopub.execute_input": "2021-04-19T22:59:40.773699Z",
     "iopub.status.busy": "2021-04-19T22:59:40.773030Z",
     "iopub.status.idle": "2021-04-19T22:59:40.780302Z",
     "shell.execute_reply": "2021-04-19T22:59:40.780810Z"
    },
    "papermill": {
     "duration": 0.02977,
     "end_time": "2021-04-19T22:59:40.781017",
     "exception": false,
     "start_time": "2021-04-19T22:59:40.751247",
     "status": "completed"
    },
    "tags": []
   },
   "outputs": [
    {
     "data": {
      "text/plain": [
       "Store    0\n",
       "Type     0\n",
       "Size     0\n",
       "dtype: int64"
      ]
     },
     "execution_count": 5,
     "metadata": {},
     "output_type": "execute_result"
    }
   ],
   "source": [
    "store_data.isnull().sum()"
   ]
  },
  {
   "cell_type": "code",
   "execution_count": 6,
   "id": "german-rating",
   "metadata": {
    "execution": {
     "iopub.execute_input": "2021-04-19T22:59:40.826022Z",
     "iopub.status.busy": "2021-04-19T22:59:40.825223Z",
     "iopub.status.idle": "2021-04-19T22:59:40.837287Z",
     "shell.execute_reply": "2021-04-19T22:59:40.837821Z"
    },
    "papermill": {
     "duration": 0.035413,
     "end_time": "2021-04-19T22:59:40.838026",
     "exception": false,
     "start_time": "2021-04-19T22:59:40.802613",
     "status": "completed"
    },
    "tags": []
   },
   "outputs": [
    {
     "data": {
      "text/html": [
       "<div>\n",
       "<style scoped>\n",
       "    .dataframe tbody tr th:only-of-type {\n",
       "        vertical-align: middle;\n",
       "    }\n",
       "\n",
       "    .dataframe tbody tr th {\n",
       "        vertical-align: top;\n",
       "    }\n",
       "\n",
       "    .dataframe thead th {\n",
       "        text-align: right;\n",
       "    }\n",
       "</style>\n",
       "<table border=\"1\" class=\"dataframe\">\n",
       "  <thead>\n",
       "    <tr style=\"text-align: right;\">\n",
       "      <th></th>\n",
       "      <th>Store</th>\n",
       "      <th>Dept</th>\n",
       "      <th>Date</th>\n",
       "      <th>Weekly_Sales</th>\n",
       "      <th>IsHoliday</th>\n",
       "    </tr>\n",
       "  </thead>\n",
       "  <tbody>\n",
       "    <tr>\n",
       "      <th>0</th>\n",
       "      <td>1</td>\n",
       "      <td>1</td>\n",
       "      <td>2010-02-05</td>\n",
       "      <td>24924.50</td>\n",
       "      <td>False</td>\n",
       "    </tr>\n",
       "    <tr>\n",
       "      <th>1</th>\n",
       "      <td>1</td>\n",
       "      <td>1</td>\n",
       "      <td>2010-02-12</td>\n",
       "      <td>46039.49</td>\n",
       "      <td>True</td>\n",
       "    </tr>\n",
       "    <tr>\n",
       "      <th>2</th>\n",
       "      <td>1</td>\n",
       "      <td>1</td>\n",
       "      <td>2010-02-19</td>\n",
       "      <td>41595.55</td>\n",
       "      <td>False</td>\n",
       "    </tr>\n",
       "    <tr>\n",
       "      <th>3</th>\n",
       "      <td>1</td>\n",
       "      <td>1</td>\n",
       "      <td>2010-02-26</td>\n",
       "      <td>19403.54</td>\n",
       "      <td>False</td>\n",
       "    </tr>\n",
       "    <tr>\n",
       "      <th>4</th>\n",
       "      <td>1</td>\n",
       "      <td>1</td>\n",
       "      <td>2010-03-05</td>\n",
       "      <td>21827.90</td>\n",
       "      <td>False</td>\n",
       "    </tr>\n",
       "  </tbody>\n",
       "</table>\n",
       "</div>"
      ],
      "text/plain": [
       "   Store  Dept        Date  Weekly_Sales  IsHoliday\n",
       "0      1     1  2010-02-05      24924.50      False\n",
       "1      1     1  2010-02-12      46039.49       True\n",
       "2      1     1  2010-02-19      41595.55      False\n",
       "3      1     1  2010-02-26      19403.54      False\n",
       "4      1     1  2010-03-05      21827.90      False"
      ]
     },
     "execution_count": 6,
     "metadata": {},
     "output_type": "execute_result"
    }
   ],
   "source": [
    "train_data.head()"
   ]
  },
  {
   "cell_type": "code",
   "execution_count": 7,
   "id": "understood-worship",
   "metadata": {
    "execution": {
     "iopub.execute_input": "2021-04-19T22:59:40.882342Z",
     "iopub.status.busy": "2021-04-19T22:59:40.881691Z",
     "iopub.status.idle": "2021-04-19T22:59:40.934073Z",
     "shell.execute_reply": "2021-04-19T22:59:40.933459Z"
    },
    "papermill": {
     "duration": 0.075941,
     "end_time": "2021-04-19T22:59:40.934217",
     "exception": false,
     "start_time": "2021-04-19T22:59:40.858276",
     "status": "completed"
    },
    "tags": []
   },
   "outputs": [
    {
     "data": {
      "text/plain": [
       "Store           0\n",
       "Dept            0\n",
       "Date            0\n",
       "Weekly_Sales    0\n",
       "IsHoliday       0\n",
       "dtype: int64"
      ]
     },
     "execution_count": 7,
     "metadata": {},
     "output_type": "execute_result"
    }
   ],
   "source": [
    "train_data.isnull().sum()"
   ]
  },
  {
   "cell_type": "code",
   "execution_count": 8,
   "id": "capable-parish",
   "metadata": {
    "execution": {
     "iopub.execute_input": "2021-04-19T22:59:40.981523Z",
     "iopub.status.busy": "2021-04-19T22:59:40.980254Z",
     "iopub.status.idle": "2021-04-19T23:00:02.702562Z",
     "shell.execute_reply": "2021-04-19T23:00:02.701539Z"
    },
    "papermill": {
     "duration": 21.747886,
     "end_time": "2021-04-19T23:00:02.702711",
     "exception": false,
     "start_time": "2021-04-19T22:59:40.954825",
     "status": "completed"
    },
    "tags": []
   },
   "outputs": [
    {
     "data": {
      "text/plain": [
       "<AxesSubplot:ylabel='Weekly_Sales'>"
      ]
     },
     "execution_count": 8,
     "metadata": {},
     "output_type": "execute_result"
    },
    {
     "data": {
      "image/png": "[encoded data removed]",
      "text/plain": [
       "<Figure size 432x288 with 1 Axes>"
      ]
     },
     "metadata": {
      "needs_background": "light"
     },
     "output_type": "display_data"
    }
   ],
   "source": [
    "sns.lineplot(data=train_data,x=train_data.index, y=\"Weekly_Sales\")"
   ]
  },
  {
   "cell_type": "code",
   "execution_count": 9,
   "id": "administrative-raise",
   "metadata": {
    "execution": {
     "iopub.execute_input": "2021-04-19T23:00:02.775799Z",
     "iopub.status.busy": "2021-04-19T23:00:02.775125Z",
     "iopub.status.idle": "2021-04-19T23:00:12.572750Z",
     "shell.execute_reply": "2021-04-19T23:00:12.573269Z"
    },
    "papermill": {
     "duration": 9.848907,
     "end_time": "2021-04-19T23:00:12.573444",
     "exception": false,
     "start_time": "2021-04-19T23:00:02.724537",
     "status": "completed"
    },
    "tags": []
   },
   "outputs": [
    {
     "data": {
      "text/plain": [
       "<AxesSubplot:xlabel='Date', ylabel='Weekly_Sales'>"
      ]
     },
     "execution_count": 9,
     "metadata": {},
     "output_type": "execute_result"
    },
    {
     "data": {
      "image/png": "[encoded data removed]",
      "text/plain": [
       "<Figure size 1080x360 with 1 Axes>"
      ]
     },
     "metadata": {
      "needs_background": "light"
     },
     "output_type": "display_data"
    }
   ],
   "source": [
    "fig = plt.figure(figsize=(15,5))\n",
    "sns.lineplot(data=train_data,x=pd.to_datetime(train_data['Date']), y=\"Weekly_Sales\")"
   ]
  },
  {
   "cell_type": "markdown",
   "id": "dramatic-assessment",
   "metadata": {
    "papermill": {
     "duration": 0.025382,
     "end_time": "2021-04-19T23:00:12.623845",
     "exception": false,
     "start_time": "2021-04-19T23:00:12.598463",
     "status": "completed"
    },
    "tags": []
   },
   "source": [
    "Merge store data and train data"
   ]
  },
  {
   "cell_type": "code",
   "execution_count": 10,
   "id": "current-realtor",
   "metadata": {
    "execution": {
     "iopub.execute_input": "2021-04-19T23:00:12.679153Z",
     "iopub.status.busy": "2021-04-19T23:00:12.678327Z",
     "iopub.status.idle": "2021-04-19T23:00:12.752188Z",
     "shell.execute_reply": "2021-04-19T23:00:12.751430Z"
    },
    "papermill": {
     "duration": 0.103245,
     "end_time": "2021-04-19T23:00:12.752343",
     "exception": false,
     "start_time": "2021-04-19T23:00:12.649098",
     "status": "completed"
    },
    "tags": []
   },
   "outputs": [
    {
     "data": {
      "text/html": [
       "<div>\n",
       "<style scoped>\n",
       "    .dataframe tbody tr th:only-of-type {\n",
       "        vertical-align: middle;\n",
       "    }\n",
       "\n",
       "    .dataframe tbody tr th {\n",
       "        vertical-align: top;\n",
       "    }\n",
       "\n",
       "    .dataframe thead th {\n",
       "        text-align: right;\n",
       "    }\n",
       "</style>\n",
       "<table border=\"1\" class=\"dataframe\">\n",
       "  <thead>\n",
       "    <tr style=\"text-align: right;\">\n",
       "      <th></th>\n",
       "      <th>Store</th>\n",
       "      <th>Dept</th>\n",
       "      <th>Date</th>\n",
       "      <th>Weekly_Sales</th>\n",
       "      <th>IsHoliday</th>\n",
       "      <th>Type</th>\n",
       "      <th>Size</th>\n",
       "    </tr>\n",
       "  </thead>\n",
       "  <tbody>\n",
       "    <tr>\n",
       "      <th>0</th>\n",
       "      <td>1</td>\n",
       "      <td>1</td>\n",
       "      <td>2010-02-05</td>\n",
       "      <td>24924.50</td>\n",
       "      <td>False</td>\n",
       "      <td>A</td>\n",
       "      <td>151315</td>\n",
       "    </tr>\n",
       "    <tr>\n",
       "      <th>1</th>\n",
       "      <td>1</td>\n",
       "      <td>1</td>\n",
       "      <td>2010-02-12</td>\n",
       "      <td>46039.49</td>\n",
       "      <td>True</td>\n",
       "      <td>A</td>\n",
       "      <td>151315</td>\n",
       "    </tr>\n",
       "    <tr>\n",
       "      <th>2</th>\n",
       "      <td>1</td>\n",
       "      <td>1</td>\n",
       "      <td>2010-02-19</td>\n",
       "      <td>41595.55</td>\n",
       "      <td>False</td>\n",
       "      <td>A</td>\n",
       "      <td>151315</td>\n",
       "    </tr>\n",
       "    <tr>\n",
       "      <th>3</th>\n",
       "      <td>1</td>\n",
       "      <td>1</td>\n",
       "      <td>2010-02-26</td>\n",
       "      <td>19403.54</td>\n",
       "      <td>False</td>\n",
       "      <td>A</td>\n",
       "      <td>151315</td>\n",
       "    </tr>\n",
       "    <tr>\n",
       "      <th>4</th>\n",
       "      <td>1</td>\n",
       "      <td>1</td>\n",
       "      <td>2010-03-05</td>\n",
       "      <td>21827.90</td>\n",
       "      <td>False</td>\n",
       "      <td>A</td>\n",
       "      <td>151315</td>\n",
       "    </tr>\n",
       "  </tbody>\n",
       "</table>\n",
       "</div>"
      ],
      "text/plain": [
       "   Store  Dept        Date  Weekly_Sales  IsHoliday Type    Size\n",
       "0      1     1  2010-02-05      24924.50      False    A  151315\n",
       "1      1     1  2010-02-12      46039.49       True    A  151315\n",
       "2      1     1  2010-02-19      41595.55      False    A  151315\n",
       "3      1     1  2010-02-26      19403.54      False    A  151315\n",
       "4      1     1  2010-03-05      21827.90      False    A  151315"
      ]
     },
     "execution_count": 10,
     "metadata": {},
     "output_type": "execute_result"
    }
   ],
   "source": [
    "store_train_data=pd.merge(train_data, store_data)\n",
    "store_train_data.head()"
   ]
  },
  {
   "cell_type": "code",
   "execution_count": 11,
   "id": "pharmaceutical-pastor",
   "metadata": {
    "execution": {
     "iopub.execute_input": "2021-04-19T23:00:12.835804Z",
     "iopub.status.busy": "2021-04-19T23:00:12.835104Z",
     "iopub.status.idle": "2021-04-19T23:00:33.105508Z",
     "shell.execute_reply": "2021-04-19T23:00:33.106020Z"
    },
    "papermill": {
     "duration": 20.328222,
     "end_time": "2021-04-19T23:00:33.106208",
     "exception": false,
     "start_time": "2021-04-19T23:00:12.777986",
     "status": "completed"
    },
    "tags": []
   },
   "outputs": [
    {
     "data": {
      "text/plain": [
       "<AxesSubplot:xlabel='Date', ylabel='Weekly_Sales'>"
      ]
     },
     "execution_count": 11,
     "metadata": {},
     "output_type": "execute_result"
    },
    {
     "data": {
      "image/png": "[encoded data removed]",
      "text/plain": [
       "<Figure size 1080x360 with 1 Axes>"
      ]
     },
     "metadata": {
      "needs_background": "light"
     },
     "output_type": "display_data"
    }
   ],
   "source": [
    "fig = plt.figure(figsize=(15,5))\n",
    "sns.lineplot(data=store_train_data,x=pd.to_datetime(store_train_data['Date']), y=\"Weekly_Sales\", hue='Type')"
   ]
  },
  {
   "cell_type": "code",
   "execution_count": 12,
   "id": "liquid-dispatch",
   "metadata": {
    "execution": {
     "iopub.execute_input": "2021-04-19T23:00:33.168962Z",
     "iopub.status.busy": "2021-04-19T23:00:33.168287Z",
     "iopub.status.idle": "2021-04-19T23:00:33.849429Z",
     "shell.execute_reply": "2021-04-19T23:00:33.848677Z"
    },
    "papermill": {
     "duration": 0.713477,
     "end_time": "2021-04-19T23:00:33.849580",
     "exception": false,
     "start_time": "2021-04-19T23:00:33.136103",
     "status": "completed"
    },
    "tags": []
   },
   "outputs": [
    {
     "data": {
      "text/html": [
       "<div>\n",
       "<style scoped>\n",
       "    .dataframe tbody tr th:only-of-type {\n",
       "        vertical-align: middle;\n",
       "    }\n",
       "\n",
       "    .dataframe tbody tr th {\n",
       "        vertical-align: top;\n",
       "    }\n",
       "\n",
       "    .dataframe thead th {\n",
       "        text-align: right;\n",
       "    }\n",
       "</style>\n",
       "<table border=\"1\" class=\"dataframe\">\n",
       "  <thead>\n",
       "    <tr style=\"text-align: right;\">\n",
       "      <th></th>\n",
       "      <th>Store</th>\n",
       "      <th>Dept</th>\n",
       "      <th>Date</th>\n",
       "      <th>Weekly_Sales</th>\n",
       "      <th>IsHoliday</th>\n",
       "      <th>Type</th>\n",
       "      <th>Size</th>\n",
       "      <th>Day</th>\n",
       "      <th>Week</th>\n",
       "      <th>Year</th>\n",
       "    </tr>\n",
       "  </thead>\n",
       "  <tbody>\n",
       "    <tr>\n",
       "      <th>0</th>\n",
       "      <td>1</td>\n",
       "      <td>1</td>\n",
       "      <td>2010-02-05</td>\n",
       "      <td>24924.50</td>\n",
       "      <td>False</td>\n",
       "      <td>1</td>\n",
       "      <td>151315</td>\n",
       "      <td>5</td>\n",
       "      <td>5</td>\n",
       "      <td>2010</td>\n",
       "    </tr>\n",
       "    <tr>\n",
       "      <th>1</th>\n",
       "      <td>1</td>\n",
       "      <td>1</td>\n",
       "      <td>2010-02-12</td>\n",
       "      <td>46039.49</td>\n",
       "      <td>True</td>\n",
       "      <td>1</td>\n",
       "      <td>151315</td>\n",
       "      <td>12</td>\n",
       "      <td>6</td>\n",
       "      <td>2010</td>\n",
       "    </tr>\n",
       "    <tr>\n",
       "      <th>2</th>\n",
       "      <td>1</td>\n",
       "      <td>1</td>\n",
       "      <td>2010-02-19</td>\n",
       "      <td>41595.55</td>\n",
       "      <td>False</td>\n",
       "      <td>1</td>\n",
       "      <td>151315</td>\n",
       "      <td>19</td>\n",
       "      <td>7</td>\n",
       "      <td>2010</td>\n",
       "    </tr>\n",
       "    <tr>\n",
       "      <th>3</th>\n",
       "      <td>1</td>\n",
       "      <td>1</td>\n",
       "      <td>2010-02-26</td>\n",
       "      <td>19403.54</td>\n",
       "      <td>False</td>\n",
       "      <td>1</td>\n",
       "      <td>151315</td>\n",
       "      <td>26</td>\n",
       "      <td>8</td>\n",
       "      <td>2010</td>\n",
       "    </tr>\n",
       "    <tr>\n",
       "      <th>4</th>\n",
       "      <td>1</td>\n",
       "      <td>1</td>\n",
       "      <td>2010-03-05</td>\n",
       "      <td>21827.90</td>\n",
       "      <td>False</td>\n",
       "      <td>1</td>\n",
       "      <td>151315</td>\n",
       "      <td>5</td>\n",
       "      <td>9</td>\n",
       "      <td>2010</td>\n",
       "    </tr>\n",
       "  </tbody>\n",
       "</table>\n",
       "</div>"
      ],
      "text/plain": [
       "   Store  Dept       Date  Weekly_Sales  IsHoliday  Type    Size  Day  Week  \\\n",
       "0      1     1 2010-02-05      24924.50      False     1  151315    5     5   \n",
       "1      1     1 2010-02-12      46039.49       True     1  151315   12     6   \n",
       "2      1     1 2010-02-19      41595.55      False     1  151315   19     7   \n",
       "3      1     1 2010-02-26      19403.54      False     1  151315   26     8   \n",
       "4      1     1 2010-03-05      21827.90      False     1  151315    5     9   \n",
       "\n",
       "   Year  \n",
       "0  2010  \n",
       "1  2010  \n",
       "2  2010  \n",
       "3  2010  \n",
       "4  2010  "
      ]
     },
     "execution_count": 12,
     "metadata": {},
     "output_type": "execute_result"
    }
   ],
   "source": [
    "store_train_data['Type'].replace({'A': 1, 'B': 2,'C':3},inplace=True)\n",
    "store_train_data['Date']=pd.to_datetime(store_train_data['Date'])\n",
    "store_train_data['Day']= pd.to_datetime(store_train_data['Date']).dt.day\n",
    "store_train_data['Week']= pd.to_datetime(store_train_data['Date']).dt.week\n",
    "store_train_data['Year']= pd.to_datetime(store_train_data['Date']).dt.year\n",
    "store_train_data.head()"
   ]
  },
  {
   "cell_type": "code",
   "execution_count": 13,
   "id": "super-customer",
   "metadata": {
    "execution": {
     "iopub.execute_input": "2021-04-19T23:00:33.919310Z",
     "iopub.status.busy": "2021-04-19T23:00:33.918614Z",
     "iopub.status.idle": "2021-04-19T23:00:34.043264Z",
     "shell.execute_reply": "2021-04-19T23:00:34.042644Z"
    },
    "papermill": {
     "duration": 0.161447,
     "end_time": "2021-04-19T23:00:34.043422",
     "exception": false,
     "start_time": "2021-04-19T23:00:33.881975",
     "status": "completed"
    },
    "tags": []
   },
   "outputs": [],
   "source": [
    "weekly_sales_2010= store_train_data[store_train_data['Year']==2010]['Weekly_Sales'].groupby(store_train_data['Week']).mean()\n",
    "weekly_sales_2011= store_train_data[store_train_data['Year']==2011]['Weekly_Sales'].groupby(store_train_data['Week']).mean()\n",
    "weekly_sales_2012= store_train_data[store_train_data['Year']==2012]['Weekly_Sales'].groupby(store_train_data['Week']).mean()"
   ]
  },
  {
   "cell_type": "code",
   "execution_count": 14,
   "id": "settled-tablet",
   "metadata": {
    "execution": {
     "iopub.execute_input": "2021-04-19T23:00:34.108748Z",
     "iopub.status.busy": "2021-04-19T23:00:34.107745Z",
     "iopub.status.idle": "2021-04-19T23:00:34.389218Z",
     "shell.execute_reply": "2021-04-19T23:00:34.389668Z"
    },
    "papermill": {
     "duration": 0.315455,
     "end_time": "2021-04-19T23:00:34.389836",
     "exception": false,
     "start_time": "2021-04-19T23:00:34.074381",
     "status": "completed"
    },
    "tags": []
   },
   "outputs": [
    {
     "data": {
      "image/png": "[encoded data removed]",
      "text/plain": [
       "<Figure size 1080x360 with 1 Axes>"
      ]
     },
     "metadata": {
      "needs_background": "light"
     },
     "output_type": "display_data"
    }
   ],
   "source": [
    "fig = plt.figure(figsize=(15,5))\n",
    "sns.lineplot(weekly_sales_2010.index, weekly_sales_2010.values)\n",
    "sns.lineplot(weekly_sales_2011.index, weekly_sales_2011.values)\n",
    "sns.lineplot(weekly_sales_2012.index, weekly_sales_2012.values)\n",
    "plt.legend(['2010', '2011', '2012'], loc='best', fontsize=16)\n",
    "plt.title('Average Weekly Sales - Per Year', fontsize=18)\n",
    "plt.ylabel('Sales', fontsize=16)\n",
    "plt.xlabel('Week', fontsize=16)\n",
    "plt.show()"
   ]
  },
  {
   "cell_type": "markdown",
   "id": "british-replication",
   "metadata": {
    "papermill": {
     "duration": 0.031687,
     "end_time": "2021-04-19T23:00:34.453401",
     "exception": false,
     "start_time": "2021-04-19T23:00:34.421714",
     "status": "completed"
    },
    "tags": []
   },
   "source": [
    "Merge store data and test data"
   ]
  },
  {
   "cell_type": "code",
   "execution_count": 15,
   "id": "environmental-madagascar",
   "metadata": {
    "execution": {
     "iopub.execute_input": "2021-04-19T23:00:34.522008Z",
     "iopub.status.busy": "2021-04-19T23:00:34.521055Z",
     "iopub.status.idle": "2021-04-19T23:00:34.547688Z",
     "shell.execute_reply": "2021-04-19T23:00:34.547192Z"
    },
    "papermill": {
     "duration": 0.062377,
     "end_time": "2021-04-19T23:00:34.547826",
     "exception": false,
     "start_time": "2021-04-19T23:00:34.485449",
     "status": "completed"
    },
    "tags": []
   },
   "outputs": [
    {
     "data": {
      "text/html": [
       "<div>\n",
       "<style scoped>\n",
       "    .dataframe tbody tr th:only-of-type {\n",
       "        vertical-align: middle;\n",
       "    }\n",
       "\n",
       "    .dataframe tbody tr th {\n",
       "        vertical-align: top;\n",
       "    }\n",
       "\n",
       "    .dataframe thead th {\n",
       "        text-align: right;\n",
       "    }\n",
       "</style>\n",
       "<table border=\"1\" class=\"dataframe\">\n",
       "  <thead>\n",
       "    <tr style=\"text-align: right;\">\n",
       "      <th></th>\n",
       "      <th>Store</th>\n",
       "      <th>Dept</th>\n",
       "      <th>Date</th>\n",
       "      <th>IsHoliday</th>\n",
       "      <th>Type</th>\n",
       "      <th>Size</th>\n",
       "    </tr>\n",
       "  </thead>\n",
       "  <tbody>\n",
       "    <tr>\n",
       "      <th>0</th>\n",
       "      <td>1</td>\n",
       "      <td>1</td>\n",
       "      <td>2012-11-02</td>\n",
       "      <td>False</td>\n",
       "      <td>A</td>\n",
       "      <td>151315</td>\n",
       "    </tr>\n",
       "    <tr>\n",
       "      <th>1</th>\n",
       "      <td>1</td>\n",
       "      <td>1</td>\n",
       "      <td>2012-11-09</td>\n",
       "      <td>False</td>\n",
       "      <td>A</td>\n",
       "      <td>151315</td>\n",
       "    </tr>\n",
       "    <tr>\n",
       "      <th>2</th>\n",
       "      <td>1</td>\n",
       "      <td>1</td>\n",
       "      <td>2012-11-16</td>\n",
       "      <td>False</td>\n",
       "      <td>A</td>\n",
       "      <td>151315</td>\n",
       "    </tr>\n",
       "    <tr>\n",
       "      <th>3</th>\n",
       "      <td>1</td>\n",
       "      <td>1</td>\n",
       "      <td>2012-11-23</td>\n",
       "      <td>True</td>\n",
       "      <td>A</td>\n",
       "      <td>151315</td>\n",
       "    </tr>\n",
       "    <tr>\n",
       "      <th>4</th>\n",
       "      <td>1</td>\n",
       "      <td>1</td>\n",
       "      <td>2012-11-30</td>\n",
       "      <td>False</td>\n",
       "      <td>A</td>\n",
       "      <td>151315</td>\n",
       "    </tr>\n",
       "  </tbody>\n",
       "</table>\n",
       "</div>"
      ],
      "text/plain": [
       "   Store  Dept        Date  IsHoliday Type    Size\n",
       "0      1     1  2012-11-02      False    A  151315\n",
       "1      1     1  2012-11-09      False    A  151315\n",
       "2      1     1  2012-11-16      False    A  151315\n",
       "3      1     1  2012-11-23       True    A  151315\n",
       "4      1     1  2012-11-30      False    A  151315"
      ]
     },
     "execution_count": 15,
     "metadata": {},
     "output_type": "execute_result"
    }
   ],
   "source": [
    "store_test_data=pd.merge(test_data, store_data)\n",
    "store_test_data.head()"
   ]
  },
  {
   "cell_type": "code",
   "execution_count": 16,
   "id": "american-empire",
   "metadata": {
    "execution": {
     "iopub.execute_input": "2021-04-19T23:00:34.633806Z",
     "iopub.status.busy": "2021-04-19T23:00:34.633126Z",
     "iopub.status.idle": "2021-04-19T23:00:34.827946Z",
     "shell.execute_reply": "2021-04-19T23:00:34.827405Z"
    },
    "papermill": {
     "duration": 0.246472,
     "end_time": "2021-04-19T23:00:34.828091",
     "exception": false,
     "start_time": "2021-04-19T23:00:34.581619",
     "status": "completed"
    },
    "tags": []
   },
   "outputs": [
    {
     "data": {
      "text/html": [
       "<div>\n",
       "<style scoped>\n",
       "    .dataframe tbody tr th:only-of-type {\n",
       "        vertical-align: middle;\n",
       "    }\n",
       "\n",
       "    .dataframe tbody tr th {\n",
       "        vertical-align: top;\n",
       "    }\n",
       "\n",
       "    .dataframe thead th {\n",
       "        text-align: right;\n",
       "    }\n",
       "</style>\n",
       "<table border=\"1\" class=\"dataframe\">\n",
       "  <thead>\n",
       "    <tr style=\"text-align: right;\">\n",
       "      <th></th>\n",
       "      <th>Store</th>\n",
       "      <th>Dept</th>\n",
       "      <th>Date</th>\n",
       "      <th>IsHoliday</th>\n",
       "      <th>Type</th>\n",
       "      <th>Size</th>\n",
       "      <th>Day</th>\n",
       "      <th>Week</th>\n",
       "      <th>Year</th>\n",
       "    </tr>\n",
       "  </thead>\n",
       "  <tbody>\n",
       "    <tr>\n",
       "      <th>0</th>\n",
       "      <td>1</td>\n",
       "      <td>1</td>\n",
       "      <td>2012-11-02</td>\n",
       "      <td>False</td>\n",
       "      <td>1</td>\n",
       "      <td>151315</td>\n",
       "      <td>2</td>\n",
       "      <td>44</td>\n",
       "      <td>2012</td>\n",
       "    </tr>\n",
       "    <tr>\n",
       "      <th>1</th>\n",
       "      <td>1</td>\n",
       "      <td>1</td>\n",
       "      <td>2012-11-09</td>\n",
       "      <td>False</td>\n",
       "      <td>1</td>\n",
       "      <td>151315</td>\n",
       "      <td>9</td>\n",
       "      <td>45</td>\n",
       "      <td>2012</td>\n",
       "    </tr>\n",
       "    <tr>\n",
       "      <th>2</th>\n",
       "      <td>1</td>\n",
       "      <td>1</td>\n",
       "      <td>2012-11-16</td>\n",
       "      <td>False</td>\n",
       "      <td>1</td>\n",
       "      <td>151315</td>\n",
       "      <td>16</td>\n",
       "      <td>46</td>\n",
       "      <td>2012</td>\n",
       "    </tr>\n",
       "    <tr>\n",
       "      <th>3</th>\n",
       "      <td>1</td>\n",
       "      <td>1</td>\n",
       "      <td>2012-11-23</td>\n",
       "      <td>True</td>\n",
       "      <td>1</td>\n",
       "      <td>151315</td>\n",
       "      <td>23</td>\n",
       "      <td>47</td>\n",
       "      <td>2012</td>\n",
       "    </tr>\n",
       "    <tr>\n",
       "      <th>4</th>\n",
       "      <td>1</td>\n",
       "      <td>1</td>\n",
       "      <td>2012-11-30</td>\n",
       "      <td>False</td>\n",
       "      <td>1</td>\n",
       "      <td>151315</td>\n",
       "      <td>30</td>\n",
       "      <td>48</td>\n",
       "      <td>2012</td>\n",
       "    </tr>\n",
       "  </tbody>\n",
       "</table>\n",
       "</div>"
      ],
      "text/plain": [
       "   Store  Dept       Date  IsHoliday  Type    Size  Day  Week  Year\n",
       "0      1     1 2012-11-02      False     1  151315    2    44  2012\n",
       "1      1     1 2012-11-09      False     1  151315    9    45  2012\n",
       "2      1     1 2012-11-16      False     1  151315   16    46  2012\n",
       "3      1     1 2012-11-23       True     1  151315   23    47  2012\n",
       "4      1     1 2012-11-30      False     1  151315   30    48  2012"
      ]
     },
     "execution_count": 16,
     "metadata": {},
     "output_type": "execute_result"
    }
   ],
   "source": [
    "store_test_data['Type'].replace({'A': 1, 'B': 2,'C':3},inplace=True)\n",
    "store_test_data['Date']=pd.to_datetime(store_test_data['Date'])\n",
    "store_test_data['Day']= pd.to_datetime(store_test_data['Date']).dt.day\n",
    "store_test_data['Week']= pd.to_datetime(store_test_data['Date']).dt.week\n",
    "store_test_data['Year']= pd.to_datetime(store_test_data['Date']).dt.year\n",
    "store_test_data.head()"
   ]
  },
  {
   "cell_type": "code",
   "execution_count": 17,
   "id": "chicken-grain",
   "metadata": {
    "execution": {
     "iopub.execute_input": "2021-04-19T23:00:34.931193Z",
     "iopub.status.busy": "2021-04-19T23:00:34.930142Z",
     "iopub.status.idle": "2021-04-19T23:00:34.933892Z",
     "shell.execute_reply": "2021-04-19T23:00:34.933355Z"
    },
    "papermill": {
     "duration": 0.072191,
     "end_time": "2021-04-19T23:00:34.934043",
     "exception": false,
     "start_time": "2021-04-19T23:00:34.861852",
     "status": "completed"
    },
    "tags": []
   },
   "outputs": [],
   "source": [
    "X=store_train_data.loc[:, store_train_data.columns!='Weekly_Sales'].drop('Date', axis=1)\n",
    "Y=store_train_data.loc[:, store_train_data.columns=='Weekly_Sales']"
   ]
  },
  {
   "cell_type": "code",
   "execution_count": 18,
   "id": "distinct-governor",
   "metadata": {
    "execution": {
     "iopub.execute_input": "2021-04-19T23:00:35.006436Z",
     "iopub.status.busy": "2021-04-19T23:00:35.005776Z",
     "iopub.status.idle": "2021-04-19T23:00:35.505099Z",
     "shell.execute_reply": "2021-04-19T23:00:35.504368Z"
    },
    "papermill": {
     "duration": 0.537867,
     "end_time": "2021-04-19T23:00:35.505244",
     "exception": false,
     "start_time": "2021-04-19T23:00:34.967377",
     "status": "completed"
    },
    "tags": []
   },
   "outputs": [],
   "source": [
    "from sklearn.ensemble import RandomForestRegressor"
   ]
  },
  {
   "cell_type": "code",
   "execution_count": 19,
   "id": "invalid-english",
   "metadata": {
    "execution": {
     "iopub.execute_input": "2021-04-19T23:00:35.602038Z",
     "iopub.status.busy": "2021-04-19T23:00:35.601311Z",
     "iopub.status.idle": "2021-04-19T23:02:49.518010Z",
     "shell.execute_reply": "2021-04-19T23:02:49.518534Z"
    },
    "papermill": {
     "duration": 133.977415,
     "end_time": "2021-04-19T23:02:49.518715",
     "exception": false,
     "start_time": "2021-04-19T23:00:35.541300",
     "status": "completed"
    },
    "tags": []
   },
   "outputs": [
    {
     "data": {
      "text/plain": [
       "RandomForestRegressor()"
      ]
     },
     "execution_count": 19,
     "metadata": {},
     "output_type": "execute_result"
    }
   ],
   "source": [
    "model = RandomForestRegressor()\n",
    "model.fit(X, Y)"
   ]
  },
  {
   "cell_type": "code",
   "execution_count": 20,
   "id": "guided-antigua",
   "metadata": {
    "execution": {
     "iopub.execute_input": "2021-04-19T23:02:49.593911Z",
     "iopub.status.busy": "2021-04-19T23:02:49.593233Z",
     "iopub.status.idle": "2021-04-19T23:02:52.164991Z",
     "shell.execute_reply": "2021-04-19T23:02:52.164443Z"
    },
    "papermill": {
     "duration": 2.61235,
     "end_time": "2021-04-19T23:02:52.165146",
     "exception": false,
     "start_time": "2021-04-19T23:02:49.552796",
     "status": "completed"
    },
    "tags": []
   },
   "outputs": [],
   "source": [
    "store_test_data['Weekly_Sales'] = model.predict(store_test_data.drop('Date',axis=1))"
   ]
  },
  {
   "cell_type": "code",
   "execution_count": 21,
   "id": "muslim-escape",
   "metadata": {
    "execution": {
     "iopub.execute_input": "2021-04-19T23:02:52.242508Z",
     "iopub.status.busy": "2021-04-19T23:02:52.238728Z",
     "iopub.status.idle": "2021-04-19T23:02:52.253164Z",
     "shell.execute_reply": "2021-04-19T23:02:52.252510Z"
    },
    "papermill": {
     "duration": 0.053819,
     "end_time": "2021-04-19T23:02:52.253298",
     "exception": false,
     "start_time": "2021-04-19T23:02:52.199479",
     "status": "completed"
    },
    "tags": []
   },
   "outputs": [
    {
     "data": {
      "text/html": [
       "<div>\n",
       "<style scoped>\n",
       "    .dataframe tbody tr th:only-of-type {\n",
       "        vertical-align: middle;\n",
       "    }\n",
       "\n",
       "    .dataframe tbody tr th {\n",
       "        vertical-align: top;\n",
       "    }\n",
       "\n",
       "    .dataframe thead th {\n",
       "        text-align: right;\n",
       "    }\n",
       "</style>\n",
       "<table border=\"1\" class=\"dataframe\">\n",
       "  <thead>\n",
       "    <tr style=\"text-align: right;\">\n",
       "      <th></th>\n",
       "      <th>Store</th>\n",
       "      <th>Dept</th>\n",
       "      <th>Date</th>\n",
       "      <th>IsHoliday</th>\n",
       "      <th>Type</th>\n",
       "      <th>Size</th>\n",
       "      <th>Day</th>\n",
       "      <th>Week</th>\n",
       "      <th>Year</th>\n",
       "      <th>Weekly_Sales</th>\n",
       "    </tr>\n",
       "  </thead>\n",
       "  <tbody>\n",
       "    <tr>\n",
       "      <th>0</th>\n",
       "      <td>1</td>\n",
       "      <td>1</td>\n",
       "      <td>2012-11-02</td>\n",
       "      <td>False</td>\n",
       "      <td>1</td>\n",
       "      <td>151315</td>\n",
       "      <td>2</td>\n",
       "      <td>44</td>\n",
       "      <td>2012</td>\n",
       "      <td>36589.2701</td>\n",
       "    </tr>\n",
       "    <tr>\n",
       "      <th>1</th>\n",
       "      <td>1</td>\n",
       "      <td>1</td>\n",
       "      <td>2012-11-09</td>\n",
       "      <td>False</td>\n",
       "      <td>1</td>\n",
       "      <td>151315</td>\n",
       "      <td>9</td>\n",
       "      <td>45</td>\n",
       "      <td>2012</td>\n",
       "      <td>20645.7973</td>\n",
       "    </tr>\n",
       "    <tr>\n",
       "      <th>2</th>\n",
       "      <td>1</td>\n",
       "      <td>1</td>\n",
       "      <td>2012-11-16</td>\n",
       "      <td>False</td>\n",
       "      <td>1</td>\n",
       "      <td>151315</td>\n",
       "      <td>16</td>\n",
       "      <td>46</td>\n",
       "      <td>2012</td>\n",
       "      <td>19379.9812</td>\n",
       "    </tr>\n",
       "    <tr>\n",
       "      <th>3</th>\n",
       "      <td>1</td>\n",
       "      <td>1</td>\n",
       "      <td>2012-11-23</td>\n",
       "      <td>True</td>\n",
       "      <td>1</td>\n",
       "      <td>151315</td>\n",
       "      <td>23</td>\n",
       "      <td>47</td>\n",
       "      <td>2012</td>\n",
       "      <td>20203.4957</td>\n",
       "    </tr>\n",
       "    <tr>\n",
       "      <th>4</th>\n",
       "      <td>1</td>\n",
       "      <td>1</td>\n",
       "      <td>2012-11-30</td>\n",
       "      <td>False</td>\n",
       "      <td>1</td>\n",
       "      <td>151315</td>\n",
       "      <td>30</td>\n",
       "      <td>48</td>\n",
       "      <td>2012</td>\n",
       "      <td>27723.8246</td>\n",
       "    </tr>\n",
       "  </tbody>\n",
       "</table>\n",
       "</div>"
      ],
      "text/plain": [
       "   Store  Dept       Date  IsHoliday  Type    Size  Day  Week  Year  \\\n",
       "0      1     1 2012-11-02      False     1  151315    2    44  2012   \n",
       "1      1     1 2012-11-09      False     1  151315    9    45  2012   \n",
       "2      1     1 2012-11-16      False     1  151315   16    46  2012   \n",
       "3      1     1 2012-11-23       True     1  151315   23    47  2012   \n",
       "4      1     1 2012-11-30      False     1  151315   30    48  2012   \n",
       "\n",
       "   Weekly_Sales  \n",
       "0    36589.2701  \n",
       "1    20645.7973  \n",
       "2    19379.9812  \n",
       "3    20203.4957  \n",
       "4    27723.8246  "
      ]
     },
     "execution_count": 21,
     "metadata": {},
     "output_type": "execute_result"
    }
   ],
   "source": [
    "store_test_data.head()"
   ]
  },
  {
   "cell_type": "code",
   "execution_count": 22,
   "id": "soviet-sterling",
   "metadata": {
    "execution": {
     "iopub.execute_input": "2021-04-19T23:02:52.328690Z",
     "iopub.status.busy": "2021-04-19T23:02:52.327727Z",
     "iopub.status.idle": "2021-04-19T23:02:52.332071Z",
     "shell.execute_reply": "2021-04-19T23:02:52.331315Z"
    },
    "papermill": {
     "duration": 0.043631,
     "end_time": "2021-04-19T23:02:52.332225",
     "exception": false,
     "start_time": "2021-04-19T23:02:52.288594",
     "status": "completed"
    },
    "tags": []
   },
   "outputs": [],
   "source": [
    "sample_data['Weekly_Sales']=store_test_data['Weekly_Sales']"
   ]
  },
  {
   "cell_type": "code",
   "execution_count": 23,
   "id": "typical-swiss",
   "metadata": {
    "execution": {
     "iopub.execute_input": "2021-04-19T23:02:52.412729Z",
     "iopub.status.busy": "2021-04-19T23:02:52.412031Z",
     "iopub.status.idle": "2021-04-19T23:02:52.415728Z",
     "shell.execute_reply": "2021-04-19T23:02:52.416294Z"
    },
    "papermill": {
     "duration": 0.048933,
     "end_time": "2021-04-19T23:02:52.416460",
     "exception": false,
     "start_time": "2021-04-19T23:02:52.367527",
     "status": "completed"
    },
    "tags": []
   },
   "outputs": [
    {
     "data": {
      "text/html": [
       "<div>\n",
       "<style scoped>\n",
       "    .dataframe tbody tr th:only-of-type {\n",
       "        vertical-align: middle;\n",
       "    }\n",
       "\n",
       "    .dataframe tbody tr th {\n",
       "        vertical-align: top;\n",
       "    }\n",
       "\n",
       "    .dataframe thead th {\n",
       "        text-align: right;\n",
       "    }\n",
       "</style>\n",
       "<table border=\"1\" class=\"dataframe\">\n",
       "  <thead>\n",
       "    <tr style=\"text-align: right;\">\n",
       "      <th></th>\n",
       "      <th>Id</th>\n",
       "      <th>Weekly_Sales</th>\n",
       "    </tr>\n",
       "  </thead>\n",
       "  <tbody>\n",
       "    <tr>\n",
       "      <th>0</th>\n",
       "      <td>1_1_2012-11-02</td>\n",
       "      <td>36589.2701</td>\n",
       "    </tr>\n",
       "    <tr>\n",
       "      <th>1</th>\n",
       "      <td>1_1_2012-11-09</td>\n",
       "      <td>20645.7973</td>\n",
       "    </tr>\n",
       "    <tr>\n",
       "      <th>2</th>\n",
       "      <td>1_1_2012-11-16</td>\n",
       "      <td>19379.9812</td>\n",
       "    </tr>\n",
       "    <tr>\n",
       "      <th>3</th>\n",
       "      <td>1_1_2012-11-23</td>\n",
       "      <td>20203.4957</td>\n",
       "    </tr>\n",
       "    <tr>\n",
       "      <th>4</th>\n",
       "      <td>1_1_2012-11-30</td>\n",
       "      <td>27723.8246</td>\n",
       "    </tr>\n",
       "  </tbody>\n",
       "</table>\n",
       "</div>"
      ],
      "text/plain": [
       "               Id  Weekly_Sales\n",
       "0  1_1_2012-11-02    36589.2701\n",
       "1  1_1_2012-11-09    20645.7973\n",
       "2  1_1_2012-11-16    19379.9812\n",
       "3  1_1_2012-11-23    20203.4957\n",
       "4  1_1_2012-11-30    27723.8246"
      ]
     },
     "execution_count": 23,
     "metadata": {},
     "output_type": "execute_result"
    }
   ],
   "source": [
    "sample_data.head()"
   ]
  },
  {
   "cell_type": "code",
   "execution_count": 24,
   "id": "bacterial-evaluation",
   "metadata": {
    "execution": {
     "iopub.execute_input": "2021-04-19T23:02:52.492580Z",
     "iopub.status.busy": "2021-04-19T23:02:52.491977Z",
     "iopub.status.idle": "2021-04-19T23:02:52.961311Z",
     "shell.execute_reply": "2021-04-19T23:02:52.961815Z"
    },
    "papermill": {
     "duration": 0.510097,
     "end_time": "2021-04-19T23:02:52.962004",
     "exception": false,
     "start_time": "2021-04-19T23:02:52.451907",
     "status": "completed"
    },
    "tags": []
   },
   "outputs": [
    {
     "data": {
      "text/html": [
       "<div>\n",
       "<style scoped>\n",
       "    .dataframe tbody tr th:only-of-type {\n",
       "        vertical-align: middle;\n",
       "    }\n",
       "\n",
       "    .dataframe tbody tr th {\n",
       "        vertical-align: top;\n",
       "    }\n",
       "\n",
       "    .dataframe thead th {\n",
       "        text-align: right;\n",
       "    }\n",
       "</style>\n",
       "<table border=\"1\" class=\"dataframe\">\n",
       "  <thead>\n",
       "    <tr style=\"text-align: right;\">\n",
       "      <th></th>\n",
       "      <th>Id</th>\n",
       "      <th>Weekly_Sales</th>\n",
       "    </tr>\n",
       "  </thead>\n",
       "  <tbody>\n",
       "    <tr>\n",
       "      <th>0</th>\n",
       "      <td>1_1_2012-11-02</td>\n",
       "      <td>36589.2701</td>\n",
       "    </tr>\n",
       "    <tr>\n",
       "      <th>1</th>\n",
       "      <td>1_1_2012-11-09</td>\n",
       "      <td>20645.7973</td>\n",
       "    </tr>\n",
       "    <tr>\n",
       "      <th>2</th>\n",
       "      <td>1_1_2012-11-16</td>\n",
       "      <td>19379.9812</td>\n",
       "    </tr>\n",
       "    <tr>\n",
       "      <th>3</th>\n",
       "      <td>1_1_2012-11-23</td>\n",
       "      <td>20203.4957</td>\n",
       "    </tr>\n",
       "    <tr>\n",
       "      <th>4</th>\n",
       "      <td>1_1_2012-11-30</td>\n",
       "      <td>27723.8246</td>\n",
       "    </tr>\n",
       "    <tr>\n",
       "      <th>...</th>\n",
       "      <td>...</td>\n",
       "      <td>...</td>\n",
       "    </tr>\n",
       "    <tr>\n",
       "      <th>115059</th>\n",
       "      <td>45_98_2013-06-28</td>\n",
       "      <td>664.4189</td>\n",
       "    </tr>\n",
       "    <tr>\n",
       "      <th>115060</th>\n",
       "      <td>45_98_2013-07-05</td>\n",
       "      <td>688.1749</td>\n",
       "    </tr>\n",
       "    <tr>\n",
       "      <th>115061</th>\n",
       "      <td>45_98_2013-07-12</td>\n",
       "      <td>763.5543</td>\n",
       "    </tr>\n",
       "    <tr>\n",
       "      <th>115062</th>\n",
       "      <td>45_98_2013-07-19</td>\n",
       "      <td>779.4751</td>\n",
       "    </tr>\n",
       "    <tr>\n",
       "      <th>115063</th>\n",
       "      <td>45_98_2013-07-26</td>\n",
       "      <td>686.3866</td>\n",
       "    </tr>\n",
       "  </tbody>\n",
       "</table>\n",
       "<p>115064 rows × 2 columns</p>\n",
       "</div>"
      ],
      "text/plain": [
       "                      Id  Weekly_Sales\n",
       "0         1_1_2012-11-02    36589.2701\n",
       "1         1_1_2012-11-09    20645.7973\n",
       "2         1_1_2012-11-16    19379.9812\n",
       "3         1_1_2012-11-23    20203.4957\n",
       "4         1_1_2012-11-30    27723.8246\n",
       "...                  ...           ...\n",
       "115059  45_98_2013-06-28      664.4189\n",
       "115060  45_98_2013-07-05      688.1749\n",
       "115061  45_98_2013-07-12      763.5543\n",
       "115062  45_98_2013-07-19      779.4751\n",
       "115063  45_98_2013-07-26      686.3866\n",
       "\n",
       "[115064 rows x 2 columns]"
      ]
     },
     "execution_count": 24,
     "metadata": {},
     "output_type": "execute_result"
    }
   ],
   "source": [
    "sample_data.to_csv('submission.csv',index=False)\n",
    "sample_data"
   ]
  }
 ],
 "metadata": {
  "kernelspec": {
   "display_name": "Python 3",
   "language": "python",
   "name": "python3"
  },
  "language_info": {
   "codemirror_mode": {
    "name": "ipython",
    "version": 3
   },
   "file_extension": ".py",
   "mimetype": "text/x-python",
   "name": "python",
   "nbconvert_exporter": "python",
   "pygments_lexer": "ipython3",
   "version": "3.7.9"
  },
  "papermill": {
   "default_parameters": {},
   "duration": 201.163655,
   "end_time": "2021-04-19T23:02:53.809688",
   "environment_variables": {},
   "exception": null,
   "input_path": "__notebook__.ipynb",
   "output_path": "__notebook__.ipynb",
   "parameters": {},
   "start_time": "2021-04-19T22:59:32.646033",
   "version": "2.3.2"
  }
 },
 "nbformat": 4,
 "nbformat_minor": 5
}
