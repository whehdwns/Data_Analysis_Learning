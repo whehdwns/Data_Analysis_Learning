{
 "cells": [
  {
   "cell_type": "code",
   "execution_count": 1,
   "id": "covered-dependence",
   "metadata": {
    "_cell_guid": "b1076dfc-b9ad-4769-8c92-a6c4dae69d19",
    "_uuid": "8f2839f25d086af736a60e9eeb907d3b93b6e0e5",
    "execution": {
     "iopub.execute_input": "2021-04-20T01:52:25.081757Z",
     "iopub.status.busy": "2021-04-20T01:52:25.080548Z",
     "iopub.status.idle": "2021-04-20T01:52:26.078996Z",
     "shell.execute_reply": "2021-04-20T01:52:26.078128Z"
    },
    "papermill": {
     "duration": 1.030879,
     "end_time": "2021-04-20T01:52:26.079167",
     "exception": false,
     "start_time": "2021-04-20T01:52:25.048288",
     "status": "completed"
    },
    "tags": []
   },
   "outputs": [
    {
     "name": "stdout",
     "output_type": "stream",
     "text": [
      "/kaggle/input/walmart-recruiting-store-sales-forecasting/train.csv.zip\n",
      "/kaggle/input/walmart-recruiting-store-sales-forecasting/sampleSubmission.csv.zip\n",
      "/kaggle/input/walmart-recruiting-store-sales-forecasting/stores.csv\n",
      "/kaggle/input/walmart-recruiting-store-sales-forecasting/features.csv.zip\n",
      "/kaggle/input/walmart-recruiting-store-sales-forecasting/test.csv.zip\n"
     ]
    }
   ],
   "source": [
    "# This Python 3 environment comes with many helpful analytics libraries installed\n",
    "# It is defined by the kaggle/python Docker image: https://github.com/kaggle/docker-python\n",
    "# For example, here's several helpful packages to load\n",
    "\n",
    "import numpy as np # linear algebra\n",
    "import pandas as pd # data processing, CSV file I/O (e.g. pd.read_csv)\n",
    "import matplotlib.pyplot as plt\n",
    "import seaborn as sns\n",
    "import warnings\n",
    "warnings.filterwarnings('ignore')\n",
    "\n",
    "# Input data files are available in the read-only \"../input/\" directory\n",
    "# For example, running this (by clicking run or pressing Shift+Enter) will list all files under the input directory\n",
    "\n",
    "import os\n",
    "for dirname, _, filenames in os.walk('/kaggle/input'):\n",
    "    for filename in filenames:\n",
    "        print(os.path.join(dirname, filename))\n",
    "\n",
    "# You can write up to 20GB to the current directory (/kaggle/working/) that gets preserved as output when you create a version using \"Save & Run All\" \n",
    "# You can also write temporary files to /kaggle/temp/, but they won't be saved outside of the current session"
   ]
  },
  {
   "cell_type": "code",
   "execution_count": 2,
   "id": "technological-protest",
   "metadata": {
    "execution": {
     "iopub.execute_input": "2021-04-20T01:52:26.140712Z",
     "iopub.status.busy": "2021-04-20T01:52:26.140021Z",
     "iopub.status.idle": "2021-04-20T01:52:26.774385Z",
     "shell.execute_reply": "2021-04-20T01:52:26.773786Z"
    },
    "papermill": {
     "duration": 0.66731,
     "end_time": "2021-04-20T01:52:26.774574",
     "exception": false,
     "start_time": "2021-04-20T01:52:26.107264",
     "status": "completed"
    },
    "tags": []
   },
   "outputs": [],
   "source": [
    "store_data = pd.read_csv('/kaggle/input/walmart-recruiting-store-sales-forecasting/stores.csv')\n",
    "feature_data=pd.read_csv('/kaggle/input/walmart-recruiting-store-sales-forecasting/features.csv.zip')\n",
    "sample_data=pd.read_csv('/kaggle/input/walmart-recruiting-store-sales-forecasting/sampleSubmission.csv.zip')\n",
    "train_data=pd.read_csv('/kaggle/input/walmart-recruiting-store-sales-forecasting/train.csv.zip')\n",
    "test_data=pd.read_csv('/kaggle/input/walmart-recruiting-store-sales-forecasting/test.csv.zip')"
   ]
  },
  {
   "cell_type": "code",
   "execution_count": 3,
   "id": "sustained-merchandise",
   "metadata": {
    "execution": {
     "iopub.execute_input": "2021-04-20T01:52:26.843290Z",
     "iopub.status.busy": "2021-04-20T01:52:26.842595Z",
     "iopub.status.idle": "2021-04-20T01:52:26.880482Z",
     "shell.execute_reply": "2021-04-20T01:52:26.880998Z"
    },
    "papermill": {
     "duration": 0.069764,
     "end_time": "2021-04-20T01:52:26.881167",
     "exception": false,
     "start_time": "2021-04-20T01:52:26.811403",
     "status": "completed"
    },
    "tags": []
   },
   "outputs": [
    {
     "data": {
      "text/html": [
       "<div>\n",
       "<style scoped>\n",
       "    .dataframe tbody tr th:only-of-type {\n",
       "        vertical-align: middle;\n",
       "    }\n",
       "\n",
       "    .dataframe tbody tr th {\n",
       "        vertical-align: top;\n",
       "    }\n",
       "\n",
       "    .dataframe thead th {\n",
       "        text-align: right;\n",
       "    }\n",
       "</style>\n",
       "<table border=\"1\" class=\"dataframe\">\n",
       "  <thead>\n",
       "    <tr style=\"text-align: right;\">\n",
       "      <th></th>\n",
       "      <th>Store</th>\n",
       "      <th>Date</th>\n",
       "      <th>Temperature</th>\n",
       "      <th>Fuel_Price</th>\n",
       "      <th>MarkDown1</th>\n",
       "      <th>MarkDown2</th>\n",
       "      <th>MarkDown3</th>\n",
       "      <th>MarkDown4</th>\n",
       "      <th>MarkDown5</th>\n",
       "      <th>CPI</th>\n",
       "      <th>Unemployment</th>\n",
       "      <th>IsHoliday</th>\n",
       "    </tr>\n",
       "  </thead>\n",
       "  <tbody>\n",
       "    <tr>\n",
       "      <th>0</th>\n",
       "      <td>1</td>\n",
       "      <td>2010-02-05</td>\n",
       "      <td>42.31</td>\n",
       "      <td>2.572</td>\n",
       "      <td>NaN</td>\n",
       "      <td>NaN</td>\n",
       "      <td>NaN</td>\n",
       "      <td>NaN</td>\n",
       "      <td>NaN</td>\n",
       "      <td>211.096358</td>\n",
       "      <td>8.106</td>\n",
       "      <td>False</td>\n",
       "    </tr>\n",
       "    <tr>\n",
       "      <th>1</th>\n",
       "      <td>1</td>\n",
       "      <td>2010-02-12</td>\n",
       "      <td>38.51</td>\n",
       "      <td>2.548</td>\n",
       "      <td>NaN</td>\n",
       "      <td>NaN</td>\n",
       "      <td>NaN</td>\n",
       "      <td>NaN</td>\n",
       "      <td>NaN</td>\n",
       "      <td>211.242170</td>\n",
       "      <td>8.106</td>\n",
       "      <td>True</td>\n",
       "    </tr>\n",
       "    <tr>\n",
       "      <th>2</th>\n",
       "      <td>1</td>\n",
       "      <td>2010-02-19</td>\n",
       "      <td>39.93</td>\n",
       "      <td>2.514</td>\n",
       "      <td>NaN</td>\n",
       "      <td>NaN</td>\n",
       "      <td>NaN</td>\n",
       "      <td>NaN</td>\n",
       "      <td>NaN</td>\n",
       "      <td>211.289143</td>\n",
       "      <td>8.106</td>\n",
       "      <td>False</td>\n",
       "    </tr>\n",
       "    <tr>\n",
       "      <th>3</th>\n",
       "      <td>1</td>\n",
       "      <td>2010-02-26</td>\n",
       "      <td>46.63</td>\n",
       "      <td>2.561</td>\n",
       "      <td>NaN</td>\n",
       "      <td>NaN</td>\n",
       "      <td>NaN</td>\n",
       "      <td>NaN</td>\n",
       "      <td>NaN</td>\n",
       "      <td>211.319643</td>\n",
       "      <td>8.106</td>\n",
       "      <td>False</td>\n",
       "    </tr>\n",
       "    <tr>\n",
       "      <th>4</th>\n",
       "      <td>1</td>\n",
       "      <td>2010-03-05</td>\n",
       "      <td>46.50</td>\n",
       "      <td>2.625</td>\n",
       "      <td>NaN</td>\n",
       "      <td>NaN</td>\n",
       "      <td>NaN</td>\n",
       "      <td>NaN</td>\n",
       "      <td>NaN</td>\n",
       "      <td>211.350143</td>\n",
       "      <td>8.106</td>\n",
       "      <td>False</td>\n",
       "    </tr>\n",
       "  </tbody>\n",
       "</table>\n",
       "</div>"
      ],
      "text/plain": [
       "   Store        Date  Temperature  Fuel_Price  MarkDown1  MarkDown2  \\\n",
       "0      1  2010-02-05        42.31       2.572        NaN        NaN   \n",
       "1      1  2010-02-12        38.51       2.548        NaN        NaN   \n",
       "2      1  2010-02-19        39.93       2.514        NaN        NaN   \n",
       "3      1  2010-02-26        46.63       2.561        NaN        NaN   \n",
       "4      1  2010-03-05        46.50       2.625        NaN        NaN   \n",
       "\n",
       "   MarkDown3  MarkDown4  MarkDown5         CPI  Unemployment  IsHoliday  \n",
       "0        NaN        NaN        NaN  211.096358         8.106      False  \n",
       "1        NaN        NaN        NaN  211.242170         8.106       True  \n",
       "2        NaN        NaN        NaN  211.289143         8.106      False  \n",
       "3        NaN        NaN        NaN  211.319643         8.106      False  \n",
       "4        NaN        NaN        NaN  211.350143         8.106      False  "
      ]
     },
     "execution_count": 3,
     "metadata": {},
     "output_type": "execute_result"
    }
   ],
   "source": [
    "feature_data.head()"
   ]
  },
  {
   "cell_type": "code",
   "execution_count": 4,
   "id": "willing-thesis",
   "metadata": {
    "execution": {
     "iopub.execute_input": "2021-04-20T01:52:26.947385Z",
     "iopub.status.busy": "2021-04-20T01:52:26.946740Z",
     "iopub.status.idle": "2021-04-20T01:52:26.949711Z",
     "shell.execute_reply": "2021-04-20T01:52:26.949142Z"
    },
    "papermill": {
     "duration": 0.039419,
     "end_time": "2021-04-20T01:52:26.949854",
     "exception": false,
     "start_time": "2021-04-20T01:52:26.910435",
     "status": "completed"
    },
    "tags": []
   },
   "outputs": [],
   "source": [
    "new_feature_data= feature_data[['Store','Date','Temperature','Fuel_Price','CPI','Unemployment','IsHoliday']]"
   ]
  },
  {
   "cell_type": "code",
   "execution_count": 5,
   "id": "latest-purple",
   "metadata": {
    "execution": {
     "iopub.execute_input": "2021-04-20T01:52:27.014578Z",
     "iopub.status.busy": "2021-04-20T01:52:27.013901Z",
     "iopub.status.idle": "2021-04-20T01:52:27.024937Z",
     "shell.execute_reply": "2021-04-20T01:52:27.024342Z"
    },
    "papermill": {
     "duration": 0.044299,
     "end_time": "2021-04-20T01:52:27.025078",
     "exception": false,
     "start_time": "2021-04-20T01:52:26.980779",
     "status": "completed"
    },
    "tags": []
   },
   "outputs": [
    {
     "data": {
      "text/html": [
       "<div>\n",
       "<style scoped>\n",
       "    .dataframe tbody tr th:only-of-type {\n",
       "        vertical-align: middle;\n",
       "    }\n",
       "\n",
       "    .dataframe tbody tr th {\n",
       "        vertical-align: top;\n",
       "    }\n",
       "\n",
       "    .dataframe thead th {\n",
       "        text-align: right;\n",
       "    }\n",
       "</style>\n",
       "<table border=\"1\" class=\"dataframe\">\n",
       "  <thead>\n",
       "    <tr style=\"text-align: right;\">\n",
       "      <th></th>\n",
       "      <th>Store</th>\n",
       "      <th>Type</th>\n",
       "      <th>Size</th>\n",
       "    </tr>\n",
       "  </thead>\n",
       "  <tbody>\n",
       "    <tr>\n",
       "      <th>0</th>\n",
       "      <td>1</td>\n",
       "      <td>A</td>\n",
       "      <td>151315</td>\n",
       "    </tr>\n",
       "    <tr>\n",
       "      <th>1</th>\n",
       "      <td>2</td>\n",
       "      <td>A</td>\n",
       "      <td>202307</td>\n",
       "    </tr>\n",
       "    <tr>\n",
       "      <th>2</th>\n",
       "      <td>3</td>\n",
       "      <td>B</td>\n",
       "      <td>37392</td>\n",
       "    </tr>\n",
       "    <tr>\n",
       "      <th>3</th>\n",
       "      <td>4</td>\n",
       "      <td>A</td>\n",
       "      <td>205863</td>\n",
       "    </tr>\n",
       "    <tr>\n",
       "      <th>4</th>\n",
       "      <td>5</td>\n",
       "      <td>B</td>\n",
       "      <td>34875</td>\n",
       "    </tr>\n",
       "  </tbody>\n",
       "</table>\n",
       "</div>"
      ],
      "text/plain": [
       "   Store Type    Size\n",
       "0      1    A  151315\n",
       "1      2    A  202307\n",
       "2      3    B   37392\n",
       "3      4    A  205863\n",
       "4      5    B   34875"
      ]
     },
     "execution_count": 5,
     "metadata": {},
     "output_type": "execute_result"
    }
   ],
   "source": [
    "store_data.head()"
   ]
  },
  {
   "cell_type": "code",
   "execution_count": 6,
   "id": "perfect-sequence",
   "metadata": {
    "execution": {
     "iopub.execute_input": "2021-04-20T01:52:27.092400Z",
     "iopub.status.busy": "2021-04-20T01:52:27.091519Z",
     "iopub.status.idle": "2021-04-20T01:52:27.095779Z",
     "shell.execute_reply": "2021-04-20T01:52:27.095090Z"
    },
    "papermill": {
     "duration": 0.041379,
     "end_time": "2021-04-20T01:52:27.095931",
     "exception": false,
     "start_time": "2021-04-20T01:52:27.054552",
     "status": "completed"
    },
    "tags": []
   },
   "outputs": [
    {
     "data": {
      "text/plain": [
       "array(['A', 'B', 'C'], dtype=object)"
      ]
     },
     "execution_count": 6,
     "metadata": {},
     "output_type": "execute_result"
    }
   ],
   "source": [
    "store_data['Type'].unique()"
   ]
  },
  {
   "cell_type": "code",
   "execution_count": 7,
   "id": "fallen-skating",
   "metadata": {
    "execution": {
     "iopub.execute_input": "2021-04-20T01:52:27.160709Z",
     "iopub.status.busy": "2021-04-20T01:52:27.159996Z",
     "iopub.status.idle": "2021-04-20T01:52:27.168146Z",
     "shell.execute_reply": "2021-04-20T01:52:27.167507Z"
    },
    "papermill": {
     "duration": 0.041418,
     "end_time": "2021-04-20T01:52:27.168288",
     "exception": false,
     "start_time": "2021-04-20T01:52:27.126870",
     "status": "completed"
    },
    "tags": []
   },
   "outputs": [
    {
     "data": {
      "text/plain": [
       "Store    0\n",
       "Type     0\n",
       "Size     0\n",
       "dtype: int64"
      ]
     },
     "execution_count": 7,
     "metadata": {},
     "output_type": "execute_result"
    }
   ],
   "source": [
    "store_data.isnull().sum()"
   ]
  },
  {
   "cell_type": "code",
   "execution_count": 8,
   "id": "polar-register",
   "metadata": {
    "execution": {
     "iopub.execute_input": "2021-04-20T01:52:27.240366Z",
     "iopub.status.busy": "2021-04-20T01:52:27.239614Z",
     "iopub.status.idle": "2021-04-20T01:52:27.244434Z",
     "shell.execute_reply": "2021-04-20T01:52:27.243894Z"
    },
    "papermill": {
     "duration": 0.045906,
     "end_time": "2021-04-20T01:52:27.244596",
     "exception": false,
     "start_time": "2021-04-20T01:52:27.198690",
     "status": "completed"
    },
    "tags": []
   },
   "outputs": [
    {
     "data": {
      "text/html": [
       "<div>\n",
       "<style scoped>\n",
       "    .dataframe tbody tr th:only-of-type {\n",
       "        vertical-align: middle;\n",
       "    }\n",
       "\n",
       "    .dataframe tbody tr th {\n",
       "        vertical-align: top;\n",
       "    }\n",
       "\n",
       "    .dataframe thead th {\n",
       "        text-align: right;\n",
       "    }\n",
       "</style>\n",
       "<table border=\"1\" class=\"dataframe\">\n",
       "  <thead>\n",
       "    <tr style=\"text-align: right;\">\n",
       "      <th></th>\n",
       "      <th>Store</th>\n",
       "      <th>Dept</th>\n",
       "      <th>Date</th>\n",
       "      <th>Weekly_Sales</th>\n",
       "      <th>IsHoliday</th>\n",
       "    </tr>\n",
       "  </thead>\n",
       "  <tbody>\n",
       "    <tr>\n",
       "      <th>0</th>\n",
       "      <td>1</td>\n",
       "      <td>1</td>\n",
       "      <td>2010-02-05</td>\n",
       "      <td>24924.50</td>\n",
       "      <td>False</td>\n",
       "    </tr>\n",
       "    <tr>\n",
       "      <th>1</th>\n",
       "      <td>1</td>\n",
       "      <td>1</td>\n",
       "      <td>2010-02-12</td>\n",
       "      <td>46039.49</td>\n",
       "      <td>True</td>\n",
       "    </tr>\n",
       "    <tr>\n",
       "      <th>2</th>\n",
       "      <td>1</td>\n",
       "      <td>1</td>\n",
       "      <td>2010-02-19</td>\n",
       "      <td>41595.55</td>\n",
       "      <td>False</td>\n",
       "    </tr>\n",
       "    <tr>\n",
       "      <th>3</th>\n",
       "      <td>1</td>\n",
       "      <td>1</td>\n",
       "      <td>2010-02-26</td>\n",
       "      <td>19403.54</td>\n",
       "      <td>False</td>\n",
       "    </tr>\n",
       "    <tr>\n",
       "      <th>4</th>\n",
       "      <td>1</td>\n",
       "      <td>1</td>\n",
       "      <td>2010-03-05</td>\n",
       "      <td>21827.90</td>\n",
       "      <td>False</td>\n",
       "    </tr>\n",
       "  </tbody>\n",
       "</table>\n",
       "</div>"
      ],
      "text/plain": [
       "   Store  Dept        Date  Weekly_Sales  IsHoliday\n",
       "0      1     1  2010-02-05      24924.50      False\n",
       "1      1     1  2010-02-12      46039.49       True\n",
       "2      1     1  2010-02-19      41595.55      False\n",
       "3      1     1  2010-02-26      19403.54      False\n",
       "4      1     1  2010-03-05      21827.90      False"
      ]
     },
     "execution_count": 8,
     "metadata": {},
     "output_type": "execute_result"
    }
   ],
   "source": [
    "train_data.head()"
   ]
  },
  {
   "cell_type": "code",
   "execution_count": 9,
   "id": "silver-charleston",
   "metadata": {
    "execution": {
     "iopub.execute_input": "2021-04-20T01:52:27.311955Z",
     "iopub.status.busy": "2021-04-20T01:52:27.311259Z",
     "iopub.status.idle": "2021-04-20T01:52:27.363321Z",
     "shell.execute_reply": "2021-04-20T01:52:27.362585Z"
    },
    "papermill": {
     "duration": 0.088281,
     "end_time": "2021-04-20T01:52:27.363495",
     "exception": false,
     "start_time": "2021-04-20T01:52:27.275214",
     "status": "completed"
    },
    "tags": []
   },
   "outputs": [
    {
     "data": {
      "text/plain": [
       "Store           0\n",
       "Dept            0\n",
       "Date            0\n",
       "Weekly_Sales    0\n",
       "IsHoliday       0\n",
       "dtype: int64"
      ]
     },
     "execution_count": 9,
     "metadata": {},
     "output_type": "execute_result"
    }
   ],
   "source": [
    "train_data.isnull().sum()"
   ]
  },
  {
   "cell_type": "code",
   "execution_count": 10,
   "id": "southeast-convert",
   "metadata": {
    "execution": {
     "iopub.execute_input": "2021-04-20T01:52:27.431328Z",
     "iopub.status.busy": "2021-04-20T01:52:27.430653Z",
     "iopub.status.idle": "2021-04-20T01:52:49.175802Z",
     "shell.execute_reply": "2021-04-20T01:52:49.176379Z"
    },
    "papermill": {
     "duration": 21.781897,
     "end_time": "2021-04-20T01:52:49.176573",
     "exception": false,
     "start_time": "2021-04-20T01:52:27.394676",
     "status": "completed"
    },
    "tags": []
   },
   "outputs": [
    {
     "data": {
      "text/plain": [
       "<AxesSubplot:ylabel='Weekly_Sales'>"
      ]
     },
     "execution_count": 10,
     "metadata": {},
     "output_type": "execute_result"
    },
    {
     "data": {
      "image/png": "[encoded data removed]",
      "text/plain": [
       "<Figure size 432x288 with 1 Axes>"
      ]
     },
     "metadata": {
      "needs_background": "light"
     },
     "output_type": "display_data"
    }
   ],
   "source": [
    "sns.lineplot(data=train_data,x=train_data.index, y=\"Weekly_Sales\")"
   ]
  },
  {
   "cell_type": "code",
   "execution_count": 11,
   "id": "hollywood-deviation",
   "metadata": {
    "execution": {
     "iopub.execute_input": "2021-04-20T01:52:49.245922Z",
     "iopub.status.busy": "2021-04-20T01:52:49.245154Z",
     "iopub.status.idle": "2021-04-20T01:52:58.267086Z",
     "shell.execute_reply": "2021-04-20T01:52:58.266409Z"
    },
    "papermill": {
     "duration": 9.057594,
     "end_time": "2021-04-20T01:52:58.267285",
     "exception": false,
     "start_time": "2021-04-20T01:52:49.209691",
     "status": "completed"
    },
    "tags": []
   },
   "outputs": [
    {
     "data": {
      "text/plain": [
       "<AxesSubplot:xlabel='Date', ylabel='Weekly_Sales'>"
      ]
     },
     "execution_count": 11,
     "metadata": {},
     "output_type": "execute_result"
    },
    {
     "data": {
      "image/png": "[encoded data removed]",
      "text/plain": [
       "<Figure size 1080x360 with 1 Axes>"
      ]
     },
     "metadata": {
      "needs_background": "light"
     },
     "output_type": "display_data"
    }
   ],
   "source": [
    "fig = plt.figure(figsize=(15,5))\n",
    "sns.lineplot(data=train_data,x=pd.to_datetime(train_data['Date']), y=\"Weekly_Sales\")"
   ]
  },
  {
   "cell_type": "markdown",
   "id": "technical-track",
   "metadata": {
    "papermill": {
     "duration": 0.035278,
     "end_time": "2021-04-20T01:52:58.338795",
     "exception": false,
     "start_time": "2021-04-20T01:52:58.303517",
     "status": "completed"
    },
    "tags": []
   },
   "source": [
    "Walmart saleprice increases dramatically starts from October and December. "
   ]
  },
  {
   "cell_type": "code",
   "execution_count": 12,
   "id": "noble-valuation",
   "metadata": {
    "execution": {
     "iopub.execute_input": "2021-04-20T01:52:58.418128Z",
     "iopub.status.busy": "2021-04-20T01:52:58.417427Z",
     "iopub.status.idle": "2021-04-20T01:52:58.645138Z",
     "shell.execute_reply": "2021-04-20T01:52:58.645638Z"
    },
    "papermill": {
     "duration": 0.271445,
     "end_time": "2021-04-20T01:52:58.645826",
     "exception": false,
     "start_time": "2021-04-20T01:52:58.374381",
     "status": "completed"
    },
    "tags": []
   },
   "outputs": [
    {
     "data": {
      "text/html": [
       "<div>\n",
       "<style scoped>\n",
       "    .dataframe tbody tr th:only-of-type {\n",
       "        vertical-align: middle;\n",
       "    }\n",
       "\n",
       "    .dataframe tbody tr th {\n",
       "        vertical-align: top;\n",
       "    }\n",
       "\n",
       "    .dataframe thead th {\n",
       "        text-align: right;\n",
       "    }\n",
       "</style>\n",
       "<table border=\"1\" class=\"dataframe\">\n",
       "  <thead>\n",
       "    <tr style=\"text-align: right;\">\n",
       "      <th></th>\n",
       "      <th>Store</th>\n",
       "      <th>Date</th>\n",
       "      <th>Temperature</th>\n",
       "      <th>Fuel_Price</th>\n",
       "      <th>CPI</th>\n",
       "      <th>Unemployment</th>\n",
       "      <th>IsHoliday</th>\n",
       "      <th>Dept</th>\n",
       "      <th>Weekly_Sales</th>\n",
       "      <th>Type</th>\n",
       "      <th>Size</th>\n",
       "    </tr>\n",
       "  </thead>\n",
       "  <tbody>\n",
       "    <tr>\n",
       "      <th>0</th>\n",
       "      <td>1</td>\n",
       "      <td>2010-02-05</td>\n",
       "      <td>42.31</td>\n",
       "      <td>2.572</td>\n",
       "      <td>211.096358</td>\n",
       "      <td>8.106</td>\n",
       "      <td>False</td>\n",
       "      <td>1</td>\n",
       "      <td>24924.50</td>\n",
       "      <td>A</td>\n",
       "      <td>151315</td>\n",
       "    </tr>\n",
       "    <tr>\n",
       "      <th>1</th>\n",
       "      <td>1</td>\n",
       "      <td>2010-02-05</td>\n",
       "      <td>42.31</td>\n",
       "      <td>2.572</td>\n",
       "      <td>211.096358</td>\n",
       "      <td>8.106</td>\n",
       "      <td>False</td>\n",
       "      <td>2</td>\n",
       "      <td>50605.27</td>\n",
       "      <td>A</td>\n",
       "      <td>151315</td>\n",
       "    </tr>\n",
       "    <tr>\n",
       "      <th>2</th>\n",
       "      <td>1</td>\n",
       "      <td>2010-02-05</td>\n",
       "      <td>42.31</td>\n",
       "      <td>2.572</td>\n",
       "      <td>211.096358</td>\n",
       "      <td>8.106</td>\n",
       "      <td>False</td>\n",
       "      <td>3</td>\n",
       "      <td>13740.12</td>\n",
       "      <td>A</td>\n",
       "      <td>151315</td>\n",
       "    </tr>\n",
       "    <tr>\n",
       "      <th>3</th>\n",
       "      <td>1</td>\n",
       "      <td>2010-02-05</td>\n",
       "      <td>42.31</td>\n",
       "      <td>2.572</td>\n",
       "      <td>211.096358</td>\n",
       "      <td>8.106</td>\n",
       "      <td>False</td>\n",
       "      <td>4</td>\n",
       "      <td>39954.04</td>\n",
       "      <td>A</td>\n",
       "      <td>151315</td>\n",
       "    </tr>\n",
       "    <tr>\n",
       "      <th>4</th>\n",
       "      <td>1</td>\n",
       "      <td>2010-02-05</td>\n",
       "      <td>42.31</td>\n",
       "      <td>2.572</td>\n",
       "      <td>211.096358</td>\n",
       "      <td>8.106</td>\n",
       "      <td>False</td>\n",
       "      <td>5</td>\n",
       "      <td>32229.38</td>\n",
       "      <td>A</td>\n",
       "      <td>151315</td>\n",
       "    </tr>\n",
       "  </tbody>\n",
       "</table>\n",
       "</div>"
      ],
      "text/plain": [
       "   Store        Date  Temperature  Fuel_Price         CPI  Unemployment  \\\n",
       "0      1  2010-02-05        42.31       2.572  211.096358         8.106   \n",
       "1      1  2010-02-05        42.31       2.572  211.096358         8.106   \n",
       "2      1  2010-02-05        42.31       2.572  211.096358         8.106   \n",
       "3      1  2010-02-05        42.31       2.572  211.096358         8.106   \n",
       "4      1  2010-02-05        42.31       2.572  211.096358         8.106   \n",
       "\n",
       "   IsHoliday  Dept  Weekly_Sales Type    Size  \n",
       "0      False     1      24924.50    A  151315  \n",
       "1      False     2      50605.27    A  151315  \n",
       "2      False     3      13740.12    A  151315  \n",
       "3      False     4      39954.04    A  151315  \n",
       "4      False     5      32229.38    A  151315  "
      ]
     },
     "execution_count": 12,
     "metadata": {},
     "output_type": "execute_result"
    }
   ],
   "source": [
    "feature_train_data=pd.merge(new_feature_data, train_data)\n",
    "merged_data = pd.merge(feature_train_data, store_data)\n",
    "merged_data.head()"
   ]
  },
  {
   "cell_type": "code",
   "execution_count": 13,
   "id": "bigger-piano",
   "metadata": {
    "execution": {
     "iopub.execute_input": "2021-04-20T01:52:58.764804Z",
     "iopub.status.busy": "2021-04-20T01:52:58.764041Z",
     "iopub.status.idle": "2021-04-20T01:52:59.309032Z",
     "shell.execute_reply": "2021-04-20T01:52:59.308484Z"
    },
    "papermill": {
     "duration": 0.62756,
     "end_time": "2021-04-20T01:52:59.309180",
     "exception": false,
     "start_time": "2021-04-20T01:52:58.681620",
     "status": "completed"
    },
    "tags": []
   },
   "outputs": [
    {
     "data": {
      "text/html": [
       "<div>\n",
       "<style scoped>\n",
       "    .dataframe tbody tr th:only-of-type {\n",
       "        vertical-align: middle;\n",
       "    }\n",
       "\n",
       "    .dataframe tbody tr th {\n",
       "        vertical-align: top;\n",
       "    }\n",
       "\n",
       "    .dataframe thead th {\n",
       "        text-align: right;\n",
       "    }\n",
       "</style>\n",
       "<table border=\"1\" class=\"dataframe\">\n",
       "  <thead>\n",
       "    <tr style=\"text-align: right;\">\n",
       "      <th></th>\n",
       "      <th>Store</th>\n",
       "      <th>Date</th>\n",
       "      <th>Temperature</th>\n",
       "      <th>Fuel_Price</th>\n",
       "      <th>CPI</th>\n",
       "      <th>Unemployment</th>\n",
       "      <th>IsHoliday</th>\n",
       "      <th>Dept</th>\n",
       "      <th>Weekly_Sales</th>\n",
       "      <th>Type</th>\n",
       "      <th>Size</th>\n",
       "      <th>Day</th>\n",
       "      <th>Week</th>\n",
       "      <th>Year</th>\n",
       "    </tr>\n",
       "  </thead>\n",
       "  <tbody>\n",
       "    <tr>\n",
       "      <th>0</th>\n",
       "      <td>1</td>\n",
       "      <td>2010-02-05</td>\n",
       "      <td>42.31</td>\n",
       "      <td>2.572</td>\n",
       "      <td>211.096358</td>\n",
       "      <td>8.106</td>\n",
       "      <td>False</td>\n",
       "      <td>1</td>\n",
       "      <td>24924.50</td>\n",
       "      <td>1</td>\n",
       "      <td>151315</td>\n",
       "      <td>5</td>\n",
       "      <td>5</td>\n",
       "      <td>2010</td>\n",
       "    </tr>\n",
       "    <tr>\n",
       "      <th>1</th>\n",
       "      <td>1</td>\n",
       "      <td>2010-02-05</td>\n",
       "      <td>42.31</td>\n",
       "      <td>2.572</td>\n",
       "      <td>211.096358</td>\n",
       "      <td>8.106</td>\n",
       "      <td>False</td>\n",
       "      <td>2</td>\n",
       "      <td>50605.27</td>\n",
       "      <td>1</td>\n",
       "      <td>151315</td>\n",
       "      <td>5</td>\n",
       "      <td>5</td>\n",
       "      <td>2010</td>\n",
       "    </tr>\n",
       "    <tr>\n",
       "      <th>2</th>\n",
       "      <td>1</td>\n",
       "      <td>2010-02-05</td>\n",
       "      <td>42.31</td>\n",
       "      <td>2.572</td>\n",
       "      <td>211.096358</td>\n",
       "      <td>8.106</td>\n",
       "      <td>False</td>\n",
       "      <td>3</td>\n",
       "      <td>13740.12</td>\n",
       "      <td>1</td>\n",
       "      <td>151315</td>\n",
       "      <td>5</td>\n",
       "      <td>5</td>\n",
       "      <td>2010</td>\n",
       "    </tr>\n",
       "    <tr>\n",
       "      <th>3</th>\n",
       "      <td>1</td>\n",
       "      <td>2010-02-05</td>\n",
       "      <td>42.31</td>\n",
       "      <td>2.572</td>\n",
       "      <td>211.096358</td>\n",
       "      <td>8.106</td>\n",
       "      <td>False</td>\n",
       "      <td>4</td>\n",
       "      <td>39954.04</td>\n",
       "      <td>1</td>\n",
       "      <td>151315</td>\n",
       "      <td>5</td>\n",
       "      <td>5</td>\n",
       "      <td>2010</td>\n",
       "    </tr>\n",
       "    <tr>\n",
       "      <th>4</th>\n",
       "      <td>1</td>\n",
       "      <td>2010-02-05</td>\n",
       "      <td>42.31</td>\n",
       "      <td>2.572</td>\n",
       "      <td>211.096358</td>\n",
       "      <td>8.106</td>\n",
       "      <td>False</td>\n",
       "      <td>5</td>\n",
       "      <td>32229.38</td>\n",
       "      <td>1</td>\n",
       "      <td>151315</td>\n",
       "      <td>5</td>\n",
       "      <td>5</td>\n",
       "      <td>2010</td>\n",
       "    </tr>\n",
       "  </tbody>\n",
       "</table>\n",
       "</div>"
      ],
      "text/plain": [
       "   Store       Date  Temperature  Fuel_Price         CPI  Unemployment  \\\n",
       "0      1 2010-02-05        42.31       2.572  211.096358         8.106   \n",
       "1      1 2010-02-05        42.31       2.572  211.096358         8.106   \n",
       "2      1 2010-02-05        42.31       2.572  211.096358         8.106   \n",
       "3      1 2010-02-05        42.31       2.572  211.096358         8.106   \n",
       "4      1 2010-02-05        42.31       2.572  211.096358         8.106   \n",
       "\n",
       "   IsHoliday  Dept  Weekly_Sales  Type    Size  Day  Week  Year  \n",
       "0      False     1      24924.50     1  151315    5     5  2010  \n",
       "1      False     2      50605.27     1  151315    5     5  2010  \n",
       "2      False     3      13740.12     1  151315    5     5  2010  \n",
       "3      False     4      39954.04     1  151315    5     5  2010  \n",
       "4      False     5      32229.38     1  151315    5     5  2010  "
      ]
     },
     "execution_count": 13,
     "metadata": {},
     "output_type": "execute_result"
    }
   ],
   "source": [
    "merged_data['Type'].replace({'A': 1, 'B': 2,'C':3},inplace=True)\n",
    "merged_data['Date']=pd.to_datetime(merged_data['Date'])\n",
    "merged_data['Day']= pd.to_datetime(merged_data['Date']).dt.day\n",
    "merged_data['Week']= pd.to_datetime(merged_data['Date']).dt.week\n",
    "merged_data['Year']= pd.to_datetime(merged_data['Date']).dt.year\n",
    "merged_data.head()"
   ]
  },
  {
   "cell_type": "code",
   "execution_count": 14,
   "id": "advanced-corner",
   "metadata": {
    "execution": {
     "iopub.execute_input": "2021-04-20T01:52:59.413260Z",
     "iopub.status.busy": "2021-04-20T01:52:59.412573Z",
     "iopub.status.idle": "2021-04-20T01:53:01.838950Z",
     "shell.execute_reply": "2021-04-20T01:53:01.839498Z"
    },
    "papermill": {
     "duration": 2.493965,
     "end_time": "2021-04-20T01:53:01.839674",
     "exception": false,
     "start_time": "2021-04-20T01:52:59.345709",
     "status": "completed"
    },
    "tags": []
   },
   "outputs": [
    {
     "data": {
      "image/png": "[encoded data removed]",
      "text/plain": [
       "<Figure size 432x288 with 1 Axes>"
      ]
     },
     "metadata": {
      "needs_background": "light"
     },
     "output_type": "display_data"
    }
   ],
   "source": [
    "sns.distplot(merged_data['Size'])\n",
    "sns.despine()"
   ]
  },
  {
   "cell_type": "code",
   "execution_count": 15,
   "id": "junior-spyware",
   "metadata": {
    "execution": {
     "iopub.execute_input": "2021-04-20T01:53:01.942206Z",
     "iopub.status.busy": "2021-04-20T01:53:01.941528Z",
     "iopub.status.idle": "2021-04-20T01:53:02.271781Z",
     "shell.execute_reply": "2021-04-20T01:53:02.271127Z"
    },
    "papermill": {
     "duration": 0.377581,
     "end_time": "2021-04-20T01:53:02.271923",
     "exception": false,
     "start_time": "2021-04-20T01:53:01.894342",
     "status": "completed"
    },
    "tags": []
   },
   "outputs": [
    {
     "data": {
      "image/png": "[encoded data removed]",
      "text/plain": [
       "<Figure size 432x288 with 1 Axes>"
      ]
     },
     "metadata": {
      "needs_background": "light"
     },
     "output_type": "display_data"
    }
   ],
   "source": [
    "merged_data.Temperature.plot.hist(density=True, alpha=0.85);\n",
    "plt.xlabel('Temperature');\n",
    "plt.title('Temperature Distribution for the whole dataset');\n",
    "plt.show()"
   ]
  },
  {
   "cell_type": "markdown",
   "id": "falling-nurse",
   "metadata": {
    "papermill": {
     "duration": 0.038085,
     "end_time": "2021-04-20T01:53:02.348423",
     "exception": false,
     "start_time": "2021-04-20T01:53:02.310338",
     "status": "completed"
    },
    "tags": []
   },
   "source": [
    "Hottest Store( Store with highest temperature)"
   ]
  },
  {
   "cell_type": "code",
   "execution_count": 16,
   "id": "surprising-irish",
   "metadata": {
    "execution": {
     "iopub.execute_input": "2021-04-20T01:53:02.431644Z",
     "iopub.status.busy": "2021-04-20T01:53:02.430582Z",
     "iopub.status.idle": "2021-04-20T01:53:02.472056Z",
     "shell.execute_reply": "2021-04-20T01:53:02.471387Z"
    },
    "papermill": {
     "duration": 0.085149,
     "end_time": "2021-04-20T01:53:02.472208",
     "exception": false,
     "start_time": "2021-04-20T01:53:02.387059",
     "status": "completed"
    },
    "tags": []
   },
   "outputs": [
    {
     "data": {
      "text/plain": [
       "array([33])"
      ]
     },
     "execution_count": 16,
     "metadata": {},
     "output_type": "execute_result"
    }
   ],
   "source": [
    "merged_data[merged_data['Temperature'] == merged_data['Temperature'].max()]['Store'].unique()"
   ]
  },
  {
   "cell_type": "markdown",
   "id": "casual-magnitude",
   "metadata": {
    "papermill": {
     "duration": 0.03911,
     "end_time": "2021-04-20T01:53:02.550328",
     "exception": false,
     "start_time": "2021-04-20T01:53:02.511218",
     "status": "completed"
    },
    "tags": []
   },
   "source": [
    "Coolest Store (Store with coolest temperature)"
   ]
  },
  {
   "cell_type": "code",
   "execution_count": 17,
   "id": "charming-recorder",
   "metadata": {
    "execution": {
     "iopub.execute_input": "2021-04-20T01:53:02.633279Z",
     "iopub.status.busy": "2021-04-20T01:53:02.632542Z",
     "iopub.status.idle": "2021-04-20T01:53:02.640632Z",
     "shell.execute_reply": "2021-04-20T01:53:02.639994Z"
    },
    "papermill": {
     "duration": 0.05156,
     "end_time": "2021-04-20T01:53:02.640773",
     "exception": false,
     "start_time": "2021-04-20T01:53:02.589213",
     "status": "completed"
    },
    "tags": []
   },
   "outputs": [
    {
     "data": {
      "text/plain": [
       "array([7])"
      ]
     },
     "execution_count": 17,
     "metadata": {},
     "output_type": "execute_result"
    }
   ],
   "source": [
    "merged_data[merged_data['Temperature'] == merged_data['Temperature'].min()]['Store'].unique()"
   ]
  },
  {
   "cell_type": "code",
   "execution_count": 18,
   "id": "inappropriate-month",
   "metadata": {
    "execution": {
     "iopub.execute_input": "2021-04-20T01:53:02.723198Z",
     "iopub.status.busy": "2021-04-20T01:53:02.722499Z",
     "iopub.status.idle": "2021-04-20T01:53:02.932499Z",
     "shell.execute_reply": "2021-04-20T01:53:02.933208Z"
    },
    "papermill": {
     "duration": 0.253075,
     "end_time": "2021-04-20T01:53:02.933425",
     "exception": false,
     "start_time": "2021-04-20T01:53:02.680350",
     "status": "completed"
    },
    "tags": []
   },
   "outputs": [
    {
     "data": {
      "text/plain": [
       "Text(0.5, 1.0, 'Coolest Store vs. Hootest Store')"
      ]
     },
     "execution_count": 18,
     "metadata": {},
     "output_type": "execute_result"
    },
    {
     "data": {
      "image/png": "[encoded data removed]",
      "text/plain": [
       "<Figure size 432x288 with 1 Axes>"
      ]
     },
     "metadata": {
      "needs_background": "light"
     },
     "output_type": "display_data"
    }
   ],
   "source": [
    "merged_data.loc[merged_data.Store==7, 'Temperature'].plot.hist(label='Store 7', density=True, alpha=.6)\n",
    "merged_data.loc[merged_data.Store==33, 'Temperature'].plot.hist(label='Store 33', density=True, alpha=.6)\n",
    "plt.xlabel('Temperature')\n",
    "plt.title(\"Coolest Store vs. Hootest Store\")"
   ]
  },
  {
   "cell_type": "markdown",
   "id": "raising-brand",
   "metadata": {
    "papermill": {
     "duration": 0.041985,
     "end_time": "2021-04-20T01:53:03.016684",
     "exception": false,
     "start_time": "2021-04-20T01:53:02.974699",
     "status": "completed"
    },
    "tags": []
   },
   "source": [
    "Customer comes to store more often when the temperature is high"
   ]
  },
  {
   "cell_type": "code",
   "execution_count": 19,
   "id": "coated-vault",
   "metadata": {
    "execution": {
     "iopub.execute_input": "2021-04-20T01:53:03.103538Z",
     "iopub.status.busy": "2021-04-20T01:53:03.102766Z",
     "iopub.status.idle": "2021-04-20T01:53:03.326545Z",
     "shell.execute_reply": "2021-04-20T01:53:03.327064Z"
    },
    "papermill": {
     "duration": 0.269122,
     "end_time": "2021-04-20T01:53:03.327255",
     "exception": false,
     "start_time": "2021-04-20T01:53:03.058133",
     "status": "completed"
    },
    "tags": []
   },
   "outputs": [
    {
     "data": {
      "text/plain": [
       "Text(0.5, 1.0, 'Fuel Price')"
      ]
     },
     "execution_count": 19,
     "metadata": {},
     "output_type": "execute_result"
    },
    {
     "data": {
      "image/png": "[encoded data removed]",
      "text/plain": [
       "<Figure size 432x288 with 1 Axes>"
      ]
     },
     "metadata": {
      "needs_background": "light"
     },
     "output_type": "display_data"
    }
   ],
   "source": [
    "merged_data['Fuel_Price'].plot.hist()\n",
    "plt.xlabel('Fuel Price')\n",
    "plt.title('Fuel Price')"
   ]
  },
  {
   "cell_type": "code",
   "execution_count": 20,
   "id": "charitable-brooks",
   "metadata": {
    "execution": {
     "iopub.execute_input": "2021-04-20T01:53:03.415766Z",
     "iopub.status.busy": "2021-04-20T01:53:03.415056Z",
     "iopub.status.idle": "2021-04-20T01:53:12.187245Z",
     "shell.execute_reply": "2021-04-20T01:53:12.186613Z"
    },
    "papermill": {
     "duration": 8.81745,
     "end_time": "2021-04-20T01:53:12.187382",
     "exception": false,
     "start_time": "2021-04-20T01:53:03.369932",
     "status": "completed"
    },
    "tags": []
   },
   "outputs": [
    {
     "data": {
      "text/plain": [
       "<AxesSubplot:xlabel='Date', ylabel='Fuel_Price'>"
      ]
     },
     "execution_count": 20,
     "metadata": {},
     "output_type": "execute_result"
    },
    {
     "data": {
      "image/png": "[encoded data removed]",
      "text/plain": [
       "<Figure size 1080x360 with 1 Axes>"
      ]
     },
     "metadata": {
      "needs_background": "light"
     },
     "output_type": "display_data"
    }
   ],
   "source": [
    "fig = plt.figure(figsize=(15,5))\n",
    "sns.lineplot(data=merged_data,x='Date', y=\"Fuel_Price\")"
   ]
  },
  {
   "cell_type": "markdown",
   "id": "statutory-canvas",
   "metadata": {
    "papermill": {
     "duration": 0.043265,
     "end_time": "2021-04-20T01:53:12.274495",
     "exception": false,
     "start_time": "2021-04-20T01:53:12.231230",
     "status": "completed"
    },
    "tags": []
   },
   "source": [
    "Fuel Price keeps increasing over the year"
   ]
  },
  {
   "cell_type": "code",
   "execution_count": 21,
   "id": "twenty-consultancy",
   "metadata": {
    "execution": {
     "iopub.execute_input": "2021-04-20T01:53:12.364871Z",
     "iopub.status.busy": "2021-04-20T01:53:12.364186Z",
     "iopub.status.idle": "2021-04-20T01:53:20.965595Z",
     "shell.execute_reply": "2021-04-20T01:53:20.964909Z"
    },
    "papermill": {
     "duration": 8.64767,
     "end_time": "2021-04-20T01:53:20.965759",
     "exception": false,
     "start_time": "2021-04-20T01:53:12.318089",
     "status": "completed"
    },
    "tags": []
   },
   "outputs": [
    {
     "data": {
      "text/plain": [
       "<AxesSubplot:xlabel='Date', ylabel='Unemployment'>"
      ]
     },
     "execution_count": 21,
     "metadata": {},
     "output_type": "execute_result"
    },
    {
     "data": {
      "image/png": "[encoded data removed]",
      "text/plain": [
       "<Figure size 1080x360 with 1 Axes>"
      ]
     },
     "metadata": {
      "needs_background": "light"
     },
     "output_type": "display_data"
    }
   ],
   "source": [
    "fig = plt.figure(figsize=(15,5))\n",
    "sns.lineplot(data=merged_data,x='Date', y=\"Unemployment\")"
   ]
  },
  {
   "cell_type": "markdown",
   "id": "radio-enough",
   "metadata": {
    "papermill": {
     "duration": 0.04544,
     "end_time": "2021-04-20T01:53:21.059428",
     "exception": false,
     "start_time": "2021-04-20T01:53:21.013988",
     "status": "completed"
    },
    "tags": []
   },
   "source": [
    "Unemployment rate decrease over the year"
   ]
  },
  {
   "cell_type": "markdown",
   "id": "major-suffering",
   "metadata": {
    "papermill": {
     "duration": 0.045807,
     "end_time": "2021-04-20T01:53:21.151099",
     "exception": false,
     "start_time": "2021-04-20T01:53:21.105292",
     "status": "completed"
    },
    "tags": []
   },
   "source": [
    "Merge store data and train data"
   ]
  },
  {
   "cell_type": "code",
   "execution_count": 22,
   "id": "everyday-poker",
   "metadata": {
    "execution": {
     "iopub.execute_input": "2021-04-20T01:53:21.251265Z",
     "iopub.status.busy": "2021-04-20T01:53:21.250523Z",
     "iopub.status.idle": "2021-04-20T01:53:21.318496Z",
     "shell.execute_reply": "2021-04-20T01:53:21.317805Z"
    },
    "papermill": {
     "duration": 0.12114,
     "end_time": "2021-04-20T01:53:21.318649",
     "exception": false,
     "start_time": "2021-04-20T01:53:21.197509",
     "status": "completed"
    },
    "tags": []
   },
   "outputs": [
    {
     "data": {
      "text/html": [
       "<div>\n",
       "<style scoped>\n",
       "    .dataframe tbody tr th:only-of-type {\n",
       "        vertical-align: middle;\n",
       "    }\n",
       "\n",
       "    .dataframe tbody tr th {\n",
       "        vertical-align: top;\n",
       "    }\n",
       "\n",
       "    .dataframe thead th {\n",
       "        text-align: right;\n",
       "    }\n",
       "</style>\n",
       "<table border=\"1\" class=\"dataframe\">\n",
       "  <thead>\n",
       "    <tr style=\"text-align: right;\">\n",
       "      <th></th>\n",
       "      <th>Store</th>\n",
       "      <th>Dept</th>\n",
       "      <th>Date</th>\n",
       "      <th>Weekly_Sales</th>\n",
       "      <th>IsHoliday</th>\n",
       "      <th>Type</th>\n",
       "      <th>Size</th>\n",
       "    </tr>\n",
       "  </thead>\n",
       "  <tbody>\n",
       "    <tr>\n",
       "      <th>0</th>\n",
       "      <td>1</td>\n",
       "      <td>1</td>\n",
       "      <td>2010-02-05</td>\n",
       "      <td>24924.50</td>\n",
       "      <td>False</td>\n",
       "      <td>A</td>\n",
       "      <td>151315</td>\n",
       "    </tr>\n",
       "    <tr>\n",
       "      <th>1</th>\n",
       "      <td>1</td>\n",
       "      <td>1</td>\n",
       "      <td>2010-02-12</td>\n",
       "      <td>46039.49</td>\n",
       "      <td>True</td>\n",
       "      <td>A</td>\n",
       "      <td>151315</td>\n",
       "    </tr>\n",
       "    <tr>\n",
       "      <th>2</th>\n",
       "      <td>1</td>\n",
       "      <td>1</td>\n",
       "      <td>2010-02-19</td>\n",
       "      <td>41595.55</td>\n",
       "      <td>False</td>\n",
       "      <td>A</td>\n",
       "      <td>151315</td>\n",
       "    </tr>\n",
       "    <tr>\n",
       "      <th>3</th>\n",
       "      <td>1</td>\n",
       "      <td>1</td>\n",
       "      <td>2010-02-26</td>\n",
       "      <td>19403.54</td>\n",
       "      <td>False</td>\n",
       "      <td>A</td>\n",
       "      <td>151315</td>\n",
       "    </tr>\n",
       "    <tr>\n",
       "      <th>4</th>\n",
       "      <td>1</td>\n",
       "      <td>1</td>\n",
       "      <td>2010-03-05</td>\n",
       "      <td>21827.90</td>\n",
       "      <td>False</td>\n",
       "      <td>A</td>\n",
       "      <td>151315</td>\n",
       "    </tr>\n",
       "  </tbody>\n",
       "</table>\n",
       "</div>"
      ],
      "text/plain": [
       "   Store  Dept        Date  Weekly_Sales  IsHoliday Type    Size\n",
       "0      1     1  2010-02-05      24924.50      False    A  151315\n",
       "1      1     1  2010-02-12      46039.49       True    A  151315\n",
       "2      1     1  2010-02-19      41595.55      False    A  151315\n",
       "3      1     1  2010-02-26      19403.54      False    A  151315\n",
       "4      1     1  2010-03-05      21827.90      False    A  151315"
      ]
     },
     "execution_count": 22,
     "metadata": {},
     "output_type": "execute_result"
    }
   ],
   "source": [
    "store_train_data=pd.merge(train_data, store_data)\n",
    "store_train_data.head()"
   ]
  },
  {
   "cell_type": "code",
   "execution_count": 23,
   "id": "random-satellite",
   "metadata": {
    "execution": {
     "iopub.execute_input": "2021-04-20T01:53:21.448271Z",
     "iopub.status.busy": "2021-04-20T01:53:21.447482Z",
     "iopub.status.idle": "2021-04-20T01:53:39.706396Z",
     "shell.execute_reply": "2021-04-20T01:53:39.706945Z"
    },
    "papermill": {
     "duration": 18.341509,
     "end_time": "2021-04-20T01:53:39.707144",
     "exception": false,
     "start_time": "2021-04-20T01:53:21.365635",
     "status": "completed"
    },
    "tags": []
   },
   "outputs": [
    {
     "data": {
      "text/plain": [
       "<AxesSubplot:xlabel='Date', ylabel='Weekly_Sales'>"
      ]
     },
     "execution_count": 23,
     "metadata": {},
     "output_type": "execute_result"
    },
    {
     "data": {
      "image/png": "[encoded data removed]",
      "text/plain": [
       "<Figure size 1080x360 with 1 Axes>"
      ]
     },
     "metadata": {
      "needs_background": "light"
     },
     "output_type": "display_data"
    }
   ],
   "source": [
    "fig = plt.figure(figsize=(15,5))\n",
    "sns.lineplot(data=store_train_data,x=pd.to_datetime(store_train_data['Date']), y=\"Weekly_Sales\", hue='Type')"
   ]
  },
  {
   "cell_type": "code",
   "execution_count": 24,
   "id": "vanilla-newton",
   "metadata": {
    "execution": {
     "iopub.execute_input": "2021-04-20T01:53:39.858175Z",
     "iopub.status.busy": "2021-04-20T01:53:39.855084Z",
     "iopub.status.idle": "2021-04-20T01:53:40.412442Z",
     "shell.execute_reply": "2021-04-20T01:53:40.411292Z"
    },
    "papermill": {
     "duration": 0.654699,
     "end_time": "2021-04-20T01:53:40.412634",
     "exception": false,
     "start_time": "2021-04-20T01:53:39.757935",
     "status": "completed"
    },
    "tags": []
   },
   "outputs": [
    {
     "data": {
      "text/html": [
       "<div>\n",
       "<style scoped>\n",
       "    .dataframe tbody tr th:only-of-type {\n",
       "        vertical-align: middle;\n",
       "    }\n",
       "\n",
       "    .dataframe tbody tr th {\n",
       "        vertical-align: top;\n",
       "    }\n",
       "\n",
       "    .dataframe thead th {\n",
       "        text-align: right;\n",
       "    }\n",
       "</style>\n",
       "<table border=\"1\" class=\"dataframe\">\n",
       "  <thead>\n",
       "    <tr style=\"text-align: right;\">\n",
       "      <th></th>\n",
       "      <th>Store</th>\n",
       "      <th>Dept</th>\n",
       "      <th>Date</th>\n",
       "      <th>Weekly_Sales</th>\n",
       "      <th>IsHoliday</th>\n",
       "      <th>Type</th>\n",
       "      <th>Size</th>\n",
       "      <th>Day</th>\n",
       "      <th>Week</th>\n",
       "      <th>Year</th>\n",
       "    </tr>\n",
       "  </thead>\n",
       "  <tbody>\n",
       "    <tr>\n",
       "      <th>0</th>\n",
       "      <td>1</td>\n",
       "      <td>1</td>\n",
       "      <td>2010-02-05</td>\n",
       "      <td>24924.50</td>\n",
       "      <td>False</td>\n",
       "      <td>1</td>\n",
       "      <td>151315</td>\n",
       "      <td>5</td>\n",
       "      <td>5</td>\n",
       "      <td>2010</td>\n",
       "    </tr>\n",
       "    <tr>\n",
       "      <th>1</th>\n",
       "      <td>1</td>\n",
       "      <td>1</td>\n",
       "      <td>2010-02-12</td>\n",
       "      <td>46039.49</td>\n",
       "      <td>True</td>\n",
       "      <td>1</td>\n",
       "      <td>151315</td>\n",
       "      <td>12</td>\n",
       "      <td>6</td>\n",
       "      <td>2010</td>\n",
       "    </tr>\n",
       "    <tr>\n",
       "      <th>2</th>\n",
       "      <td>1</td>\n",
       "      <td>1</td>\n",
       "      <td>2010-02-19</td>\n",
       "      <td>41595.55</td>\n",
       "      <td>False</td>\n",
       "      <td>1</td>\n",
       "      <td>151315</td>\n",
       "      <td>19</td>\n",
       "      <td>7</td>\n",
       "      <td>2010</td>\n",
       "    </tr>\n",
       "    <tr>\n",
       "      <th>3</th>\n",
       "      <td>1</td>\n",
       "      <td>1</td>\n",
       "      <td>2010-02-26</td>\n",
       "      <td>19403.54</td>\n",
       "      <td>False</td>\n",
       "      <td>1</td>\n",
       "      <td>151315</td>\n",
       "      <td>26</td>\n",
       "      <td>8</td>\n",
       "      <td>2010</td>\n",
       "    </tr>\n",
       "    <tr>\n",
       "      <th>4</th>\n",
       "      <td>1</td>\n",
       "      <td>1</td>\n",
       "      <td>2010-03-05</td>\n",
       "      <td>21827.90</td>\n",
       "      <td>False</td>\n",
       "      <td>1</td>\n",
       "      <td>151315</td>\n",
       "      <td>5</td>\n",
       "      <td>9</td>\n",
       "      <td>2010</td>\n",
       "    </tr>\n",
       "  </tbody>\n",
       "</table>\n",
       "</div>"
      ],
      "text/plain": [
       "   Store  Dept       Date  Weekly_Sales  IsHoliday  Type    Size  Day  Week  \\\n",
       "0      1     1 2010-02-05      24924.50      False     1  151315    5     5   \n",
       "1      1     1 2010-02-12      46039.49       True     1  151315   12     6   \n",
       "2      1     1 2010-02-19      41595.55      False     1  151315   19     7   \n",
       "3      1     1 2010-02-26      19403.54      False     1  151315   26     8   \n",
       "4      1     1 2010-03-05      21827.90      False     1  151315    5     9   \n",
       "\n",
       "   Year  \n",
       "0  2010  \n",
       "1  2010  \n",
       "2  2010  \n",
       "3  2010  \n",
       "4  2010  "
      ]
     },
     "execution_count": 24,
     "metadata": {},
     "output_type": "execute_result"
    }
   ],
   "source": [
    "store_train_data['Type'].replace({'A': 1, 'B': 2,'C':3},inplace=True)\n",
    "store_train_data['Date']=pd.to_datetime(store_train_data['Date'])\n",
    "store_train_data['Day']= pd.to_datetime(store_train_data['Date']).dt.day\n",
    "store_train_data['Week']= pd.to_datetime(store_train_data['Date']).dt.week\n",
    "store_train_data['Year']= pd.to_datetime(store_train_data['Date']).dt.year\n",
    "store_train_data.head()"
   ]
  },
  {
   "cell_type": "code",
   "execution_count": 25,
   "id": "dental-trunk",
   "metadata": {
    "execution": {
     "iopub.execute_input": "2021-04-20T01:53:40.525192Z",
     "iopub.status.busy": "2021-04-20T01:53:40.524521Z",
     "iopub.status.idle": "2021-04-20T01:53:40.639349Z",
     "shell.execute_reply": "2021-04-20T01:53:40.638756Z"
    },
    "papermill": {
     "duration": 0.172724,
     "end_time": "2021-04-20T01:53:40.639521",
     "exception": false,
     "start_time": "2021-04-20T01:53:40.466797",
     "status": "completed"
    },
    "tags": []
   },
   "outputs": [],
   "source": [
    "weekly_sales_2010= store_train_data[store_train_data['Year']==2010]['Weekly_Sales'].groupby(store_train_data['Week']).mean()\n",
    "weekly_sales_2011= store_train_data[store_train_data['Year']==2011]['Weekly_Sales'].groupby(store_train_data['Week']).mean()\n",
    "weekly_sales_2012= store_train_data[store_train_data['Year']==2012]['Weekly_Sales'].groupby(store_train_data['Week']).mean()"
   ]
  },
  {
   "cell_type": "code",
   "execution_count": 26,
   "id": "statistical-creek",
   "metadata": {
    "execution": {
     "iopub.execute_input": "2021-04-20T01:53:40.788348Z",
     "iopub.status.busy": "2021-04-20T01:53:40.784554Z",
     "iopub.status.idle": "2021-04-20T01:53:41.013865Z",
     "shell.execute_reply": "2021-04-20T01:53:41.014366Z"
    },
    "papermill": {
     "duration": 0.324202,
     "end_time": "2021-04-20T01:53:41.014553",
     "exception": false,
     "start_time": "2021-04-20T01:53:40.690351",
     "status": "completed"
    },
    "tags": []
   },
   "outputs": [
    {
     "data": {
      "image/png": "[encoded data removed]",
      "text/plain": [
       "<Figure size 1080x360 with 1 Axes>"
      ]
     },
     "metadata": {
      "needs_background": "light"
     },
     "output_type": "display_data"
    }
   ],
   "source": [
    "fig = plt.figure(figsize=(15,5))\n",
    "sns.lineplot(weekly_sales_2010.index, weekly_sales_2010.values)\n",
    "sns.lineplot(weekly_sales_2011.index, weekly_sales_2011.values)\n",
    "sns.lineplot(weekly_sales_2012.index, weekly_sales_2012.values)\n",
    "plt.legend(['2010', '2011', '2012'], loc='best', fontsize=16)\n",
    "plt.title('Average Weekly Sales - Per Year', fontsize=18)\n",
    "plt.ylabel('Sales', fontsize=16)\n",
    "plt.xlabel('Week', fontsize=16)\n",
    "plt.show()"
   ]
  },
  {
   "cell_type": "markdown",
   "id": "modified-highland",
   "metadata": {
    "papermill": {
     "duration": 0.053214,
     "end_time": "2021-04-20T01:53:41.120697",
     "exception": false,
     "start_time": "2021-04-20T01:53:41.067483",
     "status": "completed"
    },
    "tags": []
   },
   "source": [
    "Merge store data and test data"
   ]
  },
  {
   "cell_type": "code",
   "execution_count": 27,
   "id": "religious-scope",
   "metadata": {
    "execution": {
     "iopub.execute_input": "2021-04-20T01:53:41.234666Z",
     "iopub.status.busy": "2021-04-20T01:53:41.233978Z",
     "iopub.status.idle": "2021-04-20T01:53:41.256023Z",
     "shell.execute_reply": "2021-04-20T01:53:41.256614Z"
    },
    "papermill": {
     "duration": 0.083301,
     "end_time": "2021-04-20T01:53:41.256820",
     "exception": false,
     "start_time": "2021-04-20T01:53:41.173519",
     "status": "completed"
    },
    "tags": []
   },
   "outputs": [
    {
     "data": {
      "text/html": [
       "<div>\n",
       "<style scoped>\n",
       "    .dataframe tbody tr th:only-of-type {\n",
       "        vertical-align: middle;\n",
       "    }\n",
       "\n",
       "    .dataframe tbody tr th {\n",
       "        vertical-align: top;\n",
       "    }\n",
       "\n",
       "    .dataframe thead th {\n",
       "        text-align: right;\n",
       "    }\n",
       "</style>\n",
       "<table border=\"1\" class=\"dataframe\">\n",
       "  <thead>\n",
       "    <tr style=\"text-align: right;\">\n",
       "      <th></th>\n",
       "      <th>Store</th>\n",
       "      <th>Dept</th>\n",
       "      <th>Date</th>\n",
       "      <th>IsHoliday</th>\n",
       "      <th>Type</th>\n",
       "      <th>Size</th>\n",
       "    </tr>\n",
       "  </thead>\n",
       "  <tbody>\n",
       "    <tr>\n",
       "      <th>0</th>\n",
       "      <td>1</td>\n",
       "      <td>1</td>\n",
       "      <td>2012-11-02</td>\n",
       "      <td>False</td>\n",
       "      <td>A</td>\n",
       "      <td>151315</td>\n",
       "    </tr>\n",
       "    <tr>\n",
       "      <th>1</th>\n",
       "      <td>1</td>\n",
       "      <td>1</td>\n",
       "      <td>2012-11-09</td>\n",
       "      <td>False</td>\n",
       "      <td>A</td>\n",
       "      <td>151315</td>\n",
       "    </tr>\n",
       "    <tr>\n",
       "      <th>2</th>\n",
       "      <td>1</td>\n",
       "      <td>1</td>\n",
       "      <td>2012-11-16</td>\n",
       "      <td>False</td>\n",
       "      <td>A</td>\n",
       "      <td>151315</td>\n",
       "    </tr>\n",
       "    <tr>\n",
       "      <th>3</th>\n",
       "      <td>1</td>\n",
       "      <td>1</td>\n",
       "      <td>2012-11-23</td>\n",
       "      <td>True</td>\n",
       "      <td>A</td>\n",
       "      <td>151315</td>\n",
       "    </tr>\n",
       "    <tr>\n",
       "      <th>4</th>\n",
       "      <td>1</td>\n",
       "      <td>1</td>\n",
       "      <td>2012-11-30</td>\n",
       "      <td>False</td>\n",
       "      <td>A</td>\n",
       "      <td>151315</td>\n",
       "    </tr>\n",
       "  </tbody>\n",
       "</table>\n",
       "</div>"
      ],
      "text/plain": [
       "   Store  Dept        Date  IsHoliday Type    Size\n",
       "0      1     1  2012-11-02      False    A  151315\n",
       "1      1     1  2012-11-09      False    A  151315\n",
       "2      1     1  2012-11-16      False    A  151315\n",
       "3      1     1  2012-11-23       True    A  151315\n",
       "4      1     1  2012-11-30      False    A  151315"
      ]
     },
     "execution_count": 27,
     "metadata": {},
     "output_type": "execute_result"
    }
   ],
   "source": [
    "store_test_data=pd.merge(test_data, store_data)\n",
    "store_test_data.head()"
   ]
  },
  {
   "cell_type": "code",
   "execution_count": 28,
   "id": "broadband-repair",
   "metadata": {
    "execution": {
     "iopub.execute_input": "2021-04-20T01:53:41.367147Z",
     "iopub.status.busy": "2021-04-20T01:53:41.366506Z",
     "iopub.status.idle": "2021-04-20T01:53:41.573781Z",
     "shell.execute_reply": "2021-04-20T01:53:41.573219Z"
    },
    "papermill": {
     "duration": 0.263743,
     "end_time": "2021-04-20T01:53:41.573942",
     "exception": false,
     "start_time": "2021-04-20T01:53:41.310199",
     "status": "completed"
    },
    "tags": []
   },
   "outputs": [
    {
     "data": {
      "text/html": [
       "<div>\n",
       "<style scoped>\n",
       "    .dataframe tbody tr th:only-of-type {\n",
       "        vertical-align: middle;\n",
       "    }\n",
       "\n",
       "    .dataframe tbody tr th {\n",
       "        vertical-align: top;\n",
       "    }\n",
       "\n",
       "    .dataframe thead th {\n",
       "        text-align: right;\n",
       "    }\n",
       "</style>\n",
       "<table border=\"1\" class=\"dataframe\">\n",
       "  <thead>\n",
       "    <tr style=\"text-align: right;\">\n",
       "      <th></th>\n",
       "      <th>Store</th>\n",
       "      <th>Dept</th>\n",
       "      <th>Date</th>\n",
       "      <th>IsHoliday</th>\n",
       "      <th>Type</th>\n",
       "      <th>Size</th>\n",
       "      <th>Day</th>\n",
       "      <th>Week</th>\n",
       "      <th>Year</th>\n",
       "    </tr>\n",
       "  </thead>\n",
       "  <tbody>\n",
       "    <tr>\n",
       "      <th>0</th>\n",
       "      <td>1</td>\n",
       "      <td>1</td>\n",
       "      <td>2012-11-02</td>\n",
       "      <td>False</td>\n",
       "      <td>1</td>\n",
       "      <td>151315</td>\n",
       "      <td>2</td>\n",
       "      <td>44</td>\n",
       "      <td>2012</td>\n",
       "    </tr>\n",
       "    <tr>\n",
       "      <th>1</th>\n",
       "      <td>1</td>\n",
       "      <td>1</td>\n",
       "      <td>2012-11-09</td>\n",
       "      <td>False</td>\n",
       "      <td>1</td>\n",
       "      <td>151315</td>\n",
       "      <td>9</td>\n",
       "      <td>45</td>\n",
       "      <td>2012</td>\n",
       "    </tr>\n",
       "    <tr>\n",
       "      <th>2</th>\n",
       "      <td>1</td>\n",
       "      <td>1</td>\n",
       "      <td>2012-11-16</td>\n",
       "      <td>False</td>\n",
       "      <td>1</td>\n",
       "      <td>151315</td>\n",
       "      <td>16</td>\n",
       "      <td>46</td>\n",
       "      <td>2012</td>\n",
       "    </tr>\n",
       "    <tr>\n",
       "      <th>3</th>\n",
       "      <td>1</td>\n",
       "      <td>1</td>\n",
       "      <td>2012-11-23</td>\n",
       "      <td>True</td>\n",
       "      <td>1</td>\n",
       "      <td>151315</td>\n",
       "      <td>23</td>\n",
       "      <td>47</td>\n",
       "      <td>2012</td>\n",
       "    </tr>\n",
       "    <tr>\n",
       "      <th>4</th>\n",
       "      <td>1</td>\n",
       "      <td>1</td>\n",
       "      <td>2012-11-30</td>\n",
       "      <td>False</td>\n",
       "      <td>1</td>\n",
       "      <td>151315</td>\n",
       "      <td>30</td>\n",
       "      <td>48</td>\n",
       "      <td>2012</td>\n",
       "    </tr>\n",
       "  </tbody>\n",
       "</table>\n",
       "</div>"
      ],
      "text/plain": [
       "   Store  Dept       Date  IsHoliday  Type    Size  Day  Week  Year\n",
       "0      1     1 2012-11-02      False     1  151315    2    44  2012\n",
       "1      1     1 2012-11-09      False     1  151315    9    45  2012\n",
       "2      1     1 2012-11-16      False     1  151315   16    46  2012\n",
       "3      1     1 2012-11-23       True     1  151315   23    47  2012\n",
       "4      1     1 2012-11-30      False     1  151315   30    48  2012"
      ]
     },
     "execution_count": 28,
     "metadata": {},
     "output_type": "execute_result"
    }
   ],
   "source": [
    "store_test_data['Type'].replace({'A': 1, 'B': 2,'C':3},inplace=True)\n",
    "store_test_data['Date']=pd.to_datetime(store_test_data['Date'])\n",
    "store_test_data['Day']= pd.to_datetime(store_test_data['Date']).dt.day\n",
    "store_test_data['Week']= pd.to_datetime(store_test_data['Date']).dt.week\n",
    "store_test_data['Year']= pd.to_datetime(store_test_data['Date']).dt.year\n",
    "store_test_data.head()"
   ]
  },
  {
   "cell_type": "code",
   "execution_count": 29,
   "id": "focal-philosophy",
   "metadata": {
    "execution": {
     "iopub.execute_input": "2021-04-20T01:53:41.700479Z",
     "iopub.status.busy": "2021-04-20T01:53:41.699767Z",
     "iopub.status.idle": "2021-04-20T01:53:41.722565Z",
     "shell.execute_reply": "2021-04-20T01:53:41.723077Z"
    },
    "papermill": {
     "duration": 0.094835,
     "end_time": "2021-04-20T01:53:41.723277",
     "exception": false,
     "start_time": "2021-04-20T01:53:41.628442",
     "status": "completed"
    },
    "tags": []
   },
   "outputs": [],
   "source": [
    "X=store_train_data.loc[:, store_train_data.columns!='Weekly_Sales'].drop('Date', axis=1)\n",
    "Y=store_train_data.loc[:, store_train_data.columns=='Weekly_Sales']"
   ]
  },
  {
   "cell_type": "code",
   "execution_count": 30,
   "id": "minimal-bibliography",
   "metadata": {
    "execution": {
     "iopub.execute_input": "2021-04-20T01:53:41.836472Z",
     "iopub.status.busy": "2021-04-20T01:53:41.835793Z",
     "iopub.status.idle": "2021-04-20T01:53:42.474321Z",
     "shell.execute_reply": "2021-04-20T01:53:42.473639Z"
    },
    "papermill": {
     "duration": 0.696164,
     "end_time": "2021-04-20T01:53:42.474486",
     "exception": false,
     "start_time": "2021-04-20T01:53:41.778322",
     "status": "completed"
    },
    "tags": []
   },
   "outputs": [],
   "source": [
    "from sklearn.ensemble import RandomForestRegressor"
   ]
  },
  {
   "cell_type": "code",
   "execution_count": 31,
   "id": "protective-cinema",
   "metadata": {
    "execution": {
     "iopub.execute_input": "2021-04-20T01:53:42.623821Z",
     "iopub.status.busy": "2021-04-20T01:53:42.622692Z",
     "iopub.status.idle": "2021-04-20T01:55:57.945848Z",
     "shell.execute_reply": "2021-04-20T01:55:57.946613Z"
    },
    "papermill": {
     "duration": 135.412178,
     "end_time": "2021-04-20T01:55:57.946842",
     "exception": false,
     "start_time": "2021-04-20T01:53:42.534664",
     "status": "completed"
    },
    "tags": []
   },
   "outputs": [
    {
     "data": {
      "text/plain": [
       "RandomForestRegressor()"
      ]
     },
     "execution_count": 31,
     "metadata": {},
     "output_type": "execute_result"
    }
   ],
   "source": [
    "model = RandomForestRegressor()\n",
    "model.fit(X, Y)"
   ]
  },
  {
   "cell_type": "code",
   "execution_count": 32,
   "id": "german-pearl",
   "metadata": {
    "execution": {
     "iopub.execute_input": "2021-04-20T01:55:58.065158Z",
     "iopub.status.busy": "2021-04-20T01:55:58.064417Z",
     "iopub.status.idle": "2021-04-20T01:56:00.631806Z",
     "shell.execute_reply": "2021-04-20T01:56:00.631054Z"
    },
    "papermill": {
     "duration": 2.62845,
     "end_time": "2021-04-20T01:56:00.631964",
     "exception": false,
     "start_time": "2021-04-20T01:55:58.003514",
     "status": "completed"
    },
    "tags": []
   },
   "outputs": [],
   "source": [
    "store_test_data['Weekly_Sales'] = model.predict(store_test_data.drop('Date',axis=1))"
   ]
  },
  {
   "cell_type": "code",
   "execution_count": 33,
   "id": "modified-process",
   "metadata": {
    "execution": {
     "iopub.execute_input": "2021-04-20T01:56:00.757399Z",
     "iopub.status.busy": "2021-04-20T01:56:00.756507Z",
     "iopub.status.idle": "2021-04-20T01:56:00.761308Z",
     "shell.execute_reply": "2021-04-20T01:56:00.760655Z"
    },
    "papermill": {
     "duration": 0.074341,
     "end_time": "2021-04-20T01:56:00.761477",
     "exception": false,
     "start_time": "2021-04-20T01:56:00.687136",
     "status": "completed"
    },
    "tags": []
   },
   "outputs": [
    {
     "data": {
      "text/html": [
       "<div>\n",
       "<style scoped>\n",
       "    .dataframe tbody tr th:only-of-type {\n",
       "        vertical-align: middle;\n",
       "    }\n",
       "\n",
       "    .dataframe tbody tr th {\n",
       "        vertical-align: top;\n",
       "    }\n",
       "\n",
       "    .dataframe thead th {\n",
       "        text-align: right;\n",
       "    }\n",
       "</style>\n",
       "<table border=\"1\" class=\"dataframe\">\n",
       "  <thead>\n",
       "    <tr style=\"text-align: right;\">\n",
       "      <th></th>\n",
       "      <th>Store</th>\n",
       "      <th>Dept</th>\n",
       "      <th>Date</th>\n",
       "      <th>IsHoliday</th>\n",
       "      <th>Type</th>\n",
       "      <th>Size</th>\n",
       "      <th>Day</th>\n",
       "      <th>Week</th>\n",
       "      <th>Year</th>\n",
       "      <th>Weekly_Sales</th>\n",
       "    </tr>\n",
       "  </thead>\n",
       "  <tbody>\n",
       "    <tr>\n",
       "      <th>0</th>\n",
       "      <td>1</td>\n",
       "      <td>1</td>\n",
       "      <td>2012-11-02</td>\n",
       "      <td>False</td>\n",
       "      <td>1</td>\n",
       "      <td>151315</td>\n",
       "      <td>2</td>\n",
       "      <td>44</td>\n",
       "      <td>2012</td>\n",
       "      <td>35637.0634</td>\n",
       "    </tr>\n",
       "    <tr>\n",
       "      <th>1</th>\n",
       "      <td>1</td>\n",
       "      <td>1</td>\n",
       "      <td>2012-11-09</td>\n",
       "      <td>False</td>\n",
       "      <td>1</td>\n",
       "      <td>151315</td>\n",
       "      <td>9</td>\n",
       "      <td>45</td>\n",
       "      <td>2012</td>\n",
       "      <td>20656.7663</td>\n",
       "    </tr>\n",
       "    <tr>\n",
       "      <th>2</th>\n",
       "      <td>1</td>\n",
       "      <td>1</td>\n",
       "      <td>2012-11-16</td>\n",
       "      <td>False</td>\n",
       "      <td>1</td>\n",
       "      <td>151315</td>\n",
       "      <td>16</td>\n",
       "      <td>46</td>\n",
       "      <td>2012</td>\n",
       "      <td>19543.7771</td>\n",
       "    </tr>\n",
       "    <tr>\n",
       "      <th>3</th>\n",
       "      <td>1</td>\n",
       "      <td>1</td>\n",
       "      <td>2012-11-23</td>\n",
       "      <td>True</td>\n",
       "      <td>1</td>\n",
       "      <td>151315</td>\n",
       "      <td>23</td>\n",
       "      <td>47</td>\n",
       "      <td>2012</td>\n",
       "      <td>20389.3778</td>\n",
       "    </tr>\n",
       "    <tr>\n",
       "      <th>4</th>\n",
       "      <td>1</td>\n",
       "      <td>1</td>\n",
       "      <td>2012-11-30</td>\n",
       "      <td>False</td>\n",
       "      <td>1</td>\n",
       "      <td>151315</td>\n",
       "      <td>30</td>\n",
       "      <td>48</td>\n",
       "      <td>2012</td>\n",
       "      <td>27340.4065</td>\n",
       "    </tr>\n",
       "  </tbody>\n",
       "</table>\n",
       "</div>"
      ],
      "text/plain": [
       "   Store  Dept       Date  IsHoliday  Type    Size  Day  Week  Year  \\\n",
       "0      1     1 2012-11-02      False     1  151315    2    44  2012   \n",
       "1      1     1 2012-11-09      False     1  151315    9    45  2012   \n",
       "2      1     1 2012-11-16      False     1  151315   16    46  2012   \n",
       "3      1     1 2012-11-23       True     1  151315   23    47  2012   \n",
       "4      1     1 2012-11-30      False     1  151315   30    48  2012   \n",
       "\n",
       "   Weekly_Sales  \n",
       "0    35637.0634  \n",
       "1    20656.7663  \n",
       "2    19543.7771  \n",
       "3    20389.3778  \n",
       "4    27340.4065  "
      ]
     },
     "execution_count": 33,
     "metadata": {},
     "output_type": "execute_result"
    }
   ],
   "source": [
    "store_test_data.head()"
   ]
  },
  {
   "cell_type": "code",
   "execution_count": 34,
   "id": "maritime-stopping",
   "metadata": {
    "execution": {
     "iopub.execute_input": "2021-04-20T01:56:00.878958Z",
     "iopub.status.busy": "2021-04-20T01:56:00.878057Z",
     "iopub.status.idle": "2021-04-20T01:56:00.882047Z",
     "shell.execute_reply": "2021-04-20T01:56:00.882543Z"
    },
    "papermill": {
     "duration": 0.065862,
     "end_time": "2021-04-20T01:56:00.882729",
     "exception": false,
     "start_time": "2021-04-20T01:56:00.816867",
     "status": "completed"
    },
    "tags": []
   },
   "outputs": [],
   "source": [
    "sample_data['Weekly_Sales']=store_test_data['Weekly_Sales']"
   ]
  },
  {
   "cell_type": "code",
   "execution_count": 35,
   "id": "sudden-economy",
   "metadata": {
    "execution": {
     "iopub.execute_input": "2021-04-20T01:56:01.008410Z",
     "iopub.status.busy": "2021-04-20T01:56:01.007511Z",
     "iopub.status.idle": "2021-04-20T01:56:01.012526Z",
     "shell.execute_reply": "2021-04-20T01:56:01.011879Z"
    },
    "papermill": {
     "duration": 0.072874,
     "end_time": "2021-04-20T01:56:01.012678",
     "exception": false,
     "start_time": "2021-04-20T01:56:00.939804",
     "status": "completed"
    },
    "tags": []
   },
   "outputs": [
    {
     "data": {
      "text/html": [
       "<div>\n",
       "<style scoped>\n",
       "    .dataframe tbody tr th:only-of-type {\n",
       "        vertical-align: middle;\n",
       "    }\n",
       "\n",
       "    .dataframe tbody tr th {\n",
       "        vertical-align: top;\n",
       "    }\n",
       "\n",
       "    .dataframe thead th {\n",
       "        text-align: right;\n",
       "    }\n",
       "</style>\n",
       "<table border=\"1\" class=\"dataframe\">\n",
       "  <thead>\n",
       "    <tr style=\"text-align: right;\">\n",
       "      <th></th>\n",
       "      <th>Id</th>\n",
       "      <th>Weekly_Sales</th>\n",
       "    </tr>\n",
       "  </thead>\n",
       "  <tbody>\n",
       "    <tr>\n",
       "      <th>0</th>\n",
       "      <td>1_1_2012-11-02</td>\n",
       "      <td>35637.0634</td>\n",
       "    </tr>\n",
       "    <tr>\n",
       "      <th>1</th>\n",
       "      <td>1_1_2012-11-09</td>\n",
       "      <td>20656.7663</td>\n",
       "    </tr>\n",
       "    <tr>\n",
       "      <th>2</th>\n",
       "      <td>1_1_2012-11-16</td>\n",
       "      <td>19543.7771</td>\n",
       "    </tr>\n",
       "    <tr>\n",
       "      <th>3</th>\n",
       "      <td>1_1_2012-11-23</td>\n",
       "      <td>20389.3778</td>\n",
       "    </tr>\n",
       "    <tr>\n",
       "      <th>4</th>\n",
       "      <td>1_1_2012-11-30</td>\n",
       "      <td>27340.4065</td>\n",
       "    </tr>\n",
       "  </tbody>\n",
       "</table>\n",
       "</div>"
      ],
      "text/plain": [
       "               Id  Weekly_Sales\n",
       "0  1_1_2012-11-02    35637.0634\n",
       "1  1_1_2012-11-09    20656.7663\n",
       "2  1_1_2012-11-16    19543.7771\n",
       "3  1_1_2012-11-23    20389.3778\n",
       "4  1_1_2012-11-30    27340.4065"
      ]
     },
     "execution_count": 35,
     "metadata": {},
     "output_type": "execute_result"
    }
   ],
   "source": [
    "sample_data.head()"
   ]
  },
  {
   "cell_type": "code",
   "execution_count": 36,
   "id": "indian-decrease",
   "metadata": {
    "execution": {
     "iopub.execute_input": "2021-04-20T01:56:01.131248Z",
     "iopub.status.busy": "2021-04-20T01:56:01.130614Z",
     "iopub.status.idle": "2021-04-20T01:56:01.595814Z",
     "shell.execute_reply": "2021-04-20T01:56:01.596339Z"
    },
    "papermill": {
     "duration": 0.527159,
     "end_time": "2021-04-20T01:56:01.596534",
     "exception": false,
     "start_time": "2021-04-20T01:56:01.069375",
     "status": "completed"
    },
    "tags": []
   },
   "outputs": [
    {
     "data": {
      "text/html": [
       "<div>\n",
       "<style scoped>\n",
       "    .dataframe tbody tr th:only-of-type {\n",
       "        vertical-align: middle;\n",
       "    }\n",
       "\n",
       "    .dataframe tbody tr th {\n",
       "        vertical-align: top;\n",
       "    }\n",
       "\n",
       "    .dataframe thead th {\n",
       "        text-align: right;\n",
       "    }\n",
       "</style>\n",
       "<table border=\"1\" class=\"dataframe\">\n",
       "  <thead>\n",
       "    <tr style=\"text-align: right;\">\n",
       "      <th></th>\n",
       "      <th>Id</th>\n",
       "      <th>Weekly_Sales</th>\n",
       "    </tr>\n",
       "  </thead>\n",
       "  <tbody>\n",
       "    <tr>\n",
       "      <th>0</th>\n",
       "      <td>1_1_2012-11-02</td>\n",
       "      <td>35637.0634</td>\n",
       "    </tr>\n",
       "    <tr>\n",
       "      <th>1</th>\n",
       "      <td>1_1_2012-11-09</td>\n",
       "      <td>20656.7663</td>\n",
       "    </tr>\n",
       "    <tr>\n",
       "      <th>2</th>\n",
       "      <td>1_1_2012-11-16</td>\n",
       "      <td>19543.7771</td>\n",
       "    </tr>\n",
       "    <tr>\n",
       "      <th>3</th>\n",
       "      <td>1_1_2012-11-23</td>\n",
       "      <td>20389.3778</td>\n",
       "    </tr>\n",
       "    <tr>\n",
       "      <th>4</th>\n",
       "      <td>1_1_2012-11-30</td>\n",
       "      <td>27340.4065</td>\n",
       "    </tr>\n",
       "    <tr>\n",
       "      <th>...</th>\n",
       "      <td>...</td>\n",
       "      <td>...</td>\n",
       "    </tr>\n",
       "    <tr>\n",
       "      <th>115059</th>\n",
       "      <td>45_98_2013-06-28</td>\n",
       "      <td>666.9722</td>\n",
       "    </tr>\n",
       "    <tr>\n",
       "      <th>115060</th>\n",
       "      <td>45_98_2013-07-05</td>\n",
       "      <td>680.5260</td>\n",
       "    </tr>\n",
       "    <tr>\n",
       "      <th>115061</th>\n",
       "      <td>45_98_2013-07-12</td>\n",
       "      <td>738.3751</td>\n",
       "    </tr>\n",
       "    <tr>\n",
       "      <th>115062</th>\n",
       "      <td>45_98_2013-07-19</td>\n",
       "      <td>780.1112</td>\n",
       "    </tr>\n",
       "    <tr>\n",
       "      <th>115063</th>\n",
       "      <td>45_98_2013-07-26</td>\n",
       "      <td>683.9975</td>\n",
       "    </tr>\n",
       "  </tbody>\n",
       "</table>\n",
       "<p>115064 rows × 2 columns</p>\n",
       "</div>"
      ],
      "text/plain": [
       "                      Id  Weekly_Sales\n",
       "0         1_1_2012-11-02    35637.0634\n",
       "1         1_1_2012-11-09    20656.7663\n",
       "2         1_1_2012-11-16    19543.7771\n",
       "3         1_1_2012-11-23    20389.3778\n",
       "4         1_1_2012-11-30    27340.4065\n",
       "...                  ...           ...\n",
       "115059  45_98_2013-06-28      666.9722\n",
       "115060  45_98_2013-07-05      680.5260\n",
       "115061  45_98_2013-07-12      738.3751\n",
       "115062  45_98_2013-07-19      780.1112\n",
       "115063  45_98_2013-07-26      683.9975\n",
       "\n",
       "[115064 rows x 2 columns]"
      ]
     },
     "execution_count": 36,
     "metadata": {},
     "output_type": "execute_result"
    }
   ],
   "source": [
    "sample_data.to_csv('submission.csv',index=False)\n",
    "sample_data"
   ]
  }
 ],
 "metadata": {
  "kernelspec": {
   "display_name": "Python 3",
   "language": "python",
   "name": "python3"
  },
  "language_info": {
   "codemirror_mode": {
    "name": "ipython",
    "version": 3
   },
   "file_extension": ".py",
   "mimetype": "text/x-python",
   "name": "python",
   "nbconvert_exporter": "python",
   "pygments_lexer": "ipython3",
   "version": "3.7.9"
  },
  "papermill": {
   "default_parameters": {},
   "duration": 224.966361,
   "end_time": "2021-04-20T01:56:03.545730",
   "environment_variables": {},
   "exception": null,
   "input_path": "__notebook__.ipynb",
   "output_path": "__notebook__.ipynb",
   "parameters": {},
   "start_time": "2021-04-20T01:52:18.579369",
   "version": "2.3.2"
  }
 },
 "nbformat": 4,
 "nbformat_minor": 5
}
